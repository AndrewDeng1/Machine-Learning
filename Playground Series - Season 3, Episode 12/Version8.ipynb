{
 "cells": [
  {
   "cell_type": "code",
   "execution_count": 224,
   "id": "74adbfdb",
   "metadata": {
    "_cell_guid": "b1076dfc-b9ad-4769-8c92-a6c4dae69d19",
    "_uuid": "8f2839f25d086af736a60e9eeb907d3b93b6e0e5",
    "execution": {
     "iopub.execute_input": "2023-04-09T00:37:46.837496Z",
     "iopub.status.busy": "2023-04-09T00:37:46.837072Z",
     "iopub.status.idle": "2023-04-09T00:37:46.857641Z",
     "shell.execute_reply": "2023-04-09T00:37:46.855677Z"
    },
    "papermill": {
     "duration": 0.031202,
     "end_time": "2023-04-09T00:37:46.860551",
     "exception": false,
     "start_time": "2023-04-09T00:37:46.829349",
     "status": "completed"
    },
    "tags": []
   },
   "outputs": [],
   "source": [
    "# score: 0.82666\n",
    "\n",
    "\n",
    "# This Python 3 environment comes with many helpful analytics libraries installed\n",
    "# It is defined by the kaggle/python Docker image: https://github.com/kaggle/docker-python\n",
    "# For example, here's several helpful packages to load\n",
    "\n",
    "import numpy as np # linear algebra\n",
    "import pandas as pd # data processing, CSV file I/O (e.g. pd.read_csv)\n",
    "\n",
    "# Input data files are available in the read-only \"../input/\" directory\n",
    "# For example, running this (by clicking run or pressing Shift+Enter) will list all files under the input directory\n",
    "\n",
    "import os\n",
    "for dirname, _, filenames in os.walk('/kaggle/input'):\n",
    "    for filename in filenames:\n",
    "        print(os.path.join(dirname, filename))\n",
    "\n",
    "# You can write up to 20GB to the current directory (/kaggle/working/) that gets preserved as output when you create a version using \"Save & Run All\" \n",
    "# You can also write temporary files to /kaggle/temp/, but they won't be saved outside of the current session"
   ]
  },
  {
   "cell_type": "markdown",
   "id": "888c8ea2",
   "metadata": {
    "papermill": {
     "duration": 0.004216,
     "end_time": "2023-04-09T00:37:46.869621",
     "exception": false,
     "start_time": "2023-04-09T00:37:46.865405",
     "status": "completed"
    },
    "tags": []
   },
   "source": [
    "# Imports"
   ]
  },
  {
   "cell_type": "code",
   "execution_count": 225,
   "id": "b83b2d96",
   "metadata": {
    "execution": {
     "iopub.execute_input": "2023-04-09T00:37:46.880770Z",
     "iopub.status.busy": "2023-04-09T00:37:46.880373Z",
     "iopub.status.idle": "2023-04-09T00:37:48.305370Z",
     "shell.execute_reply": "2023-04-09T00:37:48.304381Z"
    },
    "papermill": {
     "duration": 1.433975,
     "end_time": "2023-04-09T00:37:48.308186",
     "exception": false,
     "start_time": "2023-04-09T00:37:46.874211",
     "status": "completed"
    },
    "tags": []
   },
   "outputs": [],
   "source": [
    "from xgboost import XGBRegressor, XGBClassifier\n",
    "from sklearn.ensemble import RandomForestClassifier\n",
    "from sklearn.neighbors import KNeighborsClassifier\n",
    "from sklearn.model_selection import train_test_split, GridSearchCV\n",
    "from sklearn.pipeline import Pipeline\n",
    "from sklearn.model_selection import cross_val_score, RepeatedStratifiedKFold\n",
    "from sklearn.metrics import mean_absolute_error, roc_auc_score\n",
    "from sklearn.impute import SimpleImputer\n",
    "from sklearn.preprocessing import StandardScaler\n",
    "import seaborn as sns\n",
    "import matplotlib.pyplot as plt\n",
    "import optuna"
   ]
  },
  {
   "cell_type": "markdown",
   "id": "899d4cf0",
   "metadata": {
    "papermill": {
     "duration": 0.004594,
     "end_time": "2023-04-09T00:37:48.317768",
     "exception": false,
     "start_time": "2023-04-09T00:37:48.313174",
     "status": "completed"
    },
    "tags": []
   },
   "source": [
    "# Get data"
   ]
  },
  {
   "cell_type": "code",
   "execution_count": 226,
   "id": "5b46937c",
   "metadata": {
    "execution": {
     "iopub.execute_input": "2023-04-09T00:37:48.331008Z",
     "iopub.status.busy": "2023-04-09T00:37:48.329721Z",
     "iopub.status.idle": "2023-04-09T00:37:48.400420Z",
     "shell.execute_reply": "2023-04-09T00:37:48.398896Z"
    },
    "papermill": {
     "duration": 0.080348,
     "end_time": "2023-04-09T00:37:48.403526",
     "exception": false,
     "start_time": "2023-04-09T00:37:48.323178",
     "status": "completed"
    },
    "tags": []
   },
   "outputs": [
    {
     "data": {
      "text/html": [
       "<div>\n",
       "<style scoped>\n",
       "    .dataframe tbody tr th:only-of-type {\n",
       "        vertical-align: middle;\n",
       "    }\n",
       "\n",
       "    .dataframe tbody tr th {\n",
       "        vertical-align: top;\n",
       "    }\n",
       "\n",
       "    .dataframe thead th {\n",
       "        text-align: right;\n",
       "    }\n",
       "</style>\n",
       "<table border=\"1\" class=\"dataframe\">\n",
       "  <thead>\n",
       "    <tr style=\"text-align: right;\">\n",
       "      <th></th>\n",
       "      <th>gravity</th>\n",
       "      <th>ph</th>\n",
       "      <th>osmo</th>\n",
       "      <th>cond</th>\n",
       "      <th>urea</th>\n",
       "      <th>calc</th>\n",
       "    </tr>\n",
       "  </thead>\n",
       "  <tbody>\n",
       "    <tr>\n",
       "      <th>0</th>\n",
       "      <td>1.013</td>\n",
       "      <td>6.19</td>\n",
       "      <td>443</td>\n",
       "      <td>14.8</td>\n",
       "      <td>124</td>\n",
       "      <td>1.45</td>\n",
       "    </tr>\n",
       "    <tr>\n",
       "      <th>1</th>\n",
       "      <td>1.025</td>\n",
       "      <td>5.40</td>\n",
       "      <td>703</td>\n",
       "      <td>23.6</td>\n",
       "      <td>394</td>\n",
       "      <td>4.18</td>\n",
       "    </tr>\n",
       "    <tr>\n",
       "      <th>2</th>\n",
       "      <td>1.009</td>\n",
       "      <td>6.13</td>\n",
       "      <td>371</td>\n",
       "      <td>24.5</td>\n",
       "      <td>159</td>\n",
       "      <td>9.04</td>\n",
       "    </tr>\n",
       "    <tr>\n",
       "      <th>3</th>\n",
       "      <td>1.021</td>\n",
       "      <td>4.91</td>\n",
       "      <td>442</td>\n",
       "      <td>20.8</td>\n",
       "      <td>398</td>\n",
       "      <td>6.63</td>\n",
       "    </tr>\n",
       "    <tr>\n",
       "      <th>4</th>\n",
       "      <td>1.021</td>\n",
       "      <td>5.53</td>\n",
       "      <td>874</td>\n",
       "      <td>17.8</td>\n",
       "      <td>385</td>\n",
       "      <td>2.21</td>\n",
       "    </tr>\n",
       "  </tbody>\n",
       "</table>\n",
       "</div>"
      ],
      "text/plain": [
       "   gravity    ph  osmo  cond  urea  calc\n",
       "0    1.013  6.19   443  14.8   124  1.45\n",
       "1    1.025  5.40   703  23.6   394  4.18\n",
       "2    1.009  6.13   371  24.5   159  9.04\n",
       "3    1.021  4.91   442  20.8   398  6.63\n",
       "4    1.021  5.53   874  17.8   385  2.21"
      ]
     },
     "metadata": {},
     "output_type": "display_data"
    },
    {
     "data": {
      "text/plain": [
       "0    0\n",
       "1    0\n",
       "2    0\n",
       "3    1\n",
       "4    1\n",
       "Name: target, dtype: int64"
      ]
     },
     "metadata": {},
     "output_type": "display_data"
    }
   ],
   "source": [
    "train_data = pd.read_csv(\"train.csv\")\n",
    "test_data = pd.read_csv(\"test.csv\")\n",
    "\n",
    "X = train_data.copy()\n",
    "X.drop(['id', 'target'], axis=1, inplace=True)\n",
    "\n",
    "y = train_data['target']\n",
    "\n",
    "no_id_test_data = test_data.drop('id', axis=1)\n",
    "\n",
    "display(X.head())\n",
    "display(y.head())"
   ]
  },
  {
   "cell_type": "markdown",
   "id": "56238321",
   "metadata": {},
   "source": [
    "# Feature Engineering"
   ]
  },
  {
   "cell_type": "code",
   "execution_count": 227,
   "id": "b0d5c466",
   "metadata": {},
   "outputs": [
    {
     "data": {
      "text/plain": [
       "Index(['gravity', 'ph', 'osmo', 'cond', 'urea', 'calc'], dtype='object')"
      ]
     },
     "metadata": {},
     "output_type": "display_data"
    },
    {
     "name": "stdout",
     "output_type": "stream",
     "text": [
      "gravity    414\n",
      "ph         414\n",
      "osmo       414\n",
      "cond       414\n",
      "urea       414\n",
      "calc       414\n",
      "dtype: int64\n"
     ]
    }
   ],
   "source": [
    "display(X.columns)\n",
    "\n",
    "def prepXy(df,X_label,y=None):\n",
    "    \n",
    "    data = df.drop(['gravity', 'ph', 'cond'], axis=1);\n",
    "    return data, df, y\n",
    "    \n",
    "    selected_feat = []\n",
    "    data = df.copy()\n",
    "    \n",
    "    # Feature Engineering\n",
    "    \n",
    "    \n",
    "    # Ion product of calcium and urea\n",
    "    data[\"ion_product\"] = data[\"calc\"] * data[\"urea\"]\n",
    "\n",
    "    # Calcium-to-urea ratio\n",
    "    data[\"calcium_to_urea_ratio\"] = data[\"calc\"] / data[\"urea\"]\n",
    "\n",
    "    # Electrolyte balance\n",
    "    data[\"electrolyte_balance\"] = data[\"cond\"] / (10 ** (-data[\"ph\"]))\n",
    "\n",
    "    # Osmolality-to-specific gravity ratio\n",
    "    data[\"osmolality_to_sg_ratio\"] = data[\"osmo\"] / data[\"gravity\"]\n",
    "\n",
    "    # The product of osmolarity and density is created as a new property\n",
    "    data['osmo_density'] = data['osmo'] * data['gravity']\n",
    "    \n",
    "    # ******************************************************************\n",
    "    \n",
    "    # Calculate ammonium concentration (assuming ammonium is not directly measured)\n",
    "    data['ammonium_concentration'] = (data['gravity'] - 1.010) * (140 - (2 * data[\"ph\"])) * 1.2\n",
    "\n",
    "    # Calculate phosphate concentration (assuming phosphate is not directly measured)\n",
    "    data['phosphate_concentration'] = (data['gravity'] - 1.010) * (32 - (0.06 * data[\"ph\"]))\n",
    "\n",
    "    # *****************************************************************\n",
    "    \n",
    "    data[\"gravity/ph\"] = data[\"gravity\"] / data[\"ph\"]\n",
    "    data[\"osmo/cond\"] = data[\"osmo\"] / data[\"cond\"]\n",
    "    data[\"gravity*ph\"] = data[\"gravity\"] * data[\"ph\"]\n",
    "    data[\"osmo*urea\"] = data[\"osmo\"] * data[\"urea\"]\n",
    "    data[\"cond_urea_ph\"] = data[\"cond\"] * data[\"urea\"] / data[\"ph\"]\n",
    "    data[\"ph*osmo\"] = data[\"ph\"] * data[\"osmo\"]\n",
    "    data[\"cond*calc\"] = data[\"cond\"] * data[\"calc\"]\n",
    "    data[\"gravity/calc\"] = data[\"gravity\"] / data[\"calc\"]\n",
    "\n",
    "    # Split into features and target\n",
    "    X_ret = data[X_label].values\n",
    "    \n",
    "    if y is None:\n",
    "        y_ret = np.zeros(data.shape[0])\n",
    "    else:\n",
    "        y_ret = np.ravel(y)\n",
    "\n",
    "    data.drop('ph', axis=1, inplace=True)\n",
    "\n",
    "    \n",
    "    data['target']=y_ret\n",
    "    \n",
    "    display(data.columns)\n",
    "    \n",
    "    sns.heatmap(data.corr())\n",
    "\n",
    "    data.drop('target', axis=1, inplace=True)\n",
    "\n",
    "    # Scaling dataset\n",
    "    # scaler = MinMaxScaler()\n",
    "    \n",
    "    \n",
    "    # scaler = StandardScaler()\n",
    "    \n",
    "    # X_ret = scaler.fit_transform(X_ret)\n",
    "\n",
    "    return data,X_ret,y_ret\n",
    "\n",
    "\n",
    "def feature_engineering(X):\n",
    "    X.drop(['urea', 'osmo', 'ph', 'gravity'], axis=1, inplace=True)\n",
    "    return X\n",
    "\n",
    "\n",
    "print(X.count());"
   ]
  },
  {
   "cell_type": "markdown",
   "id": "f821cc7c",
   "metadata": {},
   "source": [
    "# Remove Outliers"
   ]
  },
  {
   "cell_type": "code",
   "execution_count": 228,
   "id": "f669cd3c",
   "metadata": {},
   "outputs": [],
   "source": [
    "# Credit: KLYUSHNIK-ALEXSANDR\n",
    "\n",
    "def outlier_removal(data , i):\n",
    "    q1 = np.quantile(data[i] ,0.25)\n",
    "    q3 = np.quantile(data[i] , 0.75)\n",
    "    iqr = q3-q1\n",
    "    lower_tail = q1 - 1.5*iqr\n",
    "    upper_tail = q3 + 1.5*iqr\n",
    "    \n",
    "    \n",
    "    for j in range(0, data[i].count()):\n",
    "        if(data[i][j]>upper_tail or data[i][j]<lower_tail):\n",
    "            data[i][j]=np.nan\n",
    "            \n",
    "    return data[i]"
   ]
  },
  {
   "cell_type": "markdown",
   "id": "6946175b",
   "metadata": {},
   "source": [
    "# Aggregate Features"
   ]
  },
  {
   "cell_type": "code",
   "execution_count": 229,
   "id": "67a3f839",
   "metadata": {},
   "outputs": [],
   "source": [
    "def aggregate_features(X):\n",
    "    \n",
    "    # outlier_list = ['gravity', 'osmo', 'cond', 'urea', 'calc']\n",
    "    outlier_list = ['calc', 'cond']\n",
    "    for i in outlier_list:\n",
    "        X[i]=outlier_removal(X ,i)\n",
    "    \n",
    "    my_imputer = SimpleImputer()\n",
    "    X = pd.DataFrame(my_imputer.fit_transform(X))\n",
    "    \n",
    "    return X"
   ]
  },
  {
   "cell_type": "markdown",
   "id": "6c9f3200",
   "metadata": {},
   "source": [
    "# Preprocess Data"
   ]
  },
  {
   "cell_type": "code",
   "execution_count": 230,
   "id": "12434db0",
   "metadata": {},
   "outputs": [
    {
     "name": "stdout",
     "output_type": "stream",
     "text": [
      "aleorcufd\n",
      "aleorcufd\n"
     ]
    },
    {
     "data": {
      "text/html": [
       "<div>\n",
       "<style scoped>\n",
       "    .dataframe tbody tr th:only-of-type {\n",
       "        vertical-align: middle;\n",
       "    }\n",
       "\n",
       "    .dataframe tbody tr th {\n",
       "        vertical-align: top;\n",
       "    }\n",
       "\n",
       "    .dataframe thead th {\n",
       "        text-align: right;\n",
       "    }\n",
       "</style>\n",
       "<table border=\"1\" class=\"dataframe\">\n",
       "  <thead>\n",
       "    <tr style=\"text-align: right;\">\n",
       "      <th></th>\n",
       "      <th>0</th>\n",
       "      <th>1</th>\n",
       "    </tr>\n",
       "  </thead>\n",
       "  <tbody>\n",
       "    <tr>\n",
       "      <th>0</th>\n",
       "      <td>14.8</td>\n",
       "      <td>1.45</td>\n",
       "    </tr>\n",
       "    <tr>\n",
       "      <th>1</th>\n",
       "      <td>23.6</td>\n",
       "      <td>4.18</td>\n",
       "    </tr>\n",
       "    <tr>\n",
       "      <th>2</th>\n",
       "      <td>24.5</td>\n",
       "      <td>9.04</td>\n",
       "    </tr>\n",
       "    <tr>\n",
       "      <th>3</th>\n",
       "      <td>20.8</td>\n",
       "      <td>6.63</td>\n",
       "    </tr>\n",
       "    <tr>\n",
       "      <th>4</th>\n",
       "      <td>17.8</td>\n",
       "      <td>2.21</td>\n",
       "    </tr>\n",
       "    <tr>\n",
       "      <th>...</th>\n",
       "      <td>...</td>\n",
       "      <td>...</td>\n",
       "    </tr>\n",
       "    <tr>\n",
       "      <th>409</th>\n",
       "      <td>21.4</td>\n",
       "      <td>1.53</td>\n",
       "    </tr>\n",
       "    <tr>\n",
       "      <th>410</th>\n",
       "      <td>19.7</td>\n",
       "      <td>0.77</td>\n",
       "    </tr>\n",
       "    <tr>\n",
       "      <th>411</th>\n",
       "      <td>22.2</td>\n",
       "      <td>7.68</td>\n",
       "    </tr>\n",
       "    <tr>\n",
       "      <th>412</th>\n",
       "      <td>12.6</td>\n",
       "      <td>1.03</td>\n",
       "    </tr>\n",
       "    <tr>\n",
       "      <th>413</th>\n",
       "      <td>9.9</td>\n",
       "      <td>0.27</td>\n",
       "    </tr>\n",
       "  </tbody>\n",
       "</table>\n",
       "<p>414 rows × 2 columns</p>\n",
       "</div>"
      ],
      "text/plain": [
       "        0     1\n",
       "0    14.8  1.45\n",
       "1    23.6  4.18\n",
       "2    24.5  9.04\n",
       "3    20.8  6.63\n",
       "4    17.8  2.21\n",
       "..    ...   ...\n",
       "409  21.4  1.53\n",
       "410  19.7  0.77\n",
       "411  22.2  7.68\n",
       "412  12.6  1.03\n",
       "413   9.9  0.27\n",
       "\n",
       "[414 rows x 2 columns]"
      ]
     },
     "metadata": {},
     "output_type": "display_data"
    }
   ],
   "source": [
    "def preprocess_data(X, y=None):\n",
    "    \n",
    "    X = feature_engineering(X)\n",
    "    \n",
    "    X = aggregate_features(X)\n",
    "    \n",
    "    print('aleorcufd')\n",
    "    # display(np.count_nonzero(np.isnan(X)))\n",
    "    \n",
    "    # display(X.columns)\n",
    "    \n",
    "    return X, y\n",
    "\n",
    "\n",
    "'''preprocess data here'''\n",
    "X, y = preprocess_data(X, y)\n",
    "no_id_test_data, _ = preprocess_data(no_id_test_data)\n",
    "\n",
    "display(X)\n",
    "\n",
    "# cols_with_missing = [col for col in X.columns if X[col].isnull().any()]\n",
    "\n",
    "# print(f'There are {len(cols_with_missing)} columns with missing values')\n",
    "\n",
    "# for i in cols_with_missing:\n",
    "#     print(i)\n",
    "    \n",
    "    \n",
    "# print(X.count());\n",
    "\n"
   ]
  },
  {
   "attachments": {},
   "cell_type": "markdown",
   "id": "bd2d85c9",
   "metadata": {},
   "source": [
    "# Hyperparameter Tuning"
   ]
  },
  {
   "cell_type": "code",
   "execution_count": 231,
   "id": "79b1fafa",
   "metadata": {},
   "outputs": [
    {
     "name": "stderr",
     "output_type": "stream",
     "text": [
      "\u001b[32m[I 2023-04-16 12:29:35,631]\u001b[0m A new study created in memory with name: no-name-4e5f3593-aa24-40e3-b5a5-c91f1906e327\u001b[0m\n"
     ]
    },
    {
     "name": "stdout",
     "output_type": "stream",
     "text": [
      "hello\n"
     ]
    },
    {
     "data": {
      "text/plain": [
       "'score.mean(): '"
      ]
     },
     "metadata": {},
     "output_type": "display_data"
    },
    {
     "data": {
      "text/plain": [
       "array([0.74911868, 0.79024677, 0.83783784, 0.84488837, 0.7285628 ])"
      ]
     },
     "metadata": {},
     "output_type": "display_data"
    },
    {
     "name": "stderr",
     "output_type": "stream",
     "text": [
      "\u001b[32m[I 2023-04-16 12:29:39,795]\u001b[0m Trial 0 finished with value: 0.7901308917613263 and parameters: {'n_neighbors': 21, 'leaf_size': 542, 'p': 2}. Best is trial 0 with value: 0.7901308917613263.\u001b[0m\n"
     ]
    },
    {
     "data": {
      "text/plain": [
       "'score.mean(): '"
      ]
     },
     "metadata": {},
     "output_type": "display_data"
    },
    {
     "data": {
      "text/plain": [
       "array([0.73472385, 0.77761457, 0.83783784, 0.84958872, 0.72071256])"
      ]
     },
     "metadata": {},
     "output_type": "display_data"
    },
    {
     "name": "stderr",
     "output_type": "stream",
     "text": [
      "\u001b[32m[I 2023-04-16 12:29:39,817]\u001b[0m Trial 1 finished with value: 0.7840955085520303 and parameters: {'n_neighbors': 10, 'leaf_size': 421, 'p': 1}. Best is trial 0 with value: 0.7901308917613263.\u001b[0m\n"
     ]
    },
    {
     "data": {
      "text/plain": [
       "'score.mean(): '"
      ]
     },
     "metadata": {},
     "output_type": "display_data"
    },
    {
     "data": {
      "text/plain": [
       "array([0.67508813, 0.64306698, 0.84547591, 0.69153937, 0.69504831])"
      ]
     },
     "metadata": {},
     "output_type": "display_data"
    },
    {
     "name": "stderr",
     "output_type": "stream",
     "text": [
      "\u001b[32m[I 2023-04-16 12:29:39,933]\u001b[0m Trial 2 finished with value: 0.7100437393915655 and parameters: {'n_neighbors': 190, 'leaf_size': 378, 'p': 3}. Best is trial 0 with value: 0.7901308917613263.\u001b[0m\n"
     ]
    },
    {
     "data": {
      "text/plain": [
       "'score.mean(): '"
      ]
     },
     "metadata": {},
     "output_type": "display_data"
    },
    {
     "data": {
      "text/plain": [
       "array([0.74882491, 0.77820212, 0.84224442, 0.8266745 , 0.73399758])"
      ]
     },
     "metadata": {},
     "output_type": "display_data"
    },
    {
     "name": "stderr",
     "output_type": "stream",
     "text": [
      "\u001b[32m[I 2023-04-16 12:29:39,960]\u001b[0m Trial 3 finished with value: 0.7859887060974018 and parameters: {'n_neighbors': 33, 'leaf_size': 230, 'p': 3}. Best is trial 0 with value: 0.7901308917613263.\u001b[0m\n"
     ]
    },
    {
     "data": {
      "text/plain": [
       "'score.mean(): '"
      ]
     },
     "metadata": {},
     "output_type": "display_data"
    },
    {
     "data": {
      "text/plain": [
       "array([0.72150411, 0.76880141, 0.83783784, 0.80875441, 0.7071256 ])"
      ]
     },
     "metadata": {},
     "output_type": "display_data"
    },
    {
     "name": "stderr",
     "output_type": "stream",
     "text": [
      "\u001b[32m[I 2023-04-16 12:29:39,995]\u001b[0m Trial 4 finished with value: 0.7688046742394568 and parameters: {'n_neighbors': 71, 'leaf_size': 222, 'p': 2}. Best is trial 0 with value: 0.7901308917613263.\u001b[0m\n"
     ]
    },
    {
     "data": {
      "text/plain": [
       "'score.mean(): '"
      ]
     },
     "metadata": {},
     "output_type": "display_data"
    },
    {
     "data": {
      "text/plain": [
       "array([0.7132785 , 0.68654524, 0.85135135, 0.74500588, 0.71105072])"
      ]
     },
     "metadata": {},
     "output_type": "display_data"
    },
    {
     "name": "stderr",
     "output_type": "stream",
     "text": [
      "\u001b[32m[I 2023-04-16 12:29:40,043]\u001b[0m Trial 5 finished with value: 0.7414463376419899 and parameters: {'n_neighbors': 144, 'leaf_size': 711, 'p': 3}. Best is trial 0 with value: 0.7901308917613263.\u001b[0m\n"
     ]
    },
    {
     "data": {
      "text/plain": [
       "'score.mean(): '"
      ]
     },
     "metadata": {},
     "output_type": "display_data"
    },
    {
     "data": {
      "text/plain": [
       "array([0.71386604, 0.74294947, 0.8907168 , 0.7793772 , 0.72705314])"
      ]
     },
     "metadata": {},
     "output_type": "display_data"
    },
    {
     "name": "stderr",
     "output_type": "stream",
     "text": [
      "\u001b[32m[I 2023-04-16 12:29:40,087]\u001b[0m Trial 6 finished with value: 0.7707925316620968 and parameters: {'n_neighbors': 191, 'leaf_size': 365, 'p': 1}. Best is trial 0 with value: 0.7901308917613263.\u001b[0m\n"
     ]
    },
    {
     "data": {
      "text/plain": [
       "'score.mean(): '"
      ]
     },
     "metadata": {},
     "output_type": "display_data"
    },
    {
     "data": {
      "text/plain": [
       "array([0.74294947, 0.75616921, 0.83519389, 0.81081081, 0.71014493])"
      ]
     },
     "metadata": {},
     "output_type": "display_data"
    },
    {
     "name": "stderr",
     "output_type": "stream",
     "text": [
      "\u001b[32m[I 2023-04-16 12:29:40,115]\u001b[0m Trial 7 finished with value: 0.7710536623580102 and parameters: {'n_neighbors': 90, 'leaf_size': 111, 'p': 2}. Best is trial 0 with value: 0.7901308917613263.\u001b[0m\n"
     ]
    },
    {
     "data": {
      "text/plain": [
       "'score.mean(): '"
      ]
     },
     "metadata": {},
     "output_type": "display_data"
    },
    {
     "data": {
      "text/plain": [
       "array([0.7479436 , 0.73149236, 0.8140423 , 0.82285546, 0.69836957])"
      ]
     },
     "metadata": {},
     "output_type": "display_data"
    },
    {
     "name": "stderr",
     "output_type": "stream",
     "text": [
      "\u001b[32m[I 2023-04-16 12:29:40,146]\u001b[0m Trial 8 finished with value: 0.7629406580493537 and parameters: {'n_neighbors': 5, 'leaf_size': 10, 'p': 3}. Best is trial 0 with value: 0.7901308917613263.\u001b[0m\n"
     ]
    },
    {
     "data": {
      "text/plain": [
       "'score.mean(): '"
      ]
     },
     "metadata": {},
     "output_type": "display_data"
    },
    {
     "data": {
      "text/plain": [
       "array([0.74911868, 0.79024677, 0.83783784, 0.84488837, 0.7285628 ])"
      ]
     },
     "metadata": {},
     "output_type": "display_data"
    },
    {
     "name": "stderr",
     "output_type": "stream",
     "text": [
      "\u001b[32m[I 2023-04-16 12:29:40,173]\u001b[0m Trial 9 finished with value: 0.7901308917613263 and parameters: {'n_neighbors': 21, 'leaf_size': 588, 'p': 2}. Best is trial 0 with value: 0.7901308917613263.\u001b[0m\n"
     ]
    },
    {
     "data": {
      "text/plain": [
       "'score.mean(): '"
      ]
     },
     "metadata": {},
     "output_type": "display_data"
    },
    {
     "data": {
      "text/plain": [
       "array([0.74412456, 0.77849589, 0.86780259, 0.80934195, 0.71769324])"
      ]
     },
     "metadata": {},
     "output_type": "display_data"
    },
    {
     "name": "stderr",
     "output_type": "stream",
     "text": [
      "\u001b[32m[I 2023-04-16 12:29:40,219]\u001b[0m Trial 10 finished with value: 0.7834916438177307 and parameters: {'n_neighbors': 57, 'leaf_size': 756, 'p': 1}. Best is trial 0 with value: 0.7901308917613263.\u001b[0m\n"
     ]
    },
    {
     "data": {
      "text/plain": [
       "'score.mean(): '"
      ]
     },
     "metadata": {},
     "output_type": "display_data"
    },
    {
     "data": {
      "text/plain": [
       "array([0.74735605, 0.78730905, 0.84900118, 0.82403055, 0.71980676])"
      ]
     },
     "metadata": {},
     "output_type": "display_data"
    },
    {
     "name": "stderr",
     "output_type": "stream",
     "text": [
      "\u001b[32m[I 2023-04-16 12:29:40,262]\u001b[0m Trial 11 finished with value: 0.7855007181094138 and parameters: {'n_neighbors': 47, 'leaf_size': 581, 'p': 2}. Best is trial 0 with value: 0.7901308917613263.\u001b[0m\n"
     ]
    },
    {
     "data": {
      "text/plain": [
       "'score.mean(): '"
      ]
     },
     "metadata": {},
     "output_type": "display_data"
    },
    {
     "data": {
      "text/plain": [
       "array([0.74559342, 0.75646298, 0.83313749, 0.81169213, 0.72403382])"
      ]
     },
     "metadata": {},
     "output_type": "display_data"
    },
    {
     "name": "stderr",
     "output_type": "stream",
     "text": [
      "\u001b[32m[I 2023-04-16 12:29:40,303]\u001b[0m Trial 12 finished with value: 0.774183966575271 and parameters: {'n_neighbors': 113, 'leaf_size': 567, 'p': 2}. Best is trial 0 with value: 0.7901308917613263.\u001b[0m\n"
     ]
    },
    {
     "data": {
      "text/plain": [
       "'score.mean(): '"
      ]
     },
     "metadata": {},
     "output_type": "display_data"
    },
    {
     "data": {
      "text/plain": [
       "array([0.74970623, 0.78025852, 0.84371328, 0.84077556, 0.73218599])"
      ]
     },
     "metadata": {},
     "output_type": "display_data"
    },
    {
     "name": "stderr",
     "output_type": "stream",
     "text": [
      "\u001b[32m[I 2023-04-16 12:29:40,345]\u001b[0m Trial 13 finished with value: 0.7893279148713931 and parameters: {'n_neighbors': 29, 'leaf_size': 558, 'p': 2}. Best is trial 0 with value: 0.7901308917613263.\u001b[0m\n"
     ]
    },
    {
     "data": {
      "text/plain": [
       "'score.mean(): '"
      ]
     },
     "metadata": {},
     "output_type": "display_data"
    },
    {
     "data": {
      "text/plain": [
       "array([0.74706228, 0.74059929, 0.84988249, 0.78819036, 0.71256039])"
      ]
     },
     "metadata": {},
     "output_type": "display_data"
    },
    {
     "name": "stderr",
     "output_type": "stream",
     "text": [
      "\u001b[32m[I 2023-04-16 12:29:40,391]\u001b[0m Trial 14 finished with value: 0.7676589633111373 and parameters: {'n_neighbors': 126, 'leaf_size': 638, 'p': 2}. Best is trial 0 with value: 0.7901308917613263.\u001b[0m\n"
     ]
    },
    {
     "data": {
      "text/plain": [
       "'score.mean(): '"
      ]
     },
     "metadata": {},
     "output_type": "display_data"
    },
    {
     "data": {
      "text/plain": [
       "array([0.74823737, 0.76057579, 0.88631022, 0.81786134, 0.72342995])"
      ]
     },
     "metadata": {},
     "output_type": "display_data"
    },
    {
     "name": "stderr",
     "output_type": "stream",
     "text": [
      "\u001b[32m[I 2023-04-16 12:29:40,435]\u001b[0m Trial 15 finished with value: 0.787282935109022 and parameters: {'n_neighbors': 90, 'leaf_size': 479, 'p': 1}. Best is trial 0 with value: 0.7901308917613263.\u001b[0m\n"
     ]
    },
    {
     "data": {
      "text/plain": [
       "'score.mean(): '"
      ]
     },
     "metadata": {},
     "output_type": "display_data"
    },
    {
     "data": {
      "text/plain": [
       "array([0.74001175, 0.79759107, 0.83607521, 0.84224442, 0.72705314])"
      ]
     },
     "metadata": {},
     "output_type": "display_data"
    },
    {
     "name": "stderr",
     "output_type": "stream",
     "text": [
      "\u001b[32m[I 2023-04-16 12:29:40,478]\u001b[0m Trial 16 finished with value: 0.7885951168559864 and parameters: {'n_neighbors': 23, 'leaf_size': 794, 'p': 2}. Best is trial 0 with value: 0.7901308917613263.\u001b[0m\n"
     ]
    },
    {
     "data": {
      "text/plain": [
       "'score.mean(): '"
      ]
     },
     "metadata": {},
     "output_type": "display_data"
    },
    {
     "data": {
      "text/plain": [
       "array([0.74412456, 0.76880141, 0.82256169, 0.81433608, 0.70772947])"
      ]
     },
     "metadata": {},
     "output_type": "display_data"
    },
    {
     "name": "stderr",
     "output_type": "stream",
     "text": [
      "\u001b[32m[I 2023-04-16 12:29:40,527]\u001b[0m Trial 17 finished with value: 0.7715106410758585 and parameters: {'n_neighbors': 67, 'leaf_size': 650, 'p': 3}. Best is trial 0 with value: 0.7901308917613263.\u001b[0m\n"
     ]
    },
    {
     "data": {
      "text/plain": [
       "'score.mean(): '"
      ]
     },
     "metadata": {},
     "output_type": "display_data"
    },
    {
     "data": {
      "text/plain": [
       "array([0.74529965, 0.7846651 , 0.85487662, 0.83431257, 0.72795894])"
      ]
     },
     "metadata": {},
     "output_type": "display_data"
    },
    {
     "name": "stderr",
     "output_type": "stream",
     "text": [
      "\u001b[32m[I 2023-04-16 12:29:40,567]\u001b[0m Trial 18 finished with value: 0.7894225747486618 and parameters: {'n_neighbors': 42, 'leaf_size': 479, 'p': 1}. Best is trial 0 with value: 0.7901308917613263.\u001b[0m\n"
     ]
    },
    {
     "data": {
      "text/plain": [
       "'score.mean(): '"
      ]
     },
     "metadata": {},
     "output_type": "display_data"
    },
    {
     "data": {
      "text/plain": [
       "array([0.71269095, 0.69917744, 0.87749706, 0.72972973, 0.7294686 ])"
      ]
     },
     "metadata": {},
     "output_type": "display_data"
    },
    {
     "name": "stderr",
     "output_type": "stream",
     "text": [
      "\u001b[32m[I 2023-04-16 12:29:40,610]\u001b[0m Trial 19 finished with value: 0.7497127562344954 and parameters: {'n_neighbors': 154, 'leaf_size': 492, 'p': 2}. Best is trial 0 with value: 0.7901308917613263.\u001b[0m\n"
     ]
    },
    {
     "data": {
      "text/plain": [
       "'score.mean(): '"
      ]
     },
     "metadata": {},
     "output_type": "display_data"
    },
    {
     "data": {
      "text/plain": [
       "array([0.56139835, 0.64776733, 0.63983549, 0.7153349 , 0.54045894])"
      ]
     },
     "metadata": {},
     "output_type": "display_data"
    },
    {
     "name": "stderr",
     "output_type": "stream",
     "text": [
      "\u001b[32m[I 2023-04-16 12:29:40,650]\u001b[0m Trial 20 finished with value: 0.6209590024807417 and parameters: {'n_neighbors': 1, 'leaf_size': 271, 'p': 2}. Best is trial 0 with value: 0.7901308917613263.\u001b[0m\n"
     ]
    },
    {
     "data": {
      "text/plain": [
       "'score.mean(): '"
      ]
     },
     "metadata": {},
     "output_type": "display_data"
    },
    {
     "data": {
      "text/plain": [
       "array([0.74529965, 0.7846651 , 0.85487662, 0.83431257, 0.72795894])"
      ]
     },
     "metadata": {},
     "output_type": "display_data"
    },
    {
     "name": "stderr",
     "output_type": "stream",
     "text": [
      "\u001b[32m[I 2023-04-16 12:29:40,693]\u001b[0m Trial 21 finished with value: 0.7894225747486618 and parameters: {'n_neighbors': 42, 'leaf_size': 479, 'p': 1}. Best is trial 0 with value: 0.7901308917613263.\u001b[0m\n"
     ]
    },
    {
     "data": {
      "text/plain": [
       "'score.mean(): '"
      ]
     },
     "metadata": {},
     "output_type": "display_data"
    },
    {
     "data": {
      "text/plain": [
       "array([0.75      , 0.78613396, 0.85340776, 0.84224442, 0.73097826])"
      ]
     },
     "metadata": {},
     "output_type": "display_data"
    },
    {
     "name": "stderr",
     "output_type": "stream",
     "text": [
      "\u001b[32m[I 2023-04-16 12:29:40,734]\u001b[0m Trial 22 finished with value: 0.7925528789659225 and parameters: {'n_neighbors': 24, 'leaf_size': 666, 'p': 1}. Best is trial 22 with value: 0.7925528789659225.\u001b[0m\n"
     ]
    },
    {
     "data": {
      "text/plain": [
       "'score.mean(): '"
      ]
     },
     "metadata": {},
     "output_type": "display_data"
    },
    {
     "data": {
      "text/plain": [
       "array([0.74148061, 0.78965922, 0.85752056, 0.8413631 , 0.72161836])"
      ]
     },
     "metadata": {},
     "output_type": "display_data"
    },
    {
     "name": "stderr",
     "output_type": "stream",
     "text": [
      "\u001b[32m[I 2023-04-16 12:29:40,776]\u001b[0m Trial 23 finished with value: 0.7903283718501111 and parameters: {'n_neighbors': 20, 'leaf_size': 683, 'p': 1}. Best is trial 22 with value: 0.7925528789659225.\u001b[0m\n"
     ]
    },
    {
     "data": {
      "text/plain": [
       "'score.mean(): '"
      ]
     },
     "metadata": {},
     "output_type": "display_data"
    },
    {
     "data": {
      "text/plain": [
       "array([0.7353114 , 0.77643948, 0.86809636, 0.81022327, 0.72554348])"
      ]
     },
     "metadata": {},
     "output_type": "display_data"
    },
    {
     "name": "stderr",
     "output_type": "stream",
     "text": [
      "\u001b[32m[I 2023-04-16 12:29:40,840]\u001b[0m Trial 24 finished with value: 0.7831227967097532 and parameters: {'n_neighbors': 71, 'leaf_size': 663, 'p': 1}. Best is trial 22 with value: 0.7925528789659225.\u001b[0m\n"
     ]
    },
    {
     "data": {
      "text/plain": [
       "'score.mean(): '"
      ]
     },
     "metadata": {},
     "output_type": "display_data"
    },
    {
     "data": {
      "text/plain": [
       "array([0.74206816, 0.78877791, 0.84753231, 0.84371328, 0.72584541])"
      ]
     },
     "metadata": {},
     "output_type": "display_data"
    },
    {
     "name": "stderr",
     "output_type": "stream",
     "text": [
      "\u001b[32m[I 2023-04-16 12:29:40,885]\u001b[0m Trial 25 finished with value: 0.789587413500457 and parameters: {'n_neighbors': 17, 'leaf_size': 698, 'p': 1}. Best is trial 22 with value: 0.7925528789659225.\u001b[0m\n"
     ]
    },
    {
     "data": {
      "text/plain": [
       "'score.mean(): '"
      ]
     },
     "metadata": {},
     "output_type": "display_data"
    },
    {
     "data": {
      "text/plain": [
       "array([0.74588719, 0.77526439, 0.86075206, 0.82109283, 0.71286232])"
      ]
     },
     "metadata": {},
     "output_type": "display_data"
    },
    {
     "name": "stderr",
     "output_type": "stream",
     "text": [
      "\u001b[32m[I 2023-04-16 12:29:40,934]\u001b[0m Trial 26 finished with value: 0.783171758715237 and parameters: {'n_neighbors': 55, 'leaf_size': 745, 'p': 1}. Best is trial 22 with value: 0.7925528789659225.\u001b[0m\n"
     ]
    },
    {
     "data": {
      "text/plain": [
       "'score.mean(): '"
      ]
     },
     "metadata": {},
     "output_type": "display_data"
    },
    {
     "data": {
      "text/plain": [
       "array([0.73648649, 0.79465335, 0.84312573, 0.84253819, 0.72705314])"
      ]
     },
     "metadata": {},
     "output_type": "display_data"
    },
    {
     "name": "stderr",
     "output_type": "stream",
     "text": [
      "\u001b[32m[I 2023-04-16 12:29:40,977]\u001b[0m Trial 27 finished with value: 0.7887713800757279 and parameters: {'n_neighbors': 38, 'leaf_size': 631, 'p': 1}. Best is trial 22 with value: 0.7925528789659225.\u001b[0m\n"
     ]
    },
    {
     "data": {
      "text/plain": [
       "'score.mean(): '"
      ]
     },
     "metadata": {},
     "output_type": "display_data"
    },
    {
     "data": {
      "text/plain": [
       "array([0.74764982, 0.76321974, 0.88542891, 0.81962397, 0.73128019])"
      ]
     },
     "metadata": {},
     "output_type": "display_data"
    },
    {
     "name": "stderr",
     "output_type": "stream",
     "text": [
      "\u001b[32m[I 2023-04-16 12:29:41,026]\u001b[0m Trial 28 finished with value: 0.7894405274840057 and parameters: {'n_neighbors': 86, 'leaf_size': 533, 'p': 1}. Best is trial 22 with value: 0.7925528789659225.\u001b[0m\n"
     ]
    },
    {
     "data": {
      "text/plain": [
       "'score.mean(): '"
      ]
     },
     "metadata": {},
     "output_type": "display_data"
    },
    {
     "data": {
      "text/plain": [
       "array([0.74559342, 0.78172738, 0.83431257, 0.84958872, 0.73128019])"
      ]
     },
     "metadata": {},
     "output_type": "display_data"
    },
    {
     "name": "stderr",
     "output_type": "stream",
     "text": [
      "\u001b[32m[I 2023-04-16 12:29:41,065]\u001b[0m Trial 29 finished with value: 0.7885004569787177 and parameters: {'n_neighbors': 12, 'leaf_size': 427, 'p': 1}. Best is trial 22 with value: 0.7925528789659225.\u001b[0m\n"
     ]
    },
    {
     "data": {
      "text/plain": [
       "'score.mean(): '"
      ]
     },
     "metadata": {},
     "output_type": "display_data"
    },
    {
     "data": {
      "text/plain": [
       "array([0.74676851, 0.77438308, 0.86574618, 0.80728555, 0.71769324])"
      ]
     },
     "metadata": {},
     "output_type": "display_data"
    },
    {
     "name": "stderr",
     "output_type": "stream",
     "text": [
      "\u001b[32m[I 2023-04-16 12:29:41,108]\u001b[0m Trial 30 finished with value: 0.7823753100927014 and parameters: {'n_neighbors': 58, 'leaf_size': 799, 'p': 1}. Best is trial 22 with value: 0.7925528789659225.\u001b[0m\n"
     ]
    },
    {
     "data": {
      "text/plain": [
       "'score.mean(): '"
      ]
     },
     "metadata": {},
     "output_type": "display_data"
    },
    {
     "data": {
      "text/plain": [
       "array([0.74353702, 0.79347826, 0.83871915, 0.84929495, 0.73248792])"
      ]
     },
     "metadata": {},
     "output_type": "display_data"
    },
    {
     "name": "stderr",
     "output_type": "stream",
     "text": [
      "\u001b[32m[I 2023-04-16 12:29:41,154]\u001b[0m Trial 31 finished with value: 0.791503459981721 and parameters: {'n_neighbors': 20, 'leaf_size': 586, 'p': 2}. Best is trial 22 with value: 0.7925528789659225.\u001b[0m\n"
     ]
    },
    {
     "data": {
      "text/plain": [
       "'score.mean(): '"
      ]
     },
     "metadata": {},
     "output_type": "display_data"
    },
    {
     "data": {
      "text/plain": [
       "array([0.7479436 , 0.78642773, 0.85105758, 0.8560517 , 0.73611111])"
      ]
     },
     "metadata": {},
     "output_type": "display_data"
    },
    {
     "name": "stderr",
     "output_type": "stream",
     "text": [
      "\u001b[32m[I 2023-04-16 12:29:41,196]\u001b[0m Trial 32 finished with value: 0.7955183444313879 and parameters: {'n_neighbors': 12, 'leaf_size': 708, 'p': 2}. Best is trial 32 with value: 0.7955183444313879.\u001b[0m\n"
     ]
    },
    {
     "data": {
      "text/plain": [
       "'score.mean(): '"
      ]
     },
     "metadata": {},
     "output_type": "display_data"
    },
    {
     "data": {
      "text/plain": [
       "array([0.53965922, 0.64776733, 0.62896592, 0.7153349 , 0.52958937])"
      ]
     },
     "metadata": {},
     "output_type": "display_data"
    },
    {
     "name": "stderr",
     "output_type": "stream",
     "text": [
      "\u001b[32m[I 2023-04-16 12:29:41,239]\u001b[0m Trial 33 finished with value: 0.6122633503068287 and parameters: {'n_neighbors': 1, 'leaf_size': 715, 'p': 3}. Best is trial 32 with value: 0.7955183444313879.\u001b[0m\n"
     ]
    },
    {
     "data": {
      "text/plain": [
       "'score.mean(): '"
      ]
     },
     "metadata": {},
     "output_type": "display_data"
    },
    {
     "data": {
      "text/plain": [
       "array([0.7300235 , 0.79142186, 0.84430082, 0.85428907, 0.73097826])"
      ]
     },
     "metadata": {},
     "output_type": "display_data"
    },
    {
     "name": "stderr",
     "output_type": "stream",
     "text": [
      "\u001b[32m[I 2023-04-16 12:29:41,278]\u001b[0m Trial 34 finished with value: 0.7902027027027028 and parameters: {'n_neighbors': 18, 'leaf_size': 610, 'p': 2}. Best is trial 32 with value: 0.7955183444313879.\u001b[0m\n"
     ]
    },
    {
     "data": {
      "text/plain": [
       "'score.mean(): '"
      ]
     },
     "metadata": {},
     "output_type": "display_data"
    },
    {
     "data": {
      "text/plain": [
       "array([0.73266745, 0.78789659, 0.84400705, 0.82608696, 0.72735507])"
      ]
     },
     "metadata": {},
     "output_type": "display_data"
    },
    {
     "name": "stderr",
     "output_type": "stream",
     "text": [
      "\u001b[32m[I 2023-04-16 12:29:41,325]\u001b[0m Trial 35 finished with value: 0.7836026243634939 and parameters: {'n_neighbors': 26, 'leaf_size': 677, 'p': 2}. Best is trial 32 with value: 0.7955183444313879.\u001b[0m\n"
     ]
    },
    {
     "data": {
      "text/plain": [
       "'score.mean(): '"
      ]
     },
     "metadata": {},
     "output_type": "display_data"
    },
    {
     "data": {
      "text/plain": [
       "array([0.73501763, 0.78584019, 0.84400705, 0.83548766, 0.73429952])"
      ]
     },
     "metadata": {},
     "output_type": "display_data"
    },
    {
     "name": "stderr",
     "output_type": "stream",
     "text": [
      "\u001b[32m[I 2023-04-16 12:29:41,368]\u001b[0m Trial 36 finished with value: 0.786930408669539 and parameters: {'n_neighbors': 31, 'leaf_size': 748, 'p': 3}. Best is trial 32 with value: 0.7955183444313879.\u001b[0m\n"
     ]
    },
    {
     "data": {
      "text/plain": [
       "'score.mean(): '"
      ]
     },
     "metadata": {},
     "output_type": "display_data"
    },
    {
     "data": {
      "text/plain": [
       "array([0.74412456, 0.78848414, 0.84165687, 0.84547591, 0.73550725])"
      ]
     },
     "metadata": {},
     "output_type": "display_data"
    },
    {
     "name": "stderr",
     "output_type": "stream",
     "text": [
      "\u001b[32m[I 2023-04-16 12:29:41,414]\u001b[0m Trial 37 finished with value: 0.7910497453975716 and parameters: {'n_neighbors': 11, 'leaf_size': 691, 'p': 1}. Best is trial 32 with value: 0.7955183444313879.\u001b[0m\n"
     ]
    },
    {
     "data": {
      "text/plain": [
       "'score.mean(): '"
      ]
     },
     "metadata": {},
     "output_type": "display_data"
    },
    {
     "data": {
      "text/plain": [
       "array([0.70094007, 0.69124559, 0.86780259, 0.74236193, 0.7080314 ])"
      ]
     },
     "metadata": {},
     "output_type": "display_data"
    },
    {
     "name": "stderr",
     "output_type": "stream",
     "text": [
      "\u001b[32m[I 2023-04-16 12:29:41,463]\u001b[0m Trial 38 finished with value: 0.7420763154458807 and parameters: {'n_neighbors': 164, 'leaf_size': 520, 'p': 2}. Best is trial 32 with value: 0.7955183444313879.\u001b[0m\n"
     ]
    },
    {
     "data": {
      "text/plain": [
       "'score.mean(): '"
      ]
     },
     "metadata": {},
     "output_type": "display_data"
    },
    {
     "data": {
      "text/plain": [
       "array([0.74236193, 0.78143361, 0.84048179, 0.85487662, 0.74124396])"
      ]
     },
     "metadata": {},
     "output_type": "display_data"
    },
    {
     "name": "stderr",
     "output_type": "stream",
     "text": [
      "\u001b[32m[I 2023-04-16 12:29:41,502]\u001b[0m Trial 39 finished with value: 0.7920795795795796 and parameters: {'n_neighbors': 11, 'leaf_size': 723, 'p': 2}. Best is trial 32 with value: 0.7955183444313879.\u001b[0m\n"
     ]
    },
    {
     "data": {
      "text/plain": [
       "'score.mean(): '"
      ]
     },
     "metadata": {},
     "output_type": "display_data"
    },
    {
     "data": {
      "text/plain": [
       "array([0.75352526, 0.78231492, 0.84195065, 0.84430082, 0.73429952])"
      ]
     },
     "metadata": {},
     "output_type": "display_data"
    },
    {
     "name": "stderr",
     "output_type": "stream",
     "text": [
      "\u001b[32m[I 2023-04-16 12:29:41,549]\u001b[0m Trial 40 finished with value: 0.7912782347564956 and parameters: {'n_neighbors': 34, 'leaf_size': 350, 'p': 2}. Best is trial 32 with value: 0.7955183444313879.\u001b[0m\n"
     ]
    },
    {
     "data": {
      "text/plain": [
       "'score.mean(): '"
      ]
     },
     "metadata": {},
     "output_type": "display_data"
    },
    {
     "data": {
      "text/plain": [
       "array([0.75352526, 0.78231492, 0.84195065, 0.84430082, 0.73429952])"
      ]
     },
     "metadata": {},
     "output_type": "display_data"
    },
    {
     "name": "stderr",
     "output_type": "stream",
     "text": [
      "\u001b[32m[I 2023-04-16 12:29:41,594]\u001b[0m Trial 41 finished with value: 0.7912782347564956 and parameters: {'n_neighbors': 34, 'leaf_size': 314, 'p': 2}. Best is trial 32 with value: 0.7955183444313879.\u001b[0m\n"
     ]
    },
    {
     "data": {
      "text/plain": [
       "'score.mean(): '"
      ]
     },
     "metadata": {},
     "output_type": "display_data"
    },
    {
     "data": {
      "text/plain": [
       "array([0.74236193, 0.78143361, 0.84048179, 0.85487662, 0.74124396])"
      ]
     },
     "metadata": {},
     "output_type": "display_data"
    },
    {
     "name": "stderr",
     "output_type": "stream",
     "text": [
      "\u001b[32m[I 2023-04-16 12:29:41,636]\u001b[0m Trial 42 finished with value: 0.7920795795795796 and parameters: {'n_neighbors': 11, 'leaf_size': 341, 'p': 2}. Best is trial 32 with value: 0.7955183444313879.\u001b[0m\n"
     ]
    },
    {
     "data": {
      "text/plain": [
       "'score.mean(): '"
      ]
     },
     "metadata": {},
     "output_type": "display_data"
    },
    {
     "data": {
      "text/plain": [
       "array([0.74206816, 0.79054054, 0.83519389, 0.86280846, 0.72373188])"
      ]
     },
     "metadata": {},
     "output_type": "display_data"
    },
    {
     "name": "stderr",
     "output_type": "stream",
     "text": [
      "\u001b[32m[I 2023-04-16 12:29:41,678]\u001b[0m Trial 43 finished with value: 0.7908685859772817 and parameters: {'n_neighbors': 10, 'leaf_size': 144, 'p': 2}. Best is trial 32 with value: 0.7955183444313879.\u001b[0m\n"
     ]
    },
    {
     "data": {
      "text/plain": [
       "'score.mean(): '"
      ]
     },
     "metadata": {},
     "output_type": "display_data"
    },
    {
     "data": {
      "text/plain": [
       "array([0.74236193, 0.78143361, 0.84048179, 0.85487662, 0.74124396])"
      ]
     },
     "metadata": {},
     "output_type": "display_data"
    },
    {
     "name": "stderr",
     "output_type": "stream",
     "text": [
      "\u001b[32m[I 2023-04-16 12:29:41,720]\u001b[0m Trial 44 finished with value: 0.7920795795795796 and parameters: {'n_neighbors': 11, 'leaf_size': 397, 'p': 2}. Best is trial 32 with value: 0.7955183444313879.\u001b[0m\n"
     ]
    },
    {
     "data": {
      "text/plain": [
       "'score.mean(): '"
      ]
     },
     "metadata": {},
     "output_type": "display_data"
    },
    {
     "data": {
      "text/plain": [
       "array([0.74030552, 0.78848414, 0.82843713, 0.846651  , 0.71074879])"
      ]
     },
     "metadata": {},
     "output_type": "display_data"
    },
    {
     "name": "stderr",
     "output_type": "stream",
     "text": [
      "\u001b[32m[I 2023-04-16 12:29:41,763]\u001b[0m Trial 45 finished with value: 0.7829253166209689 and parameters: {'n_neighbors': 9, 'leaf_size': 414, 'p': 2}. Best is trial 32 with value: 0.7955183444313879.\u001b[0m\n"
     ]
    },
    {
     "data": {
      "text/plain": [
       "'score.mean(): '"
      ]
     },
     "metadata": {},
     "output_type": "display_data"
    },
    {
     "data": {
      "text/plain": [
       "array([0.75470035, 0.78554642, 0.83754407, 0.82432432, 0.71256039])"
      ]
     },
     "metadata": {},
     "output_type": "display_data"
    },
    {
     "name": "stderr",
     "output_type": "stream",
     "text": [
      "\u001b[32m[I 2023-04-16 12:29:41,829]\u001b[0m Trial 46 finished with value: 0.7829351090220656 and parameters: {'n_neighbors': 47, 'leaf_size': 320, 'p': 3}. Best is trial 32 with value: 0.7955183444313879.\u001b[0m\n"
     ]
    },
    {
     "data": {
      "text/plain": [
       "'score.mean(): '"
      ]
     },
     "metadata": {},
     "output_type": "display_data"
    },
    {
     "data": {
      "text/plain": [
       "array([0.74030552, 0.74823737, 0.8266745 , 0.85282021, 0.73520531])"
      ]
     },
     "metadata": {},
     "output_type": "display_data"
    },
    {
     "name": "stderr",
     "output_type": "stream",
     "text": [
      "\u001b[32m[I 2023-04-16 12:29:41,871]\u001b[0m Trial 47 finished with value: 0.7806485833659746 and parameters: {'n_neighbors': 7, 'leaf_size': 179, 'p': 2}. Best is trial 32 with value: 0.7955183444313879.\u001b[0m\n"
     ]
    },
    {
     "data": {
      "text/plain": [
       "'score.mean(): '"
      ]
     },
     "metadata": {},
     "output_type": "display_data"
    },
    {
     "data": {
      "text/plain": [
       "array([0.69271445, 0.67596945, 0.85428907, 0.74383079, 0.72614734])"
      ]
     },
     "metadata": {},
     "output_type": "display_data"
    },
    {
     "name": "stderr",
     "output_type": "stream",
     "text": [
      "\u001b[32m[I 2023-04-16 12:29:41,940]\u001b[0m Trial 48 finished with value: 0.738590220655438 and parameters: {'n_neighbors': 175, 'leaf_size': 388, 'p': 2}. Best is trial 32 with value: 0.7955183444313879.\u001b[0m\n"
     ]
    },
    {
     "data": {
      "text/plain": [
       "'score.mean(): '"
      ]
     },
     "metadata": {},
     "output_type": "display_data"
    },
    {
     "data": {
      "text/plain": [
       "array([0.73237368, 0.78495887, 0.85105758, 0.83166863, 0.72916667])"
      ]
     },
     "metadata": {},
     "output_type": "display_data"
    },
    {
     "name": "stderr",
     "output_type": "stream",
     "text": [
      "\u001b[32m[I 2023-04-16 12:29:41,992]\u001b[0m Trial 49 finished with value: 0.7858450842146494 and parameters: {'n_neighbors': 27, 'leaf_size': 440, 'p': 2}. Best is trial 32 with value: 0.7955183444313879.\u001b[0m\n"
     ]
    },
    {
     "data": {
      "text/plain": [
       "'score.mean(): '"
      ]
     },
     "metadata": {},
     "output_type": "display_data"
    },
    {
     "data": {
      "text/plain": [
       "array([0.73619271, 0.76321974, 0.82638073, 0.80376028, 0.71225845])"
      ]
     },
     "metadata": {},
     "output_type": "display_data"
    },
    {
     "name": "stderr",
     "output_type": "stream",
     "text": [
      "\u001b[32m[I 2023-04-16 12:29:42,046]\u001b[0m Trial 50 finished with value: 0.7683623841232536 and parameters: {'n_neighbors': 110, 'leaf_size': 265, 'p': 3}. Best is trial 32 with value: 0.7955183444313879.\u001b[0m\n"
     ]
    },
    {
     "data": {
      "text/plain": [
       "'score.mean(): '"
      ]
     },
     "metadata": {},
     "output_type": "display_data"
    },
    {
     "data": {
      "text/plain": [
       "array([0.73237368, 0.79318449, 0.84341951, 0.86192714, 0.73097826])"
      ]
     },
     "metadata": {},
     "output_type": "display_data"
    },
    {
     "name": "stderr",
     "output_type": "stream",
     "text": [
      "\u001b[32m[I 2023-04-16 12:29:42,086]\u001b[0m Trial 51 finished with value: 0.7923766157461809 and parameters: {'n_neighbors': 17, 'leaf_size': 598, 'p': 2}. Best is trial 32 with value: 0.7955183444313879.\u001b[0m\n"
     ]
    },
    {
     "data": {
      "text/plain": [
       "'score.mean(): '"
      ]
     },
     "metadata": {},
     "output_type": "display_data"
    },
    {
     "data": {
      "text/plain": [
       "array([0.75      , 0.78877791, 0.84811986, 0.85663925, 0.73822464])"
      ]
     },
     "metadata": {},
     "output_type": "display_data"
    },
    {
     "name": "stderr",
     "output_type": "stream",
     "text": [
      "\u001b[32m[I 2023-04-16 12:29:42,131]\u001b[0m Trial 52 finished with value: 0.7963523305914609 and parameters: {'n_neighbors': 15, 'leaf_size': 736, 'p': 2}. Best is trial 52 with value: 0.7963523305914609.\u001b[0m\n"
     ]
    },
    {
     "data": {
      "text/plain": [
       "'score.mean(): '"
      ]
     },
     "metadata": {},
     "output_type": "display_data"
    },
    {
     "data": {
      "text/plain": [
       "array([0.74823737, 0.7793772 , 0.83049354, 0.8140423 , 0.71346618])"
      ]
     },
     "metadata": {},
     "output_type": "display_data"
    },
    {
     "name": "stderr",
     "output_type": "stream",
     "text": [
      "\u001b[32m[I 2023-04-16 12:29:42,171]\u001b[0m Trial 53 finished with value: 0.7771233189711451 and parameters: {'n_neighbors': 51, 'leaf_size': 726, 'p': 2}. Best is trial 52 with value: 0.7963523305914609.\u001b[0m\n"
     ]
    },
    {
     "data": {
      "text/plain": [
       "'score.mean(): '"
      ]
     },
     "metadata": {},
     "output_type": "display_data"
    },
    {
     "data": {
      "text/plain": [
       "array([0.73971798, 0.789953  , 0.84635723, 0.85428907, 0.73550725])"
      ]
     },
     "metadata": {},
     "output_type": "display_data"
    },
    {
     "name": "stderr",
     "output_type": "stream",
     "text": [
      "\u001b[32m[I 2023-04-16 12:29:42,214]\u001b[0m Trial 54 finished with value: 0.7931649040344693 and parameters: {'n_neighbors': 16, 'leaf_size': 782, 'p': 2}. Best is trial 52 with value: 0.7963523305914609.\u001b[0m\n"
     ]
    },
    {
     "data": {
      "text/plain": [
       "'score.mean(): '"
      ]
     },
     "metadata": {},
     "output_type": "display_data"
    },
    {
     "data": {
      "text/plain": [
       "array([0.74970623, 0.78025852, 0.84371328, 0.84077556, 0.73218599])"
      ]
     },
     "metadata": {},
     "output_type": "display_data"
    },
    {
     "name": "stderr",
     "output_type": "stream",
     "text": [
      "\u001b[32m[I 2023-04-16 12:29:42,261]\u001b[0m Trial 55 finished with value: 0.7893279148713931 and parameters: {'n_neighbors': 29, 'leaf_size': 766, 'p': 2}. Best is trial 52 with value: 0.7963523305914609.\u001b[0m\n"
     ]
    },
    {
     "data": {
      "text/plain": [
       "'score.mean(): '"
      ]
     },
     "metadata": {},
     "output_type": "display_data"
    },
    {
     "data": {
      "text/plain": [
       "array([0.56139835, 0.64776733, 0.63983549, 0.7153349 , 0.54045894])"
      ]
     },
     "metadata": {},
     "output_type": "display_data"
    },
    {
     "name": "stderr",
     "output_type": "stream",
     "text": [
      "\u001b[32m[I 2023-04-16 12:29:42,300]\u001b[0m Trial 56 finished with value: 0.6209590024807417 and parameters: {'n_neighbors': 1, 'leaf_size': 783, 'p': 2}. Best is trial 52 with value: 0.7963523305914609.\u001b[0m\n"
     ]
    },
    {
     "data": {
      "text/plain": [
       "'score.mean(): '"
      ]
     },
     "metadata": {},
     "output_type": "display_data"
    },
    {
     "data": {
      "text/plain": [
       "array([0.74294947, 0.76762632, 0.82784959, 0.8172738 , 0.70591787])"
      ]
     },
     "metadata": {},
     "output_type": "display_data"
    },
    {
     "name": "stderr",
     "output_type": "stream",
     "text": [
      "\u001b[32m[I 2023-04-16 12:29:42,347]\u001b[0m Trial 57 finished with value: 0.7723234103668887 and parameters: {'n_neighbors': 63, 'leaf_size': 612, 'p': 2}. Best is trial 52 with value: 0.7963523305914609.\u001b[0m\n"
     ]
    },
    {
     "data": {
      "text/plain": [
       "'score.mean(): '"
      ]
     },
     "metadata": {},
     "output_type": "display_data"
    },
    {
     "data": {
      "text/plain": [
       "array([0.73149236, 0.75881316, 0.84576968, 0.81316099, 0.71437198])"
      ]
     },
     "metadata": {},
     "output_type": "display_data"
    },
    {
     "name": "stderr",
     "output_type": "stream",
     "text": [
      "\u001b[32m[I 2023-04-16 12:29:42,391]\u001b[0m Trial 58 finished with value: 0.7727216346781565 and parameters: {'n_neighbors': 82, 'leaf_size': 728, 'p': 2}. Best is trial 52 with value: 0.7963523305914609.\u001b[0m\n"
     ]
    },
    {
     "data": {
      "text/plain": [
       "'score.mean(): '"
      ]
     },
     "metadata": {},
     "output_type": "display_data"
    },
    {
     "data": {
      "text/plain": [
       "array([0.7353114 , 0.72708578, 0.85487662, 0.78584019, 0.7192029 ])"
      ]
     },
     "metadata": {},
     "output_type": "display_data"
    },
    {
     "name": "stderr",
     "output_type": "stream",
     "text": [
      "\u001b[32m[I 2023-04-16 12:29:42,469]\u001b[0m Trial 59 finished with value: 0.7644633764198983 and parameters: {'n_neighbors': 135, 'leaf_size': 771, 'p': 2}. Best is trial 52 with value: 0.7963523305914609.\u001b[0m\n"
     ]
    },
    {
     "data": {
      "text/plain": [
       "'score.mean(): '"
      ]
     },
     "metadata": {},
     "output_type": "display_data"
    },
    {
     "data": {
      "text/plain": [
       "array([0.76057579, 0.78760282, 0.84811986, 0.83813161, 0.72403382])"
      ]
     },
     "metadata": {},
     "output_type": "display_data"
    },
    {
     "name": "stderr",
     "output_type": "stream",
     "text": [
      "\u001b[32m[I 2023-04-16 12:29:42,517]\u001b[0m Trial 60 finished with value: 0.7916927797362581 and parameters: {'n_neighbors': 38, 'leaf_size': 654, 'p': 2}. Best is trial 52 with value: 0.7963523305914609.\u001b[0m\n"
     ]
    },
    {
     "data": {
      "text/plain": [
       "'score.mean(): '"
      ]
     },
     "metadata": {},
     "output_type": "display_data"
    },
    {
     "data": {
      "text/plain": [
       "array([0.73237368, 0.79318449, 0.84341951, 0.86192714, 0.73097826])"
      ]
     },
     "metadata": {},
     "output_type": "display_data"
    },
    {
     "name": "stderr",
     "output_type": "stream",
     "text": [
      "\u001b[32m[I 2023-04-16 12:29:42,561]\u001b[0m Trial 61 finished with value: 0.7923766157461809 and parameters: {'n_neighbors': 17, 'leaf_size': 737, 'p': 2}. Best is trial 52 with value: 0.7963523305914609.\u001b[0m\n"
     ]
    },
    {
     "data": {
      "text/plain": [
       "'score.mean(): '"
      ]
     },
     "metadata": {},
     "output_type": "display_data"
    },
    {
     "data": {
      "text/plain": [
       "array([0.73296122, 0.79347826, 0.84753231, 0.84723854, 0.73550725])"
      ]
     },
     "metadata": {},
     "output_type": "display_data"
    },
    {
     "name": "stderr",
     "output_type": "stream",
     "text": [
      "\u001b[32m[I 2023-04-16 12:29:42,609]\u001b[0m Trial 62 finished with value: 0.7913435174304739 and parameters: {'n_neighbors': 19, 'leaf_size': 716, 'p': 2}. Best is trial 52 with value: 0.7963523305914609.\u001b[0m\n"
     ]
    },
    {
     "data": {
      "text/plain": [
       "'score.mean(): '"
      ]
     },
     "metadata": {},
     "output_type": "display_data"
    },
    {
     "data": {
      "text/plain": [
       "array([0.74559342, 0.79524089, 0.83108108, 0.83254994, 0.73097826])"
      ]
     },
     "metadata": {},
     "output_type": "display_data"
    },
    {
     "name": "stderr",
     "output_type": "stream",
     "text": [
      "\u001b[32m[I 2023-04-16 12:29:42,657]\u001b[0m Trial 63 finished with value: 0.7870887191539365 and parameters: {'n_neighbors': 24, 'leaf_size': 743, 'p': 2}. Best is trial 52 with value: 0.7963523305914609.\u001b[0m\n"
     ]
    },
    {
     "data": {
      "text/plain": [
       "'score.mean(): '"
      ]
     },
     "metadata": {},
     "output_type": "display_data"
    },
    {
     "data": {
      "text/plain": [
       "array([0.73237368, 0.79318449, 0.84341951, 0.86192714, 0.73097826])"
      ]
     },
     "metadata": {},
     "output_type": "display_data"
    },
    {
     "name": "stderr",
     "output_type": "stream",
     "text": [
      "\u001b[32m[I 2023-04-16 12:29:42,703]\u001b[0m Trial 64 finished with value: 0.7923766157461809 and parameters: {'n_neighbors': 17, 'leaf_size': 628, 'p': 2}. Best is trial 52 with value: 0.7963523305914609.\u001b[0m\n"
     ]
    },
    {
     "data": {
      "text/plain": [
       "'score.mean(): '"
      ]
     },
     "metadata": {},
     "output_type": "display_data"
    },
    {
     "data": {
      "text/plain": [
       "array([0.73237368, 0.79318449, 0.84341951, 0.86192714, 0.73097826])"
      ]
     },
     "metadata": {},
     "output_type": "display_data"
    },
    {
     "name": "stderr",
     "output_type": "stream",
     "text": [
      "\u001b[32m[I 2023-04-16 12:29:42,749]\u001b[0m Trial 65 finished with value: 0.7923766157461809 and parameters: {'n_neighbors': 17, 'leaf_size': 619, 'p': 2}. Best is trial 52 with value: 0.7963523305914609.\u001b[0m\n"
     ]
    },
    {
     "data": {
      "text/plain": [
       "'score.mean(): '"
      ]
     },
     "metadata": {},
     "output_type": "display_data"
    },
    {
     "data": {
      "text/plain": [
       "array([0.75088132, 0.79024677, 0.84430082, 0.82608696, 0.72433575])"
      ]
     },
     "metadata": {},
     "output_type": "display_data"
    },
    {
     "name": "stderr",
     "output_type": "stream",
     "text": [
      "\u001b[32m[I 2023-04-16 12:29:42,796]\u001b[0m Trial 66 finished with value: 0.7871703224964095 and parameters: {'n_neighbors': 43, 'leaf_size': 666, 'p': 2}. Best is trial 52 with value: 0.7963523305914609.\u001b[0m\n"
     ]
    },
    {
     "data": {
      "text/plain": [
       "'score.mean(): '"
      ]
     },
     "metadata": {},
     "output_type": "display_data"
    },
    {
     "data": {
      "text/plain": [
       "array([0.73913043, 0.73443008, 0.80229142, 0.84018801, 0.70018116])"
      ]
     },
     "metadata": {},
     "output_type": "display_data"
    },
    {
     "name": "stderr",
     "output_type": "stream",
     "text": [
      "\u001b[32m[I 2023-04-16 12:29:42,848]\u001b[0m Trial 67 finished with value: 0.7632442224833529 and parameters: {'n_neighbors': 5, 'leaf_size': 561, 'p': 2}. Best is trial 52 with value: 0.7963523305914609.\u001b[0m\n"
     ]
    },
    {
     "data": {
      "text/plain": [
       "'score.mean(): '"
      ]
     },
     "metadata": {},
     "output_type": "display_data"
    },
    {
     "data": {
      "text/plain": [
       "array([0.73883666, 0.78848414, 0.82814336, 0.83666275, 0.7294686 ])"
      ]
     },
     "metadata": {},
     "output_type": "display_data"
    },
    {
     "name": "stderr",
     "output_type": "stream",
     "text": [
      "\u001b[32m[I 2023-04-16 12:29:42,931]\u001b[0m Trial 68 finished with value: 0.784319101710406 and parameters: {'n_neighbors': 24, 'leaf_size': 696, 'p': 3}. Best is trial 52 with value: 0.7963523305914609.\u001b[0m\n"
     ]
    },
    {
     "data": {
      "text/plain": [
       "'score.mean(): '"
      ]
     },
     "metadata": {},
     "output_type": "display_data"
    },
    {
     "data": {
      "text/plain": [
       "array([0.76703878, 0.78231492, 0.84547591, 0.83548766, 0.7294686 ])"
      ]
     },
     "metadata": {},
     "output_type": "display_data"
    },
    {
     "name": "stderr",
     "output_type": "stream",
     "text": [
      "\u001b[32m[I 2023-04-16 12:29:43,032]\u001b[0m Trial 69 finished with value: 0.7919571745658703 and parameters: {'n_neighbors': 37, 'leaf_size': 652, 'p': 2}. Best is trial 52 with value: 0.7963523305914609.\u001b[0m\n"
     ]
    },
    {
     "data": {
      "text/plain": [
       "'score.mean(): '"
      ]
     },
     "metadata": {},
     "output_type": "display_data"
    },
    {
     "data": {
      "text/plain": [
       "array([0.73237368, 0.78495887, 0.85105758, 0.83166863, 0.72916667])"
      ]
     },
     "metadata": {},
     "output_type": "display_data"
    },
    {
     "name": "stderr",
     "output_type": "stream",
     "text": [
      "\u001b[32m[I 2023-04-16 12:29:43,086]\u001b[0m Trial 70 finished with value: 0.7858450842146494 and parameters: {'n_neighbors': 27, 'leaf_size': 756, 'p': 2}. Best is trial 52 with value: 0.7963523305914609.\u001b[0m\n"
     ]
    },
    {
     "data": {
      "text/plain": [
       "'score.mean(): '"
      ]
     },
     "metadata": {},
     "output_type": "display_data"
    },
    {
     "data": {
      "text/plain": [
       "array([0.74911868, 0.79024677, 0.83783784, 0.84488837, 0.7285628 ])"
      ]
     },
     "metadata": {},
     "output_type": "display_data"
    },
    {
     "name": "stderr",
     "output_type": "stream",
     "text": [
      "\u001b[32m[I 2023-04-16 12:29:43,133]\u001b[0m Trial 71 finished with value: 0.7901308917613263 and parameters: {'n_neighbors': 21, 'leaf_size': 615, 'p': 2}. Best is trial 52 with value: 0.7963523305914609.\u001b[0m\n"
     ]
    },
    {
     "data": {
      "text/plain": [
       "'score.mean(): '"
      ]
     },
     "metadata": {},
     "output_type": "display_data"
    },
    {
     "data": {
      "text/plain": [
       "array([0.69300823, 0.72150411, 0.79612221, 0.82285546, 0.69353865])"
      ]
     },
     "metadata": {},
     "output_type": "display_data"
    },
    {
     "name": "stderr",
     "output_type": "stream",
     "text": [
      "\u001b[32m[I 2023-04-16 12:29:43,176]\u001b[0m Trial 72 finished with value: 0.7454057318187755 and parameters: {'n_neighbors': 4, 'leaf_size': 15, 'p': 2}. Best is trial 52 with value: 0.7963523305914609.\u001b[0m\n"
     ]
    },
    {
     "data": {
      "text/plain": [
       "'score.mean(): '"
      ]
     },
     "metadata": {},
     "output_type": "display_data"
    },
    {
     "data": {
      "text/plain": [
       "array([0.73971798, 0.789953  , 0.84635723, 0.85428907, 0.73550725])"
      ]
     },
     "metadata": {},
     "output_type": "display_data"
    },
    {
     "name": "stderr",
     "output_type": "stream",
     "text": [
      "\u001b[32m[I 2023-04-16 12:29:43,225]\u001b[0m Trial 73 finished with value: 0.7931649040344693 and parameters: {'n_neighbors': 16, 'leaf_size': 633, 'p': 2}. Best is trial 52 with value: 0.7963523305914609.\u001b[0m\n"
     ]
    },
    {
     "data": {
      "text/plain": [
       "'score.mean(): '"
      ]
     },
     "metadata": {},
     "output_type": "display_data"
    },
    {
     "data": {
      "text/plain": [
       "array([0.73237368, 0.79318449, 0.84341951, 0.86192714, 0.73097826])"
      ]
     },
     "metadata": {},
     "output_type": "display_data"
    },
    {
     "name": "stderr",
     "output_type": "stream",
     "text": [
      "\u001b[32m[I 2023-04-16 12:29:43,275]\u001b[0m Trial 74 finished with value: 0.7923766157461809 and parameters: {'n_neighbors': 17, 'leaf_size': 591, 'p': 2}. Best is trial 52 with value: 0.7963523305914609.\u001b[0m\n"
     ]
    },
    {
     "data": {
      "text/plain": [
       "'score.mean(): '"
      ]
     },
     "metadata": {},
     "output_type": "display_data"
    },
    {
     "data": {
      "text/plain": [
       "array([0.75058754, 0.78525264, 0.83960047, 0.85546416, 0.74245169])"
      ]
     },
     "metadata": {},
     "output_type": "display_data"
    },
    {
     "name": "stderr",
     "output_type": "stream",
     "text": [
      "\u001b[32m[I 2023-04-16 12:29:43,329]\u001b[0m Trial 75 finished with value: 0.7946713017365192 and parameters: {'n_neighbors': 14, 'leaf_size': 694, 'p': 2}. Best is trial 52 with value: 0.7963523305914609.\u001b[0m\n"
     ]
    },
    {
     "data": {
      "text/plain": [
       "'score.mean(): '"
      ]
     },
     "metadata": {},
     "output_type": "display_data"
    },
    {
     "data": {
      "text/plain": [
       "array([0.65599295, 0.66274971, 0.86045828, 0.70475911, 0.6977657 ])"
      ]
     },
     "metadata": {},
     "output_type": "display_data"
    },
    {
     "name": "stderr",
     "output_type": "stream",
     "text": [
      "\u001b[32m[I 2023-04-16 12:29:43,384]\u001b[0m Trial 76 finished with value: 0.7163451494973234 and parameters: {'n_neighbors': 199, 'leaf_size': 685, 'p': 2}. Best is trial 52 with value: 0.7963523305914609.\u001b[0m\n"
     ]
    },
    {
     "data": {
      "text/plain": [
       "'score.mean(): '"
      ]
     },
     "metadata": {},
     "output_type": "display_data"
    },
    {
     "data": {
      "text/plain": [
       "array([0.76116334, 0.7846651 , 0.85047004, 0.84900118, 0.73520531])"
      ]
     },
     "metadata": {},
     "output_type": "display_data"
    },
    {
     "name": "stderr",
     "output_type": "stream",
     "text": [
      "\u001b[32m[I 2023-04-16 12:29:43,434]\u001b[0m Trial 77 finished with value: 0.7961009922966447 and parameters: {'n_neighbors': 14, 'leaf_size': 796, 'p': 1}. Best is trial 52 with value: 0.7963523305914609.\u001b[0m\n"
     ]
    },
    {
     "data": {
      "text/plain": [
       "'score.mean(): '"
      ]
     },
     "metadata": {},
     "output_type": "display_data"
    },
    {
     "data": {
      "text/plain": [
       "array([0.74823737, 0.79700353, 0.84077556, 0.83842538, 0.73278986])"
      ]
     },
     "metadata": {},
     "output_type": "display_data"
    },
    {
     "name": "stderr",
     "output_type": "stream",
     "text": [
      "\u001b[32m[I 2023-04-16 12:29:43,485]\u001b[0m Trial 78 finished with value: 0.7914463376419899 and parameters: {'n_neighbors': 31, 'leaf_size': 784, 'p': 1}. Best is trial 52 with value: 0.7963523305914609.\u001b[0m\n"
     ]
    },
    {
     "data": {
      "text/plain": [
       "'score.mean(): '"
      ]
     },
     "metadata": {},
     "output_type": "display_data"
    },
    {
     "data": {
      "text/plain": [
       "array([0.76116334, 0.7846651 , 0.85047004, 0.84900118, 0.73520531])"
      ]
     },
     "metadata": {},
     "output_type": "display_data"
    },
    {
     "name": "stderr",
     "output_type": "stream",
     "text": [
      "\u001b[32m[I 2023-04-16 12:29:43,533]\u001b[0m Trial 79 finished with value: 0.7961009922966447 and parameters: {'n_neighbors': 14, 'leaf_size': 708, 'p': 1}. Best is trial 52 with value: 0.7963523305914609.\u001b[0m\n"
     ]
    },
    {
     "data": {
      "text/plain": [
       "'score.mean(): '"
      ]
     },
     "metadata": {},
     "output_type": "display_data"
    },
    {
     "data": {
      "text/plain": [
       "array([0.73266745, 0.76233843, 0.82373678, 0.85076381, 0.7071256 ])"
      ]
     },
     "metadata": {},
     "output_type": "display_data"
    },
    {
     "name": "stderr",
     "output_type": "stream",
     "text": [
      "\u001b[32m[I 2023-04-16 12:29:43,584]\u001b[0m Trial 80 finished with value: 0.7753264133698916 and parameters: {'n_neighbors': 6, 'leaf_size': 796, 'p': 1}. Best is trial 52 with value: 0.7963523305914609.\u001b[0m\n"
     ]
    },
    {
     "data": {
      "text/plain": [
       "'score.mean(): '"
      ]
     },
     "metadata": {},
     "output_type": "display_data"
    },
    {
     "data": {
      "text/plain": [
       "array([0.74559342, 0.78172738, 0.83431257, 0.84958872, 0.73128019])"
      ]
     },
     "metadata": {},
     "output_type": "display_data"
    },
    {
     "name": "stderr",
     "output_type": "stream",
     "text": [
      "\u001b[32m[I 2023-04-16 12:29:43,633]\u001b[0m Trial 81 finished with value: 0.7885004569787177 and parameters: {'n_neighbors': 12, 'leaf_size': 706, 'p': 1}. Best is trial 52 with value: 0.7963523305914609.\u001b[0m\n"
     ]
    },
    {
     "data": {
      "text/plain": [
       "'score.mean(): '"
      ]
     },
     "metadata": {},
     "output_type": "display_data"
    },
    {
     "data": {
      "text/plain": [
       "array([0.76116334, 0.7846651 , 0.85047004, 0.84900118, 0.73520531])"
      ]
     },
     "metadata": {},
     "output_type": "display_data"
    },
    {
     "name": "stderr",
     "output_type": "stream",
     "text": [
      "\u001b[32m[I 2023-04-16 12:29:43,673]\u001b[0m Trial 82 finished with value: 0.7961009922966447 and parameters: {'n_neighbors': 14, 'leaf_size': 678, 'p': 1}. Best is trial 52 with value: 0.7963523305914609.\u001b[0m\n"
     ]
    },
    {
     "data": {
      "text/plain": [
       "'score.mean(): '"
      ]
     },
     "metadata": {},
     "output_type": "display_data"
    },
    {
     "data": {
      "text/plain": [
       "array([0.56139835, 0.64776733, 0.653349  , 0.7153349 , 0.54045894])"
      ]
     },
     "metadata": {},
     "output_type": "display_data"
    },
    {
     "name": "stderr",
     "output_type": "stream",
     "text": [
      "\u001b[32m[I 2023-04-16 12:29:43,723]\u001b[0m Trial 83 finished with value: 0.6236617051834443 and parameters: {'n_neighbors': 1, 'leaf_size': 674, 'p': 1}. Best is trial 52 with value: 0.7963523305914609.\u001b[0m\n"
     ]
    },
    {
     "data": {
      "text/plain": [
       "'score.mean(): '"
      ]
     },
     "metadata": {},
     "output_type": "display_data"
    },
    {
     "data": {
      "text/plain": [
       "array([0.74294947, 0.78642773, 0.83901293, 0.84900118, 0.72705314])"
      ]
     },
     "metadata": {},
     "output_type": "display_data"
    },
    {
     "name": "stderr",
     "output_type": "stream",
     "text": [
      "\u001b[32m[I 2023-04-16 12:29:43,770]\u001b[0m Trial 84 finished with value: 0.7888888888888889 and parameters: {'n_neighbors': 13, 'leaf_size': 764, 'p': 1}. Best is trial 52 with value: 0.7963523305914609.\u001b[0m\n"
     ]
    },
    {
     "data": {
      "text/plain": [
       "'score.mean(): '"
      ]
     },
     "metadata": {},
     "output_type": "display_data"
    },
    {
     "data": {
      "text/plain": [
       "array([0.75      , 0.78613396, 0.85340776, 0.84224442, 0.73097826])"
      ]
     },
     "metadata": {},
     "output_type": "display_data"
    },
    {
     "name": "stderr",
     "output_type": "stream",
     "text": [
      "\u001b[32m[I 2023-04-16 12:29:43,815]\u001b[0m Trial 85 finished with value: 0.7925528789659225 and parameters: {'n_neighbors': 24, 'leaf_size': 696, 'p': 1}. Best is trial 52 with value: 0.7963523305914609.\u001b[0m\n"
     ]
    },
    {
     "data": {
      "text/plain": [
       "'score.mean(): '"
      ]
     },
     "metadata": {},
     "output_type": "display_data"
    },
    {
     "data": {
      "text/plain": [
       "array([0.74823737, 0.79700353, 0.84077556, 0.83842538, 0.73278986])"
      ]
     },
     "metadata": {},
     "output_type": "display_data"
    },
    {
     "name": "stderr",
     "output_type": "stream",
     "text": [
      "\u001b[32m[I 2023-04-16 12:29:43,896]\u001b[0m Trial 86 finished with value: 0.7914463376419899 and parameters: {'n_neighbors': 31, 'leaf_size': 646, 'p': 1}. Best is trial 52 with value: 0.7963523305914609.\u001b[0m\n"
     ]
    },
    {
     "data": {
      "text/plain": [
       "'score.mean(): '"
      ]
     },
     "metadata": {},
     "output_type": "display_data"
    },
    {
     "data": {
      "text/plain": [
       "array([0.73707403, 0.76410106, 0.82520564, 0.84753231, 0.71437198])"
      ]
     },
     "metadata": {},
     "output_type": "display_data"
    },
    {
     "name": "stderr",
     "output_type": "stream",
     "text": [
      "\u001b[32m[I 2023-04-16 12:29:43,941]\u001b[0m Trial 87 finished with value: 0.7776570048309179 and parameters: {'n_neighbors': 7, 'leaf_size': 745, 'p': 1}. Best is trial 52 with value: 0.7963523305914609.\u001b[0m\n"
     ]
    },
    {
     "data": {
      "text/plain": [
       "'score.mean(): '"
      ]
     },
     "metadata": {},
     "output_type": "display_data"
    },
    {
     "data": {
      "text/plain": [
       "array([0.76116334, 0.7846651 , 0.85047004, 0.84900118, 0.73520531])"
      ]
     },
     "metadata": {},
     "output_type": "display_data"
    },
    {
     "name": "stderr",
     "output_type": "stream",
     "text": [
      "\u001b[32m[I 2023-04-16 12:29:44,001]\u001b[0m Trial 88 finished with value: 0.7961009922966447 and parameters: {'n_neighbors': 14, 'leaf_size': 774, 'p': 1}. Best is trial 52 with value: 0.7963523305914609.\u001b[0m\n"
     ]
    },
    {
     "data": {
      "text/plain": [
       "'score.mean(): '"
      ]
     },
     "metadata": {},
     "output_type": "display_data"
    },
    {
     "data": {
      "text/plain": [
       "array([0.76116334, 0.7846651 , 0.85047004, 0.84900118, 0.73520531])"
      ]
     },
     "metadata": {},
     "output_type": "display_data"
    },
    {
     "name": "stderr",
     "output_type": "stream",
     "text": [
      "\u001b[32m[I 2023-04-16 12:29:44,058]\u001b[0m Trial 89 finished with value: 0.7961009922966447 and parameters: {'n_neighbors': 14, 'leaf_size': 783, 'p': 1}. Best is trial 52 with value: 0.7963523305914609.\u001b[0m\n"
     ]
    },
    {
     "data": {
      "text/plain": [
       "'score.mean(): '"
      ]
     },
     "metadata": {},
     "output_type": "display_data"
    },
    {
     "data": {
      "text/plain": [
       "array([0.73266745, 0.78907168, 0.84782609, 0.84077556, 0.73550725])"
      ]
     },
     "metadata": {},
     "output_type": "display_data"
    },
    {
     "name": "stderr",
     "output_type": "stream",
     "text": [
      "\u001b[32m[I 2023-04-16 12:29:44,112]\u001b[0m Trial 90 finished with value: 0.7891696043869956 and parameters: {'n_neighbors': 35, 'leaf_size': 778, 'p': 1}. Best is trial 52 with value: 0.7963523305914609.\u001b[0m\n"
     ]
    },
    {
     "data": {
      "text/plain": [
       "'score.mean(): '"
      ]
     },
     "metadata": {},
     "output_type": "display_data"
    },
    {
     "data": {
      "text/plain": [
       "array([0.76116334, 0.7846651 , 0.85047004, 0.84900118, 0.73520531])"
      ]
     },
     "metadata": {},
     "output_type": "display_data"
    },
    {
     "name": "stderr",
     "output_type": "stream",
     "text": [
      "\u001b[32m[I 2023-04-16 12:29:44,161]\u001b[0m Trial 91 finished with value: 0.7961009922966447 and parameters: {'n_neighbors': 14, 'leaf_size': 796, 'p': 1}. Best is trial 52 with value: 0.7963523305914609.\u001b[0m\n"
     ]
    },
    {
     "data": {
      "text/plain": [
       "'score.mean(): '"
      ]
     },
     "metadata": {},
     "output_type": "display_data"
    },
    {
     "data": {
      "text/plain": [
       "array([0.74294947, 0.78642773, 0.83901293, 0.84900118, 0.72705314])"
      ]
     },
     "metadata": {},
     "output_type": "display_data"
    },
    {
     "name": "stderr",
     "output_type": "stream",
     "text": [
      "\u001b[32m[I 2023-04-16 12:29:44,210]\u001b[0m Trial 92 finished with value: 0.7888888888888889 and parameters: {'n_neighbors': 13, 'leaf_size': 763, 'p': 1}. Best is trial 52 with value: 0.7963523305914609.\u001b[0m\n"
     ]
    },
    {
     "data": {
      "text/plain": [
       "'score.mean(): '"
      ]
     },
     "metadata": {},
     "output_type": "display_data"
    },
    {
     "data": {
      "text/plain": [
       "array([0.73707403, 0.76410106, 0.82520564, 0.84753231, 0.71437198])"
      ]
     },
     "metadata": {},
     "output_type": "display_data"
    },
    {
     "name": "stderr",
     "output_type": "stream",
     "text": [
      "\u001b[32m[I 2023-04-16 12:29:44,262]\u001b[0m Trial 93 finished with value: 0.7776570048309179 and parameters: {'n_neighbors': 7, 'leaf_size': 799, 'p': 1}. Best is trial 52 with value: 0.7963523305914609.\u001b[0m\n"
     ]
    },
    {
     "data": {
      "text/plain": [
       "'score.mean(): '"
      ]
     },
     "metadata": {},
     "output_type": "display_data"
    },
    {
     "data": {
      "text/plain": [
       "array([0.73971798, 0.78349001, 0.85987074, 0.84518214, 0.73067633])"
      ]
     },
     "metadata": {},
     "output_type": "display_data"
    },
    {
     "name": "stderr",
     "output_type": "stream",
     "text": [
      "\u001b[32m[I 2023-04-16 12:29:44,315]\u001b[0m Trial 94 finished with value: 0.7917874396135265 and parameters: {'n_neighbors': 23, 'leaf_size': 714, 'p': 1}. Best is trial 52 with value: 0.7963523305914609.\u001b[0m\n"
     ]
    },
    {
     "data": {
      "text/plain": [
       "'score.mean(): '"
      ]
     },
     "metadata": {},
     "output_type": "display_data"
    },
    {
     "data": {
      "text/plain": [
       "array([0.76116334, 0.7846651 , 0.85047004, 0.84900118, 0.73520531])"
      ]
     },
     "metadata": {},
     "output_type": "display_data"
    },
    {
     "name": "stderr",
     "output_type": "stream",
     "text": [
      "\u001b[32m[I 2023-04-16 12:29:44,363]\u001b[0m Trial 95 finished with value: 0.7961009922966447 and parameters: {'n_neighbors': 14, 'leaf_size': 748, 'p': 1}. Best is trial 52 with value: 0.7963523305914609.\u001b[0m\n"
     ]
    },
    {
     "data": {
      "text/plain": [
       "'score.mean(): '"
      ]
     },
     "metadata": {},
     "output_type": "display_data"
    },
    {
     "data": {
      "text/plain": [
       "array([0.74383079, 0.78730905, 0.85282021, 0.83695652, 0.72554348])"
      ]
     },
     "metadata": {},
     "output_type": "display_data"
    },
    {
     "name": "stderr",
     "output_type": "stream",
     "text": [
      "\u001b[32m[I 2023-04-16 12:29:44,407]\u001b[0m Trial 96 finished with value: 0.7892920094007051 and parameters: {'n_neighbors': 41, 'leaf_size': 734, 'p': 1}. Best is trial 52 with value: 0.7963523305914609.\u001b[0m\n"
     ]
    },
    {
     "data": {
      "text/plain": [
       "'score.mean(): '"
      ]
     },
     "metadata": {},
     "output_type": "display_data"
    },
    {
     "data": {
      "text/plain": [
       "array([0.56139835, 0.64776733, 0.653349  , 0.7153349 , 0.54045894])"
      ]
     },
     "metadata": {},
     "output_type": "display_data"
    },
    {
     "name": "stderr",
     "output_type": "stream",
     "text": [
      "\u001b[32m[I 2023-04-16 12:29:44,458]\u001b[0m Trial 97 finished with value: 0.6236617051834443 and parameters: {'n_neighbors': 1, 'leaf_size': 800, 'p': 1}. Best is trial 52 with value: 0.7963523305914609.\u001b[0m\n"
     ]
    },
    {
     "data": {
      "text/plain": [
       "'score.mean(): '"
      ]
     },
     "metadata": {},
     "output_type": "display_data"
    },
    {
     "data": {
      "text/plain": [
       "array([0.73413631, 0.80170388, 0.8393067 , 0.84459459, 0.7388285 ])"
      ]
     },
     "metadata": {},
     "output_type": "display_data"
    },
    {
     "name": "stderr",
     "output_type": "stream",
     "text": [
      "\u001b[32m[I 2023-04-16 12:29:44,503]\u001b[0m Trial 98 finished with value: 0.791713996605301 and parameters: {'n_neighbors': 30, 'leaf_size': 746, 'p': 1}. Best is trial 52 with value: 0.7963523305914609.\u001b[0m\n"
     ]
    },
    {
     "data": {
      "text/plain": [
       "'score.mean(): '"
      ]
     },
     "metadata": {},
     "output_type": "display_data"
    },
    {
     "data": {
      "text/plain": [
       "array([0.73971798, 0.79700353, 0.85517039, 0.84253819, 0.72342995])"
      ]
     },
     "metadata": {},
     "output_type": "display_data"
    },
    {
     "name": "stderr",
     "output_type": "stream",
     "text": [
      "\u001b[32m[I 2023-04-16 12:29:44,554]\u001b[0m Trial 99 finished with value: 0.7915720067893981 and parameters: {'n_neighbors': 21, 'leaf_size': 763, 'p': 1}. Best is trial 52 with value: 0.7963523305914609.\u001b[0m\n"
     ]
    },
    {
     "data": {
      "text/plain": [
       "'score.mean(): '"
      ]
     },
     "metadata": {},
     "output_type": "display_data"
    },
    {
     "data": {
      "text/plain": [
       "array([0.74294947, 0.78642773, 0.83901293, 0.84900118, 0.72705314])"
      ]
     },
     "metadata": {},
     "output_type": "display_data"
    },
    {
     "name": "stderr",
     "output_type": "stream",
     "text": [
      "\u001b[32m[I 2023-04-16 12:29:44,599]\u001b[0m Trial 100 finished with value: 0.7888888888888889 and parameters: {'n_neighbors': 13, 'leaf_size': 726, 'p': 1}. Best is trial 52 with value: 0.7963523305914609.\u001b[0m\n"
     ]
    },
    {
     "data": {
      "text/plain": [
       "'score.mean(): '"
      ]
     },
     "metadata": {},
     "output_type": "display_data"
    },
    {
     "data": {
      "text/plain": [
       "array([0.7153349 , 0.77555817, 0.84106933, 0.8592832 , 0.71135266])"
      ]
     },
     "metadata": {},
     "output_type": "display_data"
    },
    {
     "name": "stderr",
     "output_type": "stream",
     "text": [
      "\u001b[32m[I 2023-04-16 12:29:44,648]\u001b[0m Trial 101 finished with value: 0.7805196500848675 and parameters: {'n_neighbors': 8, 'leaf_size': 782, 'p': 1}. Best is trial 52 with value: 0.7963523305914609.\u001b[0m\n"
     ]
    },
    {
     "data": {
      "text/plain": [
       "'score.mean(): '"
      ]
     },
     "metadata": {},
     "output_type": "display_data"
    },
    {
     "data": {
      "text/plain": [
       "array([0.74882491, 0.7552879 , 0.87955347, 0.81756757, 0.727657  ])"
      ]
     },
     "metadata": {},
     "output_type": "display_data"
    },
    {
     "name": "stderr",
     "output_type": "stream",
     "text": [
      "\u001b[32m[I 2023-04-16 12:29:44,700]\u001b[0m Trial 102 finished with value: 0.7857781694738217 and parameters: {'n_neighbors': 101, 'leaf_size': 776, 'p': 1}. Best is trial 52 with value: 0.7963523305914609.\u001b[0m\n"
     ]
    },
    {
     "data": {
      "text/plain": [
       "'score.mean(): '"
      ]
     },
     "metadata": {},
     "output_type": "display_data"
    },
    {
     "data": {
      "text/plain": [
       "array([0.76116334, 0.7846651 , 0.85047004, 0.84900118, 0.73520531])"
      ]
     },
     "metadata": {},
     "output_type": "display_data"
    },
    {
     "name": "stderr",
     "output_type": "stream",
     "text": [
      "\u001b[32m[I 2023-04-16 12:29:44,742]\u001b[0m Trial 103 finished with value: 0.7961009922966447 and parameters: {'n_neighbors': 14, 'leaf_size': 709, 'p': 1}. Best is trial 52 with value: 0.7963523305914609.\u001b[0m\n"
     ]
    },
    {
     "data": {
      "text/plain": [
       "'score.mean(): '"
      ]
     },
     "metadata": {},
     "output_type": "display_data"
    },
    {
     "data": {
      "text/plain": [
       "array([0.74559342, 0.8046416 , 0.8413631 , 0.85017626, 0.73128019])"
      ]
     },
     "metadata": {},
     "output_type": "display_data"
    },
    {
     "name": "stderr",
     "output_type": "stream",
     "text": [
      "\u001b[32m[I 2023-04-16 12:29:44,796]\u001b[0m Trial 104 finished with value: 0.7946109152630891 and parameters: {'n_neighbors': 27, 'leaf_size': 706, 'p': 1}. Best is trial 52 with value: 0.7963523305914609.\u001b[0m\n"
     ]
    },
    {
     "data": {
      "text/plain": [
       "'score.mean(): '"
      ]
     },
     "metadata": {},
     "output_type": "display_data"
    },
    {
     "data": {
      "text/plain": [
       "array([0.73266745, 0.76233843, 0.82373678, 0.85076381, 0.7071256 ])"
      ]
     },
     "metadata": {},
     "output_type": "display_data"
    },
    {
     "name": "stderr",
     "output_type": "stream",
     "text": [
      "\u001b[32m[I 2023-04-16 12:29:44,841]\u001b[0m Trial 105 finished with value: 0.7753264133698916 and parameters: {'n_neighbors': 6, 'leaf_size': 684, 'p': 1}. Best is trial 52 with value: 0.7963523305914609.\u001b[0m\n"
     ]
    },
    {
     "data": {
      "text/plain": [
       "'score.mean(): '"
      ]
     },
     "metadata": {},
     "output_type": "display_data"
    },
    {
     "data": {
      "text/plain": [
       "array([0.74294947, 0.78642773, 0.83901293, 0.84900118, 0.72705314])"
      ]
     },
     "metadata": {},
     "output_type": "display_data"
    },
    {
     "name": "stderr",
     "output_type": "stream",
     "text": [
      "\u001b[32m[I 2023-04-16 12:29:44,893]\u001b[0m Trial 106 finished with value: 0.7888888888888889 and parameters: {'n_neighbors': 13, 'leaf_size': 757, 'p': 1}. Best is trial 52 with value: 0.7963523305914609.\u001b[0m\n"
     ]
    },
    {
     "data": {
      "text/plain": [
       "'score.mean(): '"
      ]
     },
     "metadata": {},
     "output_type": "display_data"
    },
    {
     "data": {
      "text/plain": [
       "array([0.73971798, 0.79700353, 0.85517039, 0.84253819, 0.72342995])"
      ]
     },
     "metadata": {},
     "output_type": "display_data"
    },
    {
     "name": "stderr",
     "output_type": "stream",
     "text": [
      "\u001b[32m[I 2023-04-16 12:29:44,941]\u001b[0m Trial 107 finished with value: 0.7915720067893981 and parameters: {'n_neighbors': 21, 'leaf_size': 736, 'p': 1}. Best is trial 52 with value: 0.7963523305914609.\u001b[0m\n"
     ]
    },
    {
     "data": {
      "text/plain": [
       "'score.mean(): '"
      ]
     },
     "metadata": {},
     "output_type": "display_data"
    },
    {
     "data": {
      "text/plain": [
       "array([0.70005875, 0.70652174, 0.75146886, 0.77820212, 0.69051932])"
      ]
     },
     "metadata": {},
     "output_type": "display_data"
    },
    {
     "name": "stderr",
     "output_type": "stream",
     "text": [
      "\u001b[32m[I 2023-04-16 12:29:44,990]\u001b[0m Trial 108 finished with value: 0.7253541585063324 and parameters: {'n_neighbors': 3, 'leaf_size': 712, 'p': 1}. Best is trial 52 with value: 0.7963523305914609.\u001b[0m\n"
     ]
    },
    {
     "data": {
      "text/plain": [
       "'score.mean(): '"
      ]
     },
     "metadata": {},
     "output_type": "display_data"
    },
    {
     "data": {
      "text/plain": [
       "array([0.7153349 , 0.77555817, 0.84106933, 0.8592832 , 0.71135266])"
      ]
     },
     "metadata": {},
     "output_type": "display_data"
    },
    {
     "name": "stderr",
     "output_type": "stream",
     "text": [
      "\u001b[32m[I 2023-04-16 12:29:45,039]\u001b[0m Trial 109 finished with value: 0.7805196500848675 and parameters: {'n_neighbors': 8, 'leaf_size': 669, 'p': 1}. Best is trial 52 with value: 0.7963523305914609.\u001b[0m\n"
     ]
    },
    {
     "data": {
      "text/plain": [
       "'score.mean(): '"
      ]
     },
     "metadata": {},
     "output_type": "display_data"
    },
    {
     "data": {
      "text/plain": [
       "array([0.76116334, 0.7846651 , 0.85047004, 0.84900118, 0.73520531])"
      ]
     },
     "metadata": {},
     "output_type": "display_data"
    },
    {
     "name": "stderr",
     "output_type": "stream",
     "text": [
      "\u001b[32m[I 2023-04-16 12:29:45,091]\u001b[0m Trial 110 finished with value: 0.7961009922966447 and parameters: {'n_neighbors': 14, 'leaf_size': 754, 'p': 1}. Best is trial 52 with value: 0.7963523305914609.\u001b[0m\n"
     ]
    },
    {
     "data": {
      "text/plain": [
       "'score.mean(): '"
      ]
     },
     "metadata": {},
     "output_type": "display_data"
    },
    {
     "data": {
      "text/plain": [
       "array([0.76116334, 0.7846651 , 0.85047004, 0.84900118, 0.73520531])"
      ]
     },
     "metadata": {},
     "output_type": "display_data"
    },
    {
     "name": "stderr",
     "output_type": "stream",
     "text": [
      "\u001b[32m[I 2023-04-16 12:29:45,137]\u001b[0m Trial 111 finished with value: 0.7961009922966447 and parameters: {'n_neighbors': 14, 'leaf_size': 746, 'p': 1}. Best is trial 52 with value: 0.7963523305914609.\u001b[0m\n"
     ]
    },
    {
     "data": {
      "text/plain": [
       "'score.mean(): '"
      ]
     },
     "metadata": {},
     "output_type": "display_data"
    },
    {
     "data": {
      "text/plain": [
       "array([0.73971798, 0.79700353, 0.85517039, 0.84253819, 0.72342995])"
      ]
     },
     "metadata": {},
     "output_type": "display_data"
    },
    {
     "name": "stderr",
     "output_type": "stream",
     "text": [
      "\u001b[32m[I 2023-04-16 12:29:45,190]\u001b[0m Trial 112 finished with value: 0.7915720067893981 and parameters: {'n_neighbors': 21, 'leaf_size': 758, 'p': 1}. Best is trial 52 with value: 0.7963523305914609.\u001b[0m\n"
     ]
    },
    {
     "data": {
      "text/plain": [
       "'score.mean(): '"
      ]
     },
     "metadata": {},
     "output_type": "display_data"
    },
    {
     "data": {
      "text/plain": [
       "array([0.74529965, 0.79612221, 0.84430082, 0.84606345, 0.73913043])"
      ]
     },
     "metadata": {},
     "output_type": "display_data"
    },
    {
     "name": "stderr",
     "output_type": "stream",
     "text": [
      "\u001b[32m[I 2023-04-16 12:29:45,241]\u001b[0m Trial 113 finished with value: 0.7941833137485312 and parameters: {'n_neighbors': 26, 'leaf_size': 721, 'p': 1}. Best is trial 52 with value: 0.7963523305914609.\u001b[0m\n"
     ]
    },
    {
     "data": {
      "text/plain": [
       "'score.mean(): '"
      ]
     },
     "metadata": {},
     "output_type": "display_data"
    },
    {
     "data": {
      "text/plain": [
       "array([0.73472385, 0.77761457, 0.83783784, 0.84958872, 0.72071256])"
      ]
     },
     "metadata": {},
     "output_type": "display_data"
    },
    {
     "name": "stderr",
     "output_type": "stream",
     "text": [
      "\u001b[32m[I 2023-04-16 12:29:45,291]\u001b[0m Trial 114 finished with value: 0.7840955085520303 and parameters: {'n_neighbors': 10, 'leaf_size': 743, 'p': 1}. Best is trial 52 with value: 0.7963523305914609.\u001b[0m\n"
     ]
    },
    {
     "data": {
      "text/plain": [
       "'score.mean(): '"
      ]
     },
     "metadata": {},
     "output_type": "display_data"
    },
    {
     "data": {
      "text/plain": [
       "array([0.73354877, 0.78495887, 0.83225617, 0.83607521, 0.7201087 ])"
      ]
     },
     "metadata": {},
     "output_type": "display_data"
    },
    {
     "name": "stderr",
     "output_type": "stream",
     "text": [
      "\u001b[32m[I 2023-04-16 12:29:45,345]\u001b[0m Trial 115 finished with value: 0.7813895417156287 and parameters: {'n_neighbors': 18, 'leaf_size': 781, 'p': 1}. Best is trial 52 with value: 0.7963523305914609.\u001b[0m\n"
     ]
    },
    {
     "data": {
      "text/plain": [
       "'score.mean(): '"
      ]
     },
     "metadata": {},
     "output_type": "display_data"
    },
    {
     "data": {
      "text/plain": [
       "array([0.72943596, 0.77555817, 0.83490012, 0.8560517 , 0.71256039])"
      ]
     },
     "metadata": {},
     "output_type": "display_data"
    },
    {
     "name": "stderr",
     "output_type": "stream",
     "text": [
      "\u001b[32m[I 2023-04-16 12:29:45,396]\u001b[0m Trial 116 finished with value: 0.7817012664838753 and parameters: {'n_neighbors': 9, 'leaf_size': 772, 'p': 1}. Best is trial 52 with value: 0.7963523305914609.\u001b[0m\n"
     ]
    },
    {
     "data": {
      "text/plain": [
       "'score.mean(): '"
      ]
     },
     "metadata": {},
     "output_type": "display_data"
    },
    {
     "data": {
      "text/plain": [
       "array([0.73384254, 0.7826087 , 0.83871915, 0.84488837, 0.74003623])"
      ]
     },
     "metadata": {},
     "output_type": "display_data"
    },
    {
     "name": "stderr",
     "output_type": "stream",
     "text": [
      "\u001b[32m[I 2023-04-16 12:29:45,450]\u001b[0m Trial 117 finished with value: 0.7880189972581279 and parameters: {'n_neighbors': 33, 'leaf_size': 732, 'p': 1}. Best is trial 52 with value: 0.7963523305914609.\u001b[0m\n"
     ]
    },
    {
     "data": {
      "text/plain": [
       "'score.mean(): '"
      ]
     },
     "metadata": {},
     "output_type": "display_data"
    },
    {
     "data": {
      "text/plain": [
       "array([0.7027027 , 0.71768508, 0.77908343, 0.82784959, 0.6884058 ])"
      ]
     },
     "metadata": {},
     "output_type": "display_data"
    },
    {
     "name": "stderr",
     "output_type": "stream",
     "text": [
      "\u001b[32m[I 2023-04-16 12:29:45,501]\u001b[0m Trial 118 finished with value: 0.7431453192322757 and parameters: {'n_neighbors': 4, 'leaf_size': 752, 'p': 1}. Best is trial 52 with value: 0.7963523305914609.\u001b[0m\n"
     ]
    },
    {
     "data": {
      "text/plain": [
       "'score.mean(): '"
      ]
     },
     "metadata": {},
     "output_type": "display_data"
    },
    {
     "data": {
      "text/plain": [
       "array([0.75293772, 0.75616921, 0.88307873, 0.80229142, 0.7201087 ])"
      ]
     },
     "metadata": {},
     "output_type": "display_data"
    },
    {
     "name": "stderr",
     "output_type": "stream",
     "text": [
      "\u001b[32m[I 2023-04-16 12:29:45,552]\u001b[0m Trial 119 finished with value: 0.7829171562867215 and parameters: {'n_neighbors': 125, 'leaf_size': 786, 'p': 1}. Best is trial 52 with value: 0.7963523305914609.\u001b[0m\n"
     ]
    },
    {
     "data": {
      "text/plain": [
       "'score.mean(): '"
      ]
     },
     "metadata": {},
     "output_type": "display_data"
    },
    {
     "data": {
      "text/plain": [
       "array([0.75969448, 0.79289072, 0.84753231, 0.84694477, 0.73399758])"
      ]
     },
     "metadata": {},
     "output_type": "display_data"
    },
    {
     "name": "stderr",
     "output_type": "stream",
     "text": [
      "\u001b[32m[I 2023-04-16 12:29:45,633]\u001b[0m Trial 120 finished with value: 0.7962119728424077 and parameters: {'n_neighbors': 15, 'leaf_size': 708, 'p': 1}. Best is trial 52 with value: 0.7963523305914609.\u001b[0m\n"
     ]
    },
    {
     "data": {
      "text/plain": [
       "'score.mean(): '"
      ]
     },
     "metadata": {},
     "output_type": "display_data"
    },
    {
     "data": {
      "text/plain": [
       "array([0.76116334, 0.7846651 , 0.85047004, 0.84900118, 0.73520531])"
      ]
     },
     "metadata": {},
     "output_type": "display_data"
    },
    {
     "name": "stderr",
     "output_type": "stream",
     "text": [
      "\u001b[32m[I 2023-04-16 12:29:45,679]\u001b[0m Trial 121 finished with value: 0.7961009922966447 and parameters: {'n_neighbors': 14, 'leaf_size': 701, 'p': 1}. Best is trial 52 with value: 0.7963523305914609.\u001b[0m\n"
     ]
    },
    {
     "data": {
      "text/plain": [
       "'score.mean(): '"
      ]
     },
     "metadata": {},
     "output_type": "display_data"
    },
    {
     "data": {
      "text/plain": [
       "array([0.75969448, 0.79289072, 0.84753231, 0.84694477, 0.73399758])"
      ]
     },
     "metadata": {},
     "output_type": "display_data"
    },
    {
     "name": "stderr",
     "output_type": "stream",
     "text": [
      "\u001b[32m[I 2023-04-16 12:29:45,734]\u001b[0m Trial 122 finished with value: 0.7962119728424077 and parameters: {'n_neighbors': 15, 'leaf_size': 722, 'p': 1}. Best is trial 52 with value: 0.7963523305914609.\u001b[0m\n"
     ]
    },
    {
     "data": {
      "text/plain": [
       "'score.mean(): '"
      ]
     },
     "metadata": {},
     "output_type": "display_data"
    },
    {
     "data": {
      "text/plain": [
       "array([0.74148061, 0.78965922, 0.85752056, 0.8413631 , 0.72161836])"
      ]
     },
     "metadata": {},
     "output_type": "display_data"
    },
    {
     "name": "stderr",
     "output_type": "stream",
     "text": [
      "\u001b[32m[I 2023-04-16 12:29:45,802]\u001b[0m Trial 123 finished with value: 0.7903283718501111 and parameters: {'n_neighbors': 20, 'leaf_size': 800, 'p': 1}. Best is trial 52 with value: 0.7963523305914609.\u001b[0m\n"
     ]
    },
    {
     "data": {
      "text/plain": [
       "'score.mean(): '"
      ]
     },
     "metadata": {},
     "output_type": "display_data"
    },
    {
     "data": {
      "text/plain": [
       "array([0.73766157, 0.80405405, 0.84341951, 0.84547591, 0.73550725])"
      ]
     },
     "metadata": {},
     "output_type": "display_data"
    },
    {
     "name": "stderr",
     "output_type": "stream",
     "text": [
      "\u001b[32m[I 2023-04-16 12:29:45,860]\u001b[0m Trial 124 finished with value: 0.7932236584410498 and parameters: {'n_neighbors': 28, 'leaf_size': 727, 'p': 1}. Best is trial 52 with value: 0.7963523305914609.\u001b[0m\n"
     ]
    },
    {
     "data": {
      "text/plain": [
       "'score.mean(): '"
      ]
     },
     "metadata": {},
     "output_type": "display_data"
    },
    {
     "data": {
      "text/plain": [
       "array([0.74823737, 0.79289072, 0.84841363, 0.85223267, 0.72644928])"
      ]
     },
     "metadata": {},
     "output_type": "display_data"
    },
    {
     "name": "stderr",
     "output_type": "stream",
     "text": [
      "\u001b[32m[I 2023-04-16 12:29:45,907]\u001b[0m Trial 125 finished with value: 0.7936447316882099 and parameters: {'n_neighbors': 16, 'leaf_size': 749, 'p': 1}. Best is trial 52 with value: 0.7963523305914609.\u001b[0m\n"
     ]
    },
    {
     "data": {
      "text/plain": [
       "'score.mean(): '"
      ]
     },
     "metadata": {},
     "output_type": "display_data"
    },
    {
     "data": {
      "text/plain": [
       "array([0.73648649, 0.78877791, 0.85634548, 0.83666275, 0.73128019])"
      ]
     },
     "metadata": {},
     "output_type": "display_data"
    },
    {
     "name": "stderr",
     "output_type": "stream",
     "text": [
      "\u001b[32m[I 2023-04-16 12:29:45,956]\u001b[0m Trial 126 finished with value: 0.7899105627366498 and parameters: {'n_neighbors': 22, 'leaf_size': 769, 'p': 1}. Best is trial 52 with value: 0.7963523305914609.\u001b[0m\n"
     ]
    },
    {
     "data": {
      "text/plain": [
       "'score.mean(): '"
      ]
     },
     "metadata": {},
     "output_type": "display_data"
    },
    {
     "data": {
      "text/plain": [
       "array([0.72943596, 0.77555817, 0.83490012, 0.8560517 , 0.71256039])"
      ]
     },
     "metadata": {},
     "output_type": "display_data"
    },
    {
     "name": "stderr",
     "output_type": "stream",
     "text": [
      "\u001b[32m[I 2023-04-16 12:29:46,003]\u001b[0m Trial 127 finished with value: 0.7817012664838753 and parameters: {'n_neighbors': 9, 'leaf_size': 679, 'p': 1}. Best is trial 52 with value: 0.7963523305914609.\u001b[0m\n"
     ]
    },
    {
     "data": {
      "text/plain": [
       "'score.mean(): '"
      ]
     },
     "metadata": {},
     "output_type": "display_data"
    },
    {
     "data": {
      "text/plain": [
       "array([0.75058754, 0.7993537 , 0.84988249, 0.84106933, 0.73278986])"
      ]
     },
     "metadata": {},
     "output_type": "display_data"
    },
    {
     "name": "stderr",
     "output_type": "stream",
     "text": [
      "\u001b[32m[I 2023-04-16 12:29:46,067]\u001b[0m Trial 128 finished with value: 0.7947365844104974 and parameters: {'n_neighbors': 25, 'leaf_size': 722, 'p': 1}. Best is trial 52 with value: 0.7963523305914609.\u001b[0m\n"
     ]
    },
    {
     "data": {
      "text/plain": [
       "'score.mean(): '"
      ]
     },
     "metadata": {},
     "output_type": "display_data"
    },
    {
     "data": {
      "text/plain": [
       "array([0.75969448, 0.79289072, 0.84753231, 0.84694477, 0.73399758])"
      ]
     },
     "metadata": {},
     "output_type": "display_data"
    },
    {
     "name": "stderr",
     "output_type": "stream",
     "text": [
      "\u001b[32m[I 2023-04-16 12:29:46,122]\u001b[0m Trial 129 finished with value: 0.7962119728424077 and parameters: {'n_neighbors': 15, 'leaf_size': 757, 'p': 1}. Best is trial 52 with value: 0.7963523305914609.\u001b[0m\n"
     ]
    },
    {
     "data": {
      "text/plain": [
       "'score.mean(): '"
      ]
     },
     "metadata": {},
     "output_type": "display_data"
    },
    {
     "data": {
      "text/plain": [
       "array([0.73178613, 0.78907168, 0.84077556, 0.83548766, 0.72161836])"
      ]
     },
     "metadata": {},
     "output_type": "display_data"
    },
    {
     "name": "stderr",
     "output_type": "stream",
     "text": [
      "\u001b[32m[I 2023-04-16 12:29:46,178]\u001b[0m Trial 130 finished with value: 0.7837478783130957 and parameters: {'n_neighbors': 19, 'leaf_size': 766, 'p': 1}. Best is trial 52 with value: 0.7963523305914609.\u001b[0m\n"
     ]
    },
    {
     "data": {
      "text/plain": [
       "'score.mean(): '"
      ]
     },
     "metadata": {},
     "output_type": "display_data"
    },
    {
     "data": {
      "text/plain": [
       "array([0.75969448, 0.79289072, 0.84753231, 0.84694477, 0.73399758])"
      ]
     },
     "metadata": {},
     "output_type": "display_data"
    },
    {
     "name": "stderr",
     "output_type": "stream",
     "text": [
      "\u001b[32m[I 2023-04-16 12:29:46,233]\u001b[0m Trial 131 finished with value: 0.7962119728424077 and parameters: {'n_neighbors': 15, 'leaf_size': 739, 'p': 1}. Best is trial 52 with value: 0.7963523305914609.\u001b[0m\n"
     ]
    },
    {
     "data": {
      "text/plain": [
       "'score.mean(): '"
      ]
     },
     "metadata": {},
     "output_type": "display_data"
    },
    {
     "data": {
      "text/plain": [
       "array([0.7027027 , 0.71768508, 0.77908343, 0.82784959, 0.6884058 ])"
      ]
     },
     "metadata": {},
     "output_type": "display_data"
    },
    {
     "name": "stderr",
     "output_type": "stream",
     "text": [
      "\u001b[32m[I 2023-04-16 12:29:46,274]\u001b[0m Trial 132 finished with value: 0.7431453192322757 and parameters: {'n_neighbors': 4, 'leaf_size': 713, 'p': 1}. Best is trial 52 with value: 0.7963523305914609.\u001b[0m\n"
     ]
    },
    {
     "data": {
      "text/plain": [
       "'score.mean(): '"
      ]
     },
     "metadata": {},
     "output_type": "display_data"
    },
    {
     "data": {
      "text/plain": [
       "array([0.76116334, 0.7846651 , 0.85047004, 0.84900118, 0.73520531])"
      ]
     },
     "metadata": {},
     "output_type": "display_data"
    },
    {
     "name": "stderr",
     "output_type": "stream",
     "text": [
      "\u001b[32m[I 2023-04-16 12:29:46,332]\u001b[0m Trial 133 finished with value: 0.7961009922966447 and parameters: {'n_neighbors': 14, 'leaf_size': 788, 'p': 1}. Best is trial 52 with value: 0.7963523305914609.\u001b[0m\n"
     ]
    },
    {
     "data": {
      "text/plain": [
       "'score.mean(): '"
      ]
     },
     "metadata": {},
     "output_type": "display_data"
    },
    {
     "data": {
      "text/plain": [
       "array([0.73354877, 0.76086957, 0.87837838, 0.81815511, 0.73460145])"
      ]
     },
     "metadata": {},
     "output_type": "display_data"
    },
    {
     "name": "stderr",
     "output_type": "stream",
     "text": [
      "\u001b[32m[I 2023-04-16 12:29:46,386]\u001b[0m Trial 134 finished with value: 0.7851106541323933 and parameters: {'n_neighbors': 79, 'leaf_size': 693, 'p': 1}. Best is trial 52 with value: 0.7963523305914609.\u001b[0m\n"
     ]
    },
    {
     "data": {
      "text/plain": [
       "'score.mean(): '"
      ]
     },
     "metadata": {},
     "output_type": "display_data"
    },
    {
     "data": {
      "text/plain": [
       "array([0.74412456, 0.78848414, 0.84165687, 0.84547591, 0.73550725])"
      ]
     },
     "metadata": {},
     "output_type": "display_data"
    },
    {
     "name": "stderr",
     "output_type": "stream",
     "text": [
      "\u001b[32m[I 2023-04-16 12:29:46,435]\u001b[0m Trial 135 finished with value: 0.7910497453975716 and parameters: {'n_neighbors': 11, 'leaf_size': 734, 'p': 1}. Best is trial 52 with value: 0.7963523305914609.\u001b[0m\n"
     ]
    },
    {
     "data": {
      "text/plain": [
       "'score.mean(): '"
      ]
     },
     "metadata": {},
     "output_type": "display_data"
    },
    {
     "data": {
      "text/plain": [
       "array([0.73354877, 0.78495887, 0.83225617, 0.83607521, 0.7201087 ])"
      ]
     },
     "metadata": {},
     "output_type": "display_data"
    },
    {
     "name": "stderr",
     "output_type": "stream",
     "text": [
      "\u001b[32m[I 2023-04-16 12:29:46,486]\u001b[0m Trial 136 finished with value: 0.7813895417156287 and parameters: {'n_neighbors': 18, 'leaf_size': 660, 'p': 1}. Best is trial 52 with value: 0.7963523305914609.\u001b[0m\n"
     ]
    },
    {
     "data": {
      "text/plain": [
       "'score.mean(): '"
      ]
     },
     "metadata": {},
     "output_type": "display_data"
    },
    {
     "data": {
      "text/plain": [
       "array([0.75      , 0.78613396, 0.85340776, 0.84224442, 0.73097826])"
      ]
     },
     "metadata": {},
     "output_type": "display_data"
    },
    {
     "name": "stderr",
     "output_type": "stream",
     "text": [
      "\u001b[32m[I 2023-04-16 12:29:46,536]\u001b[0m Trial 137 finished with value: 0.7925528789659225 and parameters: {'n_neighbors': 24, 'leaf_size': 756, 'p': 1}. Best is trial 52 with value: 0.7963523305914609.\u001b[0m\n"
     ]
    },
    {
     "data": {
      "text/plain": [
       "'score.mean(): '"
      ]
     },
     "metadata": {},
     "output_type": "display_data"
    },
    {
     "data": {
      "text/plain": [
       "array([0.73707403, 0.76410106, 0.82520564, 0.84753231, 0.71437198])"
      ]
     },
     "metadata": {},
     "output_type": "display_data"
    },
    {
     "name": "stderr",
     "output_type": "stream",
     "text": [
      "\u001b[32m[I 2023-04-16 12:29:46,580]\u001b[0m Trial 138 finished with value: 0.7776570048309179 and parameters: {'n_neighbors': 7, 'leaf_size': 771, 'p': 1}. Best is trial 52 with value: 0.7963523305914609.\u001b[0m\n"
     ]
    },
    {
     "data": {
      "text/plain": [
       "'score.mean(): '"
      ]
     },
     "metadata": {},
     "output_type": "display_data"
    },
    {
     "data": {
      "text/plain": [
       "array([0.56139835, 0.64776733, 0.653349  , 0.7153349 , 0.54045894])"
      ]
     },
     "metadata": {},
     "output_type": "display_data"
    },
    {
     "name": "stderr",
     "output_type": "stream",
     "text": [
      "\u001b[32m[I 2023-04-16 12:29:46,629]\u001b[0m Trial 139 finished with value: 0.6236617051834443 and parameters: {'n_neighbors': 1, 'leaf_size': 458, 'p': 1}. Best is trial 52 with value: 0.7963523305914609.\u001b[0m\n"
     ]
    },
    {
     "data": {
      "text/plain": [
       "'score.mean(): '"
      ]
     },
     "metadata": {},
     "output_type": "display_data"
    },
    {
     "data": {
      "text/plain": [
       "array([0.73560517, 0.80552291, 0.84312573, 0.85047004, 0.73369565])"
      ]
     },
     "metadata": {},
     "output_type": "display_data"
    },
    {
     "name": "stderr",
     "output_type": "stream",
     "text": [
      "\u001b[32m[I 2023-04-16 12:29:46,687]\u001b[0m Trial 140 finished with value: 0.7936839012925969 and parameters: {'n_neighbors': 29, 'leaf_size': 800, 'p': 1}. Best is trial 52 with value: 0.7963523305914609.\u001b[0m\n"
     ]
    },
    {
     "data": {
      "text/plain": [
       "'score.mean(): '"
      ]
     },
     "metadata": {},
     "output_type": "display_data"
    },
    {
     "data": {
      "text/plain": [
       "array([0.75969448, 0.79289072, 0.84753231, 0.84694477, 0.73399758])"
      ]
     },
     "metadata": {},
     "output_type": "display_data"
    },
    {
     "name": "stderr",
     "output_type": "stream",
     "text": [
      "\u001b[32m[I 2023-04-16 12:29:46,734]\u001b[0m Trial 141 finished with value: 0.7962119728424077 and parameters: {'n_neighbors': 15, 'leaf_size': 740, 'p': 1}. Best is trial 52 with value: 0.7963523305914609.\u001b[0m\n"
     ]
    },
    {
     "data": {
      "text/plain": [
       "'score.mean(): '"
      ]
     },
     "metadata": {},
     "output_type": "display_data"
    },
    {
     "data": {
      "text/plain": [
       "array([0.75969448, 0.79289072, 0.84753231, 0.84694477, 0.73399758])"
      ]
     },
     "metadata": {},
     "output_type": "display_data"
    },
    {
     "name": "stderr",
     "output_type": "stream",
     "text": [
      "\u001b[32m[I 2023-04-16 12:29:46,785]\u001b[0m Trial 142 finished with value: 0.7962119728424077 and parameters: {'n_neighbors': 15, 'leaf_size': 741, 'p': 1}. Best is trial 52 with value: 0.7963523305914609.\u001b[0m\n"
     ]
    },
    {
     "data": {
      "text/plain": [
       "'score.mean(): '"
      ]
     },
     "metadata": {},
     "output_type": "display_data"
    },
    {
     "data": {
      "text/plain": [
       "array([0.73178613, 0.78907168, 0.84077556, 0.83548766, 0.72161836])"
      ]
     },
     "metadata": {},
     "output_type": "display_data"
    },
    {
     "name": "stderr",
     "output_type": "stream",
     "text": [
      "\u001b[32m[I 2023-04-16 12:29:46,833]\u001b[0m Trial 143 finished with value: 0.7837478783130957 and parameters: {'n_neighbors': 19, 'leaf_size': 707, 'p': 1}. Best is trial 52 with value: 0.7963523305914609.\u001b[0m\n"
     ]
    },
    {
     "data": {
      "text/plain": [
       "'score.mean(): '"
      ]
     },
     "metadata": {},
     "output_type": "display_data"
    },
    {
     "data": {
      "text/plain": [
       "array([0.73472385, 0.77761457, 0.83783784, 0.84958872, 0.72071256])"
      ]
     },
     "metadata": {},
     "output_type": "display_data"
    },
    {
     "name": "stderr",
     "output_type": "stream",
     "text": [
      "\u001b[32m[I 2023-04-16 12:29:46,886]\u001b[0m Trial 144 finished with value: 0.7840955085520303 and parameters: {'n_neighbors': 10, 'leaf_size': 740, 'p': 1}. Best is trial 52 with value: 0.7963523305914609.\u001b[0m\n"
     ]
    },
    {
     "data": {
      "text/plain": [
       "'score.mean(): '"
      ]
     },
     "metadata": {},
     "output_type": "display_data"
    },
    {
     "data": {
      "text/plain": [
       "array([0.73971798, 0.78349001, 0.85987074, 0.84518214, 0.73067633])"
      ]
     },
     "metadata": {},
     "output_type": "display_data"
    },
    {
     "name": "stderr",
     "output_type": "stream",
     "text": [
      "\u001b[32m[I 2023-04-16 12:29:46,938]\u001b[0m Trial 145 finished with value: 0.7917874396135265 and parameters: {'n_neighbors': 23, 'leaf_size': 506, 'p': 1}. Best is trial 52 with value: 0.7963523305914609.\u001b[0m\n"
     ]
    },
    {
     "data": {
      "text/plain": [
       "'score.mean(): '"
      ]
     },
     "metadata": {},
     "output_type": "display_data"
    },
    {
     "data": {
      "text/plain": [
       "array([0.75969448, 0.79289072, 0.84753231, 0.84694477, 0.73399758])"
      ]
     },
     "metadata": {},
     "output_type": "display_data"
    },
    {
     "name": "stderr",
     "output_type": "stream",
     "text": [
      "\u001b[32m[I 2023-04-16 12:29:46,996]\u001b[0m Trial 146 finished with value: 0.7962119728424077 and parameters: {'n_neighbors': 15, 'leaf_size': 724, 'p': 1}. Best is trial 52 with value: 0.7963523305914609.\u001b[0m\n"
     ]
    },
    {
     "data": {
      "text/plain": [
       "'score.mean(): '"
      ]
     },
     "metadata": {},
     "output_type": "display_data"
    },
    {
     "data": {
      "text/plain": [
       "array([0.74206816, 0.78877791, 0.84753231, 0.84371328, 0.72584541])"
      ]
     },
     "metadata": {},
     "output_type": "display_data"
    },
    {
     "name": "stderr",
     "output_type": "stream",
     "text": [
      "\u001b[32m[I 2023-04-16 12:29:47,043]\u001b[0m Trial 147 finished with value: 0.789587413500457 and parameters: {'n_neighbors': 17, 'leaf_size': 732, 'p': 1}. Best is trial 52 with value: 0.7963523305914609.\u001b[0m\n"
     ]
    },
    {
     "data": {
      "text/plain": [
       "'score.mean(): '"
      ]
     },
     "metadata": {},
     "output_type": "display_data"
    },
    {
     "data": {
      "text/plain": [
       "array([0.74030552, 0.74882491, 0.89659224, 0.806698  , 0.73671498])"
      ]
     },
     "metadata": {},
     "output_type": "display_data"
    },
    {
     "name": "stderr",
     "output_type": "stream",
     "text": [
      "\u001b[32m[I 2023-04-16 12:29:47,139]\u001b[0m Trial 148 finished with value: 0.7858271314793054 and parameters: {'n_neighbors': 154, 'leaf_size': 780, 'p': 1}. Best is trial 52 with value: 0.7963523305914609.\u001b[0m\n"
     ]
    },
    {
     "data": {
      "text/plain": [
       "'score.mean(): '"
      ]
     },
     "metadata": {},
     "output_type": "display_data"
    },
    {
     "data": {
      "text/plain": [
       "array([0.72473561, 0.74559342, 0.79112808, 0.8487074 , 0.71135266])"
      ]
     },
     "metadata": {},
     "output_type": "display_data"
    },
    {
     "name": "stderr",
     "output_type": "stream",
     "text": [
      "\u001b[32m[I 2023-04-16 12:29:47,198]\u001b[0m Trial 149 finished with value: 0.7643034338686514 and parameters: {'n_neighbors': 5, 'leaf_size': 688, 'p': 1}. Best is trial 52 with value: 0.7963523305914609.\u001b[0m\n"
     ]
    },
    {
     "data": {
      "text/plain": [
       "'score.mean(): '"
      ]
     },
     "metadata": {},
     "output_type": "display_data"
    },
    {
     "data": {
      "text/plain": [
       "array([0.73472385, 0.77761457, 0.83783784, 0.84958872, 0.72071256])"
      ]
     },
     "metadata": {},
     "output_type": "display_data"
    },
    {
     "name": "stderr",
     "output_type": "stream",
     "text": [
      "\u001b[32m[I 2023-04-16 12:29:47,249]\u001b[0m Trial 150 finished with value: 0.7840955085520303 and parameters: {'n_neighbors': 10, 'leaf_size': 720, 'p': 1}. Best is trial 52 with value: 0.7963523305914609.\u001b[0m\n"
     ]
    },
    {
     "data": {
      "text/plain": [
       "'score.mean(): '"
      ]
     },
     "metadata": {},
     "output_type": "display_data"
    },
    {
     "data": {
      "text/plain": [
       "array([0.75969448, 0.79289072, 0.84753231, 0.84694477, 0.73399758])"
      ]
     },
     "metadata": {},
     "output_type": "display_data"
    },
    {
     "name": "stderr",
     "output_type": "stream",
     "text": [
      "\u001b[32m[I 2023-04-16 12:29:47,305]\u001b[0m Trial 151 finished with value: 0.7962119728424077 and parameters: {'n_neighbors': 15, 'leaf_size': 706, 'p': 1}. Best is trial 52 with value: 0.7963523305914609.\u001b[0m\n"
     ]
    },
    {
     "data": {
      "text/plain": [
       "'score.mean(): '"
      ]
     },
     "metadata": {},
     "output_type": "display_data"
    },
    {
     "data": {
      "text/plain": [
       "array([0.73971798, 0.79700353, 0.85517039, 0.84253819, 0.72342995])"
      ]
     },
     "metadata": {},
     "output_type": "display_data"
    },
    {
     "name": "stderr",
     "output_type": "stream",
     "text": [
      "\u001b[32m[I 2023-04-16 12:29:47,358]\u001b[0m Trial 152 finished with value: 0.7915720067893981 and parameters: {'n_neighbors': 21, 'leaf_size': 765, 'p': 1}. Best is trial 52 with value: 0.7963523305914609.\u001b[0m\n"
     ]
    },
    {
     "data": {
      "text/plain": [
       "'score.mean(): '"
      ]
     },
     "metadata": {},
     "output_type": "display_data"
    },
    {
     "data": {
      "text/plain": [
       "array([0.74823737, 0.79289072, 0.84841363, 0.85223267, 0.72644928])"
      ]
     },
     "metadata": {},
     "output_type": "display_data"
    },
    {
     "name": "stderr",
     "output_type": "stream",
     "text": [
      "\u001b[32m[I 2023-04-16 12:29:47,402]\u001b[0m Trial 153 finished with value: 0.7936447316882099 and parameters: {'n_neighbors': 16, 'leaf_size': 740, 'p': 1}. Best is trial 52 with value: 0.7963523305914609.\u001b[0m\n"
     ]
    },
    {
     "data": {
      "text/plain": [
       "'score.mean(): '"
      ]
     },
     "metadata": {},
     "output_type": "display_data"
    },
    {
     "data": {
      "text/plain": [
       "array([0.74529965, 0.79612221, 0.84430082, 0.84606345, 0.73913043])"
      ]
     },
     "metadata": {},
     "output_type": "display_data"
    },
    {
     "name": "stderr",
     "output_type": "stream",
     "text": [
      "\u001b[32m[I 2023-04-16 12:29:47,452]\u001b[0m Trial 154 finished with value: 0.7941833137485312 and parameters: {'n_neighbors': 26, 'leaf_size': 678, 'p': 1}. Best is trial 52 with value: 0.7963523305914609.\u001b[0m\n"
     ]
    },
    {
     "data": {
      "text/plain": [
       "'score.mean(): '"
      ]
     },
     "metadata": {},
     "output_type": "display_data"
    },
    {
     "data": {
      "text/plain": [
       "array([0.74412456, 0.78848414, 0.84165687, 0.84547591, 0.73550725])"
      ]
     },
     "metadata": {},
     "output_type": "display_data"
    },
    {
     "name": "stderr",
     "output_type": "stream",
     "text": [
      "\u001b[32m[I 2023-04-16 12:29:47,504]\u001b[0m Trial 155 finished with value: 0.7910497453975716 and parameters: {'n_neighbors': 11, 'leaf_size': 753, 'p': 1}. Best is trial 52 with value: 0.7963523305914609.\u001b[0m\n"
     ]
    },
    {
     "data": {
      "text/plain": [
       "'score.mean(): '"
      ]
     },
     "metadata": {},
     "output_type": "display_data"
    },
    {
     "data": {
      "text/plain": [
       "array([0.73707403, 0.76410106, 0.82520564, 0.84753231, 0.71437198])"
      ]
     },
     "metadata": {},
     "output_type": "display_data"
    },
    {
     "name": "stderr",
     "output_type": "stream",
     "text": [
      "\u001b[32m[I 2023-04-16 12:29:47,554]\u001b[0m Trial 156 finished with value: 0.7776570048309179 and parameters: {'n_neighbors': 7, 'leaf_size': 698, 'p': 1}. Best is trial 52 with value: 0.7963523305914609.\u001b[0m\n"
     ]
    },
    {
     "data": {
      "text/plain": [
       "'score.mean(): '"
      ]
     },
     "metadata": {},
     "output_type": "display_data"
    },
    {
     "data": {
      "text/plain": [
       "array([0.70887192, 0.7226792 , 0.89277321, 0.78642773, 0.71859903])"
      ]
     },
     "metadata": {},
     "output_type": "display_data"
    },
    {
     "name": "stderr",
     "output_type": "stream",
     "text": [
      "\u001b[32m[I 2023-04-16 12:29:47,611]\u001b[0m Trial 157 finished with value: 0.765870218044131 and parameters: {'n_neighbors': 181, 'leaf_size': 785, 'p': 1}. Best is trial 52 with value: 0.7963523305914609.\u001b[0m\n"
     ]
    },
    {
     "data": {
      "text/plain": [
       "'score.mean(): '"
      ]
     },
     "metadata": {},
     "output_type": "display_data"
    },
    {
     "data": {
      "text/plain": [
       "array([0.74823737, 0.79289072, 0.84841363, 0.85223267, 0.72644928])"
      ]
     },
     "metadata": {},
     "output_type": "display_data"
    },
    {
     "name": "stderr",
     "output_type": "stream",
     "text": [
      "\u001b[32m[I 2023-04-16 12:29:47,669]\u001b[0m Trial 158 finished with value: 0.7936447316882099 and parameters: {'n_neighbors': 16, 'leaf_size': 729, 'p': 1}. Best is trial 52 with value: 0.7963523305914609.\u001b[0m\n"
     ]
    },
    {
     "data": {
      "text/plain": [
       "'score.mean(): '"
      ]
     },
     "metadata": {},
     "output_type": "display_data"
    },
    {
     "data": {
      "text/plain": [
       "array([0.74148061, 0.78965922, 0.85752056, 0.8413631 , 0.72161836])"
      ]
     },
     "metadata": {},
     "output_type": "display_data"
    },
    {
     "name": "stderr",
     "output_type": "stream",
     "text": [
      "\u001b[32m[I 2023-04-16 12:29:47,726]\u001b[0m Trial 159 finished with value: 0.7903283718501111 and parameters: {'n_neighbors': 20, 'leaf_size': 769, 'p': 1}. Best is trial 52 with value: 0.7963523305914609.\u001b[0m\n"
     ]
    },
    {
     "data": {
      "text/plain": [
       "'score.mean(): '"
      ]
     },
     "metadata": {},
     "output_type": "display_data"
    },
    {
     "data": {
      "text/plain": [
       "array([0.74882491, 0.77820212, 0.84224442, 0.8266745 , 0.73399758])"
      ]
     },
     "metadata": {},
     "output_type": "display_data"
    },
    {
     "name": "stderr",
     "output_type": "stream",
     "text": [
      "\u001b[32m[I 2023-04-16 12:29:47,781]\u001b[0m Trial 160 finished with value: 0.7859887060974018 and parameters: {'n_neighbors': 33, 'leaf_size': 714, 'p': 3}. Best is trial 52 with value: 0.7963523305914609.\u001b[0m\n"
     ]
    },
    {
     "data": {
      "text/plain": [
       "'score.mean(): '"
      ]
     },
     "metadata": {},
     "output_type": "display_data"
    },
    {
     "data": {
      "text/plain": [
       "array([0.76116334, 0.7846651 , 0.85047004, 0.84900118, 0.73520531])"
      ]
     },
     "metadata": {},
     "output_type": "display_data"
    },
    {
     "name": "stderr",
     "output_type": "stream",
     "text": [
      "\u001b[32m[I 2023-04-16 12:29:47,831]\u001b[0m Trial 161 finished with value: 0.7961009922966447 and parameters: {'n_neighbors': 14, 'leaf_size': 705, 'p': 1}. Best is trial 52 with value: 0.7963523305914609.\u001b[0m\n"
     ]
    },
    {
     "data": {
      "text/plain": [
       "'score.mean(): '"
      ]
     },
     "metadata": {},
     "output_type": "display_data"
    },
    {
     "data": {
      "text/plain": [
       "array([0.76116334, 0.7846651 , 0.85047004, 0.84900118, 0.73520531])"
      ]
     },
     "metadata": {},
     "output_type": "display_data"
    },
    {
     "name": "stderr",
     "output_type": "stream",
     "text": [
      "\u001b[32m[I 2023-04-16 12:29:47,881]\u001b[0m Trial 162 finished with value: 0.7961009922966447 and parameters: {'n_neighbors': 14, 'leaf_size': 744, 'p': 1}. Best is trial 52 with value: 0.7963523305914609.\u001b[0m\n"
     ]
    },
    {
     "data": {
      "text/plain": [
       "'score.mean(): '"
      ]
     },
     "metadata": {},
     "output_type": "display_data"
    },
    {
     "data": {
      "text/plain": [
       "array([0.73472385, 0.77761457, 0.83783784, 0.84958872, 0.72071256])"
      ]
     },
     "metadata": {},
     "output_type": "display_data"
    },
    {
     "name": "stderr",
     "output_type": "stream",
     "text": [
      "\u001b[32m[I 2023-04-16 12:29:47,930]\u001b[0m Trial 163 finished with value: 0.7840955085520303 and parameters: {'n_neighbors': 10, 'leaf_size': 719, 'p': 1}. Best is trial 52 with value: 0.7963523305914609.\u001b[0m\n"
     ]
    },
    {
     "data": {
      "text/plain": [
       "'score.mean(): '"
      ]
     },
     "metadata": {},
     "output_type": "display_data"
    },
    {
     "data": {
      "text/plain": [
       "array([0.73913043, 0.78437133, 0.86075206, 0.84165687, 0.72886473])"
      ]
     },
     "metadata": {},
     "output_type": "display_data"
    },
    {
     "name": "stderr",
     "output_type": "stream",
     "text": [
      "\u001b[32m[I 2023-04-16 12:29:47,984]\u001b[0m Trial 164 finished with value: 0.7909550855203029 and parameters: {'n_neighbors': 23, 'leaf_size': 46, 'p': 1}. Best is trial 52 with value: 0.7963523305914609.\u001b[0m\n"
     ]
    },
    {
     "data": {
      "text/plain": [
       "'score.mean(): '"
      ]
     },
     "metadata": {},
     "output_type": "display_data"
    },
    {
     "data": {
      "text/plain": [
       "array([0.72473561, 0.74559342, 0.79112808, 0.8487074 , 0.71135266])"
      ]
     },
     "metadata": {},
     "output_type": "display_data"
    },
    {
     "name": "stderr",
     "output_type": "stream",
     "text": [
      "\u001b[32m[I 2023-04-16 12:29:48,037]\u001b[0m Trial 165 finished with value: 0.7643034338686514 and parameters: {'n_neighbors': 5, 'leaf_size': 669, 'p': 1}. Best is trial 52 with value: 0.7963523305914609.\u001b[0m\n"
     ]
    },
    {
     "data": {
      "text/plain": [
       "'score.mean(): '"
      ]
     },
     "metadata": {},
     "output_type": "display_data"
    },
    {
     "data": {
      "text/plain": [
       "array([0.74206816, 0.78877791, 0.84753231, 0.84371328, 0.72584541])"
      ]
     },
     "metadata": {},
     "output_type": "display_data"
    },
    {
     "name": "stderr",
     "output_type": "stream",
     "text": [
      "\u001b[32m[I 2023-04-16 12:29:48,087]\u001b[0m Trial 166 finished with value: 0.789587413500457 and parameters: {'n_neighbors': 17, 'leaf_size': 756, 'p': 1}. Best is trial 52 with value: 0.7963523305914609.\u001b[0m\n"
     ]
    },
    {
     "data": {
      "text/plain": [
       "'score.mean(): '"
      ]
     },
     "metadata": {},
     "output_type": "display_data"
    },
    {
     "data": {
      "text/plain": [
       "array([0.74412456, 0.78848414, 0.84165687, 0.84547591, 0.73550725])"
      ]
     },
     "metadata": {},
     "output_type": "display_data"
    },
    {
     "name": "stderr",
     "output_type": "stream",
     "text": [
      "\u001b[32m[I 2023-04-16 12:29:48,132]\u001b[0m Trial 167 finished with value: 0.7910497453975716 and parameters: {'n_neighbors': 11, 'leaf_size': 690, 'p': 1}. Best is trial 52 with value: 0.7963523305914609.\u001b[0m\n"
     ]
    },
    {
     "data": {
      "text/plain": [
       "'score.mean(): '"
      ]
     },
     "metadata": {},
     "output_type": "display_data"
    },
    {
     "data": {
      "text/plain": [
       "array([0.74148061, 0.78965922, 0.85752056, 0.8413631 , 0.72161836])"
      ]
     },
     "metadata": {},
     "output_type": "display_data"
    },
    {
     "name": "stderr",
     "output_type": "stream",
     "text": [
      "\u001b[32m[I 2023-04-16 12:29:48,205]\u001b[0m Trial 168 finished with value: 0.7903283718501111 and parameters: {'n_neighbors': 20, 'leaf_size': 789, 'p': 1}. Best is trial 52 with value: 0.7963523305914609.\u001b[0m\n"
     ]
    },
    {
     "data": {
      "text/plain": [
       "'score.mean(): '"
      ]
     },
     "metadata": {},
     "output_type": "display_data"
    },
    {
     "data": {
      "text/plain": [
       "array([0.74559342, 0.8046416 , 0.8413631 , 0.85017626, 0.73128019])"
      ]
     },
     "metadata": {},
     "output_type": "display_data"
    },
    {
     "name": "stderr",
     "output_type": "stream",
     "text": [
      "\u001b[32m[I 2023-04-16 12:29:48,248]\u001b[0m Trial 169 finished with value: 0.7946109152630891 and parameters: {'n_neighbors': 27, 'leaf_size': 736, 'p': 1}. Best is trial 52 with value: 0.7963523305914609.\u001b[0m\n"
     ]
    },
    {
     "data": {
      "text/plain": [
       "'score.mean(): '"
      ]
     },
     "metadata": {},
     "output_type": "display_data"
    },
    {
     "data": {
      "text/plain": [
       "array([0.73707403, 0.76410106, 0.82520564, 0.84753231, 0.71437198])"
      ]
     },
     "metadata": {},
     "output_type": "display_data"
    },
    {
     "name": "stderr",
     "output_type": "stream",
     "text": [
      "\u001b[32m[I 2023-04-16 12:29:48,292]\u001b[0m Trial 170 finished with value: 0.7776570048309179 and parameters: {'n_neighbors': 7, 'leaf_size': 644, 'p': 1}. Best is trial 52 with value: 0.7963523305914609.\u001b[0m\n"
     ]
    },
    {
     "data": {
      "text/plain": [
       "'score.mean(): '"
      ]
     },
     "metadata": {},
     "output_type": "display_data"
    },
    {
     "data": {
      "text/plain": [
       "array([0.74294947, 0.78642773, 0.83901293, 0.84900118, 0.72705314])"
      ]
     },
     "metadata": {},
     "output_type": "display_data"
    },
    {
     "name": "stderr",
     "output_type": "stream",
     "text": [
      "\u001b[32m[I 2023-04-16 12:29:48,336]\u001b[0m Trial 171 finished with value: 0.7888888888888889 and parameters: {'n_neighbors': 13, 'leaf_size': 755, 'p': 1}. Best is trial 52 with value: 0.7963523305914609.\u001b[0m\n"
     ]
    },
    {
     "data": {
      "text/plain": [
       "'score.mean(): '"
      ]
     },
     "metadata": {},
     "output_type": "display_data"
    },
    {
     "data": {
      "text/plain": [
       "array([0.75969448, 0.79289072, 0.84753231, 0.84694477, 0.73399758])"
      ]
     },
     "metadata": {},
     "output_type": "display_data"
    },
    {
     "name": "stderr",
     "output_type": "stream",
     "text": [
      "\u001b[32m[I 2023-04-16 12:29:48,384]\u001b[0m Trial 172 finished with value: 0.7962119728424077 and parameters: {'n_neighbors': 15, 'leaf_size': 766, 'p': 1}. Best is trial 52 with value: 0.7963523305914609.\u001b[0m\n"
     ]
    },
    {
     "data": {
      "text/plain": [
       "'score.mean(): '"
      ]
     },
     "metadata": {},
     "output_type": "display_data"
    },
    {
     "data": {
      "text/plain": [
       "array([0.74206816, 0.78877791, 0.84753231, 0.84371328, 0.72584541])"
      ]
     },
     "metadata": {},
     "output_type": "display_data"
    },
    {
     "name": "stderr",
     "output_type": "stream",
     "text": [
      "\u001b[32m[I 2023-04-16 12:29:48,432]\u001b[0m Trial 173 finished with value: 0.789587413500457 and parameters: {'n_neighbors': 17, 'leaf_size': 773, 'p': 1}. Best is trial 52 with value: 0.7963523305914609.\u001b[0m\n"
     ]
    },
    {
     "data": {
      "text/plain": [
       "'score.mean(): '"
      ]
     },
     "metadata": {},
     "output_type": "display_data"
    },
    {
     "data": {
      "text/plain": [
       "array([0.73971798, 0.78349001, 0.85987074, 0.84518214, 0.73067633])"
      ]
     },
     "metadata": {},
     "output_type": "display_data"
    },
    {
     "name": "stderr",
     "output_type": "stream",
     "text": [
      "\u001b[32m[I 2023-04-16 12:29:48,482]\u001b[0m Trial 174 finished with value: 0.7917874396135265 and parameters: {'n_neighbors': 23, 'leaf_size': 721, 'p': 1}. Best is trial 52 with value: 0.7963523305914609.\u001b[0m\n"
     ]
    },
    {
     "data": {
      "text/plain": [
       "'score.mean(): '"
      ]
     },
     "metadata": {},
     "output_type": "display_data"
    },
    {
     "data": {
      "text/plain": [
       "array([0.74294947, 0.78642773, 0.83901293, 0.84900118, 0.72705314])"
      ]
     },
     "metadata": {},
     "output_type": "display_data"
    },
    {
     "name": "stderr",
     "output_type": "stream",
     "text": [
      "\u001b[32m[I 2023-04-16 12:29:48,552]\u001b[0m Trial 175 finished with value: 0.7888888888888889 and parameters: {'n_neighbors': 13, 'leaf_size': 775, 'p': 1}. Best is trial 52 with value: 0.7963523305914609.\u001b[0m\n"
     ]
    },
    {
     "data": {
      "text/plain": [
       "'score.mean(): '"
      ]
     },
     "metadata": {},
     "output_type": "display_data"
    },
    {
     "data": {
      "text/plain": [
       "array([0.7027027 , 0.71768508, 0.77908343, 0.82784959, 0.6884058 ])"
      ]
     },
     "metadata": {},
     "output_type": "display_data"
    },
    {
     "name": "stderr",
     "output_type": "stream",
     "text": [
      "\u001b[32m[I 2023-04-16 12:29:48,616]\u001b[0m Trial 176 finished with value: 0.7431453192322757 and parameters: {'n_neighbors': 4, 'leaf_size': 703, 'p': 1}. Best is trial 52 with value: 0.7963523305914609.\u001b[0m\n"
     ]
    },
    {
     "data": {
      "text/plain": [
       "'score.mean(): '"
      ]
     },
     "metadata": {},
     "output_type": "display_data"
    },
    {
     "data": {
      "text/plain": [
       "array([0.74148061, 0.78965922, 0.85752056, 0.8413631 , 0.72161836])"
      ]
     },
     "metadata": {},
     "output_type": "display_data"
    },
    {
     "name": "stderr",
     "output_type": "stream",
     "text": [
      "\u001b[32m[I 2023-04-16 12:29:48,680]\u001b[0m Trial 177 finished with value: 0.7903283718501111 and parameters: {'n_neighbors': 20, 'leaf_size': 224, 'p': 1}. Best is trial 52 with value: 0.7963523305914609.\u001b[0m\n"
     ]
    },
    {
     "data": {
      "text/plain": [
       "'score.mean(): '"
      ]
     },
     "metadata": {},
     "output_type": "display_data"
    },
    {
     "data": {
      "text/plain": [
       "array([0.72943596, 0.77555817, 0.83490012, 0.8560517 , 0.71256039])"
      ]
     },
     "metadata": {},
     "output_type": "display_data"
    },
    {
     "name": "stderr",
     "output_type": "stream",
     "text": [
      "\u001b[32m[I 2023-04-16 12:29:48,727]\u001b[0m Trial 178 finished with value: 0.7817012664838753 and parameters: {'n_neighbors': 9, 'leaf_size': 742, 'p': 1}. Best is trial 52 with value: 0.7963523305914609.\u001b[0m\n"
     ]
    },
    {
     "data": {
      "text/plain": [
       "'score.mean(): '"
      ]
     },
     "metadata": {},
     "output_type": "display_data"
    },
    {
     "data": {
      "text/plain": [
       "array([0.74823737, 0.79289072, 0.84841363, 0.85223267, 0.72644928])"
      ]
     },
     "metadata": {},
     "output_type": "display_data"
    },
    {
     "name": "stderr",
     "output_type": "stream",
     "text": [
      "\u001b[32m[I 2023-04-16 12:29:48,774]\u001b[0m Trial 179 finished with value: 0.7936447316882099 and parameters: {'n_neighbors': 16, 'leaf_size': 798, 'p': 1}. Best is trial 52 with value: 0.7963523305914609.\u001b[0m\n"
     ]
    },
    {
     "data": {
      "text/plain": [
       "'score.mean(): '"
      ]
     },
     "metadata": {},
     "output_type": "display_data"
    },
    {
     "data": {
      "text/plain": [
       "array([0.74559342, 0.78172738, 0.83431257, 0.84958872, 0.73128019])"
      ]
     },
     "metadata": {},
     "output_type": "display_data"
    },
    {
     "name": "stderr",
     "output_type": "stream",
     "text": [
      "\u001b[32m[I 2023-04-16 12:29:48,818]\u001b[0m Trial 180 finished with value: 0.7885004569787177 and parameters: {'n_neighbors': 12, 'leaf_size': 543, 'p': 1}. Best is trial 52 with value: 0.7963523305914609.\u001b[0m\n"
     ]
    },
    {
     "data": {
      "text/plain": [
       "'score.mean(): '"
      ]
     },
     "metadata": {},
     "output_type": "display_data"
    },
    {
     "data": {
      "text/plain": [
       "array([0.75969448, 0.79289072, 0.84753231, 0.84694477, 0.73399758])"
      ]
     },
     "metadata": {},
     "output_type": "display_data"
    },
    {
     "name": "stderr",
     "output_type": "stream",
     "text": [
      "\u001b[32m[I 2023-04-16 12:29:48,862]\u001b[0m Trial 181 finished with value: 0.7962119728424077 and parameters: {'n_neighbors': 15, 'leaf_size': 755, 'p': 1}. Best is trial 52 with value: 0.7963523305914609.\u001b[0m\n"
     ]
    },
    {
     "data": {
      "text/plain": [
       "'score.mean(): '"
      ]
     },
     "metadata": {},
     "output_type": "display_data"
    },
    {
     "data": {
      "text/plain": [
       "array([0.73354877, 0.78495887, 0.83225617, 0.83607521, 0.7201087 ])"
      ]
     },
     "metadata": {},
     "output_type": "display_data"
    },
    {
     "name": "stderr",
     "output_type": "stream",
     "text": [
      "\u001b[32m[I 2023-04-16 12:29:48,906]\u001b[0m Trial 182 finished with value: 0.7813895417156287 and parameters: {'n_neighbors': 18, 'leaf_size': 760, 'p': 1}. Best is trial 52 with value: 0.7963523305914609.\u001b[0m\n"
     ]
    },
    {
     "data": {
      "text/plain": [
       "'score.mean(): '"
      ]
     },
     "metadata": {},
     "output_type": "display_data"
    },
    {
     "data": {
      "text/plain": [
       "array([0.7153349 , 0.77555817, 0.84106933, 0.8592832 , 0.71135266])"
      ]
     },
     "metadata": {},
     "output_type": "display_data"
    },
    {
     "name": "stderr",
     "output_type": "stream",
     "text": [
      "\u001b[32m[I 2023-04-16 12:29:48,953]\u001b[0m Trial 183 finished with value: 0.7805196500848675 and parameters: {'n_neighbors': 8, 'leaf_size': 730, 'p': 1}. Best is trial 52 with value: 0.7963523305914609.\u001b[0m\n"
     ]
    },
    {
     "data": {
      "text/plain": [
       "'score.mean(): '"
      ]
     },
     "metadata": {},
     "output_type": "display_data"
    },
    {
     "data": {
      "text/plain": [
       "array([0.76116334, 0.7846651 , 0.85047004, 0.84900118, 0.73520531])"
      ]
     },
     "metadata": {},
     "output_type": "display_data"
    },
    {
     "name": "stderr",
     "output_type": "stream",
     "text": [
      "\u001b[32m[I 2023-04-16 12:29:49,015]\u001b[0m Trial 184 finished with value: 0.7961009922966447 and parameters: {'n_neighbors': 14, 'leaf_size': 782, 'p': 1}. Best is trial 52 with value: 0.7963523305914609.\u001b[0m\n"
     ]
    },
    {
     "data": {
      "text/plain": [
       "'score.mean(): '"
      ]
     },
     "metadata": {},
     "output_type": "display_data"
    },
    {
     "data": {
      "text/plain": [
       "array([0.75      , 0.78613396, 0.85340776, 0.84224442, 0.73097826])"
      ]
     },
     "metadata": {},
     "output_type": "display_data"
    },
    {
     "name": "stderr",
     "output_type": "stream",
     "text": [
      "\u001b[32m[I 2023-04-16 12:29:49,063]\u001b[0m Trial 185 finished with value: 0.7925528789659225 and parameters: {'n_neighbors': 24, 'leaf_size': 751, 'p': 1}. Best is trial 52 with value: 0.7963523305914609.\u001b[0m\n"
     ]
    },
    {
     "data": {
      "text/plain": [
       "'score.mean(): '"
      ]
     },
     "metadata": {},
     "output_type": "display_data"
    },
    {
     "data": {
      "text/plain": [
       "array([0.56139835, 0.64776733, 0.653349  , 0.7153349 , 0.54045894])"
      ]
     },
     "metadata": {},
     "output_type": "display_data"
    },
    {
     "name": "stderr",
     "output_type": "stream",
     "text": [
      "\u001b[32m[I 2023-04-16 12:29:49,109]\u001b[0m Trial 186 finished with value: 0.6236617051834443 and parameters: {'n_neighbors': 1, 'leaf_size': 710, 'p': 1}. Best is trial 52 with value: 0.7963523305914609.\u001b[0m\n"
     ]
    },
    {
     "data": {
      "text/plain": [
       "'score.mean(): '"
      ]
     },
     "metadata": {},
     "output_type": "display_data"
    },
    {
     "data": {
      "text/plain": [
       "array([0.74148061, 0.78965922, 0.85752056, 0.8413631 , 0.72161836])"
      ]
     },
     "metadata": {},
     "output_type": "display_data"
    },
    {
     "name": "stderr",
     "output_type": "stream",
     "text": [
      "\u001b[32m[I 2023-04-16 12:29:49,160]\u001b[0m Trial 187 finished with value: 0.7903283718501111 and parameters: {'n_neighbors': 20, 'leaf_size': 731, 'p': 1}. Best is trial 52 with value: 0.7963523305914609.\u001b[0m\n"
     ]
    },
    {
     "data": {
      "text/plain": [
       "'score.mean(): '"
      ]
     },
     "metadata": {},
     "output_type": "display_data"
    },
    {
     "data": {
      "text/plain": [
       "array([0.74412456, 0.78848414, 0.84165687, 0.84547591, 0.73550725])"
      ]
     },
     "metadata": {},
     "output_type": "display_data"
    },
    {
     "name": "stderr",
     "output_type": "stream",
     "text": [
      "\u001b[32m[I 2023-04-16 12:29:49,207]\u001b[0m Trial 188 finished with value: 0.7910497453975716 and parameters: {'n_neighbors': 11, 'leaf_size': 776, 'p': 1}. Best is trial 52 with value: 0.7963523305914609.\u001b[0m\n"
     ]
    },
    {
     "data": {
      "text/plain": [
       "'score.mean(): '"
      ]
     },
     "metadata": {},
     "output_type": "display_data"
    },
    {
     "data": {
      "text/plain": [
       "array([0.74823737, 0.79289072, 0.84841363, 0.85223267, 0.72644928])"
      ]
     },
     "metadata": {},
     "output_type": "display_data"
    },
    {
     "name": "stderr",
     "output_type": "stream",
     "text": [
      "\u001b[32m[I 2023-04-16 12:29:49,256]\u001b[0m Trial 189 finished with value: 0.7936447316882099 and parameters: {'n_neighbors': 16, 'leaf_size': 764, 'p': 1}. Best is trial 52 with value: 0.7963523305914609.\u001b[0m\n"
     ]
    },
    {
     "data": {
      "text/plain": [
       "'score.mean(): '"
      ]
     },
     "metadata": {},
     "output_type": "display_data"
    },
    {
     "data": {
      "text/plain": [
       "array([0.73266745, 0.76233843, 0.82373678, 0.85076381, 0.7071256 ])"
      ]
     },
     "metadata": {},
     "output_type": "display_data"
    },
    {
     "name": "stderr",
     "output_type": "stream",
     "text": [
      "\u001b[32m[I 2023-04-16 12:29:49,307]\u001b[0m Trial 190 finished with value: 0.7753264133698916 and parameters: {'n_neighbors': 6, 'leaf_size': 741, 'p': 1}. Best is trial 52 with value: 0.7963523305914609.\u001b[0m\n"
     ]
    },
    {
     "data": {
      "text/plain": [
       "'score.mean(): '"
      ]
     },
     "metadata": {},
     "output_type": "display_data"
    },
    {
     "data": {
      "text/plain": [
       "array([0.76116334, 0.7846651 , 0.85047004, 0.84900118, 0.73520531])"
      ]
     },
     "metadata": {},
     "output_type": "display_data"
    },
    {
     "name": "stderr",
     "output_type": "stream",
     "text": [
      "\u001b[32m[I 2023-04-16 12:29:49,360]\u001b[0m Trial 191 finished with value: 0.7961009922966447 and parameters: {'n_neighbors': 14, 'leaf_size': 760, 'p': 1}. Best is trial 52 with value: 0.7963523305914609.\u001b[0m\n"
     ]
    },
    {
     "data": {
      "text/plain": [
       "'score.mean(): '"
      ]
     },
     "metadata": {},
     "output_type": "display_data"
    },
    {
     "data": {
      "text/plain": [
       "array([0.74148061, 0.78965922, 0.85752056, 0.8413631 , 0.72161836])"
      ]
     },
     "metadata": {},
     "output_type": "display_data"
    },
    {
     "name": "stderr",
     "output_type": "stream",
     "text": [
      "\u001b[32m[I 2023-04-16 12:29:49,406]\u001b[0m Trial 192 finished with value: 0.7903283718501111 and parameters: {'n_neighbors': 20, 'leaf_size': 720, 'p': 1}. Best is trial 52 with value: 0.7963523305914609.\u001b[0m\n"
     ]
    },
    {
     "data": {
      "text/plain": [
       "'score.mean(): '"
      ]
     },
     "metadata": {},
     "output_type": "display_data"
    },
    {
     "data": {
      "text/plain": [
       "array([0.73472385, 0.77761457, 0.83783784, 0.84958872, 0.72071256])"
      ]
     },
     "metadata": {},
     "output_type": "display_data"
    },
    {
     "name": "stderr",
     "output_type": "stream",
     "text": [
      "\u001b[32m[I 2023-04-16 12:29:49,464]\u001b[0m Trial 193 finished with value: 0.7840955085520303 and parameters: {'n_neighbors': 10, 'leaf_size': 745, 'p': 1}. Best is trial 52 with value: 0.7963523305914609.\u001b[0m\n"
     ]
    },
    {
     "data": {
      "text/plain": [
       "'score.mean(): '"
      ]
     },
     "metadata": {},
     "output_type": "display_data"
    },
    {
     "data": {
      "text/plain": [
       "array([0.75969448, 0.79289072, 0.84753231, 0.84694477, 0.73399758])"
      ]
     },
     "metadata": {},
     "output_type": "display_data"
    },
    {
     "name": "stderr",
     "output_type": "stream",
     "text": [
      "\u001b[32m[I 2023-04-16 12:29:49,516]\u001b[0m Trial 194 finished with value: 0.7962119728424077 and parameters: {'n_neighbors': 15, 'leaf_size': 790, 'p': 1}. Best is trial 52 with value: 0.7963523305914609.\u001b[0m\n"
     ]
    },
    {
     "data": {
      "text/plain": [
       "'score.mean(): '"
      ]
     },
     "metadata": {},
     "output_type": "display_data"
    },
    {
     "data": {
      "text/plain": [
       "array([0.74206816, 0.78877791, 0.84753231, 0.84371328, 0.72584541])"
      ]
     },
     "metadata": {},
     "output_type": "display_data"
    },
    {
     "name": "stderr",
     "output_type": "stream",
     "text": [
      "\u001b[32m[I 2023-04-16 12:29:49,565]\u001b[0m Trial 195 finished with value: 0.789587413500457 and parameters: {'n_neighbors': 17, 'leaf_size': 800, 'p': 1}. Best is trial 52 with value: 0.7963523305914609.\u001b[0m\n"
     ]
    },
    {
     "data": {
      "text/plain": [
       "'score.mean(): '"
      ]
     },
     "metadata": {},
     "output_type": "display_data"
    },
    {
     "data": {
      "text/plain": [
       "array([0.75      , 0.78613396, 0.85340776, 0.84224442, 0.73097826])"
      ]
     },
     "metadata": {},
     "output_type": "display_data"
    },
    {
     "name": "stderr",
     "output_type": "stream",
     "text": [
      "\u001b[32m[I 2023-04-16 12:29:49,608]\u001b[0m Trial 196 finished with value: 0.7925528789659225 and parameters: {'n_neighbors': 24, 'leaf_size': 786, 'p': 1}. Best is trial 52 with value: 0.7963523305914609.\u001b[0m\n"
     ]
    },
    {
     "data": {
      "text/plain": [
       "'score.mean(): '"
      ]
     },
     "metadata": {},
     "output_type": "display_data"
    },
    {
     "data": {
      "text/plain": [
       "array([0.73766157, 0.80405405, 0.84341951, 0.84547591, 0.73550725])"
      ]
     },
     "metadata": {},
     "output_type": "display_data"
    },
    {
     "name": "stderr",
     "output_type": "stream",
     "text": [
      "\u001b[32m[I 2023-04-16 12:29:49,656]\u001b[0m Trial 197 finished with value: 0.7932236584410498 and parameters: {'n_neighbors': 28, 'leaf_size': 692, 'p': 1}. Best is trial 52 with value: 0.7963523305914609.\u001b[0m\n"
     ]
    },
    {
     "data": {
      "text/plain": [
       "'score.mean(): '"
      ]
     },
     "metadata": {},
     "output_type": "display_data"
    },
    {
     "data": {
      "text/plain": [
       "array([0.74559342, 0.78172738, 0.83431257, 0.84958872, 0.73128019])"
      ]
     },
     "metadata": {},
     "output_type": "display_data"
    },
    {
     "name": "stderr",
     "output_type": "stream",
     "text": [
      "\u001b[32m[I 2023-04-16 12:29:49,702]\u001b[0m Trial 198 finished with value: 0.7885004569787177 and parameters: {'n_neighbors': 12, 'leaf_size': 772, 'p': 1}. Best is trial 52 with value: 0.7963523305914609.\u001b[0m\n"
     ]
    },
    {
     "data": {
      "text/plain": [
       "'score.mean(): '"
      ]
     },
     "metadata": {},
     "output_type": "display_data"
    },
    {
     "data": {
      "text/plain": [
       "array([0.7153349 , 0.77555817, 0.84106933, 0.8592832 , 0.71135266])"
      ]
     },
     "metadata": {},
     "output_type": "display_data"
    },
    {
     "name": "stderr",
     "output_type": "stream",
     "text": [
      "\u001b[32m[I 2023-04-16 12:29:49,748]\u001b[0m Trial 199 finished with value: 0.7805196500848675 and parameters: {'n_neighbors': 8, 'leaf_size': 265, 'p': 1}. Best is trial 52 with value: 0.7963523305914609.\u001b[0m\n"
     ]
    },
    {
     "data": {
      "text/plain": [
       "{'n_neighbors': 15, 'leaf_size': 736, 'p': 2}"
      ]
     },
     "metadata": {},
     "output_type": "display_data"
    }
   ],
   "source": [
    "def optuna_study(X, y):\n",
    "\n",
    "    def objective(trial):\n",
    "        \n",
    "        # For XGBRegressor\n",
    "        # n_estimators = trial.suggest_int('n_estimators', 10, 1000)\n",
    "        # learning_rate = trial.suggest_float('learning_rate', 0.01, 1.0)\n",
    "        # max_depth = trial.suggest_int('max_depth', 1, 30)\n",
    "        \n",
    "        # rf = XGBClassifier(n_estimators=n_estimators,\n",
    "        #                 learning_rate=learning_rate,\n",
    "        #                 max_depth=max_depth)\n",
    "        \n",
    "        \n",
    "        \n",
    "        # For RandomForestClassifier\n",
    "        # n_estimators = trial.suggest_int('n_estimators', 10, 1000)\n",
    "        # max_leaf_nodes = trial.suggest_int('max_leaf_nodes', 2, 100)\n",
    "        # max_depth = trial.suggest_int('max_depth', 1, 30)\n",
    "        \n",
    "        # rf = RandomForestClassifier(n_estimators=n_estimators,\n",
    "        #                 max_leaf_nodes=max_leaf_nodes,\n",
    "        #                 max_depth=max_depth)\n",
    "        \n",
    "        \n",
    "        \n",
    "        # KNeighborsClassifier\n",
    "        \n",
    "        n_neighbors = trial.suggest_int('n_neighbors', 1, 200)\n",
    "        leaf_size = trial.suggest_int('leaf_size', 1, 800)\n",
    "        p = trial.suggest_int('p', 1, 3)\n",
    "        \n",
    "        rf = KNeighborsClassifier(n_neighbors=n_neighbors,\n",
    "                                  leaf_size=leaf_size,\n",
    "                                  p=p)\n",
    "\n",
    "        score = cross_val_score(rf, X, y, n_jobs=4, cv=5, scoring='roc_auc', error_score='raise')\n",
    "        \n",
    "        display('score.mean(): ', score)\n",
    "        return score.mean()\n",
    "\n",
    "    study = optuna.create_study(direction='maximize')\n",
    "    study.optimize(objective, n_trials=200)\n",
    "    \n",
    "    return study.best_params\n",
    "\n",
    "# Study 1 (no ph + remove outlier + aggregate values, 100 trials): 0.1564147933997004\n",
    "# Study 2 (no preprocessing, 100 trials): 0.12094767907088448\n",
    "# Study 3 (preprocessing kudos to MOHAMMAD RAZEGHI, 200 trials): 0.18433600629551264\n",
    "# Study 4 (same as 3 but max_depth allowed to be 1, \n",
    "# {'n_estimators': 31, 'learning_rate': 0.15241724886836167, 'max_depth': 1}): 0.22565032154969472\n",
    "\n",
    "# *begin using roc_auc\n",
    "\n",
    "# Study 5 ({'n_estimators': 109, 'learning_rate': 0.03160535667677366, 'max_depth': 1}): 0.7891310192305856\n",
    "# Study 6 [I 2023-04-15 17:47:02,473] Trial 199 finished with value: 0.756868939982877 and parameters: {'n_estimators': 70, 'learning_rate': 0.21972623175664083, 'max_depth': 2}. Best is trial 196 with value: 0.7902962715736496.\n",
    "\n",
    "print('hello')\n",
    "# display(np.count_nonzero(np.isnan(X)))\n",
    "\n",
    "best_params = optuna_study(X, y)\n",
    "\n",
    "display(best_params)"
   ]
  },
  {
   "cell_type": "markdown",
   "id": "a92342f1",
   "metadata": {
    "papermill": {
     "duration": 0.004738,
     "end_time": "2023-04-09T00:41:12.363834",
     "exception": false,
     "start_time": "2023-04-09T00:41:12.359096",
     "status": "completed"
    },
    "tags": []
   },
   "source": [
    "# Submission"
   ]
  },
  {
   "cell_type": "code",
   "execution_count": 232,
   "id": "d7bf9561",
   "metadata": {
    "execution": {
     "iopub.execute_input": "2023-04-09T00:41:12.376066Z",
     "iopub.status.busy": "2023-04-09T00:41:12.375635Z",
     "iopub.status.idle": "2023-04-09T00:41:12.641258Z",
     "shell.execute_reply": "2023-04-09T00:41:12.640270Z"
    },
    "papermill": {
     "duration": 0.274782,
     "end_time": "2023-04-09T00:41:12.643800",
     "exception": false,
     "start_time": "2023-04-09T00:41:12.369018",
     "status": "completed"
    },
    "tags": []
   },
   "outputs": [
    {
     "data": {
      "text/html": [
       "<div>\n",
       "<style scoped>\n",
       "    .dataframe tbody tr th:only-of-type {\n",
       "        vertical-align: middle;\n",
       "    }\n",
       "\n",
       "    .dataframe tbody tr th {\n",
       "        vertical-align: top;\n",
       "    }\n",
       "\n",
       "    .dataframe thead th {\n",
       "        text-align: right;\n",
       "    }\n",
       "</style>\n",
       "<table border=\"1\" class=\"dataframe\">\n",
       "  <thead>\n",
       "    <tr style=\"text-align: right;\">\n",
       "      <th></th>\n",
       "      <th>id</th>\n",
       "      <th>target</th>\n",
       "    </tr>\n",
       "  </thead>\n",
       "  <tbody>\n",
       "    <tr>\n",
       "      <th>0</th>\n",
       "      <td>414</td>\n",
       "      <td>0</td>\n",
       "    </tr>\n",
       "    <tr>\n",
       "      <th>1</th>\n",
       "      <td>415</td>\n",
       "      <td>1</td>\n",
       "    </tr>\n",
       "    <tr>\n",
       "      <th>2</th>\n",
       "      <td>416</td>\n",
       "      <td>0</td>\n",
       "    </tr>\n",
       "    <tr>\n",
       "      <th>3</th>\n",
       "      <td>417</td>\n",
       "      <td>0</td>\n",
       "    </tr>\n",
       "    <tr>\n",
       "      <th>4</th>\n",
       "      <td>418</td>\n",
       "      <td>0</td>\n",
       "    </tr>\n",
       "  </tbody>\n",
       "</table>\n",
       "</div>"
      ],
      "text/plain": [
       "    id  target\n",
       "0  414       0\n",
       "1  415       1\n",
       "2  416       0\n",
       "3  417       0\n",
       "4  418       0"
      ]
     },
     "metadata": {},
     "output_type": "display_data"
    },
    {
     "name": "stdout",
     "output_type": "stream",
     "text": [
      "Successful\n"
     ]
    }
   ],
   "source": [
    "# final_model = XGBRegressor(\n",
    "#     n_estimators = best_params['n_estimators'], \n",
    "#     max_depth = best_params['max_depth'], \n",
    "#     learning_rate = best_params['learning_rate'],\n",
    "#     n_jobs=4)\n",
    "\n",
    "# final_model = RandomForestClassifier(\n",
    "#     n_estimators = best_params['n_estimators'], \n",
    "#     max_leaf_nodes = best_params['max_leaf_nodes'], \n",
    "#     max_depth = best_params['max_depth'],\n",
    "#     n_jobs=4)\n",
    "\n",
    "final_model = KNeighborsClassifier(\n",
    "    n_neighbors = best_params['n_neighbors'], \n",
    "    leaf_size = best_params['leaf_size'], \n",
    "    p = best_params['p'],\n",
    "    n_jobs=4)\n",
    "\n",
    "final_model.fit(X, y)\n",
    "predictions = final_model.predict(no_id_test_data)\n",
    "\n",
    "submission = pd.DataFrame({'id': test_data.id, 'target': predictions})\n",
    "\n",
    "display(submission.head())\n",
    "\n",
    "submission.to_csv(f'submission11.csv', index=False)\n",
    "\n",
    "print('Successful')"
   ]
  }
 ],
 "metadata": {
  "kernelspec": {
   "display_name": "Python 3",
   "language": "python",
   "name": "python3"
  },
  "language_info": {
   "codemirror_mode": {
    "name": "ipython",
    "version": 3
   },
   "file_extension": ".py",
   "mimetype": "text/x-python",
   "name": "python",
   "nbconvert_exporter": "python",
   "pygments_lexer": "ipython3",
   "version": "3.11.3"
  },
  "papermill": {
   "default_parameters": {},
   "duration": 219.706329,
   "end_time": "2023-04-09T00:41:13.474455",
   "environment_variables": {},
   "exception": null,
   "input_path": "__notebook__.ipynb",
   "output_path": "__notebook__.ipynb",
   "parameters": {},
   "start_time": "2023-04-09T00:37:33.768126",
   "version": "2.4.0"
  }
 },
 "nbformat": 4,
 "nbformat_minor": 5
}
