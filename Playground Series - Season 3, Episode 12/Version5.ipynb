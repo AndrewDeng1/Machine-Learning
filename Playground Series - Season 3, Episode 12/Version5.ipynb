{
 "cells": [
  {
   "cell_type": "code",
   "execution_count": 190,
   "id": "74adbfdb",
   "metadata": {
    "_cell_guid": "b1076dfc-b9ad-4769-8c92-a6c4dae69d19",
    "_uuid": "8f2839f25d086af736a60e9eeb907d3b93b6e0e5",
    "execution": {
     "iopub.execute_input": "2023-04-09T00:37:46.837496Z",
     "iopub.status.busy": "2023-04-09T00:37:46.837072Z",
     "iopub.status.idle": "2023-04-09T00:37:46.857641Z",
     "shell.execute_reply": "2023-04-09T00:37:46.855677Z"
    },
    "papermill": {
     "duration": 0.031202,
     "end_time": "2023-04-09T00:37:46.860551",
     "exception": false,
     "start_time": "2023-04-09T00:37:46.829349",
     "status": "completed"
    },
    "tags": []
   },
   "outputs": [],
   "source": [
    "# score: 0.82666\n",
    "\n",
    "\n",
    "# This Python 3 environment comes with many helpful analytics libraries installed\n",
    "# It is defined by the kaggle/python Docker image: https://github.com/kaggle/docker-python\n",
    "# For example, here's several helpful packages to load\n",
    "\n",
    "import numpy as np # linear algebra\n",
    "import pandas as pd # data processing, CSV file I/O (e.g. pd.read_csv)\n",
    "\n",
    "# Input data files are available in the read-only \"../input/\" directory\n",
    "# For example, running this (by clicking run or pressing Shift+Enter) will list all files under the input directory\n",
    "\n",
    "import os\n",
    "for dirname, _, filenames in os.walk('/kaggle/input'):\n",
    "    for filename in filenames:\n",
    "        print(os.path.join(dirname, filename))\n",
    "\n",
    "# You can write up to 20GB to the current directory (/kaggle/working/) that gets preserved as output when you create a version using \"Save & Run All\" \n",
    "# You can also write temporary files to /kaggle/temp/, but they won't be saved outside of the current session"
   ]
  },
  {
   "cell_type": "markdown",
   "id": "888c8ea2",
   "metadata": {
    "papermill": {
     "duration": 0.004216,
     "end_time": "2023-04-09T00:37:46.869621",
     "exception": false,
     "start_time": "2023-04-09T00:37:46.865405",
     "status": "completed"
    },
    "tags": []
   },
   "source": [
    "# Imports"
   ]
  },
  {
   "cell_type": "code",
   "execution_count": 191,
   "id": "b83b2d96",
   "metadata": {
    "execution": {
     "iopub.execute_input": "2023-04-09T00:37:46.880770Z",
     "iopub.status.busy": "2023-04-09T00:37:46.880373Z",
     "iopub.status.idle": "2023-04-09T00:37:48.305370Z",
     "shell.execute_reply": "2023-04-09T00:37:48.304381Z"
    },
    "papermill": {
     "duration": 1.433975,
     "end_time": "2023-04-09T00:37:48.308186",
     "exception": false,
     "start_time": "2023-04-09T00:37:46.874211",
     "status": "completed"
    },
    "tags": []
   },
   "outputs": [],
   "source": [
    "from xgboost import XGBRegressor, XGBClassifier\n",
    "from sklearn.ensemble import RandomForestClassifier\n",
    "from sklearn.model_selection import train_test_split, GridSearchCV\n",
    "from sklearn.pipeline import Pipeline\n",
    "from sklearn.model_selection import cross_val_score, RepeatedStratifiedKFold\n",
    "from sklearn.metrics import mean_absolute_error, roc_auc_score\n",
    "from sklearn.impute import SimpleImputer\n",
    "from sklearn.preprocessing import StandardScaler\n",
    "import optuna"
   ]
  },
  {
   "cell_type": "markdown",
   "id": "899d4cf0",
   "metadata": {
    "papermill": {
     "duration": 0.004594,
     "end_time": "2023-04-09T00:37:48.317768",
     "exception": false,
     "start_time": "2023-04-09T00:37:48.313174",
     "status": "completed"
    },
    "tags": []
   },
   "source": [
    "# Get data"
   ]
  },
  {
   "cell_type": "code",
   "execution_count": 192,
   "id": "5b46937c",
   "metadata": {
    "execution": {
     "iopub.execute_input": "2023-04-09T00:37:48.331008Z",
     "iopub.status.busy": "2023-04-09T00:37:48.329721Z",
     "iopub.status.idle": "2023-04-09T00:37:48.400420Z",
     "shell.execute_reply": "2023-04-09T00:37:48.398896Z"
    },
    "papermill": {
     "duration": 0.080348,
     "end_time": "2023-04-09T00:37:48.403526",
     "exception": false,
     "start_time": "2023-04-09T00:37:48.323178",
     "status": "completed"
    },
    "tags": []
   },
   "outputs": [
    {
     "data": {
      "text/html": [
       "<div>\n",
       "<style scoped>\n",
       "    .dataframe tbody tr th:only-of-type {\n",
       "        vertical-align: middle;\n",
       "    }\n",
       "\n",
       "    .dataframe tbody tr th {\n",
       "        vertical-align: top;\n",
       "    }\n",
       "\n",
       "    .dataframe thead th {\n",
       "        text-align: right;\n",
       "    }\n",
       "</style>\n",
       "<table border=\"1\" class=\"dataframe\">\n",
       "  <thead>\n",
       "    <tr style=\"text-align: right;\">\n",
       "      <th></th>\n",
       "      <th>gravity</th>\n",
       "      <th>ph</th>\n",
       "      <th>osmo</th>\n",
       "      <th>cond</th>\n",
       "      <th>urea</th>\n",
       "      <th>calc</th>\n",
       "    </tr>\n",
       "  </thead>\n",
       "  <tbody>\n",
       "    <tr>\n",
       "      <th>0</th>\n",
       "      <td>1.013</td>\n",
       "      <td>6.19</td>\n",
       "      <td>443</td>\n",
       "      <td>14.8</td>\n",
       "      <td>124</td>\n",
       "      <td>1.45</td>\n",
       "    </tr>\n",
       "    <tr>\n",
       "      <th>1</th>\n",
       "      <td>1.025</td>\n",
       "      <td>5.40</td>\n",
       "      <td>703</td>\n",
       "      <td>23.6</td>\n",
       "      <td>394</td>\n",
       "      <td>4.18</td>\n",
       "    </tr>\n",
       "    <tr>\n",
       "      <th>2</th>\n",
       "      <td>1.009</td>\n",
       "      <td>6.13</td>\n",
       "      <td>371</td>\n",
       "      <td>24.5</td>\n",
       "      <td>159</td>\n",
       "      <td>9.04</td>\n",
       "    </tr>\n",
       "    <tr>\n",
       "      <th>3</th>\n",
       "      <td>1.021</td>\n",
       "      <td>4.91</td>\n",
       "      <td>442</td>\n",
       "      <td>20.8</td>\n",
       "      <td>398</td>\n",
       "      <td>6.63</td>\n",
       "    </tr>\n",
       "    <tr>\n",
       "      <th>4</th>\n",
       "      <td>1.021</td>\n",
       "      <td>5.53</td>\n",
       "      <td>874</td>\n",
       "      <td>17.8</td>\n",
       "      <td>385</td>\n",
       "      <td>2.21</td>\n",
       "    </tr>\n",
       "  </tbody>\n",
       "</table>\n",
       "</div>"
      ],
      "text/plain": [
       "   gravity    ph  osmo  cond  urea  calc\n",
       "0    1.013  6.19   443  14.8   124  1.45\n",
       "1    1.025  5.40   703  23.6   394  4.18\n",
       "2    1.009  6.13   371  24.5   159  9.04\n",
       "3    1.021  4.91   442  20.8   398  6.63\n",
       "4    1.021  5.53   874  17.8   385  2.21"
      ]
     },
     "metadata": {},
     "output_type": "display_data"
    },
    {
     "data": {
      "text/plain": [
       "0    0\n",
       "1    0\n",
       "2    0\n",
       "3    1\n",
       "4    1\n",
       "Name: target, dtype: int64"
      ]
     },
     "metadata": {},
     "output_type": "display_data"
    }
   ],
   "source": [
    "train_data = pd.read_csv(\"train.csv\")\n",
    "test_data = pd.read_csv(\"test.csv\")\n",
    "\n",
    "X = train_data.copy()\n",
    "X.drop(['id', 'target'], axis=1, inplace=True)\n",
    "\n",
    "y = train_data['target']\n",
    "\n",
    "no_id_test_data = test_data.drop('id', axis=1)\n",
    "\n",
    "display(X.head())\n",
    "display(y.head())"
   ]
  },
  {
   "cell_type": "markdown",
   "id": "6d772808",
   "metadata": {
    "papermill": {
     "duration": 0.005239,
     "end_time": "2023-04-09T00:37:48.413756",
     "exception": false,
     "start_time": "2023-04-09T00:37:48.408517",
     "status": "completed"
    },
    "tags": []
   },
   "source": [
    "# Split Data"
   ]
  },
  {
   "cell_type": "code",
   "execution_count": 193,
   "id": "c46f9aa2",
   "metadata": {
    "execution": {
     "iopub.execute_input": "2023-04-09T00:37:48.425837Z",
     "iopub.status.busy": "2023-04-09T00:37:48.425410Z",
     "iopub.status.idle": "2023-04-09T00:37:48.433741Z",
     "shell.execute_reply": "2023-04-09T00:37:48.432526Z"
    },
    "papermill": {
     "duration": 0.017638,
     "end_time": "2023-04-09T00:37:48.436408",
     "exception": false,
     "start_time": "2023-04-09T00:37:48.418770",
     "status": "completed"
    },
    "tags": []
   },
   "outputs": [],
   "source": [
    "X_train, X_valid, y_train, y_valid = train_test_split(X, y)"
   ]
  },
  {
   "cell_type": "markdown",
   "id": "907a613b",
   "metadata": {
    "papermill": {
     "duration": 0.00491,
     "end_time": "2023-04-09T00:37:48.446287",
     "exception": false,
     "start_time": "2023-04-09T00:37:48.441377",
     "status": "completed"
    },
    "tags": []
   },
   "source": [
    "# Missing Data"
   ]
  },
  {
   "cell_type": "code",
   "execution_count": 194,
   "id": "a9aa0fae",
   "metadata": {
    "execution": {
     "iopub.execute_input": "2023-04-09T00:37:48.459202Z",
     "iopub.status.busy": "2023-04-09T00:37:48.458287Z",
     "iopub.status.idle": "2023-04-09T00:37:48.468433Z",
     "shell.execute_reply": "2023-04-09T00:37:48.466879Z"
    },
    "papermill": {
     "duration": 0.019758,
     "end_time": "2023-04-09T00:37:48.471098",
     "exception": false,
     "start_time": "2023-04-09T00:37:48.451340",
     "status": "completed"
    },
    "tags": []
   },
   "outputs": [
    {
     "name": "stdout",
     "output_type": "stream",
     "text": [
      "There are 0 columns with missing values\n"
     ]
    }
   ],
   "source": [
    "cols_with_missing = [col for col in X_train.columns if X_train[col].isnull().any()]\n",
    "\n",
    "print(f'There are {len(cols_with_missing)} columns with missing values')\n",
    "\n",
    "for i in cols_with_missing:\n",
    "    print(i)"
   ]
  },
  {
   "cell_type": "markdown",
   "id": "56238321",
   "metadata": {},
   "source": [
    "# Feature Engineering"
   ]
  },
  {
   "cell_type": "code",
   "execution_count": 195,
   "id": "b0d5c466",
   "metadata": {},
   "outputs": [
    {
     "data": {
      "text/plain": [
       "Index(['gravity', 'ph', 'osmo', 'cond', 'urea', 'calc'], dtype='object')"
      ]
     },
     "metadata": {},
     "output_type": "display_data"
    },
    {
     "name": "stdout",
     "output_type": "stream",
     "text": [
      "gravity    414\n",
      "ph         414\n",
      "osmo       414\n",
      "cond       414\n",
      "urea       414\n",
      "calc       414\n",
      "dtype: int64\n"
     ]
    }
   ],
   "source": [
    "display(X.columns)\n",
    "\n",
    "def prepXy(df,X_label,y_label=None):\n",
    "    selected_feat = []\n",
    "    data = df.copy()\n",
    "    \n",
    "    # Feature Engineering\n",
    "    \n",
    "    \n",
    "    # Ion product of calcium and urea\n",
    "    data[\"ion_product\"] = data[\"calc\"] * data[\"urea\"]\n",
    "\n",
    "    # Calcium-to-urea ratio\n",
    "    data[\"calcium_to_urea_ratio\"] = data[\"calc\"] / data[\"urea\"]\n",
    "\n",
    "    # Electrolyte balance\n",
    "    data[\"electrolyte_balance\"] = data[\"cond\"] / (10 ** (-data[\"ph\"]))\n",
    "\n",
    "    # Osmolality-to-specific gravity ratio\n",
    "    data[\"osmolality_to_sg_ratio\"] = data[\"osmo\"] / data[\"gravity\"]\n",
    "\n",
    "    # The product of osmolarity and density is created as a new property\n",
    "    data['osmo_density'] = data['osmo'] * data['gravity']\n",
    "    \n",
    "    # ******************************************************************\n",
    "    \n",
    "    # Calculate ammonium concentration (assuming ammonium is not directly measured)\n",
    "    data['ammonium_concentration'] = (data['gravity'] - 1.010) * (140 - (2 * data[\"ph\"])) * 1.2\n",
    "\n",
    "    # Calculate phosphate concentration (assuming phosphate is not directly measured)\n",
    "    data['phosphate_concentration'] = (data['gravity'] - 1.010) * (32 - (0.06 * data[\"ph\"]))\n",
    "\n",
    "    # *****************************************************************\n",
    "    \n",
    "    data[\"gravity/ph\"] = data[\"gravity\"] / data[\"ph\"]\n",
    "    data[\"osmo/cond\"] = data[\"osmo\"] / data[\"cond\"]\n",
    "    data[\"gravity*ph\"] = data[\"gravity\"] * data[\"ph\"]\n",
    "    data[\"osmo*urea\"] = data[\"osmo\"] * data[\"urea\"]\n",
    "    data[\"cond_urea_ph\"] = data[\"cond\"] * data[\"urea\"] / data[\"ph\"]\n",
    "    data[\"ph*osmo\"] = data[\"ph\"] * data[\"osmo\"]\n",
    "    data[\"cond*calc\"] = data[\"cond\"] * data[\"calc\"]\n",
    "    data[\"gravity/calc\"] = data[\"gravity\"] / data[\"calc\"]\n",
    "\n",
    "    # Split into features and target\n",
    "    X_ret = data[X_label].values\n",
    "    \n",
    "    if y is None:\n",
    "        y_ret = np.zeros(data.shape[0])\n",
    "    else:\n",
    "        y_ret = np.ravel(y)\n",
    "\n",
    "    # Scaling dataset\n",
    "    # scaler = MinMaxScaler()\n",
    "    scaler = StandardScaler()\n",
    "    X_ret = scaler.fit_transform(X_ret)\n",
    "\n",
    "    return data,X_ret,y_ret\n",
    "\n",
    "def feature_engineering(X, y=None):\n",
    "    # data.drop('ph', axis=1, inplace=True)\n",
    "    # display(data.columns)\n",
    "    \n",
    "    new_X, X_ret, y_ret = prepXy(X, y);\n",
    "    \n",
    "    return new_X, y_ret\n",
    "\n",
    "\n",
    "\n",
    "print(X.count());"
   ]
  },
  {
   "cell_type": "markdown",
   "id": "f821cc7c",
   "metadata": {},
   "source": [
    "# Remove Outliers"
   ]
  },
  {
   "cell_type": "code",
   "execution_count": 196,
   "id": "f669cd3c",
   "metadata": {},
   "outputs": [],
   "source": [
    "# Credit: KLYUSHNIK-ALEXSANDR\n",
    "\n",
    "def outlier_removal(data , i):\n",
    "    q1 = np.quantile(data[i] ,0.25)\n",
    "    q3 = np.quantile(data[i] , 0.75)\n",
    "    iqr = q3-q1\n",
    "    lower_tail = q1 - 1.5*iqr\n",
    "    upper_tail = q3 + 1.5*iqr\n",
    "    \n",
    "    \n",
    "    for j in range(0, data[i].count()):\n",
    "        if(data[i][j]>upper_tail or data[i][j]<lower_tail):\n",
    "            data[i][j]=np.nan\n",
    "            \n",
    "    return data[i]"
   ]
  },
  {
   "cell_type": "markdown",
   "id": "6946175b",
   "metadata": {},
   "source": [
    "# Aggregate Features"
   ]
  },
  {
   "cell_type": "code",
   "execution_count": 197,
   "id": "67a3f839",
   "metadata": {},
   "outputs": [],
   "source": [
    "def aggregate_features(X, y):\n",
    "    \n",
    "    outlier_list = ['gravity', 'osmo', 'cond', 'urea', 'calc']\n",
    "    for i in outlier_list:\n",
    "        X[i]=outlier_removal(X ,i)\n",
    "    \n",
    "    my_imputer = SimpleImputer()\n",
    "    X = pd.DataFrame(my_imputer.fit_transform(X))\n",
    "    return X, y"
   ]
  },
  {
   "cell_type": "markdown",
   "id": "6c9f3200",
   "metadata": {},
   "source": [
    "# Preprocess Data"
   ]
  },
  {
   "cell_type": "code",
   "execution_count": 198,
   "id": "12434db0",
   "metadata": {},
   "outputs": [
    {
     "name": "stdout",
     "output_type": "stream",
     "text": [
      "Index(['gravity', 'ph', 'osmo', 'cond', 'urea', 'calc'], dtype='object')\n",
      "Index(['gravity', 'ph', 'osmo', 'cond', 'urea', 'calc'], dtype='object')\n"
     ]
    },
    {
     "data": {
      "text/plain": [
       "array([[-0.73403157,  0.36562268, -0.8897276 , -0.88438794, -1.13486936,\n",
       "        -0.82913603],\n",
       "       [ 1.06590369, -0.86589692,  0.21952069,  0.28805926,  0.84638411,\n",
       "         0.02033832],\n",
       "       [-1.33400999,  0.27208954, -1.19690404,  0.40796863, -0.8780402 ,\n",
       "         1.53258937],\n",
       "       ...,\n",
       "       [ 0.01594146,  0.50592238, -0.83853152,  0.10153357, -0.06352489,\n",
       "         1.109408  ],\n",
       "       [-1.48400459,  1.81538625, -1.39315566, -1.17749974, -1.49443017,\n",
       "        -0.9598244 ],\n",
       "       [-1.03402078,  0.27208954, -1.22676842, -1.53722786, -0.8780402 ,\n",
       "        -1.1963081 ]])"
      ]
     },
     "metadata": {},
     "output_type": "display_data"
    }
   ],
   "source": [
    "def preprocess_data(X, y=None):\n",
    "    \n",
    "    # return aggregate_features(X)\n",
    "    print(X.columns)\n",
    "    return prepXy(X, X.columns, y)\n",
    "\n",
    "\n",
    "'''preprocess data here'''\n",
    "new_df_train, X, y = preprocess_data(X, y)\n",
    "new_df_test, no_id_test_data, _ = preprocess_data(no_id_test_data)\n",
    "\n",
    "display(X)\n",
    "\n",
    "# cols_with_missing = [col for col in X.columns if X[col].isnull().any()]\n",
    "\n",
    "# print(f'There are {len(cols_with_missing)} columns with missing values')\n",
    "\n",
    "# for i in cols_with_missing:\n",
    "#     print(i)\n",
    "    \n",
    "    \n",
    "# print(X.count());\n",
    "\n"
   ]
  },
  {
   "attachments": {},
   "cell_type": "markdown",
   "id": "bd2d85c9",
   "metadata": {},
   "source": [
    "# Hyperparameter Tuning"
   ]
  },
  {
   "cell_type": "code",
   "execution_count": 199,
   "id": "79b1fafa",
   "metadata": {},
   "outputs": [
    {
     "name": "stderr",
     "output_type": "stream",
     "text": [
      "\u001b[32m[I 2023-04-15 16:21:12,876]\u001b[0m A new study created in memory with name: no-name-a3aed7fb-0220-427f-9ba5-0242a258898f\u001b[0m\n",
      "\u001b[32m[I 2023-04-15 16:21:16,936]\u001b[0m Trial 0 finished with value: -0.06821571519074006 and parameters: {'n_estimators': 370, 'learning_rate': 0.6588271808363972, 'max_depth': 20}. Best is trial 0 with value: -0.06821571519074006.\u001b[0m\n",
      "\u001b[32m[I 2023-04-15 16:21:17,172]\u001b[0m Trial 1 finished with value: -0.01257199196710319 and parameters: {'n_estimators': 530, 'learning_rate': 0.4785240706038134, 'max_depth': 28}. Best is trial 1 with value: -0.01257199196710319.\u001b[0m\n",
      "\u001b[32m[I 2023-04-15 16:21:17,368]\u001b[0m Trial 2 finished with value: -0.036695934287166596 and parameters: {'n_estimators': 190, 'learning_rate': 0.1726972973667025, 'max_depth': 16}. Best is trial 1 with value: -0.01257199196710319.\u001b[0m\n",
      "\u001b[32m[I 2023-04-15 16:21:17,437]\u001b[0m Trial 3 finished with value: -0.20961855081576006 and parameters: {'n_estimators': 65, 'learning_rate': 0.9489219681388708, 'max_depth': 16}. Best is trial 1 with value: -0.01257199196710319.\u001b[0m\n",
      "\u001b[32m[I 2023-04-15 16:21:17,840]\u001b[0m Trial 4 finished with value: 0.01521630352199661 and parameters: {'n_estimators': 946, 'learning_rate': 0.33263830349666657, 'max_depth': 13}. Best is trial 4 with value: 0.01521630352199661.\u001b[0m\n",
      "\u001b[32m[I 2023-04-15 16:21:18,326]\u001b[0m Trial 5 finished with value: 0.01148118483041305 and parameters: {'n_estimators': 836, 'learning_rate': 0.12305663983566832, 'max_depth': 7}. Best is trial 4 with value: 0.01521630352199661.\u001b[0m\n",
      "\u001b[32m[I 2023-04-15 16:21:18,536]\u001b[0m Trial 6 finished with value: -0.03214969316442016 and parameters: {'n_estimators': 217, 'learning_rate': 0.19221803000181154, 'max_depth': 24}. Best is trial 4 with value: 0.01521630352199661.\u001b[0m\n",
      "\u001b[32m[I 2023-04-15 16:21:18,672]\u001b[0m Trial 7 finished with value: -0.013748367704251719 and parameters: {'n_estimators': 74, 'learning_rate': 0.19935793610505484, 'max_depth': 18}. Best is trial 4 with value: 0.01521630352199661.\u001b[0m\n",
      "\u001b[32m[I 2023-04-15 16:21:19,711]\u001b[0m Trial 8 finished with value: -0.046084914391934094 and parameters: {'n_estimators': 635, 'learning_rate': 0.024581512549647876, 'max_depth': 27}. Best is trial 4 with value: 0.01521630352199661.\u001b[0m\n",
      "\u001b[32m[I 2023-04-15 16:21:19,766]\u001b[0m Trial 9 finished with value: -0.005213748467974688 and parameters: {'n_estimators': 16, 'learning_rate': 0.24906029682815037, 'max_depth': 22}. Best is trial 4 with value: 0.01521630352199661.\u001b[0m\n",
      "\u001b[32m[I 2023-04-15 16:21:20,151]\u001b[0m Trial 10 finished with value: -0.017155029731890314 and parameters: {'n_estimators': 990, 'learning_rate': 0.488113174325388, 'max_depth': 9}. Best is trial 4 with value: 0.01521630352199661.\u001b[0m\n",
      "\u001b[32m[I 2023-04-15 16:21:20,542]\u001b[0m Trial 11 finished with value: 0.003564400144896296 and parameters: {'n_estimators': 952, 'learning_rate': 0.3339196918096511, 'max_depth': 6}. Best is trial 4 with value: 0.01521630352199661.\u001b[0m\n",
      "\u001b[32m[I 2023-04-15 16:21:22,103]\u001b[0m Trial 12 finished with value: -0.044060538066218125 and parameters: {'n_estimators': 787, 'learning_rate': 0.0134791401030665, 'max_depth': 11}. Best is trial 4 with value: 0.01521630352199661.\u001b[0m\n",
      "\u001b[32m[I 2023-04-15 16:21:22,471]\u001b[0m Trial 13 finished with value: -0.01245068863065255 and parameters: {'n_estimators': 781, 'learning_rate': 0.3478648593463626, 'max_depth': 12}. Best is trial 4 with value: 0.01521630352199661.\u001b[0m\n",
      "\u001b[32m[I 2023-04-15 16:21:23,262]\u001b[0m Trial 14 finished with value: -0.006040534137951248 and parameters: {'n_estimators': 809, 'learning_rate': 0.08503319099591655, 'max_depth': 5}. Best is trial 4 with value: 0.01521630352199661.\u001b[0m\n",
      "\u001b[32m[I 2023-04-15 16:21:23,711]\u001b[0m Trial 15 finished with value: -0.012522932541887832 and parameters: {'n_estimators': 893, 'learning_rate': 0.34968237567871846, 'max_depth': 13}. Best is trial 4 with value: 0.01521630352199661.\u001b[0m\n",
      "\u001b[32m[I 2023-04-15 16:21:24,121]\u001b[0m Trial 16 finished with value: 0.012649546458524319 and parameters: {'n_estimators': 629, 'learning_rate': 0.11512356655591088, 'max_depth': 8}. Best is trial 4 with value: 0.01521630352199661.\u001b[0m\n",
      "\u001b[32m[I 2023-04-15 16:21:24,487]\u001b[0m Trial 17 finished with value: 0.007513946763346513 and parameters: {'n_estimators': 659, 'learning_rate': 0.2399637605553942, 'max_depth': 9}. Best is trial 4 with value: 0.01521630352199661.\u001b[0m\n",
      "\u001b[32m[I 2023-04-15 16:21:24,863]\u001b[0m Trial 18 finished with value: -0.041626035474041444 and parameters: {'n_estimators': 454, 'learning_rate': 0.09899206768783564, 'max_depth': 14}. Best is trial 4 with value: 0.01521630352199661.\u001b[0m\n",
      "\u001b[32m[I 2023-04-15 16:21:25,140]\u001b[0m Trial 19 finished with value: -0.05398679055521978 and parameters: {'n_estimators': 669, 'learning_rate': 0.6323839928434974, 'max_depth': 9}. Best is trial 4 with value: 0.01521630352199661.\u001b[0m\n",
      "\u001b[32m[I 2023-04-15 16:21:25,441]\u001b[0m Trial 20 finished with value: -0.0012609242835228463 and parameters: {'n_estimators': 540, 'learning_rate': 0.30537872974725705, 'max_depth': 15}. Best is trial 4 with value: 0.01521630352199661.\u001b[0m\n",
      "\u001b[32m[I 2023-04-15 16:21:26,024]\u001b[0m Trial 21 finished with value: 0.020544372347576646 and parameters: {'n_estimators': 853, 'learning_rate': 0.12084111902456536, 'max_depth': 7}. Best is trial 21 with value: 0.020544372347576646.\u001b[0m\n",
      "\u001b[32m[I 2023-04-15 16:21:26,503]\u001b[0m Trial 22 finished with value: -0.01751648068859817 and parameters: {'n_estimators': 717, 'learning_rate': 0.12046465016001597, 'max_depth': 10}. Best is trial 21 with value: 0.020544372347576646.\u001b[0m\n",
      "\u001b[32m[I 2023-04-15 16:21:27,634]\u001b[0m Trial 23 finished with value: 0.009669916026517988 and parameters: {'n_estimators': 936, 'learning_rate': 0.03265788471171968, 'max_depth': 7}. Best is trial 21 with value: 0.020544372347576646.\u001b[0m\n",
      "\u001b[32m[I 2023-04-15 16:21:28,197]\u001b[0m Trial 24 finished with value: -0.017650640454594347 and parameters: {'n_estimators': 872, 'learning_rate': 0.14846403244665982, 'max_depth': 5}. Best is trial 21 with value: 0.020544372347576646.\u001b[0m\n",
      "\u001b[32m[I 2023-04-15 16:21:28,607]\u001b[0m Trial 25 finished with value: -0.014181750134463211 and parameters: {'n_estimators': 726, 'learning_rate': 0.28641009020669495, 'max_depth': 12}. Best is trial 21 with value: 0.020544372347576646.\u001b[0m\n",
      "\u001b[32m[I 2023-04-15 16:21:28,943]\u001b[0m Trial 26 finished with value: -0.02414377944318071 and parameters: {'n_estimators': 586, 'learning_rate': 0.41234635220593224, 'max_depth': 8}. Best is trial 21 with value: 0.020544372347576646.\u001b[0m\n",
      "\u001b[32m[I 2023-04-15 16:21:29,259]\u001b[0m Trial 27 finished with value: -0.006326377675934291 and parameters: {'n_estimators': 422, 'learning_rate': 0.23437219537966208, 'max_depth': 18}. Best is trial 21 with value: 0.020544372347576646.\u001b[0m\n",
      "\u001b[32m[I 2023-04-15 16:21:29,767]\u001b[0m Trial 28 finished with value: -0.03197126881114505 and parameters: {'n_estimators': 914, 'learning_rate': 0.1649871305651508, 'max_depth': 11}. Best is trial 21 with value: 0.020544372347576646.\u001b[0m\n",
      "\u001b[32m[I 2023-04-15 16:21:30,235]\u001b[0m Trial 29 finished with value: 0.00028431733263147854 and parameters: {'n_estimators': 997, 'learning_rate': 0.41077051705047485, 'max_depth': 14}. Best is trial 21 with value: 0.020544372347576646.\u001b[0m\n",
      "\u001b[32m[I 2023-04-15 16:21:30,884]\u001b[0m Trial 30 finished with value: -0.03725718338451019 and parameters: {'n_estimators': 728, 'learning_rate': 0.07609934143937276, 'max_depth': 20}. Best is trial 21 with value: 0.020544372347576646.\u001b[0m\n",
      "\u001b[32m[I 2023-04-15 16:21:31,407]\u001b[0m Trial 31 finished with value: 0.019622167602020336 and parameters: {'n_estimators': 839, 'learning_rate': 0.11797564128896976, 'max_depth': 7}. Best is trial 21 with value: 0.020544372347576646.\u001b[0m\n",
      "\u001b[32m[I 2023-04-15 16:21:31,776]\u001b[0m Trial 32 finished with value: 0.016315404396061696 and parameters: {'n_estimators': 852, 'learning_rate': 0.21700694136586313, 'max_depth': 7}. Best is trial 21 with value: 0.020544372347576646.\u001b[0m\n",
      "\u001b[32m[I 2023-04-15 16:21:32,184]\u001b[0m Trial 33 finished with value: 0.0069215857709877815 and parameters: {'n_estimators': 855, 'learning_rate': 0.2221239351899515, 'max_depth': 5}. Best is trial 21 with value: 0.020544372347576646.\u001b[0m\n",
      "\u001b[32m[I 2023-04-15 16:21:32,524]\u001b[0m Trial 34 finished with value: 0.005606466509595842 and parameters: {'n_estimators': 780, 'learning_rate': 0.272945040601553, 'max_depth': 7}. Best is trial 21 with value: 0.020544372347576646.\u001b[0m\n",
      "\u001b[32m[I 2023-04-15 16:21:32,901]\u001b[0m Trial 35 finished with value: -0.03419625975231244 and parameters: {'n_estimators': 853, 'learning_rate': 0.18463616959252563, 'max_depth': 10}. Best is trial 21 with value: 0.020544372347576646.\u001b[0m\n",
      "\u001b[32m[I 2023-04-15 16:21:33,380]\u001b[0m Trial 36 finished with value: 0.011328457721001684 and parameters: {'n_estimators': 945, 'learning_rate': 0.16514034069997813, 'max_depth': 7}. Best is trial 21 with value: 0.020544372347576646.\u001b[0m\n",
      "\u001b[32m[I 2023-04-15 16:21:33,959]\u001b[0m Trial 37 finished with value: -0.03872655428844949 and parameters: {'n_estimators': 899, 'learning_rate': 0.07193423924273959, 'max_depth': 16}. Best is trial 21 with value: 0.020544372347576646.\u001b[0m\n",
      "\u001b[32m[I 2023-04-15 16:21:34,187]\u001b[0m Trial 38 finished with value: 0.0316027601854314 and parameters: {'n_estimators': 295, 'learning_rate': 0.2056625602936658, 'max_depth': 6}. Best is trial 38 with value: 0.0316027601854314.\u001b[0m\n",
      "\u001b[32m[I 2023-04-15 16:21:34,474]\u001b[0m Trial 39 finished with value: -0.02094320338815996 and parameters: {'n_estimators': 293, 'learning_rate': 0.19730801931699132, 'max_depth': 5}. Best is trial 38 with value: 0.0316027601854314.\u001b[0m\n",
      "\u001b[32m[I 2023-04-15 16:21:34,782]\u001b[0m Trial 40 finished with value: -0.04963042750850168 and parameters: {'n_estimators': 292, 'learning_rate': 0.14072248465695725, 'max_depth': 26}. Best is trial 38 with value: 0.0316027601854314.\u001b[0m\n",
      "\u001b[32m[I 2023-04-15 16:21:34,979]\u001b[0m Trial 41 finished with value: 0.021163049865221238 and parameters: {'n_estimators': 148, 'learning_rate': 0.2637829414581976, 'max_depth': 8}. Best is trial 38 with value: 0.0316027601854314.\u001b[0m\n",
      "\u001b[32m[I 2023-04-15 16:21:35,164]\u001b[0m Trial 42 finished with value: 0.02747838586116471 and parameters: {'n_estimators': 141, 'learning_rate': 0.26164324610666295, 'max_depth': 6}. Best is trial 38 with value: 0.0316027601854314.\u001b[0m\n",
      "\u001b[32m[I 2023-04-15 16:21:35,366]\u001b[0m Trial 43 finished with value: 0.0054574697195628906 and parameters: {'n_estimators': 155, 'learning_rate': 0.2715570333278505, 'max_depth': 6}. Best is trial 38 with value: 0.0316027601854314.\u001b[0m\n",
      "\u001b[32m[I 2023-04-15 16:21:35,596]\u001b[0m Trial 44 finished with value: 0.03717874056017327 and parameters: {'n_estimators': 136, 'learning_rate': 0.04481533863934438, 'max_depth': 8}. Best is trial 44 with value: 0.03717874056017327.\u001b[0m\n",
      "\u001b[32m[I 2023-04-15 16:21:35,844]\u001b[0m Trial 45 finished with value: -0.009812656054263846 and parameters: {'n_estimators': 132, 'learning_rate': 0.05637866979830165, 'max_depth': 10}. Best is trial 44 with value: 0.03717874056017327.\u001b[0m\n",
      "\u001b[32m[I 2023-04-15 16:21:36,441]\u001b[0m Trial 46 finished with value: -0.030465263881804993 and parameters: {'n_estimators': 223, 'learning_rate': 0.056532165240309046, 'max_depth': 30}. Best is trial 44 with value: 0.03717874056017327.\u001b[0m\n",
      "\u001b[32m[I 2023-04-15 16:21:36,578]\u001b[0m Trial 47 finished with value: 0.10036814097886679 and parameters: {'n_estimators': 68, 'learning_rate': 0.026746508906895658, 'max_depth': 8}. Best is trial 47 with value: 0.10036814097886679.\u001b[0m\n",
      "\u001b[32m[I 2023-04-15 16:21:36,709]\u001b[0m Trial 48 finished with value: 0.10358201081882243 and parameters: {'n_estimators': 69, 'learning_rate': 0.0244885988632143, 'max_depth': 8}. Best is trial 48 with value: 0.10358201081882243.\u001b[0m\n",
      "\u001b[32m[I 2023-04-15 16:21:36,791]\u001b[0m Trial 49 finished with value: 0.15403314957443193 and parameters: {'n_estimators': 42, 'learning_rate': 0.01582982174672301, 'max_depth': 6}. Best is trial 49 with value: 0.15403314957443193.\u001b[0m\n",
      "\u001b[32m[I 2023-04-15 16:21:36,856]\u001b[0m Trial 50 finished with value: 0.08328734353339254 and parameters: {'n_estimators': 19, 'learning_rate': 0.015256302250585746, 'max_depth': 9}. Best is trial 49 with value: 0.15403314957443193.\u001b[0m\n",
      "\u001b[32m[I 2023-04-15 16:21:36,918]\u001b[0m Trial 51 finished with value: 0.11262193585728467 and parameters: {'n_estimators': 15, 'learning_rate': 0.03234079698128811, 'max_depth': 8}. Best is trial 49 with value: 0.15403314957443193.\u001b[0m\n",
      "\u001b[32m[I 2023-04-15 16:21:36,977]\u001b[0m Trial 52 finished with value: 0.06587611160994873 and parameters: {'n_estimators': 12, 'learning_rate': 0.017732303718474562, 'max_depth': 9}. Best is trial 49 with value: 0.15403314957443193.\u001b[0m\n",
      "\u001b[32m[I 2023-04-15 16:21:37,053]\u001b[0m Trial 53 finished with value: 0.07119476280469539 and parameters: {'n_estimators': 18, 'learning_rate': 0.012761303448292391, 'max_depth': 12}. Best is trial 49 with value: 0.15403314957443193.\u001b[0m\n",
      "\u001b[32m[I 2023-04-15 16:21:37,185]\u001b[0m Trial 54 finished with value: 0.08598855715364881 and parameters: {'n_estimators': 61, 'learning_rate': 0.016548483091166143, 'max_depth': 11}. Best is trial 49 with value: 0.15403314957443193.\u001b[0m\n",
      "\u001b[32m[I 2023-04-15 16:21:37,353]\u001b[0m Trial 55 finished with value: -0.034145676946107685 and parameters: {'n_estimators': 74, 'learning_rate': 0.08222320906640704, 'max_depth': 11}. Best is trial 49 with value: 0.15403314957443193.\u001b[0m\n",
      "\u001b[32m[I 2023-04-15 16:21:37,499]\u001b[0m Trial 56 finished with value: 0.07693845164250053 and parameters: {'n_estimators': 71, 'learning_rate': 0.01800199296493615, 'max_depth': 10}. Best is trial 49 with value: 0.15403314957443193.\u001b[0m\n",
      "\u001b[32m[I 2023-04-15 16:21:37,711]\u001b[0m Trial 57 finished with value: -0.01620511411493806 and parameters: {'n_estimators': 103, 'learning_rate': 0.09260195146415764, 'max_depth': 9}. Best is trial 49 with value: 0.15403314957443193.\u001b[0m\n",
      "\u001b[32m[I 2023-04-15 16:21:38,157]\u001b[0m Trial 58 finished with value: -0.040934852314745515 and parameters: {'n_estimators': 213, 'learning_rate': 0.042590280330156896, 'max_depth': 13}. Best is trial 49 with value: 0.15403314957443193.\u001b[0m\n",
      "\u001b[32m[I 2023-04-15 16:21:38,285]\u001b[0m Trial 59 finished with value: -0.031634159630907835 and parameters: {'n_estimators': 52, 'learning_rate': 0.09827467966425465, 'max_depth': 11}. Best is trial 49 with value: 0.15403314957443193.\u001b[0m\n",
      "\u001b[32m[I 2023-04-15 16:21:38,388]\u001b[0m Trial 60 finished with value: 0.0866006980559549 and parameters: {'n_estimators': 45, 'learning_rate': 0.05139010439055364, 'max_depth': 8}. Best is trial 49 with value: 0.15403314957443193.\u001b[0m\n",
      "\u001b[32m[I 2023-04-15 16:21:38,561]\u001b[0m Trial 61 finished with value: 0.039120383423127604 and parameters: {'n_estimators': 107, 'learning_rate': 0.0560110112963041, 'max_depth': 8}. Best is trial 49 with value: 0.15403314957443193.\u001b[0m\n",
      "\u001b[32m[I 2023-04-15 16:21:38,660]\u001b[0m Trial 62 finished with value: 0.10936693049354855 and parameters: {'n_estimators': 43, 'learning_rate': 0.01703223719718847, 'max_depth': 9}. Best is trial 49 with value: 0.15403314957443193.\u001b[0m\n",
      "\u001b[32m[I 2023-04-15 16:21:38,775]\u001b[0m Trial 63 finished with value: -0.009318306358670037 and parameters: {'n_estimators': 50, 'learning_rate': 0.14748813472481317, 'max_depth': 10}. Best is trial 49 with value: 0.15403314957443193.\u001b[0m\n",
      "\u001b[32m[I 2023-04-15 16:21:38,987]\u001b[0m Trial 64 finished with value: 0.026437192289550614 and parameters: {'n_estimators': 188, 'learning_rate': 0.06610860961165627, 'max_depth': 6}. Best is trial 49 with value: 0.15403314957443193.\u001b[0m\n",
      "\u001b[32m[I 2023-04-15 16:21:39,139]\u001b[0m Trial 65 finished with value: 0.020759997221386904 and parameters: {'n_estimators': 99, 'learning_rate': 0.10724680132817851, 'max_depth': 8}. Best is trial 49 with value: 0.15403314957443193.\u001b[0m\n",
      "\u001b[32m[I 2023-04-15 16:21:39,241]\u001b[0m Trial 66 finished with value: 0.05357121292587954 and parameters: {'n_estimators': 45, 'learning_rate': 0.04237148263190918, 'max_depth': 9}. Best is trial 49 with value: 0.15403314957443193.\u001b[0m\n",
      "\u001b[32m[I 2023-04-15 16:21:39,439]\u001b[0m Trial 67 finished with value: 0.14885585400284584 and parameters: {'n_estimators': 172, 'learning_rate': 0.010323702551397442, 'max_depth': 6}. Best is trial 49 with value: 0.15403314957443193.\u001b[0m\n",
      "\u001b[32m[I 2023-04-15 16:21:39,547]\u001b[0m Trial 68 finished with value: 0.037798483405525427 and parameters: {'n_estimators': 94, 'learning_rate': 0.12869335454197062, 'max_depth': 5}. Best is trial 49 with value: 0.15403314957443193.\u001b[0m\n",
      "\u001b[32m[I 2023-04-15 16:21:39,750]\u001b[0m Trial 69 finished with value: 0.023811016507168815 and parameters: {'n_estimators': 179, 'learning_rate': 0.08974262780920571, 'max_depth': 6}. Best is trial 49 with value: 0.15403314957443193.\u001b[0m\n",
      "\u001b[32m[I 2023-04-15 16:21:40,077]\u001b[0m Trial 70 finished with value: 0.03051799225837635 and parameters: {'n_estimators': 241, 'learning_rate': 0.05049961813516572, 'max_depth': 7}. Best is trial 49 with value: 0.15403314957443193.\u001b[0m\n",
      "\u001b[32m[I 2023-04-15 16:21:40,176]\u001b[0m Trial 71 finished with value: 0.10161589801986606 and parameters: {'n_estimators': 42, 'learning_rate': 0.01571687712847563, 'max_depth': 20}. Best is trial 49 with value: 0.15403314957443193.\u001b[0m\n",
      "\u001b[32m[I 2023-04-15 16:21:40,273]\u001b[0m Trial 72 finished with value: -0.017264627559991343 and parameters: {'n_estimators': 36, 'learning_rate': 0.07467304225663975, 'max_depth': 20}. Best is trial 49 with value: 0.15403314957443193.\u001b[0m\n",
      "\u001b[32m[I 2023-04-15 16:21:40,449]\u001b[0m Trial 73 finished with value: -0.00652737613204446 and parameters: {'n_estimators': 86, 'learning_rate': 0.03286479514440631, 'max_depth': 22}. Best is trial 49 with value: 0.15403314957443193.\u001b[0m\n",
      "\u001b[32m[I 2023-04-15 16:21:40,661]\u001b[0m Trial 74 finished with value: 0.057216101673141104 and parameters: {'n_estimators': 113, 'learning_rate': 0.011616775897794265, 'max_depth': 17}. Best is trial 49 with value: 0.15403314957443193.\u001b[0m\n",
      "\u001b[32m[I 2023-04-15 16:21:40,906]\u001b[0m Trial 75 finished with value: -0.04406379781749712 and parameters: {'n_estimators': 167, 'learning_rate': 0.11711283088166276, 'max_depth': 22}. Best is trial 49 with value: 0.15403314957443193.\u001b[0m\n",
      "\u001b[32m[I 2023-04-15 16:21:41,007]\u001b[0m Trial 76 finished with value: -0.020620437261314885 and parameters: {'n_estimators': 31, 'learning_rate': 0.16502174044952042, 'max_depth': 23}. Best is trial 49 with value: 0.15403314957443193.\u001b[0m\n",
      "\u001b[32m[I 2023-04-15 16:21:41,289]\u001b[0m Trial 77 finished with value: -0.029567787038279624 and parameters: {'n_estimators': 118, 'learning_rate': 0.08498386437049249, 'max_depth': 19}. Best is trial 49 with value: 0.15403314957443193.\u001b[0m\n",
      "\u001b[32m[I 2023-04-15 16:21:41,451]\u001b[0m Trial 78 finished with value: -0.020704328289780284 and parameters: {'n_estimators': 76, 'learning_rate': 0.041020815552170894, 'max_depth': 19}. Best is trial 49 with value: 0.15403314957443193.\u001b[0m\n",
      "\u001b[32m[I 2023-04-15 16:21:41,736]\u001b[0m Trial 79 finished with value: -0.00388559110769513 and parameters: {'n_estimators': 263, 'learning_rate': 0.10967250118643168, 'max_depth': 7}. Best is trial 49 with value: 0.15403314957443193.\u001b[0m\n",
      "\u001b[32m[I 2023-04-15 16:21:42,066]\u001b[0m Trial 80 finished with value: -0.007850250596292274 and parameters: {'n_estimators': 357, 'learning_rate': 0.06853905993029924, 'max_depth': 5}. Best is trial 49 with value: 0.15403314957443193.\u001b[0m\n",
      "\u001b[32m[I 2023-04-15 16:21:42,183]\u001b[0m Trial 81 finished with value: 0.12291875750913014 and parameters: {'n_estimators': 56, 'learning_rate': 0.012740963068750518, 'max_depth': 8}. Best is trial 49 with value: 0.15403314957443193.\u001b[0m\n",
      "\u001b[32m[I 2023-04-15 16:21:42,245]\u001b[0m Trial 82 finished with value: 0.14252934458366753 and parameters: {'n_estimators': 11, 'learning_rate': 0.051729419697703366, 'max_depth': 6}. Best is trial 49 with value: 0.15403314957443193.\u001b[0m\n",
      "\u001b[32m[I 2023-04-15 16:21:42,312]\u001b[0m Trial 83 finished with value: 0.06024971811176649 and parameters: {'n_estimators': 18, 'learning_rate': 0.011639246450554912, 'max_depth': 6}. Best is trial 49 with value: 0.15403314957443193.\u001b[0m\n",
      "\u001b[32m[I 2023-04-15 16:21:42,375]\u001b[0m Trial 84 finished with value: 0.05459306084375515 and parameters: {'n_estimators': 10, 'learning_rate': 0.1380960334939425, 'max_depth': 21}. Best is trial 49 with value: 0.15403314957443193.\u001b[0m\n",
      "\u001b[32m[I 2023-04-15 16:21:42,533]\u001b[0m Trial 85 finished with value: 0.06650867015227109 and parameters: {'n_estimators': 73, 'learning_rate': 0.03723421077309421, 'max_depth': 8}. Best is trial 49 with value: 0.15403314957443193.\u001b[0m\n",
      "\u001b[32m[I 2023-04-15 16:21:42,707]\u001b[0m Trial 86 finished with value: 0.025727856092215128 and parameters: {'n_estimators': 131, 'learning_rate': 0.08115220830413596, 'max_depth': 6}. Best is trial 49 with value: 0.15403314957443193.\u001b[0m\n",
      "\u001b[32m[I 2023-04-15 16:21:42,820]\u001b[0m Trial 87 finished with value: 0.05125974402707467 and parameters: {'n_estimators': 59, 'learning_rate': 0.09746622630142275, 'max_depth': 7}. Best is trial 49 with value: 0.15403314957443193.\u001b[0m\n",
      "\u001b[32m[I 2023-04-15 16:21:42,942]\u001b[0m Trial 88 finished with value: 0.1389742877621361 and parameters: {'n_estimators': 89, 'learning_rate': 0.03523151526215153, 'max_depth': 5}. Best is trial 49 with value: 0.15403314957443193.\u001b[0m\n",
      "\u001b[32m[I 2023-04-15 16:21:43,063]\u001b[0m Trial 89 finished with value: 0.10465509766687128 and parameters: {'n_estimators': 94, 'learning_rate': 0.06109613666785953, 'max_depth': 5}. Best is trial 49 with value: 0.15403314957443193.\u001b[0m\n",
      "\u001b[32m[I 2023-04-15 16:21:43,243]\u001b[0m Trial 90 finished with value: 0.0281159898880591 and parameters: {'n_estimators': 166, 'learning_rate': 0.06537826110077888, 'max_depth': 5}. Best is trial 49 with value: 0.15403314957443193.\u001b[0m\n",
      "\u001b[32m[I 2023-04-15 16:21:43,319]\u001b[0m Trial 91 finished with value: 0.17587919485066547 and parameters: {'n_estimators': 36, 'learning_rate': 0.042803704847979684, 'max_depth': 5}. Best is trial 91 with value: 0.17587919485066547.\u001b[0m\n",
      "\u001b[32m[I 2023-04-15 16:21:43,433]\u001b[0m Trial 92 finished with value: 0.13088548458627236 and parameters: {'n_estimators': 87, 'learning_rate': 0.039601592594926155, 'max_depth': 5}. Best is trial 91 with value: 0.17587919485066547.\u001b[0m\n",
      "\u001b[32m[I 2023-04-15 16:21:43,551]\u001b[0m Trial 93 finished with value: 0.031187986278914948 and parameters: {'n_estimators': 90, 'learning_rate': 0.12157868891013371, 'max_depth': 5}. Best is trial 91 with value: 0.17587919485066547.\u001b[0m\n",
      "\u001b[32m[I 2023-04-15 16:21:43,747]\u001b[0m Trial 94 finished with value: 0.05809310262225616 and parameters: {'n_estimators': 122, 'learning_rate': 0.06357049104343392, 'max_depth': 6}. Best is trial 91 with value: 0.17587919485066547.\u001b[0m\n",
      "\u001b[32m[I 2023-04-15 16:21:43,834]\u001b[0m Trial 95 finished with value: 0.18399019859519866 and parameters: {'n_estimators': 33, 'learning_rate': 0.0423743682368282, 'max_depth': 5}. Best is trial 95 with value: 0.18399019859519866.\u001b[0m\n",
      "\u001b[32m[I 2023-04-15 16:21:44,541]\u001b[0m Trial 96 finished with value: 0.024635948212267934 and parameters: {'n_estimators': 505, 'learning_rate': 0.037382541742329786, 'max_depth': 6}. Best is trial 95 with value: 0.18399019859519866.\u001b[0m\n",
      "\u001b[32m[I 2023-04-15 16:21:44,621]\u001b[0m Trial 97 finished with value: 0.0939720404069077 and parameters: {'n_estimators': 31, 'learning_rate': 0.1846704359135243, 'max_depth': 5}. Best is trial 95 with value: 0.18399019859519866.\u001b[0m\n",
      "\u001b[32m[I 2023-04-15 16:21:44,729]\u001b[0m Trial 98 finished with value: 0.14495887596564613 and parameters: {'n_estimators': 10, 'learning_rate': 0.09873944258284542, 'max_depth': 7}. Best is trial 95 with value: 0.18399019859519866.\u001b[0m\n",
      "\u001b[32m[I 2023-04-15 16:21:44,801]\u001b[0m Trial 99 finished with value: 0.13661435650828363 and parameters: {'n_estimators': 12, 'learning_rate': 0.0983469352650903, 'max_depth': 7}. Best is trial 95 with value: 0.18399019859519866.\u001b[0m\n",
      "\u001b[32m[I 2023-04-15 16:21:45,095]\u001b[0m Trial 100 finished with value: 0.030719875968730336 and parameters: {'n_estimators': 158, 'learning_rate': 0.14303718428763199, 'max_depth': 7}. Best is trial 95 with value: 0.18399019859519866.\u001b[0m\n",
      "\u001b[32m[I 2023-04-15 16:21:45,168]\u001b[0m Trial 101 finished with value: 0.14319070782345408 and parameters: {'n_estimators': 12, 'learning_rate': 0.10239371628450344, 'max_depth': 7}. Best is trial 95 with value: 0.18399019859519866.\u001b[0m\n",
      "\u001b[32m[I 2023-04-15 16:21:45,264]\u001b[0m Trial 102 finished with value: 0.0918862916082109 and parameters: {'n_estimators': 32, 'learning_rate': 0.09441495923847608, 'max_depth': 6}. Best is trial 95 with value: 0.18399019859519866.\u001b[0m\n",
      "\u001b[32m[I 2023-04-15 16:21:45,398]\u001b[0m Trial 103 finished with value: 0.045628200879684624 and parameters: {'n_estimators': 63, 'learning_rate': 0.15459590307836554, 'max_depth': 7}. Best is trial 95 with value: 0.18399019859519866.\u001b[0m\n",
      "\u001b[32m[I 2023-04-15 16:21:45,528]\u001b[0m Trial 104 finished with value: 0.05839531182453459 and parameters: {'n_estimators': 83, 'learning_rate': 0.11296945236066847, 'max_depth': 5}. Best is trial 95 with value: 0.18399019859519866.\u001b[0m\n",
      "\u001b[32m[I 2023-04-15 16:21:45,588]\u001b[0m Trial 105 finished with value: 0.15503361706639054 and parameters: {'n_estimators': 11, 'learning_rate': 0.08533122757464001, 'max_depth': 6}. Best is trial 95 with value: 0.18399019859519866.\u001b[0m\n",
      "\u001b[32m[I 2023-04-15 16:21:45,653]\u001b[0m Trial 106 finished with value: 0.12010722759216086 and parameters: {'n_estimators': 11, 'learning_rate': 0.1837696237637398, 'max_depth': 6}. Best is trial 95 with value: 0.18399019859519866.\u001b[0m\n",
      "\u001b[32m[I 2023-04-15 16:21:45,734]\u001b[0m Trial 107 finished with value: 0.12475434995609899 and parameters: {'n_estimators': 31, 'learning_rate': 0.12996858072401699, 'max_depth': 5}. Best is trial 95 with value: 0.18399019859519866.\u001b[0m\n",
      "\u001b[32m[I 2023-04-15 16:21:45,931]\u001b[0m Trial 108 finished with value: 0.041937457793883914 and parameters: {'n_estimators': 109, 'learning_rate': 0.07427578348210268, 'max_depth': 7}. Best is trial 95 with value: 0.18399019859519866.\u001b[0m\n",
      "\u001b[32m[I 2023-04-15 16:21:46,048]\u001b[0m Trial 109 finished with value: 0.062488855916442244 and parameters: {'n_estimators': 52, 'learning_rate': 0.10302855521482886, 'max_depth': 6}. Best is trial 95 with value: 0.18399019859519866.\u001b[0m\n",
      "\u001b[32m[I 2023-04-15 16:21:46,243]\u001b[0m Trial 110 finished with value: 0.06435321271592198 and parameters: {'n_estimators': 133, 'learning_rate': 0.04865658156980257, 'max_depth': 6}. Best is trial 95 with value: 0.18399019859519866.\u001b[0m\n",
      "\u001b[32m[I 2023-04-15 16:21:46,332]\u001b[0m Trial 111 finished with value: 0.1277457221355915 and parameters: {'n_estimators': 36, 'learning_rate': 0.13449433303113323, 'max_depth': 5}. Best is trial 95 with value: 0.18399019859519866.\u001b[0m\n",
      "\u001b[32m[I 2023-04-15 16:21:46,426]\u001b[0m Trial 112 finished with value: 0.1429096139304242 and parameters: {'n_estimators': 35, 'learning_rate': 0.09620657272955416, 'max_depth': 5}. Best is trial 95 with value: 0.18399019859519866.\u001b[0m\n",
      "\u001b[32m[I 2023-04-15 16:21:46,492]\u001b[0m Trial 113 finished with value: 0.17755648726344303 and parameters: {'n_estimators': 12, 'learning_rate': 0.0839812383959548, 'max_depth': 5}. Best is trial 95 with value: 0.18399019859519866.\u001b[0m\n",
      "\u001b[32m[I 2023-04-15 16:21:46,579]\u001b[0m Trial 114 finished with value: 0.11374146532403864 and parameters: {'n_estimators': 25, 'learning_rate': 0.08276370334898926, 'max_depth': 7}. Best is trial 95 with value: 0.18399019859519866.\u001b[0m\n",
      "\u001b[32m[I 2023-04-15 16:21:46,700]\u001b[0m Trial 115 finished with value: 0.05001165308429543 and parameters: {'n_estimators': 57, 'learning_rate': 0.10024872139483762, 'max_depth': 6}. Best is trial 95 with value: 0.18399019859519866.\u001b[0m\n",
      "\u001b[32m[I 2023-04-15 16:21:47,057]\u001b[0m Trial 116 finished with value: 0.04779527396817562 and parameters: {'n_estimators': 429, 'learning_rate': 0.1736412063223583, 'max_depth': 7}. Best is trial 95 with value: 0.18399019859519866.\u001b[0m\n",
      "\u001b[32m[I 2023-04-15 16:21:47,142]\u001b[0m Trial 117 finished with value: 0.08594503103865381 and parameters: {'n_estimators': 41, 'learning_rate': 0.15577133869331553, 'max_depth': 5}. Best is trial 95 with value: 0.18399019859519866.\u001b[0m\n",
      "\u001b[32m[I 2023-04-15 16:21:47,212]\u001b[0m Trial 118 finished with value: 0.13752242274273463 and parameters: {'n_estimators': 13, 'learning_rate': 0.062434680705646714, 'max_depth': 7}. Best is trial 95 with value: 0.18399019859519866.\u001b[0m\n",
      "\u001b[32m[I 2023-04-15 16:21:47,358]\u001b[0m Trial 119 finished with value: 0.07445759632052476 and parameters: {'n_estimators': 77, 'learning_rate': 0.05472327457074683, 'max_depth': 6}. Best is trial 95 with value: 0.18399019859519866.\u001b[0m\n",
      "\u001b[32m[I 2023-04-15 16:21:47,480]\u001b[0m Trial 120 finished with value: 0.08264695132096571 and parameters: {'n_estimators': 65, 'learning_rate': 0.07244128210326713, 'max_depth': 6}. Best is trial 95 with value: 0.18399019859519866.\u001b[0m\n",
      "\u001b[32m[I 2023-04-15 16:21:47,559]\u001b[0m Trial 121 finished with value: 0.11556688546723533 and parameters: {'n_estimators': 20, 'learning_rate': 0.08546668195296782, 'max_depth': 7}. Best is trial 95 with value: 0.18399019859519866.\u001b[0m\n",
      "\u001b[32m[I 2023-04-15 16:21:47,620]\u001b[0m Trial 122 finished with value: 0.1839008026142077 and parameters: {'n_estimators': 11, 'learning_rate': 0.11637100347854964, 'max_depth': 5}. Best is trial 95 with value: 0.18399019859519866.\u001b[0m\n",
      "\u001b[32m[I 2023-04-15 16:21:47,714]\u001b[0m Trial 123 finished with value: 0.09904274019511072 and parameters: {'n_estimators': 40, 'learning_rate': 0.1212253340135563, 'max_depth': 5}. Best is trial 95 with value: 0.18399019859519866.\u001b[0m\n",
      "\u001b[32m[I 2023-04-15 16:21:48,295]\u001b[0m Trial 124 finished with value: -0.024467699194549386 and parameters: {'n_estimators': 577, 'learning_rate': 0.05632515606881564, 'max_depth': 5}. Best is trial 95 with value: 0.18399019859519866.\u001b[0m\n",
      "\u001b[32m[I 2023-04-15 16:21:48,354]\u001b[0m Trial 125 finished with value: 0.11516470885737737 and parameters: {'n_estimators': 13, 'learning_rate': 0.20675762414214358, 'max_depth': 6}. Best is trial 95 with value: 0.18399019859519866.\u001b[0m\n",
      "\u001b[32m[I 2023-04-15 16:21:48,583]\u001b[0m Trial 126 finished with value: -0.038599952808367324 and parameters: {'n_estimators': 105, 'learning_rate': 0.042127472777298926, 'max_depth': 25}. Best is trial 95 with value: 0.18399019859519866.\u001b[0m\n",
      "\u001b[32m[I 2023-04-15 16:21:48,664]\u001b[0m Trial 127 finished with value: 0.17786906724989626 and parameters: {'n_estimators': 54, 'learning_rate': 0.03113808544639493, 'max_depth': 5}. Best is trial 95 with value: 0.18399019859519866.\u001b[0m\n",
      "\u001b[32m[I 2023-04-15 16:21:48,753]\u001b[0m Trial 128 finished with value: 0.18136575433943283 and parameters: {'n_estimators': 57, 'learning_rate': 0.027265605432025865, 'max_depth': 5}. Best is trial 95 with value: 0.18399019859519866.\u001b[0m\n",
      "\u001b[32m[I 2023-04-15 16:21:48,858]\u001b[0m Trial 129 finished with value: 0.17301117833051635 and parameters: {'n_estimators': 51, 'learning_rate': 0.033040850591786394, 'max_depth': 5}. Best is trial 95 with value: 0.18399019859519866.\u001b[0m\n",
      "\u001b[32m[I 2023-04-15 16:21:48,956]\u001b[0m Trial 130 finished with value: 0.18068542744045885 and parameters: {'n_estimators': 51, 'learning_rate': 0.026412090591504324, 'max_depth': 5}. Best is trial 95 with value: 0.18399019859519866.\u001b[0m\n",
      "\u001b[32m[I 2023-04-15 16:21:49,048]\u001b[0m Trial 131 finished with value: 0.16891977281560341 and parameters: {'n_estimators': 57, 'learning_rate': 0.03573096760298334, 'max_depth': 5}. Best is trial 95 with value: 0.18399019859519866.\u001b[0m\n",
      "\u001b[32m[I 2023-04-15 16:21:49,153]\u001b[0m Trial 132 finished with value: 0.171132609541794 and parameters: {'n_estimators': 67, 'learning_rate': 0.02744992270141624, 'max_depth': 5}. Best is trial 95 with value: 0.18399019859519866.\u001b[0m\n",
      "\u001b[32m[I 2023-04-15 16:21:49,251]\u001b[0m Trial 133 finished with value: 0.18364827735554806 and parameters: {'n_estimators': 59, 'learning_rate': 0.02865306132248068, 'max_depth': 5}. Best is trial 95 with value: 0.18399019859519866.\u001b[0m\n",
      "\u001b[32m[I 2023-04-15 16:21:49,349]\u001b[0m Trial 134 finished with value: 0.16492407207753507 and parameters: {'n_estimators': 66, 'learning_rate': 0.029865367437093254, 'max_depth': 5}. Best is trial 95 with value: 0.18399019859519866.\u001b[0m\n",
      "\u001b[32m[I 2023-04-15 16:21:49,440]\u001b[0m Trial 135 finished with value: 0.15690092042748408 and parameters: {'n_estimators': 64, 'learning_rate': 0.010687532925406341, 'max_depth': 5}. Best is trial 95 with value: 0.18399019859519866.\u001b[0m\n",
      "\u001b[32m[I 2023-04-15 16:21:49,533]\u001b[0m Trial 136 finished with value: 0.17081256756419122 and parameters: {'n_estimators': 66, 'learning_rate': 0.030298356538353614, 'max_depth': 5}. Best is trial 95 with value: 0.18399019859519866.\u001b[0m\n",
      "\u001b[32m[I 2023-04-15 16:21:49,659]\u001b[0m Trial 137 finished with value: 0.14725810416591917 and parameters: {'n_estimators': 118, 'learning_rate': 0.026690918144961752, 'max_depth': 5}. Best is trial 95 with value: 0.18399019859519866.\u001b[0m\n",
      "\u001b[32m[I 2023-04-15 16:21:49,804]\u001b[0m Trial 138 finished with value: 0.11424690978561565 and parameters: {'n_estimators': 143, 'learning_rate': 0.03200523298154738, 'max_depth': 5}. Best is trial 95 with value: 0.18399019859519866.\u001b[0m\n",
      "\u001b[32m[I 2023-04-15 16:21:49,903]\u001b[0m Trial 139 finished with value: 0.15744635195007198 and parameters: {'n_estimators': 74, 'learning_rate': 0.0316776867031447, 'max_depth': 5}. Best is trial 95 with value: 0.18399019859519866.\u001b[0m\n",
      "\u001b[32m[I 2023-04-15 16:21:50,064]\u001b[0m Trial 140 finished with value: 0.13945800661749783 and parameters: {'n_estimators': 86, 'learning_rate': 0.03837149455760689, 'max_depth': 5}. Best is trial 95 with value: 0.18399019859519866.\u001b[0m\n",
      "\u001b[32m[I 2023-04-15 16:21:50,161]\u001b[0m Trial 141 finished with value: 0.18223086300985405 and parameters: {'n_estimators': 65, 'learning_rate': 0.025585431971915727, 'max_depth': 5}. Best is trial 95 with value: 0.18399019859519866.\u001b[0m\n",
      "\u001b[32m[I 2023-04-15 16:21:50,254]\u001b[0m Trial 142 finished with value: 0.13016895540233195 and parameters: {'n_estimators': 58, 'learning_rate': 0.06365595404270785, 'max_depth': 5}. Best is trial 95 with value: 0.18399019859519866.\u001b[0m\n",
      "\u001b[32m[I 2023-04-15 16:21:50,365]\u001b[0m Trial 143 finished with value: 0.1483757366293481 and parameters: {'n_estimators': 98, 'learning_rate': 0.03111237973351009, 'max_depth': 5}. Best is trial 95 with value: 0.18399019859519866.\u001b[0m\n",
      "\u001b[32m[I 2023-04-15 16:21:50,472]\u001b[0m Trial 144 finished with value: 0.08810433637611222 and parameters: {'n_estimators': 76, 'learning_rate': 0.04823227038359139, 'max_depth': 6}. Best is trial 95 with value: 0.18399019859519866.\u001b[0m\n",
      "\u001b[32m[I 2023-04-15 16:21:50,557]\u001b[0m Trial 145 finished with value: 0.18397169934300678 and parameters: {'n_estimators': 50, 'learning_rate': 0.03201979770857476, 'max_depth': 5}. Best is trial 95 with value: 0.18399019859519866.\u001b[0m\n",
      "\u001b[32m[I 2023-04-15 16:21:50,646]\u001b[0m Trial 146 finished with value: 0.09626965817834698 and parameters: {'n_estimators': 49, 'learning_rate': 0.07115177510194756, 'max_depth': 6}. Best is trial 95 with value: 0.18399019859519866.\u001b[0m\n",
      "\u001b[32m[I 2023-04-15 16:21:50,786]\u001b[0m Trial 147 finished with value: 0.17958135413796694 and parameters: {'n_estimators': 116, 'learning_rate': 0.010499846472887566, 'max_depth': 5}. Best is trial 95 with value: 0.18399019859519866.\u001b[0m\n",
      "\u001b[32m[I 2023-04-15 16:21:50,913]\u001b[0m Trial 148 finished with value: 0.18433600629551264 and parameters: {'n_estimators': 116, 'learning_rate': 0.012114338277192669, 'max_depth': 5}. Best is trial 148 with value: 0.18433600629551264.\u001b[0m\n",
      "\u001b[32m[I 2023-04-15 16:21:51,085]\u001b[0m Trial 149 finished with value: 0.16026424881431764 and parameters: {'n_estimators': 111, 'learning_rate': 0.013047056076738499, 'max_depth': 6}. Best is trial 148 with value: 0.18433600629551264.\u001b[0m\n",
      "\u001b[32m[I 2023-04-15 16:21:51,241]\u001b[0m Trial 150 finished with value: 0.05100144870700172 and parameters: {'n_estimators': 139, 'learning_rate': 0.05843550473186446, 'max_depth': 5}. Best is trial 148 with value: 0.18433600629551264.\u001b[0m\n",
      "\u001b[32m[I 2023-04-15 16:21:51,364]\u001b[0m Trial 151 finished with value: 0.1749703804588269 and parameters: {'n_estimators': 91, 'learning_rate': 0.010894257006029636, 'max_depth': 5}. Best is trial 148 with value: 0.18433600629551264.\u001b[0m\n",
      "\u001b[32m[I 2023-04-15 16:21:51,504]\u001b[0m Trial 152 finished with value: 0.0846787961752988 and parameters: {'n_estimators': 100, 'learning_rate': 0.047331081672668196, 'max_depth': 6}. Best is trial 148 with value: 0.18433600629551264.\u001b[0m\n",
      "\u001b[32m[I 2023-04-15 16:21:51,662]\u001b[0m Trial 153 finished with value: 0.16608232445748633 and parameters: {'n_estimators': 128, 'learning_rate': 0.015729421970134366, 'max_depth': 5}. Best is trial 148 with value: 0.18433600629551264.\u001b[0m\n",
      "\u001b[32m[I 2023-04-15 16:21:51,776]\u001b[0m Trial 154 finished with value: 0.09319174996990534 and parameters: {'n_estimators': 85, 'learning_rate': 0.0709704444588686, 'max_depth': 5}. Best is trial 148 with value: 0.18433600629551264.\u001b[0m\n",
      "\u001b[32m[I 2023-04-15 16:21:52,032]\u001b[0m Trial 155 finished with value: 0.1311327102057818 and parameters: {'n_estimators': 206, 'learning_rate': 0.011205722964830564, 'max_depth': 6}. Best is trial 148 with value: 0.18433600629551264.\u001b[0m\n",
      "\u001b[32m[I 2023-04-15 16:21:52,132]\u001b[0m Trial 156 finished with value: 0.14571479468986584 and parameters: {'n_estimators': 40, 'learning_rate': 0.05153936945029647, 'max_depth': 6}. Best is trial 148 with value: 0.18433600629551264.\u001b[0m\n",
      "\u001b[32m[I 2023-04-15 16:21:52,429]\u001b[0m Trial 157 finished with value: -0.026157397753694966 and parameters: {'n_estimators': 117, 'learning_rate': 0.036108461506247774, 'max_depth': 29}. Best is trial 148 with value: 0.18433600629551264.\u001b[0m\n",
      "\u001b[32m[I 2023-04-15 16:21:52,507]\u001b[0m Trial 158 finished with value: 0.12243785399621829 and parameters: {'n_estimators': 52, 'learning_rate': 0.07019503391427351, 'max_depth': 5}. Best is trial 148 with value: 0.18433600629551264.\u001b[0m\n",
      "\u001b[32m[I 2023-04-15 16:21:52,621]\u001b[0m Trial 159 finished with value: 0.1548821132228923 and parameters: {'n_estimators': 93, 'learning_rate': 0.03002558895433399, 'max_depth': 5}. Best is trial 148 with value: 0.18433600629551264.\u001b[0m\n",
      "\u001b[32m[I 2023-04-15 16:21:52,700]\u001b[0m Trial 160 finished with value: 0.09108567574445425 and parameters: {'n_estimators': 41, 'learning_rate': 0.08009617382748103, 'max_depth': 6}. Best is trial 148 with value: 0.18433600629551264.\u001b[0m\n",
      "\u001b[32m[I 2023-04-15 16:21:52,800]\u001b[0m Trial 161 finished with value: 0.17382799780730024 and parameters: {'n_estimators': 69, 'learning_rate': 0.028540239089769152, 'max_depth': 5}. Best is trial 148 with value: 0.18433600629551264.\u001b[0m\n",
      "\u001b[32m[I 2023-04-15 16:21:52,913]\u001b[0m Trial 162 finished with value: 0.08828044315119798 and parameters: {'n_estimators': 76, 'learning_rate': 0.05037292018330917, 'max_depth': 6}. Best is trial 148 with value: 0.18433600629551264.\u001b[0m\n",
      "\u001b[32m[I 2023-04-15 16:21:52,988]\u001b[0m Trial 163 finished with value: 0.10964099173152968 and parameters: {'n_estimators': 33, 'learning_rate': 0.010873531727055321, 'max_depth': 5}. Best is trial 148 with value: 0.18433600629551264.\u001b[0m\n",
      "\u001b[32m[I 2023-04-15 16:21:53,079]\u001b[0m Trial 164 finished with value: 0.15199805370819888 and parameters: {'n_estimators': 58, 'learning_rate': 0.010494197634731882, 'max_depth': 5}. Best is trial 148 with value: 0.18433600629551264.\u001b[0m\n",
      "\u001b[32m[I 2023-04-15 16:21:53,224]\u001b[0m Trial 165 finished with value: 0.10609088176505668 and parameters: {'n_estimators': 101, 'learning_rate': 0.03436099340831292, 'max_depth': 6}. Best is trial 148 with value: 0.18433600629551264.\u001b[0m\n",
      "\u001b[32m[I 2023-04-15 16:21:53,329]\u001b[0m Trial 166 finished with value: 0.1255143964550371 and parameters: {'n_estimators': 68, 'learning_rate': 0.0559700848441977, 'max_depth': 5}. Best is trial 148 with value: 0.18433600629551264.\u001b[0m\n",
      "\u001b[32m[I 2023-04-15 16:21:53,427]\u001b[0m Trial 167 finished with value: 0.11608723865145369 and parameters: {'n_estimators': 33, 'learning_rate': 0.07640651685893668, 'max_depth': 6}. Best is trial 148 with value: 0.18433600629551264.\u001b[0m\n",
      "\u001b[32m[I 2023-04-15 16:21:53,617]\u001b[0m Trial 168 finished with value: 0.11926575873028036 and parameters: {'n_estimators': 154, 'learning_rate': 0.028931654263687337, 'max_depth': 5}. Best is trial 148 with value: 0.18433600629551264.\u001b[0m\n",
      "\u001b[32m[I 2023-04-15 16:21:53,935]\u001b[0m Trial 169 finished with value: 0.005146805857260328 and parameters: {'n_estimators': 376, 'learning_rate': 0.047002222289655574, 'max_depth': 5}. Best is trial 148 with value: 0.18433600629551264.\u001b[0m\n",
      "\u001b[32m[I 2023-04-15 16:21:54,036]\u001b[0m Trial 170 finished with value: -0.12833155396925047 and parameters: {'n_estimators': 83, 'learning_rate': 0.4729589969307577, 'max_depth': 5}. Best is trial 148 with value: 0.18433600629551264.\u001b[0m\n",
      "\u001b[32m[I 2023-04-15 16:21:54,119]\u001b[0m Trial 171 finished with value: 0.18031005812984727 and parameters: {'n_estimators': 51, 'learning_rate': 0.030290397557663593, 'max_depth': 5}. Best is trial 148 with value: 0.18433600629551264.\u001b[0m\n",
      "\u001b[32m[I 2023-04-15 16:21:54,210]\u001b[0m Trial 172 finished with value: 0.15183419889717437 and parameters: {'n_estimators': 52, 'learning_rate': 0.02940815088601166, 'max_depth': 6}. Best is trial 148 with value: 0.18433600629551264.\u001b[0m\n",
      "\u001b[32m[I 2023-04-15 16:21:54,278]\u001b[0m Trial 173 finished with value: 0.005710437375630972 and parameters: {'n_estimators': 29, 'learning_rate': 0.30297598014524696, 'max_depth': 5}. Best is trial 148 with value: 0.18433600629551264.\u001b[0m\n",
      "\u001b[32m[I 2023-04-15 16:21:54,473]\u001b[0m Trial 174 finished with value: -0.028260167525644884 and parameters: {'n_estimators': 68, 'learning_rate': 0.060450503759303754, 'max_depth': 15}. Best is trial 148 with value: 0.18433600629551264.\u001b[0m\n",
      "\u001b[32m[I 2023-04-15 16:21:54,613]\u001b[0m Trial 175 finished with value: 0.13250051431035265 and parameters: {'n_estimators': 109, 'learning_rate': 0.029904884887356466, 'max_depth': 5}. Best is trial 148 with value: 0.18433600629551264.\u001b[0m\n",
      "\u001b[32m[I 2023-04-15 16:21:54,701]\u001b[0m Trial 176 finished with value: 0.1452222587304583 and parameters: {'n_estimators': 50, 'learning_rate': 0.011930024664165234, 'max_depth': 6}. Best is trial 148 with value: 0.18433600629551264.\u001b[0m\n",
      "\u001b[32m[I 2023-04-15 16:21:54,807]\u001b[0m Trial 177 finished with value: 0.07248902936550947 and parameters: {'n_estimators': 84, 'learning_rate': 0.0817982560861977, 'max_depth': 5}. Best is trial 148 with value: 0.18433600629551264.\u001b[0m\n",
      "\u001b[32m[I 2023-04-15 16:21:54,889]\u001b[0m Trial 178 finished with value: 0.13964104173595093 and parameters: {'n_estimators': 41, 'learning_rate': 0.04855253664226506, 'max_depth': 6}. Best is trial 148 with value: 0.18433600629551264.\u001b[0m\n",
      "\u001b[32m[I 2023-04-15 16:21:55,064]\u001b[0m Trial 179 finished with value: 0.03580026207118823 and parameters: {'n_estimators': 122, 'learning_rate': 0.06424790247314068, 'max_depth': 7}. Best is trial 148 with value: 0.18433600629551264.\u001b[0m\n",
      "\u001b[32m[I 2023-04-15 16:21:55,138]\u001b[0m Trial 180 finished with value: 0.16153239599579264 and parameters: {'n_estimators': 29, 'learning_rate': 0.02834625091367361, 'max_depth': 6}. Best is trial 148 with value: 0.18433600629551264.\u001b[0m\n",
      "\u001b[32m[I 2023-04-15 16:21:55,227]\u001b[0m Trial 181 finished with value: 0.16375632784100935 and parameters: {'n_estimators': 59, 'learning_rate': 0.04403474179145076, 'max_depth': 5}. Best is trial 148 with value: 0.18433600629551264.\u001b[0m\n",
      "\u001b[32m[I 2023-04-15 16:21:55,316]\u001b[0m Trial 182 finished with value: 0.15284966186220958 and parameters: {'n_estimators': 57, 'learning_rate': 0.01107768949827938, 'max_depth': 5}. Best is trial 148 with value: 0.18433600629551264.\u001b[0m\n",
      "\u001b[32m[I 2023-04-15 16:21:55,438]\u001b[0m Trial 183 finished with value: 0.152814511459697 and parameters: {'n_estimators': 80, 'learning_rate': 0.03512164657755826, 'max_depth': 5}. Best is trial 148 with value: 0.18433600629551264.\u001b[0m\n",
      "\u001b[32m[I 2023-04-15 16:21:55,572]\u001b[0m Trial 184 finished with value: 0.10202401339216202 and parameters: {'n_estimators': 101, 'learning_rate': 0.057031002747798334, 'max_depth': 5}. Best is trial 148 with value: 0.18433600629551264.\u001b[0m\n",
      "\u001b[32m[I 2023-04-15 16:21:55,641]\u001b[0m Trial 185 finished with value: 0.1262358104763625 and parameters: {'n_estimators': 28, 'learning_rate': 0.08127755396806031, 'max_depth': 6}. Best is trial 148 with value: 0.18433600629551264.\u001b[0m\n",
      "\u001b[32m[I 2023-04-15 16:21:55,748]\u001b[0m Trial 186 finished with value: 0.17120627782924377 and parameters: {'n_estimators': 70, 'learning_rate': 0.029434182308490365, 'max_depth': 5}. Best is trial 148 with value: 0.18433600629551264.\u001b[0m\n",
      "\u001b[32m[I 2023-04-15 16:21:55,874]\u001b[0m Trial 187 finished with value: 0.1346276123648787 and parameters: {'n_estimators': 71, 'learning_rate': 0.027526454817226185, 'max_depth': 6}. Best is trial 148 with value: 0.18433600629551264.\u001b[0m\n",
      "\u001b[32m[I 2023-04-15 16:21:55,956]\u001b[0m Trial 188 finished with value: 0.1366711112929319 and parameters: {'n_estimators': 47, 'learning_rate': 0.010577536189413593, 'max_depth': 5}. Best is trial 148 with value: 0.18433600629551264.\u001b[0m\n",
      "\u001b[32m[I 2023-04-15 16:21:56,058]\u001b[0m Trial 189 finished with value: -0.22479453181515713 and parameters: {'n_estimators': 84, 'learning_rate': 0.7199209833661453, 'max_depth': 6}. Best is trial 148 with value: 0.18433600629551264.\u001b[0m\n",
      "\u001b[32m[I 2023-04-15 16:21:56,125]\u001b[0m Trial 190 finished with value: 0.12922357103281973 and parameters: {'n_estimators': 31, 'learning_rate': 0.1114734229128688, 'max_depth': 5}. Best is trial 148 with value: 0.18433600629551264.\u001b[0m\n",
      "\u001b[32m[I 2023-04-15 16:21:56,217]\u001b[0m Trial 191 finished with value: 0.024320383086605602 and parameters: {'n_estimators': 59, 'learning_rate': 0.2310816472278252, 'max_depth': 5}. Best is trial 148 with value: 0.18433600629551264.\u001b[0m\n",
      "\u001b[32m[I 2023-04-15 16:21:56,315]\u001b[0m Trial 192 finished with value: 0.13541850623768797 and parameters: {'n_estimators': 70, 'learning_rate': 0.05065045071873391, 'max_depth': 5}. Best is trial 148 with value: 0.18433600629551264.\u001b[0m\n",
      "\u001b[32m[I 2023-04-15 16:21:56,395]\u001b[0m Trial 193 finished with value: 0.17711929861381295 and parameters: {'n_estimators': 45, 'learning_rate': 0.038059622411731206, 'max_depth': 5}. Best is trial 148 with value: 0.18433600629551264.\u001b[0m\n",
      "\u001b[32m[I 2023-04-15 16:21:56,450]\u001b[0m Trial 194 finished with value: 0.15595311093777103 and parameters: {'n_estimators': 10, 'learning_rate': 0.06998822403720567, 'max_depth': 6}. Best is trial 148 with value: 0.18433600629551264.\u001b[0m\n",
      "\u001b[32m[I 2023-04-15 16:21:57,286]\u001b[0m Trial 195 finished with value: 0.0038945288739084204 and parameters: {'n_estimators': 973, 'learning_rate': 0.031769046340315854, 'max_depth': 5}. Best is trial 148 with value: 0.18433600629551264.\u001b[0m\n",
      "\u001b[32m[I 2023-04-15 16:21:57,420]\u001b[0m Trial 196 finished with value: 0.08228558115144666 and parameters: {'n_estimators': 96, 'learning_rate': 0.047445691592448, 'max_depth': 6}. Best is trial 148 with value: 0.18433600629551264.\u001b[0m\n",
      "\u001b[32m[I 2023-04-15 16:21:57,509]\u001b[0m Trial 197 finished with value: 0.10896047215992063 and parameters: {'n_estimators': 45, 'learning_rate': 0.0891814220848198, 'max_depth': 5}. Best is trial 148 with value: 0.18433600629551264.\u001b[0m\n",
      "\u001b[32m[I 2023-04-15 16:21:57,579]\u001b[0m Trial 198 finished with value: 0.09752825169288934 and parameters: {'n_estimators': 29, 'learning_rate': 0.011510866681902161, 'max_depth': 6}. Best is trial 148 with value: 0.18433600629551264.\u001b[0m\n",
      "\u001b[32m[I 2023-04-15 16:21:58,154]\u001b[0m Trial 199 finished with value: -0.03100039180812699 and parameters: {'n_estimators': 754, 'learning_rate': 0.06312846926083532, 'max_depth': 5}. Best is trial 148 with value: 0.18433600629551264.\u001b[0m\n"
     ]
    }
   ],
   "source": [
    "def optuna_study(X, y):\n",
    "\n",
    "    def objective(trial):\n",
    "        n_estimators = trial.suggest_int('n_estimators', 10, 1000)\n",
    "        learning_rate = trial.suggest_float('learning_rate', 0.01, 1.0)\n",
    "        max_depth = trial.suggest_int('max_depth', 5, 30)\n",
    "        \n",
    "        rf = XGBRegressor(n_estimators=n_estimators,\n",
    "                        learning_rate=learning_rate,\n",
    "                        max_depth=max_depth)\n",
    "        \n",
    "        # # score = StratifiedKFold(rf, X, y)\n",
    "        \n",
    "        # kfold = RepeatedStratifiedKFold(n_splits=40, n_repeats=6, random_state=69);\n",
    "        \n",
    "        # scores = []\n",
    "        \n",
    "        # for train_idx, test_idx in kfold.split(X, y):\n",
    "        #     X_train, X_test = X[train_idx], X[test_idx]\n",
    "        #     y_train, y_test = y[train_idx], y[test_idx]\n",
    "        #     rf.fit(X_train, y_train)\n",
    "        #     y_pred = rf.predict(X_test)\n",
    "        #     scores.append(roc_auc_score(y_test, y_pred))\n",
    "        \n",
    "        # return np.mean(scores)\n",
    "\n",
    "        score = cross_val_score(rf, X, y, n_jobs=4, cv=5)\n",
    "        return score.mean()\n",
    "\n",
    "    study = optuna.create_study(direction='maximize')\n",
    "    study.optimize(objective, n_trials=200)\n",
    "    \n",
    "    return study.best_params\n",
    "\n",
    "# Study 1 (no ph + remove outlier + aggregate values, 100 trials): 0.1564147933997004\n",
    "# Study 2 (no preprocessing, 100 trials): 0.12094767907088448\n",
    "# Study 3 (preprocessing kudos to MOHAMMAD RAZEGHI, 200 trials): 0.18433600629551264\n",
    "\n",
    "best_params = optuna_study(X, y)"
   ]
  },
  {
   "cell_type": "markdown",
   "id": "a92342f1",
   "metadata": {
    "papermill": {
     "duration": 0.004738,
     "end_time": "2023-04-09T00:41:12.363834",
     "exception": false,
     "start_time": "2023-04-09T00:41:12.359096",
     "status": "completed"
    },
    "tags": []
   },
   "source": [
    "# Submission"
   ]
  },
  {
   "cell_type": "code",
   "execution_count": 200,
   "id": "d7bf9561",
   "metadata": {
    "execution": {
     "iopub.execute_input": "2023-04-09T00:41:12.376066Z",
     "iopub.status.busy": "2023-04-09T00:41:12.375635Z",
     "iopub.status.idle": "2023-04-09T00:41:12.641258Z",
     "shell.execute_reply": "2023-04-09T00:41:12.640270Z"
    },
    "papermill": {
     "duration": 0.274782,
     "end_time": "2023-04-09T00:41:12.643800",
     "exception": false,
     "start_time": "2023-04-09T00:41:12.369018",
     "status": "completed"
    },
    "tags": []
   },
   "outputs": [
    {
     "data": {
      "text/html": [
       "<div>\n",
       "<style scoped>\n",
       "    .dataframe tbody tr th:only-of-type {\n",
       "        vertical-align: middle;\n",
       "    }\n",
       "\n",
       "    .dataframe tbody tr th {\n",
       "        vertical-align: top;\n",
       "    }\n",
       "\n",
       "    .dataframe thead th {\n",
       "        text-align: right;\n",
       "    }\n",
       "</style>\n",
       "<table border=\"1\" class=\"dataframe\">\n",
       "  <thead>\n",
       "    <tr style=\"text-align: right;\">\n",
       "      <th></th>\n",
       "      <th>id</th>\n",
       "      <th>target</th>\n",
       "    </tr>\n",
       "  </thead>\n",
       "  <tbody>\n",
       "    <tr>\n",
       "      <th>0</th>\n",
       "      <td>414</td>\n",
       "      <td>0.312351</td>\n",
       "    </tr>\n",
       "    <tr>\n",
       "      <th>1</th>\n",
       "      <td>415</td>\n",
       "      <td>0.497736</td>\n",
       "    </tr>\n",
       "    <tr>\n",
       "      <th>2</th>\n",
       "      <td>416</td>\n",
       "      <td>0.773509</td>\n",
       "    </tr>\n",
       "    <tr>\n",
       "      <th>3</th>\n",
       "      <td>417</td>\n",
       "      <td>0.449057</td>\n",
       "    </tr>\n",
       "    <tr>\n",
       "      <th>4</th>\n",
       "      <td>418</td>\n",
       "      <td>0.207732</td>\n",
       "    </tr>\n",
       "  </tbody>\n",
       "</table>\n",
       "</div>"
      ],
      "text/plain": [
       "    id    target\n",
       "0  414  0.312351\n",
       "1  415  0.497736\n",
       "2  416  0.773509\n",
       "3  417  0.449057\n",
       "4  418  0.207732"
      ]
     },
     "metadata": {},
     "output_type": "display_data"
    },
    {
     "name": "stdout",
     "output_type": "stream",
     "text": [
      "Successful\n"
     ]
    }
   ],
   "source": [
    "final_model = XGBRegressor(\n",
    "    n_estimators = best_params['n_estimators'], \n",
    "    max_depth = best_params['max_depth'], \n",
    "    learning_rate = best_params['learning_rate'],\n",
    "    n_jobs=4)\n",
    "\n",
    "final_model.fit(X, y)\n",
    "predictions = final_model.predict(no_id_test_data)\n",
    "\n",
    "submission = pd.DataFrame({'id': test_data.id, 'target': predictions})\n",
    "\n",
    "display(submission.head())\n",
    "\n",
    "submission.to_csv('submission5.csv', index=False)\n",
    "\n",
    "print('Successful')"
   ]
  }
 ],
 "metadata": {
  "kernelspec": {
   "display_name": "Python 3",
   "language": "python",
   "name": "python3"
  },
  "language_info": {
   "codemirror_mode": {
    "name": "ipython",
    "version": 3
   },
   "file_extension": ".py",
   "mimetype": "text/x-python",
   "name": "python",
   "nbconvert_exporter": "python",
   "pygments_lexer": "ipython3",
   "version": "3.11.3"
  },
  "papermill": {
   "default_parameters": {},
   "duration": 219.706329,
   "end_time": "2023-04-09T00:41:13.474455",
   "environment_variables": {},
   "exception": null,
   "input_path": "__notebook__.ipynb",
   "output_path": "__notebook__.ipynb",
   "parameters": {},
   "start_time": "2023-04-09T00:37:33.768126",
   "version": "2.4.0"
  }
 },
 "nbformat": 4,
 "nbformat_minor": 5
}
