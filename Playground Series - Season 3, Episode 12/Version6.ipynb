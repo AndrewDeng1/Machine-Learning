{
 "cells": [
  {
   "cell_type": "code",
   "execution_count": 55,
   "id": "74adbfdb",
   "metadata": {
    "_cell_guid": "b1076dfc-b9ad-4769-8c92-a6c4dae69d19",
    "_uuid": "8f2839f25d086af736a60e9eeb907d3b93b6e0e5",
    "execution": {
     "iopub.execute_input": "2023-04-09T00:37:46.837496Z",
     "iopub.status.busy": "2023-04-09T00:37:46.837072Z",
     "iopub.status.idle": "2023-04-09T00:37:46.857641Z",
     "shell.execute_reply": "2023-04-09T00:37:46.855677Z"
    },
    "papermill": {
     "duration": 0.031202,
     "end_time": "2023-04-09T00:37:46.860551",
     "exception": false,
     "start_time": "2023-04-09T00:37:46.829349",
     "status": "completed"
    },
    "tags": []
   },
   "outputs": [],
   "source": [
    "# score: 0.82666\n",
    "\n",
    "\n",
    "# This Python 3 environment comes with many helpful analytics libraries installed\n",
    "# It is defined by the kaggle/python Docker image: https://github.com/kaggle/docker-python\n",
    "# For example, here's several helpful packages to load\n",
    "\n",
    "import numpy as np # linear algebra\n",
    "import pandas as pd # data processing, CSV file I/O (e.g. pd.read_csv)\n",
    "\n",
    "# Input data files are available in the read-only \"../input/\" directory\n",
    "# For example, running this (by clicking run or pressing Shift+Enter) will list all files under the input directory\n",
    "\n",
    "import os\n",
    "for dirname, _, filenames in os.walk('/kaggle/input'):\n",
    "    for filename in filenames:\n",
    "        print(os.path.join(dirname, filename))\n",
    "\n",
    "# You can write up to 20GB to the current directory (/kaggle/working/) that gets preserved as output when you create a version using \"Save & Run All\" \n",
    "# You can also write temporary files to /kaggle/temp/, but they won't be saved outside of the current session"
   ]
  },
  {
   "cell_type": "markdown",
   "id": "888c8ea2",
   "metadata": {
    "papermill": {
     "duration": 0.004216,
     "end_time": "2023-04-09T00:37:46.869621",
     "exception": false,
     "start_time": "2023-04-09T00:37:46.865405",
     "status": "completed"
    },
    "tags": []
   },
   "source": [
    "# Imports"
   ]
  },
  {
   "cell_type": "code",
   "execution_count": 56,
   "id": "b83b2d96",
   "metadata": {
    "execution": {
     "iopub.execute_input": "2023-04-09T00:37:46.880770Z",
     "iopub.status.busy": "2023-04-09T00:37:46.880373Z",
     "iopub.status.idle": "2023-04-09T00:37:48.305370Z",
     "shell.execute_reply": "2023-04-09T00:37:48.304381Z"
    },
    "papermill": {
     "duration": 1.433975,
     "end_time": "2023-04-09T00:37:48.308186",
     "exception": false,
     "start_time": "2023-04-09T00:37:46.874211",
     "status": "completed"
    },
    "tags": []
   },
   "outputs": [],
   "source": [
    "from xgboost import XGBRegressor, XGBClassifier\n",
    "from sklearn.ensemble import RandomForestClassifier\n",
    "from sklearn.model_selection import train_test_split, GridSearchCV\n",
    "from sklearn.pipeline import Pipeline\n",
    "from sklearn.model_selection import cross_val_score, RepeatedStratifiedKFold\n",
    "from sklearn.metrics import mean_absolute_error, roc_auc_score\n",
    "from sklearn.impute import SimpleImputer\n",
    "from sklearn.preprocessing import StandardScaler\n",
    "import optuna"
   ]
  },
  {
   "cell_type": "markdown",
   "id": "899d4cf0",
   "metadata": {
    "papermill": {
     "duration": 0.004594,
     "end_time": "2023-04-09T00:37:48.317768",
     "exception": false,
     "start_time": "2023-04-09T00:37:48.313174",
     "status": "completed"
    },
    "tags": []
   },
   "source": [
    "# Get data"
   ]
  },
  {
   "cell_type": "code",
   "execution_count": 57,
   "id": "5b46937c",
   "metadata": {
    "execution": {
     "iopub.execute_input": "2023-04-09T00:37:48.331008Z",
     "iopub.status.busy": "2023-04-09T00:37:48.329721Z",
     "iopub.status.idle": "2023-04-09T00:37:48.400420Z",
     "shell.execute_reply": "2023-04-09T00:37:48.398896Z"
    },
    "papermill": {
     "duration": 0.080348,
     "end_time": "2023-04-09T00:37:48.403526",
     "exception": false,
     "start_time": "2023-04-09T00:37:48.323178",
     "status": "completed"
    },
    "tags": []
   },
   "outputs": [
    {
     "data": {
      "text/html": [
       "<div>\n",
       "<style scoped>\n",
       "    .dataframe tbody tr th:only-of-type {\n",
       "        vertical-align: middle;\n",
       "    }\n",
       "\n",
       "    .dataframe tbody tr th {\n",
       "        vertical-align: top;\n",
       "    }\n",
       "\n",
       "    .dataframe thead th {\n",
       "        text-align: right;\n",
       "    }\n",
       "</style>\n",
       "<table border=\"1\" class=\"dataframe\">\n",
       "  <thead>\n",
       "    <tr style=\"text-align: right;\">\n",
       "      <th></th>\n",
       "      <th>gravity</th>\n",
       "      <th>ph</th>\n",
       "      <th>osmo</th>\n",
       "      <th>cond</th>\n",
       "      <th>urea</th>\n",
       "      <th>calc</th>\n",
       "    </tr>\n",
       "  </thead>\n",
       "  <tbody>\n",
       "    <tr>\n",
       "      <th>0</th>\n",
       "      <td>1.013</td>\n",
       "      <td>6.19</td>\n",
       "      <td>443</td>\n",
       "      <td>14.8</td>\n",
       "      <td>124</td>\n",
       "      <td>1.45</td>\n",
       "    </tr>\n",
       "    <tr>\n",
       "      <th>1</th>\n",
       "      <td>1.025</td>\n",
       "      <td>5.40</td>\n",
       "      <td>703</td>\n",
       "      <td>23.6</td>\n",
       "      <td>394</td>\n",
       "      <td>4.18</td>\n",
       "    </tr>\n",
       "    <tr>\n",
       "      <th>2</th>\n",
       "      <td>1.009</td>\n",
       "      <td>6.13</td>\n",
       "      <td>371</td>\n",
       "      <td>24.5</td>\n",
       "      <td>159</td>\n",
       "      <td>9.04</td>\n",
       "    </tr>\n",
       "    <tr>\n",
       "      <th>3</th>\n",
       "      <td>1.021</td>\n",
       "      <td>4.91</td>\n",
       "      <td>442</td>\n",
       "      <td>20.8</td>\n",
       "      <td>398</td>\n",
       "      <td>6.63</td>\n",
       "    </tr>\n",
       "    <tr>\n",
       "      <th>4</th>\n",
       "      <td>1.021</td>\n",
       "      <td>5.53</td>\n",
       "      <td>874</td>\n",
       "      <td>17.8</td>\n",
       "      <td>385</td>\n",
       "      <td>2.21</td>\n",
       "    </tr>\n",
       "  </tbody>\n",
       "</table>\n",
       "</div>"
      ],
      "text/plain": [
       "   gravity    ph  osmo  cond  urea  calc\n",
       "0    1.013  6.19   443  14.8   124  1.45\n",
       "1    1.025  5.40   703  23.6   394  4.18\n",
       "2    1.009  6.13   371  24.5   159  9.04\n",
       "3    1.021  4.91   442  20.8   398  6.63\n",
       "4    1.021  5.53   874  17.8   385  2.21"
      ]
     },
     "metadata": {},
     "output_type": "display_data"
    },
    {
     "data": {
      "text/plain": [
       "0    0\n",
       "1    0\n",
       "2    0\n",
       "3    1\n",
       "4    1\n",
       "Name: target, dtype: int64"
      ]
     },
     "metadata": {},
     "output_type": "display_data"
    }
   ],
   "source": [
    "train_data = pd.read_csv(\"train.csv\")\n",
    "test_data = pd.read_csv(\"test.csv\")\n",
    "\n",
    "X = train_data.copy()\n",
    "X.drop(['id', 'target'], axis=1, inplace=True)\n",
    "\n",
    "y = train_data['target']\n",
    "\n",
    "no_id_test_data = test_data.drop('id', axis=1)\n",
    "\n",
    "display(X.head())\n",
    "display(y.head())"
   ]
  },
  {
   "cell_type": "markdown",
   "id": "6d772808",
   "metadata": {
    "papermill": {
     "duration": 0.005239,
     "end_time": "2023-04-09T00:37:48.413756",
     "exception": false,
     "start_time": "2023-04-09T00:37:48.408517",
     "status": "completed"
    },
    "tags": []
   },
   "source": [
    "# Split Data"
   ]
  },
  {
   "cell_type": "code",
   "execution_count": 58,
   "id": "c46f9aa2",
   "metadata": {
    "execution": {
     "iopub.execute_input": "2023-04-09T00:37:48.425837Z",
     "iopub.status.busy": "2023-04-09T00:37:48.425410Z",
     "iopub.status.idle": "2023-04-09T00:37:48.433741Z",
     "shell.execute_reply": "2023-04-09T00:37:48.432526Z"
    },
    "papermill": {
     "duration": 0.017638,
     "end_time": "2023-04-09T00:37:48.436408",
     "exception": false,
     "start_time": "2023-04-09T00:37:48.418770",
     "status": "completed"
    },
    "tags": []
   },
   "outputs": [],
   "source": [
    "X_train, X_valid, y_train, y_valid = train_test_split(X, y)"
   ]
  },
  {
   "cell_type": "markdown",
   "id": "907a613b",
   "metadata": {
    "papermill": {
     "duration": 0.00491,
     "end_time": "2023-04-09T00:37:48.446287",
     "exception": false,
     "start_time": "2023-04-09T00:37:48.441377",
     "status": "completed"
    },
    "tags": []
   },
   "source": [
    "# Missing Data"
   ]
  },
  {
   "cell_type": "code",
   "execution_count": 59,
   "id": "a9aa0fae",
   "metadata": {
    "execution": {
     "iopub.execute_input": "2023-04-09T00:37:48.459202Z",
     "iopub.status.busy": "2023-04-09T00:37:48.458287Z",
     "iopub.status.idle": "2023-04-09T00:37:48.468433Z",
     "shell.execute_reply": "2023-04-09T00:37:48.466879Z"
    },
    "papermill": {
     "duration": 0.019758,
     "end_time": "2023-04-09T00:37:48.471098",
     "exception": false,
     "start_time": "2023-04-09T00:37:48.451340",
     "status": "completed"
    },
    "tags": []
   },
   "outputs": [
    {
     "name": "stdout",
     "output_type": "stream",
     "text": [
      "There are 0 columns with missing values\n"
     ]
    }
   ],
   "source": [
    "cols_with_missing = [col for col in X_train.columns if X_train[col].isnull().any()]\n",
    "\n",
    "print(f'There are {len(cols_with_missing)} columns with missing values')\n",
    "\n",
    "for i in cols_with_missing:\n",
    "    print(i)"
   ]
  },
  {
   "cell_type": "markdown",
   "id": "56238321",
   "metadata": {},
   "source": [
    "# Feature Engineering"
   ]
  },
  {
   "cell_type": "code",
   "execution_count": 60,
   "id": "b0d5c466",
   "metadata": {},
   "outputs": [
    {
     "data": {
      "text/plain": [
       "Index(['gravity', 'ph', 'osmo', 'cond', 'urea', 'calc'], dtype='object')"
      ]
     },
     "metadata": {},
     "output_type": "display_data"
    },
    {
     "name": "stdout",
     "output_type": "stream",
     "text": [
      "gravity    414\n",
      "ph         414\n",
      "osmo       414\n",
      "cond       414\n",
      "urea       414\n",
      "calc       414\n",
      "dtype: int64\n"
     ]
    }
   ],
   "source": [
    "display(X.columns)\n",
    "\n",
    "def prepXy(df,X_label,y_label=None):\n",
    "    selected_feat = []\n",
    "    data = df.copy()\n",
    "    \n",
    "    # Feature Engineering\n",
    "    \n",
    "    \n",
    "    # Ion product of calcium and urea\n",
    "    data[\"ion_product\"] = data[\"calc\"] * data[\"urea\"]\n",
    "\n",
    "    # Calcium-to-urea ratio\n",
    "    data[\"calcium_to_urea_ratio\"] = data[\"calc\"] / data[\"urea\"]\n",
    "\n",
    "    # Electrolyte balance\n",
    "    data[\"electrolyte_balance\"] = data[\"cond\"] / (10 ** (-data[\"ph\"]))\n",
    "\n",
    "    # Osmolality-to-specific gravity ratio\n",
    "    data[\"osmolality_to_sg_ratio\"] = data[\"osmo\"] / data[\"gravity\"]\n",
    "\n",
    "    # The product of osmolarity and density is created as a new property\n",
    "    data['osmo_density'] = data['osmo'] * data['gravity']\n",
    "    \n",
    "    # ******************************************************************\n",
    "    \n",
    "    # Calculate ammonium concentration (assuming ammonium is not directly measured)\n",
    "    data['ammonium_concentration'] = (data['gravity'] - 1.010) * (140 - (2 * data[\"ph\"])) * 1.2\n",
    "\n",
    "    # Calculate phosphate concentration (assuming phosphate is not directly measured)\n",
    "    data['phosphate_concentration'] = (data['gravity'] - 1.010) * (32 - (0.06 * data[\"ph\"]))\n",
    "\n",
    "    # *****************************************************************\n",
    "    \n",
    "    data[\"gravity/ph\"] = data[\"gravity\"] / data[\"ph\"]\n",
    "    data[\"osmo/cond\"] = data[\"osmo\"] / data[\"cond\"]\n",
    "    data[\"gravity*ph\"] = data[\"gravity\"] * data[\"ph\"]\n",
    "    data[\"osmo*urea\"] = data[\"osmo\"] * data[\"urea\"]\n",
    "    data[\"cond_urea_ph\"] = data[\"cond\"] * data[\"urea\"] / data[\"ph\"]\n",
    "    data[\"ph*osmo\"] = data[\"ph\"] * data[\"osmo\"]\n",
    "    data[\"cond*calc\"] = data[\"cond\"] * data[\"calc\"]\n",
    "    data[\"gravity/calc\"] = data[\"gravity\"] / data[\"calc\"]\n",
    "\n",
    "    # Split into features and target\n",
    "    X_ret = data[X_label].values\n",
    "    \n",
    "    if y is None:\n",
    "        y_ret = np.zeros(data.shape[0])\n",
    "    else:\n",
    "        y_ret = np.ravel(y)\n",
    "\n",
    "    display(data.columns)\n",
    "\n",
    "    # Scaling dataset\n",
    "    # scaler = MinMaxScaler()\n",
    "    scaler = StandardScaler()\n",
    "    \n",
    "    X_ret = scaler.fit_transform(X_ret)\n",
    "\n",
    "    return data,X_ret,y_ret\n",
    "\n",
    "def feature_engineering(X, y=None):\n",
    "    # data.drop('ph', axis=1, inplace=True)\n",
    "    # display(data.columns)\n",
    "    \n",
    "    new_X, X_ret, y_ret = prepXy(X, y);\n",
    "    \n",
    "    return new_X, y_ret\n",
    "\n",
    "\n",
    "\n",
    "print(X.count());"
   ]
  },
  {
   "cell_type": "markdown",
   "id": "f821cc7c",
   "metadata": {},
   "source": [
    "# Remove Outliers"
   ]
  },
  {
   "cell_type": "code",
   "execution_count": 61,
   "id": "f669cd3c",
   "metadata": {},
   "outputs": [],
   "source": [
    "# Credit: KLYUSHNIK-ALEXSANDR\n",
    "\n",
    "def outlier_removal(data , i):\n",
    "    q1 = np.quantile(data[i] ,0.25)\n",
    "    q3 = np.quantile(data[i] , 0.75)\n",
    "    iqr = q3-q1\n",
    "    lower_tail = q1 - 1.5*iqr\n",
    "    upper_tail = q3 + 1.5*iqr\n",
    "    \n",
    "    \n",
    "    for j in range(0, data[i].count()):\n",
    "        if(data[i][j]>upper_tail or data[i][j]<lower_tail):\n",
    "            data[i][j]=np.nan\n",
    "            \n",
    "    return data[i]"
   ]
  },
  {
   "cell_type": "markdown",
   "id": "6946175b",
   "metadata": {},
   "source": [
    "# Aggregate Features"
   ]
  },
  {
   "cell_type": "code",
   "execution_count": 62,
   "id": "67a3f839",
   "metadata": {},
   "outputs": [],
   "source": [
    "def aggregate_features(X):\n",
    "    \n",
    "    outlier_list = ['gravity', 'osmo', 'cond', 'urea', 'calc']\n",
    "    for i in outlier_list:\n",
    "        X[i]=outlier_removal(X ,i)\n",
    "    \n",
    "    my_imputer = SimpleImputer()\n",
    "    X = pd.DataFrame(my_imputer.fit_transform(X))\n",
    "    return X"
   ]
  },
  {
   "cell_type": "markdown",
   "id": "6c9f3200",
   "metadata": {},
   "source": [
    "# Preprocess Data"
   ]
  },
  {
   "cell_type": "code",
   "execution_count": 63,
   "id": "12434db0",
   "metadata": {},
   "outputs": [
    {
     "name": "stdout",
     "output_type": "stream",
     "text": [
      "Index(['gravity', 'ph', 'osmo', 'cond', 'urea', 'calc'], dtype='object')\n"
     ]
    },
    {
     "data": {
      "text/plain": [
       "Index(['gravity', 'ph', 'osmo', 'cond', 'urea', 'calc', 'ion_product',\n",
       "       'calcium_to_urea_ratio', 'electrolyte_balance',\n",
       "       'osmolality_to_sg_ratio', 'osmo_density', 'ammonium_concentration',\n",
       "       'phosphate_concentration', 'gravity/ph', 'osmo/cond', 'gravity*ph',\n",
       "       'osmo*urea', 'cond_urea_ph', 'ph*osmo', 'cond*calc', 'gravity/calc'],\n",
       "      dtype='object')"
      ]
     },
     "metadata": {},
     "output_type": "display_data"
    },
    {
     "name": "stdout",
     "output_type": "stream",
     "text": [
      "Index(['gravity', 'ph', 'osmo', 'cond', 'urea', 'calc'], dtype='object')\n"
     ]
    },
    {
     "data": {
      "text/plain": [
       "Index(['gravity', 'ph', 'osmo', 'cond', 'urea', 'calc', 'ion_product',\n",
       "       'calcium_to_urea_ratio', 'electrolyte_balance',\n",
       "       'osmolality_to_sg_ratio', 'osmo_density', 'ammonium_concentration',\n",
       "       'phosphate_concentration', 'gravity/ph', 'osmo/cond', 'gravity*ph',\n",
       "       'osmo*urea', 'cond_urea_ph', 'ph*osmo', 'cond*calc', 'gravity/calc'],\n",
       "      dtype='object')"
      ]
     },
     "metadata": {},
     "output_type": "display_data"
    },
    {
     "data": {
      "text/plain": [
       "array([[-0.73403157,  0.36562268, -0.8897276 , -0.88438794, -1.13486936,\n",
       "        -0.82913603],\n",
       "       [ 1.06590369, -0.86589692,  0.21952069,  0.28805926,  0.84638411,\n",
       "         0.02033832],\n",
       "       [-1.33400999,  0.27208954, -1.19690404,  0.40796863, -0.8780402 ,\n",
       "         1.53258937],\n",
       "       ...,\n",
       "       [ 0.01594146,  0.50592238, -0.83853152,  0.10153357, -0.06352489,\n",
       "         1.109408  ],\n",
       "       [-1.48400459,  1.81538625, -1.39315566, -1.17749974, -1.49443017,\n",
       "        -0.9598244 ],\n",
       "       [-1.03402078,  0.27208954, -1.22676842, -1.53722786, -0.8780402 ,\n",
       "        -1.1963081 ]])"
      ]
     },
     "metadata": {},
     "output_type": "display_data"
    }
   ],
   "source": [
    "def preprocess_data(X, y=None):\n",
    "    \n",
    "    # X = aggregate_features(X);\n",
    "    \n",
    "    print(X.columns)\n",
    "    return prepXy(X, X.columns, y)\n",
    "\n",
    "\n",
    "'''preprocess data here'''\n",
    "new_df_train, X, y = preprocess_data(X, y)\n",
    "new_df_test, no_id_test_data, _ = preprocess_data(no_id_test_data)\n",
    "\n",
    "display(X)\n",
    "\n",
    "# cols_with_missing = [col for col in X.columns if X[col].isnull().any()]\n",
    "\n",
    "# print(f'There are {len(cols_with_missing)} columns with missing values')\n",
    "\n",
    "# for i in cols_with_missing:\n",
    "#     print(i)\n",
    "    \n",
    "    \n",
    "# print(X.count());\n",
    "\n"
   ]
  },
  {
   "attachments": {},
   "cell_type": "markdown",
   "id": "bd2d85c9",
   "metadata": {},
   "source": [
    "# Hyperparameter Tuning"
   ]
  },
  {
   "cell_type": "code",
   "execution_count": 64,
   "id": "79b1fafa",
   "metadata": {},
   "outputs": [
    {
     "name": "stderr",
     "output_type": "stream",
     "text": [
      "\u001b[32m[I 2023-04-15 16:56:47,231]\u001b[0m A new study created in memory with name: no-name-7ddd4b39-2468-40b4-8aa5-c7b0aadeccbc\u001b[0m\n",
      "\u001b[32m[I 2023-04-15 16:56:47,610]\u001b[0m Trial 0 finished with value: -0.004504193719279348 and parameters: {'n_estimators': 509, 'learning_rate': 0.26002292048122694, 'max_depth': 24}. Best is trial 0 with value: -0.004504193719279348.\u001b[0m\n",
      "\u001b[32m[I 2023-04-15 16:56:47,864]\u001b[0m Trial 1 finished with value: -0.09039170856031184 and parameters: {'n_estimators': 423, 'learning_rate': 0.7836567555675614, 'max_depth': 19}. Best is trial 0 with value: -0.004504193719279348.\u001b[0m\n",
      "\u001b[32m[I 2023-04-15 16:56:48,227]\u001b[0m Trial 2 finished with value: -0.24148920382539005 and parameters: {'n_estimators': 758, 'learning_rate': 0.779598156255552, 'max_depth': 4}. Best is trial 0 with value: -0.004504193719279348.\u001b[0m\n",
      "\u001b[32m[I 2023-04-15 16:56:48,575]\u001b[0m Trial 3 finished with value: -0.21945829092812952 and parameters: {'n_estimators': 942, 'learning_rate': 0.9682080277387198, 'max_depth': 13}. Best is trial 0 with value: -0.004504193719279348.\u001b[0m\n",
      "\u001b[32m[I 2023-04-15 16:56:48,709]\u001b[0m Trial 4 finished with value: 0.1714124953925582 and parameters: {'n_estimators': 91, 'learning_rate': 0.019307284195272736, 'max_depth': 5}. Best is trial 4 with value: 0.1714124953925582.\u001b[0m\n",
      "\u001b[32m[I 2023-04-15 16:56:48,900]\u001b[0m Trial 5 finished with value: -0.0693233202163723 and parameters: {'n_estimators': 430, 'learning_rate': 0.7492556885299074, 'max_depth': 21}. Best is trial 4 with value: 0.1714124953925582.\u001b[0m\n",
      "\u001b[32m[I 2023-04-15 16:56:49,198]\u001b[0m Trial 6 finished with value: -0.014462197255762898 and parameters: {'n_estimators': 113, 'learning_rate': 0.026733212416705114, 'max_depth': 21}. Best is trial 4 with value: 0.1714124953925582.\u001b[0m\n",
      "\u001b[32m[I 2023-04-15 16:56:49,602]\u001b[0m Trial 7 finished with value: -0.006284595259749337 and parameters: {'n_estimators': 545, 'learning_rate': 0.23579328075594097, 'max_depth': 12}. Best is trial 4 with value: 0.1714124953925582.\u001b[0m\n",
      "\u001b[32m[I 2023-04-15 16:56:49,774]\u001b[0m Trial 8 finished with value: -0.0002432289825815781 and parameters: {'n_estimators': 288, 'learning_rate': 0.48197454243049964, 'max_depth': 19}. Best is trial 4 with value: 0.1714124953925582.\u001b[0m\n",
      "\u001b[32m[I 2023-04-15 16:56:49,882]\u001b[0m Trial 9 finished with value: -0.05073016406959374 and parameters: {'n_estimators': 130, 'learning_rate': 0.6352147476071474, 'max_depth': 20}. Best is trial 4 with value: 0.1714124953925582.\u001b[0m\n",
      "\u001b[32m[I 2023-04-15 16:56:49,941]\u001b[0m Trial 10 finished with value: 0.20839262671596206 and parameters: {'n_estimators': 36, 'learning_rate': 0.058929003150694506, 'max_depth': 2}. Best is trial 10 with value: 0.20839262671596206.\u001b[0m\n",
      "\u001b[32m[I 2023-04-15 16:56:49,983]\u001b[0m Trial 11 finished with value: 0.11667167621232424 and parameters: {'n_estimators': 16, 'learning_rate': 0.029625347518984692, 'max_depth': 1}. Best is trial 10 with value: 0.20839262671596206.\u001b[0m\n",
      "\u001b[32m[I 2023-04-15 16:56:50,206]\u001b[0m Trial 12 finished with value: 0.000962509734260153 and parameters: {'n_estimators': 242, 'learning_rate': 0.2288924070339673, 'max_depth': 7}. Best is trial 10 with value: 0.20839262671596206.\u001b[0m\n",
      "\u001b[32m[I 2023-04-15 16:56:50,279]\u001b[0m Trial 13 finished with value: 0.09912455228612108 and parameters: {'n_estimators': 23, 'learning_rate': 0.08910469869685378, 'max_depth': 7}. Best is trial 10 with value: 0.20839262671596206.\u001b[0m\n",
      "\u001b[32m[I 2023-04-15 16:56:50,417]\u001b[0m Trial 14 finished with value: 0.10220709970225539 and parameters: {'n_estimators': 245, 'learning_rate': 0.3778896908708387, 'max_depth': 1}. Best is trial 10 with value: 0.20839262671596206.\u001b[0m\n",
      "\u001b[32m[I 2023-04-15 16:56:51,040]\u001b[0m Trial 15 finished with value: -0.055336236366062885 and parameters: {'n_estimators': 666, 'learning_rate': 0.12420364288341201, 'max_depth': 29}. Best is trial 10 with value: 0.20839262671596206.\u001b[0m\n",
      "\u001b[32m[I 2023-04-15 16:56:51,372]\u001b[0m Trial 16 finished with value: 0.013553283386006098 and parameters: {'n_estimators': 143, 'learning_rate': 0.15025789589155364, 'max_depth': 8}. Best is trial 10 with value: 0.20839262671596206.\u001b[0m\n",
      "\u001b[32m[I 2023-04-15 16:56:52,066]\u001b[0m Trial 17 finished with value: -0.03785972424981669 and parameters: {'n_estimators': 317, 'learning_rate': 0.013673917508837959, 'max_depth': 11}. Best is trial 10 with value: 0.20839262671596206.\u001b[0m\n",
      "\u001b[32m[I 2023-04-15 16:56:52,225]\u001b[0m Trial 18 finished with value: -0.07054056956006216 and parameters: {'n_estimators': 159, 'learning_rate': 0.32836759316262853, 'max_depth': 4}. Best is trial 10 with value: 0.20839262671596206.\u001b[0m\n",
      "\u001b[32m[I 2023-04-15 16:56:52,535]\u001b[0m Trial 19 finished with value: -0.02982460152595403 and parameters: {'n_estimators': 371, 'learning_rate': 0.18874197116062486, 'max_depth': 15}. Best is trial 10 with value: 0.20839262671596206.\u001b[0m\n",
      "\u001b[32m[I 2023-04-15 16:56:52,611]\u001b[0m Trial 20 finished with value: 0.0881323172986436 and parameters: {'n_estimators': 13, 'learning_rate': 0.35596177812492796, 'max_depth': 4}. Best is trial 10 with value: 0.20839262671596206.\u001b[0m\n",
      "\u001b[32m[I 2023-04-15 16:56:52,670]\u001b[0m Trial 21 finished with value: 0.06474432644614658 and parameters: {'n_estimators': 13, 'learning_rate': 0.01906943561687069, 'max_depth': 1}. Best is trial 10 with value: 0.20839262671596206.\u001b[0m\n",
      "\u001b[32m[I 2023-04-15 16:56:52,773]\u001b[0m Trial 22 finished with value: 0.2084502533756783 and parameters: {'n_estimators': 107, 'learning_rate': 0.09995178019526532, 'max_depth': 1}. Best is trial 22 with value: 0.2084502533756783.\u001b[0m\n",
      "\u001b[32m[I 2023-04-15 16:56:53,028]\u001b[0m Trial 23 finished with value: 0.01776671889634871 and parameters: {'n_estimators': 183, 'learning_rate': 0.13514341437809063, 'max_depth': 5}. Best is trial 22 with value: 0.2084502533756783.\u001b[0m\n",
      "\u001b[32m[I 2023-04-15 16:56:53,140]\u001b[0m Trial 24 finished with value: 0.09632929896515252 and parameters: {'n_estimators': 113, 'learning_rate': 0.09872993377578414, 'max_depth': 3}. Best is trial 22 with value: 0.2084502533756783.\u001b[0m\n",
      "\u001b[32m[I 2023-04-15 16:56:53,377]\u001b[0m Trial 25 finished with value: -0.022287681072891363 and parameters: {'n_estimators': 91, 'learning_rate': 0.16804071104865204, 'max_depth': 9}. Best is trial 22 with value: 0.2084502533756783.\u001b[0m\n",
      "\u001b[32m[I 2023-04-15 16:56:53,639]\u001b[0m Trial 26 finished with value: 0.01714561613707577 and parameters: {'n_estimators': 205, 'learning_rate': 0.09380903897172083, 'max_depth': 6}. Best is trial 22 with value: 0.2084502533756783.\u001b[0m\n",
      "\u001b[32m[I 2023-04-15 16:56:53,873]\u001b[0m Trial 27 finished with value: 0.016056037954540137 and parameters: {'n_estimators': 329, 'learning_rate': 0.29304810707901663, 'max_depth': 10}. Best is trial 22 with value: 0.2084502533756783.\u001b[0m\n",
      "\u001b[32m[I 2023-04-15 16:56:54,202]\u001b[0m Trial 28 finished with value: -0.2159274928354943 and parameters: {'n_estimators': 607, 'learning_rate': 0.19143637852527579, 'max_depth': 2}. Best is trial 22 with value: 0.2084502533756783.\u001b[0m\n",
      "\u001b[32m[I 2023-04-15 16:56:54,361]\u001b[0m Trial 29 finished with value: -0.0016837279619623447 and parameters: {'n_estimators': 76, 'learning_rate': 0.2727724867642083, 'max_depth': 28}. Best is trial 22 with value: 0.2084502533756783.\u001b[0m\n",
      "\u001b[32m[I 2023-04-15 16:56:54,741]\u001b[0m Trial 30 finished with value: -0.04476663256971223 and parameters: {'n_estimators': 229, 'learning_rate': 0.06846255444304687, 'max_depth': 14}. Best is trial 22 with value: 0.2084502533756783.\u001b[0m\n",
      "\u001b[32m[I 2023-04-15 16:56:54,808]\u001b[0m Trial 31 finished with value: 0.22173648085154185 and parameters: {'n_estimators': 72, 'learning_rate': 0.05299274797773813, 'max_depth': 1}. Best is trial 31 with value: 0.22173648085154185.\u001b[0m\n",
      "\u001b[32m[I 2023-04-15 16:56:54,895]\u001b[0m Trial 32 finished with value: 0.1443604223705248 and parameters: {'n_estimators': 85, 'learning_rate': 0.06995066538726508, 'max_depth': 3}. Best is trial 31 with value: 0.22173648085154185.\u001b[0m\n",
      "\u001b[32m[I 2023-04-15 16:56:55,442]\u001b[0m Trial 33 finished with value: -0.030376015703246485 and parameters: {'n_estimators': 424, 'learning_rate': 0.15806049471434624, 'max_depth': 5}. Best is trial 31 with value: 0.22173648085154185.\u001b[0m\n",
      "\u001b[32m[I 2023-04-15 16:56:55,696]\u001b[0m Trial 34 finished with value: 0.10204000195007698 and parameters: {'n_estimators': 63, 'learning_rate': 0.010786142637592769, 'max_depth': 17}. Best is trial 31 with value: 0.22173648085154185.\u001b[0m\n",
      "\u001b[32m[I 2023-04-15 16:56:56,416]\u001b[0m Trial 35 finished with value: -0.31380720941630635 and parameters: {'n_estimators': 867, 'learning_rate': 0.22052665104763852, 'max_depth': 2}. Best is trial 31 with value: 0.22173648085154185.\u001b[0m\n",
      "\u001b[32m[I 2023-04-15 16:56:56,834]\u001b[0m Trial 36 finished with value: -0.04420872433400802 and parameters: {'n_estimators': 175, 'learning_rate': 0.10173235452074739, 'max_depth': 24}. Best is trial 31 with value: 0.22173648085154185.\u001b[0m\n",
      "\u001b[32m[I 2023-04-15 16:56:57,578]\u001b[0m Trial 37 finished with value: 0.0011655366465575412 and parameters: {'n_estimators': 760, 'learning_rate': 0.06692076962943917, 'max_depth': 6}. Best is trial 31 with value: 0.22173648085154185.\u001b[0m\n",
      "\u001b[32m[I 2023-04-15 16:56:57,865]\u001b[0m Trial 38 finished with value: -0.17324849159909578 and parameters: {'n_estimators': 510, 'learning_rate': 0.1899515539681419, 'max_depth': 3}. Best is trial 31 with value: 0.22173648085154185.\u001b[0m\n",
      "\u001b[32m[I 2023-04-15 16:56:58,004]\u001b[0m Trial 39 finished with value: 0.1629115063245195 and parameters: {'n_estimators': 266, 'learning_rate': 0.13369133888095253, 'max_depth': 1}. Best is trial 31 with value: 0.22173648085154185.\u001b[0m\n",
      "\u001b[32m[I 2023-04-15 16:56:58,290]\u001b[0m Trial 40 finished with value: -0.03060637821671437 and parameters: {'n_estimators': 387, 'learning_rate': 0.24837454011728227, 'max_depth': 5}. Best is trial 31 with value: 0.22173648085154185.\u001b[0m\n",
      "\u001b[32m[I 2023-04-15 16:56:58,429]\u001b[0m Trial 41 finished with value: 0.1640578981418244 and parameters: {'n_estimators': 265, 'learning_rate': 0.13324932840111958, 'max_depth': 1}. Best is trial 31 with value: 0.22173648085154185.\u001b[0m\n",
      "\u001b[32m[I 2023-04-15 16:56:58,506]\u001b[0m Trial 42 finished with value: 0.17410361712400563 and parameters: {'n_estimators': 69, 'learning_rate': 0.05165950746385283, 'max_depth': 3}. Best is trial 31 with value: 0.22173648085154185.\u001b[0m\n",
      "\u001b[32m[I 2023-04-15 16:56:58,593]\u001b[0m Trial 43 finished with value: 0.184941358734645 and parameters: {'n_estimators': 52, 'learning_rate': 0.05615350636411359, 'max_depth': 3}. Best is trial 31 with value: 0.22173648085154185.\u001b[0m\n",
      "\u001b[32m[I 2023-04-15 16:56:58,678]\u001b[0m Trial 44 finished with value: 0.17620890734063394 and parameters: {'n_estimators': 62, 'learning_rate': 0.05813250021553711, 'max_depth': 3}. Best is trial 31 with value: 0.22173648085154185.\u001b[0m\n",
      "\u001b[32m[I 2023-04-15 16:56:58,910]\u001b[0m Trial 45 finished with value: -0.006388355606131535 and parameters: {'n_estimators': 140, 'learning_rate': 0.06622470617178394, 'max_depth': 9}. Best is trial 31 with value: 0.22173648085154185.\u001b[0m\n",
      "\u001b[32m[I 2023-04-15 16:56:59,139]\u001b[0m Trial 46 finished with value: 0.09974344860308064 and parameters: {'n_estimators': 50, 'learning_rate': 0.05787641622227496, 'max_depth': 7}. Best is trial 31 with value: 0.22173648085154185.\u001b[0m\n",
      "\u001b[32m[I 2023-04-15 16:56:59,255]\u001b[0m Trial 47 finished with value: 0.12688391628754508 and parameters: {'n_estimators': 122, 'learning_rate': 0.11812072972736888, 'max_depth': 2}. Best is trial 31 with value: 0.22173648085154185.\u001b[0m\n",
      "\u001b[32m[I 2023-04-15 16:56:59,520]\u001b[0m Trial 48 finished with value: 0.1863442556951909 and parameters: {'n_estimators': 197, 'learning_rate': 0.012393167646572771, 'max_depth': 4}. Best is trial 31 with value: 0.22173648085154185.\u001b[0m\n",
      "\u001b[32m[I 2023-04-15 16:56:59,896]\u001b[0m Trial 49 finished with value: 0.14140801409964118 and parameters: {'n_estimators': 171, 'learning_rate': 0.012172623200924049, 'max_depth': 6}. Best is trial 31 with value: 0.22173648085154185.\u001b[0m\n",
      "\u001b[32m[I 2023-04-15 16:57:00,288]\u001b[0m Trial 50 finished with value: -0.024965695572937218 and parameters: {'n_estimators': 217, 'learning_rate': 0.20922377389279034, 'max_depth': 12}. Best is trial 31 with value: 0.22173648085154185.\u001b[0m\n",
      "\u001b[32m[I 2023-04-15 16:57:00,407]\u001b[0m Trial 51 finished with value: 0.17262050022868972 and parameters: {'n_estimators': 48, 'learning_rate': 0.054184560512243435, 'max_depth': 4}. Best is trial 31 with value: 0.22173648085154185.\u001b[0m\n",
      "\u001b[32m[I 2023-04-15 16:57:00,546]\u001b[0m Trial 52 finished with value: 0.14111834535960277 and parameters: {'n_estimators': 115, 'learning_rate': 0.10559786647237845, 'max_depth': 2}. Best is trial 31 with value: 0.22173648085154185.\u001b[0m\n",
      "\u001b[32m[I 2023-04-15 16:57:00,631]\u001b[0m Trial 53 finished with value: 0.11469578376198127 and parameters: {'n_estimators': 40, 'learning_rate': 0.17150280379088, 'max_depth': 4}. Best is trial 31 with value: 0.22173648085154185.\u001b[0m\n",
      "\u001b[32m[I 2023-04-15 16:57:00,742]\u001b[0m Trial 54 finished with value: 0.15742718457420832 and parameters: {'n_estimators': 96, 'learning_rate': 0.05213440216173824, 'max_depth': 3}. Best is trial 31 with value: 0.22173648085154185.\u001b[0m\n",
      "\u001b[32m[I 2023-04-15 16:57:00,874]\u001b[0m Trial 55 finished with value: 0.20046072181761568 and parameters: {'n_estimators': 150, 'learning_rate': 0.09886047506362514, 'max_depth': 1}. Best is trial 31 with value: 0.22173648085154185.\u001b[0m\n",
      "\u001b[32m[I 2023-04-15 16:57:01,038]\u001b[0m Trial 56 finished with value: 0.06676114304426835 and parameters: {'n_estimators': 181, 'learning_rate': 0.14524079714625404, 'max_depth': 2}. Best is trial 31 with value: 0.22173648085154185.\u001b[0m\n",
      "\u001b[32m[I 2023-04-15 16:57:01,166]\u001b[0m Trial 57 finished with value: 0.20098873316601668 and parameters: {'n_estimators': 146, 'learning_rate': 0.101181387004849, 'max_depth': 1}. Best is trial 31 with value: 0.22173648085154185.\u001b[0m\n",
      "\u001b[32m[I 2023-04-15 16:57:01,361]\u001b[0m Trial 58 finished with value: 0.16459326532747184 and parameters: {'n_estimators': 331, 'learning_rate': 0.10808821851847891, 'max_depth': 1}. Best is trial 31 with value: 0.22173648085154185.\u001b[0m\n",
      "\u001b[32m[I 2023-04-15 16:57:01,525]\u001b[0m Trial 59 finished with value: 0.12214580672610723 and parameters: {'n_estimators': 292, 'learning_rate': 0.23219904421573226, 'max_depth': 1}. Best is trial 31 with value: 0.22173648085154185.\u001b[0m\n",
      "\u001b[32m[I 2023-04-15 16:57:01,720]\u001b[0m Trial 60 finished with value: 0.019054991945883094 and parameters: {'n_estimators': 144, 'learning_rate': 0.18303057647682502, 'max_depth': 8}. Best is trial 31 with value: 0.22173648085154185.\u001b[0m\n",
      "\u001b[32m[I 2023-04-15 16:57:01,773]\u001b[0m Trial 61 finished with value: 0.031544458767268704 and parameters: {'n_estimators': 12, 'learning_rate': 0.010164453683063589, 'max_depth': 5}. Best is trial 31 with value: 0.22173648085154185.\u001b[0m\n",
      "\u001b[32m[I 2023-04-15 16:57:01,991]\u001b[0m Trial 62 finished with value: -0.0010151270824228175 and parameters: {'n_estimators': 208, 'learning_rate': 0.08787186363628025, 'max_depth': 4}. Best is trial 31 with value: 0.22173648085154185.\u001b[0m\n",
      "\u001b[32m[I 2023-04-15 16:57:02,076]\u001b[0m Trial 63 finished with value: 0.18870914280577142 and parameters: {'n_estimators': 113, 'learning_rate': 0.039678740473480946, 'max_depth': 2}. Best is trial 31 with value: 0.22173648085154185.\u001b[0m\n",
      "\u001b[32m[I 2023-04-15 16:57:02,163]\u001b[0m Trial 64 finished with value: 0.19531535285975468 and parameters: {'n_estimators': 121, 'learning_rate': 0.15167957468558976, 'max_depth': 1}. Best is trial 31 with value: 0.22173648085154185.\u001b[0m\n",
      "\u001b[32m[I 2023-04-15 16:57:02,250]\u001b[0m Trial 65 finished with value: 0.18417120480550503 and parameters: {'n_estimators': 152, 'learning_rate': 0.15428122457362917, 'max_depth': 1}. Best is trial 31 with value: 0.22173648085154185.\u001b[0m\n",
      "\u001b[32m[I 2023-04-15 16:57:02,329]\u001b[0m Trial 66 finished with value: 0.13786332031873902 and parameters: {'n_estimators': 106, 'learning_rate': 0.12123417489206792, 'max_depth': 2}. Best is trial 31 with value: 0.22173648085154185.\u001b[0m\n",
      "\u001b[32m[I 2023-04-15 16:57:02,407]\u001b[0m Trial 67 finished with value: 0.2068815872816308 and parameters: {'n_estimators': 126, 'learning_rate': 0.08935761326318134, 'max_depth': 1}. Best is trial 31 with value: 0.22173648085154185.\u001b[0m\n",
      "\u001b[32m[I 2023-04-15 16:57:02,520]\u001b[0m Trial 68 finished with value: 0.1875204704024017 and parameters: {'n_estimators': 234, 'learning_rate': 0.09019962307428118, 'max_depth': 1}. Best is trial 31 with value: 0.22173648085154185.\u001b[0m\n",
      "\u001b[32m[I 2023-04-15 16:57:02,646]\u001b[0m Trial 69 finished with value: 0.021297840749892917 and parameters: {'n_estimators': 87, 'learning_rate': 0.21434520545215058, 'max_depth': 6}. Best is trial 31 with value: 0.22173648085154185.\u001b[0m\n",
      "\u001b[32m[I 2023-04-15 16:57:02,809]\u001b[0m Trial 70 finished with value: 0.007588953806170107 and parameters: {'n_estimators': 154, 'learning_rate': 0.26723624641976407, 'max_depth': 17}. Best is trial 31 with value: 0.22173648085154185.\u001b[0m\n",
      "\u001b[32m[I 2023-04-15 16:57:02,899]\u001b[0m Trial 71 finished with value: 0.18112602039667952 and parameters: {'n_estimators': 127, 'learning_rate': 0.04037497851828774, 'max_depth': 2}. Best is trial 31 with value: 0.22173648085154185.\u001b[0m\n",
      "\u001b[32m[I 2023-04-15 16:57:02,957]\u001b[0m Trial 72 finished with value: 0.20561470764920936 and parameters: {'n_estimators': 32, 'learning_rate': 0.08457344119721838, 'max_depth': 2}. Best is trial 31 with value: 0.22173648085154185.\u001b[0m\n",
      "\u001b[32m[I 2023-04-15 16:57:03,562]\u001b[0m Trial 73 finished with value: 0.07999302517259213 and parameters: {'n_estimators': 987, 'learning_rate': 0.15863334683078362, 'max_depth': 1}. Best is trial 31 with value: 0.22173648085154185.\u001b[0m\n",
      "\u001b[32m[I 2023-04-15 16:57:03,646]\u001b[0m Trial 74 finished with value: 0.18673629354863103 and parameters: {'n_estimators': 34, 'learning_rate': 0.08969459376633077, 'max_depth': 3}. Best is trial 31 with value: 0.22173648085154185.\u001b[0m\n",
      "\u001b[32m[I 2023-04-15 16:57:04,035]\u001b[0m Trial 75 finished with value: -0.03598003616876466 and parameters: {'n_estimators': 82, 'learning_rate': 0.1401117305899888, 'max_depth': 26}. Best is trial 31 with value: 0.22173648085154185.\u001b[0m\n",
      "\u001b[32m[I 2023-04-15 16:57:04,112]\u001b[0m Trial 76 finished with value: 0.19759610972980846 and parameters: {'n_estimators': 23, 'learning_rate': 0.12434649082587189, 'max_depth': 2}. Best is trial 31 with value: 0.22173648085154185.\u001b[0m\n",
      "\u001b[32m[I 2023-04-15 16:57:04,618]\u001b[0m Trial 77 finished with value: -0.011503763627987284 and parameters: {'n_estimators': 465, 'learning_rate': 0.08550303433339598, 'max_depth': 4}. Best is trial 31 with value: 0.22173648085154185.\u001b[0m\n",
      "\u001b[32m[I 2023-04-15 16:57:04,696]\u001b[0m Trial 78 finished with value: 0.1133536849189265 and parameters: {'n_estimators': 28, 'learning_rate': 0.12181535678563721, 'max_depth': 5}. Best is trial 31 with value: 0.22173648085154185.\u001b[0m\n",
      "\u001b[32m[I 2023-04-15 16:57:04,797]\u001b[0m Trial 79 finished with value: 0.10899596192556413 and parameters: {'n_estimators': 66, 'learning_rate': 0.19489046402494836, 'max_depth': 2}. Best is trial 31 with value: 0.22173648085154185.\u001b[0m\n",
      "\u001b[32m[I 2023-04-15 16:57:05,486]\u001b[0m Trial 80 finished with value: -0.042215367023723346 and parameters: {'n_estimators': 707, 'learning_rate': 0.0804888303111043, 'max_depth': 22}. Best is trial 31 with value: 0.22173648085154185.\u001b[0m\n",
      "\u001b[32m[I 2023-04-15 16:57:05,582]\u001b[0m Trial 81 finished with value: 0.19683061737057403 and parameters: {'n_estimators': 92, 'learning_rate': 0.17248270856716996, 'max_depth': 1}. Best is trial 31 with value: 0.22173648085154185.\u001b[0m\n",
      "\u001b[32m[I 2023-04-15 16:57:05,640]\u001b[0m Trial 82 finished with value: 0.19274909161639994 and parameters: {'n_estimators': 14, 'learning_rate': 0.11484894177884841, 'max_depth': 3}. Best is trial 31 with value: 0.22173648085154185.\u001b[0m\n",
      "\u001b[32m[I 2023-04-15 16:57:05,754]\u001b[0m Trial 83 finished with value: 0.20709198155858805 and parameters: {'n_estimators': 82, 'learning_rate': 0.030986502011760758, 'max_depth': 2}. Best is trial 31 with value: 0.22173648085154185.\u001b[0m\n",
      "\u001b[32m[I 2023-04-15 16:57:05,836]\u001b[0m Trial 84 finished with value: 0.1899328385767001 and parameters: {'n_estimators': 42, 'learning_rate': 0.02733795376740074, 'max_depth': 2}. Best is trial 31 with value: 0.22173648085154185.\u001b[0m\n",
      "\u001b[32m[I 2023-04-15 16:57:06,017]\u001b[0m Trial 85 finished with value: 0.12213192609969474 and parameters: {'n_estimators': 165, 'learning_rate': 0.03637790437767279, 'max_depth': 4}. Best is trial 31 with value: 0.22173648085154185.\u001b[0m\n",
      "\u001b[32m[I 2023-04-15 16:57:06,090]\u001b[0m Trial 86 finished with value: 0.18037901468472492 and parameters: {'n_estimators': 66, 'learning_rate': 0.07992335874880421, 'max_depth': 2}. Best is trial 31 with value: 0.22173648085154185.\u001b[0m\n",
      "\u001b[32m[I 2023-04-15 16:57:06,241]\u001b[0m Trial 87 finished with value: 0.11913144670025837 and parameters: {'n_estimators': 191, 'learning_rate': 0.038395998332468075, 'max_depth': 3}. Best is trial 31 with value: 0.22173648085154185.\u001b[0m\n",
      "\u001b[32m[I 2023-04-15 16:57:06,710]\u001b[0m Trial 88 finished with value: -0.0004612684188634697 and parameters: {'n_estimators': 566, 'learning_rate': 0.13606217742893867, 'max_depth': 5}. Best is trial 31 with value: 0.22173648085154185.\u001b[0m\n",
      "\u001b[32m[I 2023-04-15 16:57:06,811]\u001b[0m Trial 89 finished with value: 0.1979186367893692 and parameters: {'n_estimators': 142, 'learning_rate': 0.11240652266704146, 'max_depth': 1}. Best is trial 31 with value: 0.22173648085154185.\u001b[0m\n",
      "\u001b[32m[I 2023-04-15 16:57:06,917]\u001b[0m Trial 90 finished with value: 0.21253691369488062 and parameters: {'n_estimators': 134, 'learning_rate': 0.07102045645239088, 'max_depth': 1}. Best is trial 31 with value: 0.22173648085154185.\u001b[0m\n",
      "\u001b[32m[I 2023-04-15 16:57:07,042]\u001b[0m Trial 91 finished with value: 0.200654926579194 and parameters: {'n_estimators': 138, 'learning_rate': 0.10431444471218872, 'max_depth': 1}. Best is trial 31 with value: 0.22173648085154185.\u001b[0m\n",
      "\u001b[32m[I 2023-04-15 16:57:07,145]\u001b[0m Trial 92 finished with value: 0.13614917355870607 and parameters: {'n_estimators': 102, 'learning_rate': 0.06909269427159939, 'max_depth': 3}. Best is trial 31 with value: 0.22173648085154185.\u001b[0m\n",
      "\u001b[32m[I 2023-04-15 16:57:07,309]\u001b[0m Trial 93 finished with value: 0.21458782726083162 and parameters: {'n_estimators': 252, 'learning_rate': 0.034098029598119514, 'max_depth': 1}. Best is trial 31 with value: 0.22173648085154185.\u001b[0m\n",
      "\u001b[32m[I 2023-04-15 16:57:07,520]\u001b[0m Trial 94 finished with value: 0.10967880176400199 and parameters: {'n_estimators': 255, 'learning_rate': 0.03874961277506224, 'max_depth': 3}. Best is trial 31 with value: 0.22173648085154185.\u001b[0m\n",
      "\u001b[32m[I 2023-04-15 16:57:07,650]\u001b[0m Trial 95 finished with value: 0.14103785943351563 and parameters: {'n_estimators': 180, 'learning_rate': 0.06748049202420317, 'max_depth': 2}. Best is trial 31 with value: 0.22173648085154185.\u001b[0m\n",
      "\u001b[32m[I 2023-04-15 16:57:07,756]\u001b[0m Trial 96 finished with value: 0.19558285746604187 and parameters: {'n_estimators': 75, 'learning_rate': 0.0245190576313927, 'max_depth': 4}. Best is trial 31 with value: 0.22173648085154185.\u001b[0m\n",
      "\u001b[32m[I 2023-04-15 16:57:07,871]\u001b[0m Trial 97 finished with value: 0.19907005890108115 and parameters: {'n_estimators': 222, 'learning_rate': 0.07093239573885327, 'max_depth': 1}. Best is trial 31 with value: 0.22173648085154185.\u001b[0m\n",
      "\u001b[32m[I 2023-04-15 16:57:07,991]\u001b[0m Trial 98 finished with value: 0.1310526191172886 and parameters: {'n_estimators': 128, 'learning_rate': 0.1065773412432066, 'max_depth': 2}. Best is trial 31 with value: 0.22173648085154185.\u001b[0m\n",
      "\u001b[32m[I 2023-04-15 16:57:08,185]\u001b[0m Trial 99 finished with value: 0.20165131036435238 and parameters: {'n_estimators': 294, 'learning_rate': 0.049197419849198995, 'max_depth': 1}. Best is trial 31 with value: 0.22173648085154185.\u001b[0m\n",
      "\u001b[32m[I 2023-04-15 16:57:08,508]\u001b[0m Trial 100 finished with value: 0.1122627956425003 and parameters: {'n_estimators': 396, 'learning_rate': 0.04534391145155861, 'max_depth': 2}. Best is trial 31 with value: 0.22173648085154185.\u001b[0m\n",
      "\u001b[32m[I 2023-04-15 16:57:08,584]\u001b[0m Trial 101 finished with value: 0.212762989395834 and parameters: {'n_estimators': 49, 'learning_rate': 0.031144703278103127, 'max_depth': 1}. Best is trial 31 with value: 0.22173648085154185.\u001b[0m\n",
      "\u001b[32m[I 2023-04-15 16:57:08,835]\u001b[0m Trial 102 finished with value: 0.12660387227518274 and parameters: {'n_estimators': 305, 'learning_rate': 0.025767851089153766, 'max_depth': 3}. Best is trial 31 with value: 0.22173648085154185.\u001b[0m\n",
      "\u001b[32m[I 2023-04-15 16:57:08,910]\u001b[0m Trial 103 finished with value: 0.2222763037562255 and parameters: {'n_estimators': 59, 'learning_rate': 0.052873558987491076, 'max_depth': 1}. Best is trial 103 with value: 0.2222763037562255.\u001b[0m\n",
      "\u001b[32m[I 2023-04-15 16:57:08,980]\u001b[0m Trial 104 finished with value: 0.22179184102527988 and parameters: {'n_estimators': 51, 'learning_rate': 0.057458380191076186, 'max_depth': 1}. Best is trial 103 with value: 0.2222763037562255.\u001b[0m\n",
      "\u001b[32m[I 2023-04-15 16:57:09,083]\u001b[0m Trial 105 finished with value: 0.1519774152987208 and parameters: {'n_estimators': 58, 'learning_rate': 0.06477857588598963, 'max_depth': 4}. Best is trial 103 with value: 0.2222763037562255.\u001b[0m\n",
      "\u001b[32m[I 2023-04-15 16:57:09,162]\u001b[0m Trial 106 finished with value: 0.19283323960445395 and parameters: {'n_estimators': 51, 'learning_rate': 0.02887862088574942, 'max_depth': 3}. Best is trial 103 with value: 0.2222763037562255.\u001b[0m\n",
      "\u001b[32m[I 2023-04-15 16:57:09,268]\u001b[0m Trial 107 finished with value: 0.09828849514197051 and parameters: {'n_estimators': 37, 'learning_rate': 0.010785097110564856, 'max_depth': 30}. Best is trial 103 with value: 0.2222763037562255.\u001b[0m\n",
      "\u001b[32m[I 2023-04-15 16:57:09,336]\u001b[0m Trial 108 finished with value: 0.217808608784453 and parameters: {'n_estimators': 84, 'learning_rate': 0.08488313281343976, 'max_depth': 1}. Best is trial 103 with value: 0.2222763037562255.\u001b[0m\n",
      "\u001b[32m[I 2023-04-15 16:57:09,411]\u001b[0m Trial 109 finished with value: 0.2211780236098336 and parameters: {'n_estimators': 104, 'learning_rate': 0.05626432457980106, 'max_depth': 1}. Best is trial 103 with value: 0.2222763037562255.\u001b[0m\n",
      "\u001b[32m[I 2023-04-15 16:57:09,492]\u001b[0m Trial 110 finished with value: 0.18385368606528446 and parameters: {'n_estimators': 96, 'learning_rate': 0.05269881226057975, 'max_depth': 2}. Best is trial 103 with value: 0.2222763037562255.\u001b[0m\n",
      "\u001b[32m[I 2023-04-15 16:57:09,581]\u001b[0m Trial 111 finished with value: 0.21560315302557398 and parameters: {'n_estimators': 108, 'learning_rate': 0.07349477895664909, 'max_depth': 1}. Best is trial 103 with value: 0.2222763037562255.\u001b[0m\n",
      "\u001b[32m[I 2023-04-15 16:57:09,665]\u001b[0m Trial 112 finished with value: 0.21644462302232803 and parameters: {'n_estimators': 110, 'learning_rate': 0.06896436147990767, 'max_depth': 1}. Best is trial 103 with value: 0.2222763037562255.\u001b[0m\n",
      "\u001b[32m[I 2023-04-15 16:57:09,741]\u001b[0m Trial 113 finished with value: 0.21834526895202327 and parameters: {'n_estimators': 111, 'learning_rate': 0.06522729801322288, 'max_depth': 1}. Best is trial 103 with value: 0.2222763037562255.\u001b[0m\n",
      "\u001b[32m[I 2023-04-15 16:57:09,827]\u001b[0m Trial 114 finished with value: 0.21635621287428788 and parameters: {'n_estimators': 119, 'learning_rate': 0.06625291713640989, 'max_depth': 1}. Best is trial 103 with value: 0.2222763037562255.\u001b[0m\n",
      "\u001b[32m[I 2023-04-15 16:57:09,939]\u001b[0m Trial 115 finished with value: 0.21559558792754457 and parameters: {'n_estimators': 108, 'learning_rate': 0.07689831302885296, 'max_depth': 1}. Best is trial 103 with value: 0.2222763037562255.\u001b[0m\n",
      "\u001b[32m[I 2023-04-15 16:57:10,040]\u001b[0m Trial 116 finished with value: 0.2073710671972709 and parameters: {'n_estimators': 75, 'learning_rate': 0.13773205107993075, 'max_depth': 1}. Best is trial 103 with value: 0.2222763037562255.\u001b[0m\n",
      "\u001b[32m[I 2023-04-15 16:57:10,164]\u001b[0m Trial 117 finished with value: 0.1489360673917764 and parameters: {'n_estimators': 109, 'learning_rate': 0.05215069364402514, 'max_depth': 3}. Best is trial 103 with value: 0.2222763037562255.\u001b[0m\n",
      "\u001b[32m[I 2023-04-15 16:57:10,276]\u001b[0m Trial 118 finished with value: 0.2041359321277431 and parameters: {'n_estimators': 169, 'learning_rate': 0.07864351337387729, 'max_depth': 1}. Best is trial 103 with value: 0.2222763037562255.\u001b[0m\n",
      "\u001b[32m[I 2023-04-15 16:57:10,371]\u001b[0m Trial 119 finished with value: 0.16261125186715247 and parameters: {'n_estimators': 59, 'learning_rate': 0.12420269524448532, 'max_depth': 2}. Best is trial 103 with value: 0.2222763037562255.\u001b[0m\n",
      "\u001b[32m[I 2023-04-15 16:57:10,481]\u001b[0m Trial 120 finished with value: 0.210538173672791 and parameters: {'n_estimators': 119, 'learning_rate': 0.012325854279509385, 'max_depth': 1}. Best is trial 103 with value: 0.2222763037562255.\u001b[0m\n",
      "\u001b[32m[I 2023-04-15 16:57:10,574]\u001b[0m Trial 121 finished with value: 0.21626521369015111 and parameters: {'n_estimators': 100, 'learning_rate': 0.07448881743153951, 'max_depth': 1}. Best is trial 103 with value: 0.2222763037562255.\u001b[0m\n",
      "\u001b[32m[I 2023-04-15 16:57:10,668]\u001b[0m Trial 122 finished with value: 0.21178926778089907 and parameters: {'n_estimators': 95, 'learning_rate': 0.09539232215950377, 'max_depth': 1}. Best is trial 103 with value: 0.2222763037562255.\u001b[0m\n",
      "\u001b[32m[I 2023-04-15 16:57:11,132]\u001b[0m Trial 123 finished with value: -0.017900357217828743 and parameters: {'n_estimators': 863, 'learning_rate': 0.0566773256834303, 'max_depth': 2}. Best is trial 103 with value: 0.2222763037562255.\u001b[0m\n",
      "\u001b[32m[I 2023-04-15 16:57:11,233]\u001b[0m Trial 124 finished with value: 0.18765435725756932 and parameters: {'n_estimators': 80, 'learning_rate': 0.032926073192296935, 'max_depth': 3}. Best is trial 103 with value: 0.2222763037562255.\u001b[0m\n",
      "\u001b[32m[I 2023-04-15 16:57:11,326]\u001b[0m Trial 125 finished with value: 0.16707312266597593 and parameters: {'n_estimators': 99, 'learning_rate': 0.07574945889594611, 'max_depth': 2}. Best is trial 103 with value: 0.2222763037562255.\u001b[0m\n",
      "\u001b[32m[I 2023-04-15 16:57:11,452]\u001b[0m Trial 126 finished with value: 0.21271384351138706 and parameters: {'n_estimators': 198, 'learning_rate': 0.04698893391602532, 'max_depth': 1}. Best is trial 103 with value: 0.2222763037562255.\u001b[0m\n",
      "\u001b[32m[I 2023-04-15 16:57:11,532]\u001b[0m Trial 127 finished with value: 0.15752080882846412 and parameters: {'n_estimators': 41, 'learning_rate': 0.10235404453850076, 'max_depth': 3}. Best is trial 103 with value: 0.2222763037562255.\u001b[0m\n",
      "\u001b[32m[I 2023-04-15 16:57:11,583]\u001b[0m Trial 128 finished with value: 0.22347361548907108 and parameters: {'n_estimators': 13, 'learning_rate': 0.1564558246977913, 'max_depth': 1}. Best is trial 128 with value: 0.22347361548907108.\u001b[0m\n",
      "\u001b[32m[I 2023-04-15 16:57:11,666]\u001b[0m Trial 129 finished with value: -0.018876562049103107 and parameters: {'n_estimators': 20, 'learning_rate': 0.16161697307591932, 'max_depth': 13}. Best is trial 128 with value: 0.22347361548907108.\u001b[0m\n",
      "\u001b[32m[I 2023-04-15 16:57:12,072]\u001b[0m Trial 130 finished with value: -0.050742422024606146 and parameters: {'n_estimators': 351, 'learning_rate': 0.14080720279523462, 'max_depth': 4}. Best is trial 128 with value: 0.22347361548907108.\u001b[0m\n",
      "\u001b[32m[I 2023-04-15 16:57:12,120]\u001b[0m Trial 131 finished with value: 0.18211216468372177 and parameters: {'n_estimators': 11, 'learning_rate': 0.08310896849793076, 'max_depth': 2}. Best is trial 128 with value: 0.22347361548907108.\u001b[0m\n",
      "\u001b[32m[I 2023-04-15 16:57:12,205]\u001b[0m Trial 132 finished with value: 0.22250931476813224 and parameters: {'n_estimators': 60, 'learning_rate': 0.06559779843820158, 'max_depth': 1}. Best is trial 128 with value: 0.22347361548907108.\u001b[0m\n",
      "\u001b[32m[I 2023-04-15 16:57:12,283]\u001b[0m Trial 133 finished with value: 0.2150241114595663 and parameters: {'n_estimators': 72, 'learning_rate': 0.11729258581821428, 'max_depth': 1}. Best is trial 128 with value: 0.22347361548907108.\u001b[0m\n",
      "\u001b[32m[I 2023-04-15 16:57:12,367]\u001b[0m Trial 134 finished with value: 0.16663933377980078 and parameters: {'n_estimators': 69, 'learning_rate': 0.11681798719443029, 'max_depth': 2}. Best is trial 128 with value: 0.22347361548907108.\u001b[0m\n",
      "\u001b[32m[I 2023-04-15 16:57:12,460]\u001b[0m Trial 135 finished with value: 0.2076015433271195 and parameters: {'n_estimators': 120, 'learning_rate': 0.09529134272922374, 'max_depth': 1}. Best is trial 128 with value: 0.22347361548907108.\u001b[0m\n",
      "\u001b[32m[I 2023-04-15 16:57:12,560]\u001b[0m Trial 136 finished with value: 0.09861505896759686 and parameters: {'n_estimators': 87, 'learning_rate': 0.12801572756472884, 'max_depth': 3}. Best is trial 128 with value: 0.22347361548907108.\u001b[0m\n",
      "\u001b[32m[I 2023-04-15 16:57:12,700]\u001b[0m Trial 137 finished with value: 0.14297802569935306 and parameters: {'n_estimators': 158, 'learning_rate': 0.07013575519331497, 'max_depth': 2}. Best is trial 128 with value: 0.22347361548907108.\u001b[0m\n",
      "\u001b[32m[I 2023-04-15 16:57:12,762]\u001b[0m Trial 138 finished with value: 0.16791255679064837 and parameters: {'n_estimators': 58, 'learning_rate': 0.43749108102747836, 'max_depth': 1}. Best is trial 128 with value: 0.22347361548907108.\u001b[0m\n",
      "\u001b[32m[I 2023-04-15 16:57:12,826]\u001b[0m Trial 139 finished with value: 0.21908259867699123 and parameters: {'n_estimators': 41, 'learning_rate': 0.18647727705235576, 'max_depth': 1}. Best is trial 128 with value: 0.22347361548907108.\u001b[0m\n",
      "\u001b[32m[I 2023-04-15 16:57:12,900]\u001b[0m Trial 140 finished with value: 0.17328673810732964 and parameters: {'n_estimators': 38, 'learning_rate': 0.17008612641141532, 'max_depth': 2}. Best is trial 128 with value: 0.22347361548907108.\u001b[0m\n",
      "\u001b[32m[I 2023-04-15 16:57:12,985]\u001b[0m Trial 141 finished with value: 0.1979735642360551 and parameters: {'n_estimators': 107, 'learning_rate': 0.15357338682267005, 'max_depth': 1}. Best is trial 128 with value: 0.22347361548907108.\u001b[0m\n",
      "\u001b[32m[I 2023-04-15 16:57:13,065]\u001b[0m Trial 142 finished with value: 0.11698327437634133 and parameters: {'n_estimators': 75, 'learning_rate': 0.1898838239544492, 'max_depth': 2}. Best is trial 128 with value: 0.22347361548907108.\u001b[0m\n",
      "\u001b[32m[I 2023-04-15 16:57:13,159]\u001b[0m Trial 143 finished with value: -0.02202238792557787 and parameters: {'n_estimators': 28, 'learning_rate': 0.11112539674733636, 'max_depth': 19}. Best is trial 128 with value: 0.22347361548907108.\u001b[0m\n",
      "\u001b[32m[I 2023-04-15 16:57:13,207]\u001b[0m Trial 144 finished with value: 0.14429618159620725 and parameters: {'n_estimators': 10, 'learning_rate': 0.06248644666329209, 'max_depth': 1}. Best is trial 128 with value: 0.22347361548907108.\u001b[0m\n",
      "\u001b[32m[I 2023-04-15 16:57:13,280]\u001b[0m Trial 145 finished with value: 0.22216843660623561 and parameters: {'n_estimators': 59, 'learning_rate': 0.08577434812264352, 'max_depth': 1}. Best is trial 128 with value: 0.22347361548907108.\u001b[0m\n",
      "\u001b[32m[I 2023-04-15 16:57:13,377]\u001b[0m Trial 146 finished with value: 0.15323088843469906 and parameters: {'n_estimators': 105, 'learning_rate': 0.08801627061218957, 'max_depth': 2}. Best is trial 128 with value: 0.22347361548907108.\u001b[0m\n",
      "\u001b[32m[I 2023-04-15 16:57:13,450]\u001b[0m Trial 147 finished with value: 0.18978556340288066 and parameters: {'n_estimators': 47, 'learning_rate': 0.05851800758292643, 'max_depth': 3}. Best is trial 128 with value: 0.22347361548907108.\u001b[0m\n",
      "\u001b[32m[I 2023-04-15 16:57:13,524]\u001b[0m Trial 148 finished with value: 0.173699636803926 and parameters: {'n_estimators': 92, 'learning_rate': 0.2887478550264941, 'max_depth': 1}. Best is trial 128 with value: 0.22347361548907108.\u001b[0m\n",
      "\u001b[32m[I 2023-04-15 16:57:13,875]\u001b[0m Trial 149 finished with value: -0.04090054009739761 and parameters: {'n_estimators': 135, 'learning_rate': 0.08269163978711332, 'max_depth': 17}. Best is trial 128 with value: 0.22347361548907108.\u001b[0m\n",
      "\u001b[32m[I 2023-04-15 16:57:13,935]\u001b[0m Trial 150 finished with value: 0.21466464039542163 and parameters: {'n_estimators': 64, 'learning_rate': 0.13829310828223768, 'max_depth': 1}. Best is trial 128 with value: 0.22347361548907108.\u001b[0m\n",
      "\u001b[32m[I 2023-04-15 16:57:14,017]\u001b[0m Trial 151 finished with value: 0.21733271829597084 and parameters: {'n_estimators': 74, 'learning_rate': 0.10790404255833833, 'max_depth': 1}. Best is trial 128 with value: 0.22347361548907108.\u001b[0m\n",
      "\u001b[32m[I 2023-04-15 16:57:14,108]\u001b[0m Trial 152 finished with value: 0.14693592527270877 and parameters: {'n_estimators': 118, 'learning_rate': 0.0951764126691825, 'max_depth': 2}. Best is trial 128 with value: 0.22347361548907108.\u001b[0m\n",
      "\u001b[32m[I 2023-04-15 16:57:14,166]\u001b[0m Trial 153 finished with value: 0.22174859715509543 and parameters: {'n_estimators': 53, 'learning_rate': 0.05955758571326033, 'max_depth': 1}. Best is trial 128 with value: 0.22347361548907108.\u001b[0m\n",
      "\u001b[32m[I 2023-04-15 16:57:14,220]\u001b[0m Trial 154 finished with value: 0.21137017924839863 and parameters: {'n_estimators': 29, 'learning_rate': 0.050954452541523074, 'max_depth': 1}. Best is trial 128 with value: 0.22347361548907108.\u001b[0m\n",
      "\u001b[32m[I 2023-04-15 16:57:14,297]\u001b[0m Trial 155 finished with value: 0.2106017126519289 and parameters: {'n_estimators': 49, 'learning_rate': 0.04399316203229361, 'max_depth': 2}. Best is trial 128 with value: 0.22347361548907108.\u001b[0m\n",
      "\u001b[32m[I 2023-04-15 16:57:14,379]\u001b[0m Trial 156 finished with value: 0.18710857930793 and parameters: {'n_estimators': 86, 'learning_rate': 0.012019849618703643, 'max_depth': 2}. Best is trial 128 with value: 0.22347361548907108.\u001b[0m\n",
      "\u001b[32m[I 2023-04-15 16:57:14,451]\u001b[0m Trial 157 finished with value: 0.1602031571766336 and parameters: {'n_estimators': 48, 'learning_rate': 0.10338816584500565, 'max_depth': 3}. Best is trial 128 with value: 0.22347361548907108.\u001b[0m\n",
      "\u001b[32m[I 2023-04-15 16:57:14,528]\u001b[0m Trial 158 finished with value: 0.22328107742828668 and parameters: {'n_estimators': 71, 'learning_rate': 0.06842847939770257, 'max_depth': 1}. Best is trial 128 with value: 0.22347361548907108.\u001b[0m\n",
      "\u001b[32m[I 2023-04-15 16:57:14,582]\u001b[0m Trial 159 finished with value: 0.20610057660883344 and parameters: {'n_estimators': 10, 'learning_rate': 0.12692627296533926, 'max_depth': 1}. Best is trial 128 with value: 0.22347361548907108.\u001b[0m\n",
      "\u001b[32m[I 2023-04-15 16:57:14,672]\u001b[0m Trial 160 finished with value: 0.12506460388844962 and parameters: {'n_estimators': 66, 'learning_rate': 0.2073523611975943, 'max_depth': 2}. Best is trial 128 with value: 0.22347361548907108.\u001b[0m\n",
      "\u001b[32m[I 2023-04-15 16:57:14,764]\u001b[0m Trial 161 finished with value: 0.22238924306795896 and parameters: {'n_estimators': 84, 'learning_rate': 0.0661195205716801, 'max_depth': 1}. Best is trial 128 with value: 0.22347361548907108.\u001b[0m\n",
      "\u001b[32m[I 2023-04-15 16:57:14,866]\u001b[0m Trial 162 finished with value: 0.22288180625206158 and parameters: {'n_estimators': 82, 'learning_rate': 0.061883614086973175, 'max_depth': 1}. Best is trial 128 with value: 0.22347361548907108.\u001b[0m\n",
      "\u001b[32m[I 2023-04-15 16:57:14,944]\u001b[0m Trial 163 finished with value: 0.21769110845968526 and parameters: {'n_estimators': 33, 'learning_rate': 0.050628215317346084, 'max_depth': 1}. Best is trial 128 with value: 0.22347361548907108.\u001b[0m\n",
      "\u001b[32m[I 2023-04-15 16:57:15,017]\u001b[0m Trial 164 finished with value: 0.19212594396936092 and parameters: {'n_estimators': 35, 'learning_rate': 0.03328412956939876, 'max_depth': 2}. Best is trial 128 with value: 0.22347361548907108.\u001b[0m\n",
      "\u001b[32m[I 2023-04-15 16:57:15,113]\u001b[0m Trial 165 finished with value: 0.19138070800184362 and parameters: {'n_estimators': 58, 'learning_rate': 0.04413976669523557, 'max_depth': 3}. Best is trial 128 with value: 0.22347361548907108.\u001b[0m\n",
      "\u001b[32m[I 2023-04-15 16:57:15,189]\u001b[0m Trial 166 finished with value: 0.21569836122278904 and parameters: {'n_estimators': 28, 'learning_rate': 0.2523356262460634, 'max_depth': 1}. Best is trial 128 with value: 0.22347361548907108.\u001b[0m\n",
      "\u001b[32m[I 2023-04-15 16:57:15,289]\u001b[0m Trial 167 finished with value: 0.18670443693247912 and parameters: {'n_estimators': 76, 'learning_rate': 0.060869230424588826, 'max_depth': 2}. Best is trial 128 with value: 0.22347361548907108.\u001b[0m\n",
      "\u001b[32m[I 2023-04-15 16:57:15,360]\u001b[0m Trial 168 finished with value: 0.22404673026424282 and parameters: {'n_estimators': 54, 'learning_rate': 0.09629293647983764, 'max_depth': 1}. Best is trial 168 with value: 0.22404673026424282.\u001b[0m\n",
      "\u001b[32m[I 2023-04-15 16:57:15,440]\u001b[0m Trial 169 finished with value: 0.18008965562553164 and parameters: {'n_estimators': 48, 'learning_rate': 0.09960816156789713, 'max_depth': 2}. Best is trial 168 with value: 0.22404673026424282.\u001b[0m\n",
      "\u001b[32m[I 2023-04-15 16:57:15,508]\u001b[0m Trial 170 finished with value: 0.10263420749459436 and parameters: {'n_estimators': 30, 'learning_rate': 0.011200727233503655, 'max_depth': 3}. Best is trial 168 with value: 0.22404673026424282.\u001b[0m\n",
      "\u001b[32m[I 2023-04-15 16:57:15,598]\u001b[0m Trial 171 finished with value: 0.21735064362305773 and parameters: {'n_estimators': 84, 'learning_rate': 0.08717344519931347, 'max_depth': 1}. Best is trial 168 with value: 0.22404673026424282.\u001b[0m\n",
      "\u001b[32m[I 2023-04-15 16:57:15,681]\u001b[0m Trial 172 finished with value: 0.21487690287933114 and parameters: {'n_estimators': 79, 'learning_rate': 0.10288298219162086, 'max_depth': 1}. Best is trial 168 with value: 0.22404673026424282.\u001b[0m\n",
      "\u001b[32m[I 2023-04-15 16:57:15,750]\u001b[0m Trial 173 finished with value: 0.222842958996703 and parameters: {'n_estimators': 56, 'learning_rate': 0.04474305668855564, 'max_depth': 1}. Best is trial 168 with value: 0.22404673026424282.\u001b[0m\n",
      "\u001b[32m[I 2023-04-15 16:57:15,818]\u001b[0m Trial 174 finished with value: 0.2215438989618824 and parameters: {'n_estimators': 55, 'learning_rate': 0.035583075662127456, 'max_depth': 1}. Best is trial 168 with value: 0.22404673026424282.\u001b[0m\n",
      "\u001b[32m[I 2023-04-15 16:57:15,941]\u001b[0m Trial 175 finished with value: 0.05566105445569756 and parameters: {'n_estimators': 51, 'learning_rate': 0.03228746095817146, 'max_depth': 10}. Best is trial 168 with value: 0.22404673026424282.\u001b[0m\n",
      "\u001b[32m[I 2023-04-15 16:57:16,004]\u001b[0m Trial 176 finished with value: 0.19672127554333213 and parameters: {'n_estimators': 30, 'learning_rate': 0.04486891994131412, 'max_depth': 2}. Best is trial 168 with value: 0.22404673026424282.\u001b[0m\n",
      "\u001b[32m[I 2023-04-15 16:57:16,058]\u001b[0m Trial 177 finished with value: 0.09843569839713384 and parameters: {'n_estimators': 14, 'learning_rate': 0.02763374023180952, 'max_depth': 1}. Best is trial 168 with value: 0.22404673026424282.\u001b[0m\n",
      "\u001b[32m[I 2023-04-15 16:57:16,141]\u001b[0m Trial 178 finished with value: 0.026771071347254493 and parameters: {'n_estimators': 58, 'learning_rate': 0.5924983209322411, 'max_depth': 2}. Best is trial 168 with value: 0.22404673026424282.\u001b[0m\n",
      "\u001b[32m[I 2023-04-15 16:57:16,211]\u001b[0m Trial 179 finished with value: 0.22231975599838333 and parameters: {'n_estimators': 40, 'learning_rate': 0.057873660461942866, 'max_depth': 1}. Best is trial 168 with value: 0.22404673026424282.\u001b[0m\n",
      "\u001b[32m[I 2023-04-15 16:57:16,310]\u001b[0m Trial 180 finished with value: 0.19497458606090515 and parameters: {'n_estimators': 61, 'learning_rate': 0.06107371442969661, 'max_depth': 2}. Best is trial 168 with value: 0.22404673026424282.\u001b[0m\n",
      "\u001b[32m[I 2023-04-15 16:57:16,382]\u001b[0m Trial 181 finished with value: 0.22071656475281962 and parameters: {'n_estimators': 40, 'learning_rate': 0.05619211061554467, 'max_depth': 1}. Best is trial 168 with value: 0.22404673026424282.\u001b[0m\n",
      "\u001b[32m[I 2023-04-15 16:57:16,452]\u001b[0m Trial 182 finished with value: 0.22232177110595916 and parameters: {'n_estimators': 47, 'learning_rate': 0.08237462192676884, 'max_depth': 1}. Best is trial 168 with value: 0.22404673026424282.\u001b[0m\n",
      "\u001b[32m[I 2023-04-15 16:57:16,526]\u001b[0m Trial 183 finished with value: 0.1951307031516173 and parameters: {'n_estimators': 45, 'learning_rate': 0.025226777432445932, 'max_depth': 1}. Best is trial 168 with value: 0.22404673026424282.\u001b[0m\n",
      "\u001b[32m[I 2023-04-15 16:57:16,577]\u001b[0m Trial 184 finished with value: 0.22463733608687222 and parameters: {'n_estimators': 12, 'learning_rate': 0.3309328967885372, 'max_depth': 1}. Best is trial 184 with value: 0.22463733608687222.\u001b[0m\n",
      "\u001b[32m[I 2023-04-15 16:57:16,640]\u001b[0m Trial 185 finished with value: 0.17889943000449346 and parameters: {'n_estimators': 13, 'learning_rate': 0.33384289847486837, 'max_depth': 2}. Best is trial 184 with value: 0.22463733608687222.\u001b[0m\n",
      "\u001b[32m[I 2023-04-15 16:57:16,717]\u001b[0m Trial 186 finished with value: 0.15307441563047441 and parameters: {'n_estimators': 39, 'learning_rate': 0.21710684612506806, 'max_depth': 2}. Best is trial 184 with value: 0.22463733608687222.\u001b[0m\n",
      "\u001b[32m[I 2023-04-15 16:57:16,802]\u001b[0m Trial 187 finished with value: 0.22146036338324224 and parameters: {'n_estimators': 63, 'learning_rate': 0.04935430906303274, 'max_depth': 1}. Best is trial 184 with value: 0.22463733608687222.\u001b[0m\n",
      "\u001b[32m[I 2023-04-15 16:57:16,899]\u001b[0m Trial 188 finished with value: 0.18353469631011576 and parameters: {'n_estimators': 67, 'learning_rate': 0.04578030248739874, 'max_depth': 3}. Best is trial 184 with value: 0.22463733608687222.\u001b[0m\n",
      "\u001b[32m[I 2023-04-15 16:57:16,954]\u001b[0m Trial 189 finished with value: 0.20714809136371656 and parameters: {'n_estimators': 23, 'learning_rate': 0.07442999862715699, 'max_depth': 2}. Best is trial 184 with value: 0.22463733608687222.\u001b[0m\n",
      "\u001b[32m[I 2023-04-15 16:57:17,008]\u001b[0m Trial 190 finished with value: 0.06874946984844554 and parameters: {'n_estimators': 10, 'learning_rate': 0.02635915541131045, 'max_depth': 1}. Best is trial 184 with value: 0.22463733608687222.\u001b[0m\n",
      "\u001b[32m[I 2023-04-15 16:57:17,083]\u001b[0m Trial 191 finished with value: 0.22150876194114805 and parameters: {'n_estimators': 54, 'learning_rate': 0.05206960135907082, 'max_depth': 1}. Best is trial 184 with value: 0.22463733608687222.\u001b[0m\n",
      "\u001b[32m[I 2023-04-15 16:57:17,159]\u001b[0m Trial 192 finished with value: 0.22174826926641816 and parameters: {'n_estimators': 58, 'learning_rate': 0.058079513521831896, 'max_depth': 1}. Best is trial 184 with value: 0.22463733608687222.\u001b[0m\n",
      "\u001b[32m[I 2023-04-15 16:57:17,223]\u001b[0m Trial 193 finished with value: 0.18309375769938302 and parameters: {'n_estimators': 65, 'learning_rate': 0.37190437696323647, 'max_depth': 1}. Best is trial 184 with value: 0.22463733608687222.\u001b[0m\n",
      "\u001b[32m[I 2023-04-15 16:57:17,301]\u001b[0m Trial 194 finished with value: 0.16677431823536407 and parameters: {'n_estimators': 89, 'learning_rate': 0.08172347068588123, 'max_depth': 2}. Best is trial 184 with value: 0.22463733608687222.\u001b[0m\n",
      "\u001b[32m[I 2023-04-15 16:57:17,368]\u001b[0m Trial 195 finished with value: 0.2221506503037715 and parameters: {'n_estimators': 56, 'learning_rate': 0.041849575713202906, 'max_depth': 1}. Best is trial 184 with value: 0.22463733608687222.\u001b[0m\n",
      "\u001b[32m[I 2023-04-15 16:57:17,661]\u001b[0m Trial 196 finished with value: 0.21298112349874918 and parameters: {'n_estimators': 625, 'learning_rate': 0.014742307797771283, 'max_depth': 1}. Best is trial 184 with value: 0.22463733608687222.\u001b[0m\n",
      "\u001b[32m[I 2023-04-15 16:57:17,736]\u001b[0m Trial 197 finished with value: 0.20912229017130057 and parameters: {'n_estimators': 59, 'learning_rate': 0.03691554392270453, 'max_depth': 2}. Best is trial 184 with value: 0.22463733608687222.\u001b[0m\n",
      "\u001b[32m[I 2023-04-15 16:57:17,900]\u001b[0m Trial 198 finished with value: -0.003547584820858951 and parameters: {'n_estimators': 53, 'learning_rate': 0.2740047139190292, 'max_depth': 27}. Best is trial 184 with value: 0.22463733608687222.\u001b[0m\n",
      "\u001b[32m[I 2023-04-15 16:57:17,986]\u001b[0m Trial 199 finished with value: 0.1798803282760867 and parameters: {'n_estimators': 81, 'learning_rate': 0.0636638992010403, 'max_depth': 2}. Best is trial 184 with value: 0.22463733608687222.\u001b[0m\n"
     ]
    },
    {
     "data": {
      "text/plain": [
       "{'n_estimators': 12, 'learning_rate': 0.3309328967885372, 'max_depth': 1}"
      ]
     },
     "metadata": {},
     "output_type": "display_data"
    }
   ],
   "source": [
    "def optuna_study(X, y):\n",
    "\n",
    "    def objective(trial):\n",
    "        n_estimators = trial.suggest_int('n_estimators', 10, 1000)\n",
    "        learning_rate = trial.suggest_float('learning_rate', 0.01, 1.0)\n",
    "        max_depth = trial.suggest_int('max_depth', 1, 30)\n",
    "        \n",
    "        rf = XGBRegressor(n_estimators=n_estimators,\n",
    "                        learning_rate=learning_rate,\n",
    "                        max_depth=max_depth)\n",
    "        \n",
    "        # # score = StratifiedKFold(rf, X, y)\n",
    "        \n",
    "        # kfold = RepeatedStratifiedKFold(n_splits=40, n_repeats=6, random_state=69);\n",
    "        \n",
    "        # scores = []\n",
    "        \n",
    "        # for train_idx, test_idx in kfold.split(X, y):\n",
    "        #     X_train, X_test = X[train_idx], X[test_idx]\n",
    "        #     y_train, y_test = y[train_idx], y[test_idx]\n",
    "        #     rf.fit(X_train, y_train)\n",
    "        #     y_pred = rf.predict(X_test)\n",
    "        #     scores.append(roc_auc_score(y_test, y_pred))\n",
    "        \n",
    "        # return np.mean(scores)\n",
    "\n",
    "        score = cross_val_score(rf, X, y, n_jobs=4, cv=5)\n",
    "        return score.mean()\n",
    "\n",
    "    study = optuna.create_study(direction='maximize')\n",
    "    study.optimize(objective, n_trials=200)\n",
    "    \n",
    "    return study.best_params\n",
    "\n",
    "# Study 1 (no ph + remove outlier + aggregate values, 100 trials): 0.1564147933997004\n",
    "# Study 2 (no preprocessing, 100 trials): 0.12094767907088448\n",
    "# Study 3 (preprocessing kudos to MOHAMMAD RAZEGHI, 200 trials): 0.18433600629551264\n",
    "# Study 4 (same as 3 but max_depth allowed to be 1, \n",
    "# {'n_estimators': 31, 'learning_rate': 0.15241724886836167, 'max_depth': 1}): 0.22565032154969472\n",
    "\n",
    "\n",
    "best_params = optuna_study(X, y)\n",
    "\n",
    "display(best_params)"
   ]
  },
  {
   "cell_type": "markdown",
   "id": "a92342f1",
   "metadata": {
    "papermill": {
     "duration": 0.004738,
     "end_time": "2023-04-09T00:41:12.363834",
     "exception": false,
     "start_time": "2023-04-09T00:41:12.359096",
     "status": "completed"
    },
    "tags": []
   },
   "source": [
    "# Submission"
   ]
  },
  {
   "cell_type": "code",
   "execution_count": 65,
   "id": "d7bf9561",
   "metadata": {
    "execution": {
     "iopub.execute_input": "2023-04-09T00:41:12.376066Z",
     "iopub.status.busy": "2023-04-09T00:41:12.375635Z",
     "iopub.status.idle": "2023-04-09T00:41:12.641258Z",
     "shell.execute_reply": "2023-04-09T00:41:12.640270Z"
    },
    "papermill": {
     "duration": 0.274782,
     "end_time": "2023-04-09T00:41:12.643800",
     "exception": false,
     "start_time": "2023-04-09T00:41:12.369018",
     "status": "completed"
    },
    "tags": []
   },
   "outputs": [
    {
     "data": {
      "text/html": [
       "<div>\n",
       "<style scoped>\n",
       "    .dataframe tbody tr th:only-of-type {\n",
       "        vertical-align: middle;\n",
       "    }\n",
       "\n",
       "    .dataframe tbody tr th {\n",
       "        vertical-align: top;\n",
       "    }\n",
       "\n",
       "    .dataframe thead th {\n",
       "        text-align: right;\n",
       "    }\n",
       "</style>\n",
       "<table border=\"1\" class=\"dataframe\">\n",
       "  <thead>\n",
       "    <tr style=\"text-align: right;\">\n",
       "      <th></th>\n",
       "      <th>id</th>\n",
       "      <th>target</th>\n",
       "    </tr>\n",
       "  </thead>\n",
       "  <tbody>\n",
       "    <tr>\n",
       "      <th>0</th>\n",
       "      <td>414</td>\n",
       "      <td>0.182349</td>\n",
       "    </tr>\n",
       "    <tr>\n",
       "      <th>1</th>\n",
       "      <td>415</td>\n",
       "      <td>0.447463</td>\n",
       "    </tr>\n",
       "    <tr>\n",
       "      <th>2</th>\n",
       "      <td>416</td>\n",
       "      <td>0.793484</td>\n",
       "    </tr>\n",
       "    <tr>\n",
       "      <th>3</th>\n",
       "      <td>417</td>\n",
       "      <td>0.447463</td>\n",
       "    </tr>\n",
       "    <tr>\n",
       "      <th>4</th>\n",
       "      <td>418</td>\n",
       "      <td>0.259589</td>\n",
       "    </tr>\n",
       "  </tbody>\n",
       "</table>\n",
       "</div>"
      ],
      "text/plain": [
       "    id    target\n",
       "0  414  0.182349\n",
       "1  415  0.447463\n",
       "2  416  0.793484\n",
       "3  417  0.447463\n",
       "4  418  0.259589"
      ]
     },
     "metadata": {},
     "output_type": "display_data"
    },
    {
     "name": "stdout",
     "output_type": "stream",
     "text": [
      "Successful\n"
     ]
    }
   ],
   "source": [
    "final_model = XGBRegressor(\n",
    "    n_estimators = best_params['n_estimators'], \n",
    "    max_depth = best_params['max_depth'], \n",
    "    learning_rate = best_params['learning_rate'],\n",
    "    n_jobs=4)\n",
    "\n",
    "final_model.fit(X, y)\n",
    "predictions = final_model.predict(no_id_test_data)\n",
    "\n",
    "submission = pd.DataFrame({'id': test_data.id, 'target': predictions})\n",
    "\n",
    "display(submission.head())\n",
    "\n",
    "submission.to_csv(f'submission6.csv', index=False)\n",
    "\n",
    "print('Successful')"
   ]
  }
 ],
 "metadata": {
  "kernelspec": {
   "display_name": "Python 3",
   "language": "python",
   "name": "python3"
  },
  "language_info": {
   "codemirror_mode": {
    "name": "ipython",
    "version": 3
   },
   "file_extension": ".py",
   "mimetype": "text/x-python",
   "name": "python",
   "nbconvert_exporter": "python",
   "pygments_lexer": "ipython3",
   "version": "3.11.3"
  },
  "papermill": {
   "default_parameters": {},
   "duration": 219.706329,
   "end_time": "2023-04-09T00:41:13.474455",
   "environment_variables": {},
   "exception": null,
   "input_path": "__notebook__.ipynb",
   "output_path": "__notebook__.ipynb",
   "parameters": {},
   "start_time": "2023-04-09T00:37:33.768126",
   "version": "2.4.0"
  }
 },
 "nbformat": 4,
 "nbformat_minor": 5
}
