{
 "cells": [
  {
   "cell_type": "code",
   "execution_count": 119,
   "id": "3bbb6c78",
   "metadata": {
    "_cell_guid": "b1076dfc-b9ad-4769-8c92-a6c4dae69d19",
    "_uuid": "8f2839f25d086af736a60e9eeb907d3b93b6e0e5",
    "execution": {
     "iopub.execute_input": "2023-04-09T03:28:09.092867Z",
     "iopub.status.busy": "2023-04-09T03:28:09.092446Z",
     "iopub.status.idle": "2023-04-09T03:28:09.108349Z",
     "shell.execute_reply": "2023-04-09T03:28:09.107019Z"
    },
    "papermill": {
     "duration": 0.025948,
     "end_time": "2023-04-09T03:28:09.111221",
     "exception": false,
     "start_time": "2023-04-09T03:28:09.085273",
     "status": "completed"
    },
    "tags": []
   },
   "outputs": [],
   "source": [
    "# This Python 3 environment comes with many helpful analytics libraries installed\n",
    "# It is defined by the kaggle/python Docker image: https://github.com/kaggle/docker-python\n",
    "# For example, here's several helpful packages to load\n",
    "\n",
    "import numpy as np # linear algebra\n",
    "import pandas as pd # data processing, CSV file I/O (e.g. pd.read_csv)\n",
    "\n",
    "# Input data files are available in the read-only \"../input/\" directory\n",
    "# For example, running this (by clicking run or pressing Shift+Enter) will list all files under the input directory\n",
    "\n",
    "import os\n",
    "for dirname, _, filenames in os.walk('/kaggle/input'):\n",
    "    for filename in filenames:\n",
    "        print(os.path.join(dirname, filename))\n",
    "\n",
    "# You can write up to 20GB to the current directory (/kaggle/working/) that gets preserved as output when you create a version using \"Save & Run All\" \n",
    "# You can also write temporary files to /kaggle/temp/, but they won't be saved outside of the current session"
   ]
  },
  {
   "cell_type": "markdown",
   "id": "ce63bef1",
   "metadata": {
    "papermill": {
     "duration": 0.004025,
     "end_time": "2023-04-09T03:28:09.119893",
     "exception": false,
     "start_time": "2023-04-09T03:28:09.115868",
     "status": "completed"
    },
    "tags": []
   },
   "source": [
    "# Imports"
   ]
  },
  {
   "cell_type": "code",
   "execution_count": 120,
   "id": "41951ec7",
   "metadata": {
    "execution": {
     "iopub.execute_input": "2023-04-09T03:28:09.130889Z",
     "iopub.status.busy": "2023-04-09T03:28:09.129939Z",
     "iopub.status.idle": "2023-04-09T03:28:10.618980Z",
     "shell.execute_reply": "2023-04-09T03:28:10.617572Z"
    },
    "papermill": {
     "duration": 1.49761,
     "end_time": "2023-04-09T03:28:10.621854",
     "exception": false,
     "start_time": "2023-04-09T03:28:09.124244",
     "status": "completed"
    },
    "tags": []
   },
   "outputs": [],
   "source": [
    "from xgboost import XGBRegressor\n",
    "from xgboost import XGBClassifier\n",
    "from sklearn.ensemble import RandomForestClassifier\n",
    "from sklearn.model_selection import train_test_split\n",
    "from sklearn.model_selection import GridSearchCV\n",
    "from sklearn.pipeline import Pipeline\n",
    "from sklearn.model_selection import cross_val_score\n",
    "from sklearn.metrics import mean_absolute_error\n",
    "from sklearn.impute import SimpleImputer\n",
    "import seaborn as sns\n",
    "import matplotlib.pyplot as plt"
   ]
  },
  {
   "cell_type": "markdown",
   "id": "447ca840",
   "metadata": {
    "papermill": {
     "duration": 0.004078,
     "end_time": "2023-04-09T03:28:10.630395",
     "exception": false,
     "start_time": "2023-04-09T03:28:10.626317",
     "status": "completed"
    },
    "tags": []
   },
   "source": [
    "# Get data"
   ]
  },
  {
   "cell_type": "code",
   "execution_count": 121,
   "id": "cd0f9929",
   "metadata": {
    "execution": {
     "iopub.execute_input": "2023-04-09T03:28:10.641160Z",
     "iopub.status.busy": "2023-04-09T03:28:10.640687Z",
     "iopub.status.idle": "2023-04-09T03:28:10.696856Z",
     "shell.execute_reply": "2023-04-09T03:28:10.695633Z"
    },
    "papermill": {
     "duration": 0.064826,
     "end_time": "2023-04-09T03:28:10.699582",
     "exception": false,
     "start_time": "2023-04-09T03:28:10.634756",
     "status": "completed"
    },
    "tags": []
   },
   "outputs": [
    {
     "data": {
      "text/html": [
       "<div>\n",
       "<style scoped>\n",
       "    .dataframe tbody tr th:only-of-type {\n",
       "        vertical-align: middle;\n",
       "    }\n",
       "\n",
       "    .dataframe tbody tr th {\n",
       "        vertical-align: top;\n",
       "    }\n",
       "\n",
       "    .dataframe thead th {\n",
       "        text-align: right;\n",
       "    }\n",
       "</style>\n",
       "<table border=\"1\" class=\"dataframe\">\n",
       "  <thead>\n",
       "    <tr style=\"text-align: right;\">\n",
       "      <th></th>\n",
       "      <th>gravity</th>\n",
       "      <th>ph</th>\n",
       "      <th>osmo</th>\n",
       "      <th>cond</th>\n",
       "      <th>urea</th>\n",
       "      <th>calc</th>\n",
       "    </tr>\n",
       "  </thead>\n",
       "  <tbody>\n",
       "    <tr>\n",
       "      <th>0</th>\n",
       "      <td>1.013</td>\n",
       "      <td>6.19</td>\n",
       "      <td>443</td>\n",
       "      <td>14.8</td>\n",
       "      <td>124</td>\n",
       "      <td>1.45</td>\n",
       "    </tr>\n",
       "    <tr>\n",
       "      <th>1</th>\n",
       "      <td>1.025</td>\n",
       "      <td>5.40</td>\n",
       "      <td>703</td>\n",
       "      <td>23.6</td>\n",
       "      <td>394</td>\n",
       "      <td>4.18</td>\n",
       "    </tr>\n",
       "    <tr>\n",
       "      <th>2</th>\n",
       "      <td>1.009</td>\n",
       "      <td>6.13</td>\n",
       "      <td>371</td>\n",
       "      <td>24.5</td>\n",
       "      <td>159</td>\n",
       "      <td>9.04</td>\n",
       "    </tr>\n",
       "    <tr>\n",
       "      <th>3</th>\n",
       "      <td>1.021</td>\n",
       "      <td>4.91</td>\n",
       "      <td>442</td>\n",
       "      <td>20.8</td>\n",
       "      <td>398</td>\n",
       "      <td>6.63</td>\n",
       "    </tr>\n",
       "    <tr>\n",
       "      <th>4</th>\n",
       "      <td>1.021</td>\n",
       "      <td>5.53</td>\n",
       "      <td>874</td>\n",
       "      <td>17.8</td>\n",
       "      <td>385</td>\n",
       "      <td>2.21</td>\n",
       "    </tr>\n",
       "  </tbody>\n",
       "</table>\n",
       "</div>"
      ],
      "text/plain": [
       "   gravity    ph  osmo  cond  urea  calc\n",
       "0    1.013  6.19   443  14.8   124  1.45\n",
       "1    1.025  5.40   703  23.6   394  4.18\n",
       "2    1.009  6.13   371  24.5   159  9.04\n",
       "3    1.021  4.91   442  20.8   398  6.63\n",
       "4    1.021  5.53   874  17.8   385  2.21"
      ]
     },
     "metadata": {},
     "output_type": "display_data"
    },
    {
     "data": {
      "text/plain": [
       "0    0\n",
       "1    0\n",
       "2    0\n",
       "3    1\n",
       "4    1\n",
       "Name: target, dtype: int64"
      ]
     },
     "metadata": {},
     "output_type": "display_data"
    }
   ],
   "source": [
    "train_data = pd.read_csv(\"train.csv\")\n",
    "test_data = pd.read_csv(\"test.csv\")\n",
    "\n",
    "X = train_data.copy()\n",
    "X.drop(['id', 'target'], axis=1, inplace=True)\n",
    "\n",
    "y = train_data['target']\n",
    "\n",
    "no_id_test_data = test_data.drop('id', axis=1)\n",
    "\n",
    "display(X.head())\n",
    "display(y.head())"
   ]
  },
  {
   "cell_type": "markdown",
   "id": "8070460f",
   "metadata": {
    "papermill": {
     "duration": 0.004325,
     "end_time": "2023-04-09T03:28:10.739821",
     "exception": false,
     "start_time": "2023-04-09T03:28:10.735496",
     "status": "completed"
    },
    "tags": []
   },
   "source": [
    "# Missing Data"
   ]
  },
  {
   "cell_type": "code",
   "execution_count": 122,
   "id": "4b474e47",
   "metadata": {
    "execution": {
     "iopub.execute_input": "2023-04-09T03:28:10.751500Z",
     "iopub.status.busy": "2023-04-09T03:28:10.750305Z",
     "iopub.status.idle": "2023-04-09T03:28:10.759434Z",
     "shell.execute_reply": "2023-04-09T03:28:10.758093Z"
    },
    "papermill": {
     "duration": 0.017746,
     "end_time": "2023-04-09T03:28:10.762049",
     "exception": false,
     "start_time": "2023-04-09T03:28:10.744303",
     "status": "completed"
    },
    "tags": []
   },
   "outputs": [
    {
     "name": "stdout",
     "output_type": "stream",
     "text": [
      "There are 0 columns with missing values\n"
     ]
    }
   ],
   "source": [
    "cols_with_missing = [col for col in X.columns if X[col].isnull().any()]\n",
    "\n",
    "print(f'There are {len(cols_with_missing)} columns with missing values')\n",
    "\n",
    "for i in cols_with_missing:\n",
    "    print(i)"
   ]
  },
  {
   "attachments": {},
   "cell_type": "markdown",
   "id": "a5e6c9d5",
   "metadata": {},
   "source": [
    "# EDA"
   ]
  },
  {
   "cell_type": "code",
   "execution_count": 123,
   "id": "f6cae503",
   "metadata": {},
   "outputs": [
    {
     "data": {
      "image/png": "[encoded data removed]",
      "text/plain": [
       "<Figure size 1200x1000 with 2 Axes>"
      ]
     },
     "metadata": {},
     "output_type": "display_data"
    }
   ],
   "source": [
    "plt.figure(figsize=(12, 10), dpi=100)\n",
    "sns.heatmap(train_data.corr(), cmap='RdYlGn')\n",
    "plt.show()"
   ]
  },
  {
   "attachments": {},
   "cell_type": "markdown",
   "id": "240180dd",
   "metadata": {},
   "source": [
    "# Feature Engineering"
   ]
  },
  {
   "cell_type": "code",
   "execution_count": 124,
   "metadata": {},
   "outputs": [
    {
     "data": {
      "text/plain": [
       "Index(['gravity', 'ph', 'osmo', 'cond', 'urea', 'calc'], dtype='object')"
      ]
     },
     "metadata": {},
     "output_type": "display_data"
    },
    {
     "data": {
      "text/plain": [
       "Index(['gravity', 'osmo', 'cond', 'urea', 'calc'], dtype='object')"
      ]
     },
     "metadata": {},
     "output_type": "display_data"
    },
    {
     "name": "stdout",
     "output_type": "stream",
     "text": [
      "gravity    414\n",
      "osmo       414\n",
      "cond       414\n",
      "urea       414\n",
      "calc       414\n",
      "dtype: int64\n"
     ]
    }
   ],
   "source": [
    "display(X.columns)\n",
    "\n",
    "X.drop('ph', axis=1, inplace=True)\n",
    "no_id_test_data.drop(['ph'], axis=1, inplace=True)\n",
    "\n",
    "display(X.columns)\n",
    "\n",
    "print(X.count());"
   ]
  },
  {
   "attachments": {},
   "cell_type": "markdown",
   "id": "e298f5e5",
   "metadata": {},
   "source": [
    "# Remove Outliers"
   ]
  },
  {
   "cell_type": "code",
   "execution_count": 125,
   "id": "3859e0f4",
   "metadata": {},
   "outputs": [
    {
     "name": "stderr",
     "output_type": "stream",
     "text": [
      "C:\\Users\\andar\\AppData\\Local\\Temp\\ipykernel_7160\\815668155.py:13: SettingWithCopyWarning: \n",
      "A value is trying to be set on a copy of a slice from a DataFrame\n",
      "\n",
      "See the caveats in the documentation: https://pandas.pydata.org/pandas-docs/stable/user_guide/indexing.html#returning-a-view-versus-a-copy\n",
      "  data[i][j]=np.nan\n"
     ]
    }
   ],
   "source": [
    "# Credit: KLYUSHNIK-ALEXSANDR\n",
    "\n",
    "def outlier_removal(data , i):\n",
    "    q1 = np.quantile(data[i] ,0.25)\n",
    "    q3 = np.quantile(data[i] , 0.75)\n",
    "    iqr = q3-q1\n",
    "    lower_tail = q1 - 1.5*iqr\n",
    "    upper_tail = q3 + 1.5*iqr\n",
    "    \n",
    "    \n",
    "    for j in range(0, data[i].count()):\n",
    "        if(data[i][j]>upper_tail or data[i][j]<lower_tail):\n",
    "            data[i][j]=np.nan\n",
    "    \n",
    "outlier_list = ['gravity', 'osmo', 'cond', 'urea', 'calc']\n",
    "for  i in outlier_list:\n",
    "    outlier_removal(X ,i)"
   ]
  },
  {
   "attachments": {},
   "cell_type": "markdown",
   "id": "96f57b50",
   "metadata": {},
   "source": [
    "# Aggregate Features"
   ]
  },
  {
   "cell_type": "code",
   "execution_count": 126,
   "id": "94f5b075",
   "metadata": {},
   "outputs": [],
   "source": [
    "def aggregate_features(data):\n",
    "    my_imputer = SimpleImputer()\n",
    "    data = pd.DataFrame(my_imputer.fit_transform(data))\n",
    "    return data"
   ]
  },
  {
   "attachments": {},
   "cell_type": "markdown",
   "id": "494ef901",
   "metadata": {},
   "source": [
    "# Preprocess Data"
   ]
  },
  {
   "cell_type": "code",
   "execution_count": 127,
   "id": "0d92376f",
   "metadata": {},
   "outputs": [
    {
     "name": "stdout",
     "output_type": "stream",
     "text": [
      "There are 0 columns with missing values\n",
      "0    414\n",
      "1    414\n",
      "2    414\n",
      "3    414\n",
      "4    414\n",
      "dtype: int64\n"
     ]
    }
   ],
   "source": [
    "def preprocess_data(data):\n",
    "    return aggregate_features(data)\n",
    "\n",
    "X = preprocess_data(X)\n",
    "no_id_test_data = preprocess_data(no_id_test_data)\n",
    "\n",
    "cols_with_missing = [col for col in X.columns if X[col].isnull().any()]\n",
    "\n",
    "print(f'There are {len(cols_with_missing)} columns with missing values')\n",
    "\n",
    "for i in cols_with_missing:\n",
    "    print(i)\n",
    "    \n",
    "    \n",
    "print(X.count());\n",
    "\n"
   ]
  },
  {
   "cell_type": "markdown",
   "id": "ea0c3564",
   "metadata": {
    "papermill": {
     "duration": 0.004425,
     "end_time": "2023-04-09T03:28:10.708730",
     "exception": false,
     "start_time": "2023-04-09T03:28:10.704305",
     "status": "completed"
    },
    "tags": []
   },
   "source": [
    "# Split Data"
   ]
  },
  {
   "cell_type": "code",
   "execution_count": 128,
   "id": "d3aa4433",
   "metadata": {
    "execution": {
     "iopub.execute_input": "2023-04-09T03:28:10.719686Z",
     "iopub.status.busy": "2023-04-09T03:28:10.719297Z",
     "iopub.status.idle": "2023-04-09T03:28:10.728090Z",
     "shell.execute_reply": "2023-04-09T03:28:10.726839Z"
    },
    "papermill": {
     "duration": 0.017525,
     "end_time": "2023-04-09T03:28:10.730800",
     "exception": false,
     "start_time": "2023-04-09T03:28:10.713275",
     "status": "completed"
    },
    "tags": []
   },
   "outputs": [],
   "source": [
    "X_train, X_valid, y_train, y_valid = train_test_split(X, y)"
   ]
  },
  {
   "cell_type": "markdown",
   "id": "9fb4f8c7",
   "metadata": {
    "papermill": {
     "duration": 0.00444,
     "end_time": "2023-04-09T03:28:10.771213",
     "exception": false,
     "start_time": "2023-04-09T03:28:10.766773",
     "status": "completed"
    },
    "tags": []
   },
   "source": [
    "# Score"
   ]
  },
  {
   "cell_type": "code",
   "execution_count": 129,
   "id": "769416a9",
   "metadata": {
    "execution": {
     "iopub.execute_input": "2023-04-09T03:28:10.782927Z",
     "iopub.status.busy": "2023-04-09T03:28:10.782140Z",
     "iopub.status.idle": "2023-04-09T03:28:10.789276Z",
     "shell.execute_reply": "2023-04-09T03:28:10.788235Z"
    },
    "papermill": {
     "duration": 0.015454,
     "end_time": "2023-04-09T03:28:10.791397",
     "exception": false,
     "start_time": "2023-04-09T03:28:10.775943",
     "status": "completed"
    },
    "tags": []
   },
   "outputs": [],
   "source": [
    "def get_score(n_estimators_=100, learning_rate_=0.5, max_depth_=6):\n",
    "#     model = XGBRegressor(n_estimators=n_estimators_, max_depth=max_depth_, learning_rate=learning_rate_, \n",
    "#                          n_jobs=4)\n",
    "#     model = XGBClassifier(n_estimators=n_estimators_, max_depth=max_depth_, learning_rate=learning_rate_, \n",
    "#                          n_jobs=4)\n",
    "    weights = {'calc':2,'urea':1.2, 'osmo':1.2, 'ph':0.5}\n",
    "    model = RandomForestClassifier(n_estimators=n_estimators_, max_depth=max_depth_, class_weight=weights)\n",
    "#     model.fit(X_train, y_train, early_stopping_rounds=5, eval_set=[(X_valid, y_valid)], verbose=\n",
    "#              False)\n",
    "#     predictions = model.predict(X_valid)\n",
    "    scores = -1*cross_val_score(model, X, y, cv=5, scoring=\"neg_mean_absolute_error\")\n",
    "    return scores.mean()"
   ]
  },
  {
   "cell_type": "markdown",
   "id": "1cf5cf6e",
   "metadata": {
    "papermill": {
     "duration": 0.004453,
     "end_time": "2023-04-09T03:28:10.800847",
     "exception": false,
     "start_time": "2023-04-09T03:28:10.796394",
     "status": "completed"
    },
    "tags": []
   },
   "source": [
    "# Parameter Tuning"
   ]
  },
  {
   "cell_type": "code",
   "execution_count": 130,
   "id": "201fbddb",
   "metadata": {
    "execution": {
     "iopub.execute_input": "2023-04-09T03:28:10.812397Z",
     "iopub.status.busy": "2023-04-09T03:28:10.811952Z",
     "iopub.status.idle": "2023-04-09T03:28:10.818056Z",
     "shell.execute_reply": "2023-04-09T03:28:10.816847Z"
    },
    "papermill": {
     "duration": 0.014726,
     "end_time": "2023-04-09T03:28:10.820326",
     "exception": false,
     "start_time": "2023-04-09T03:28:10.805600",
     "status": "completed"
    },
    "tags": []
   },
   "outputs": [],
   "source": [
    "# display(X_train)\n",
    "# display(y_train)\n",
    "\n",
    "# best_score=100000000\n",
    "# best_n_estimators=100\n",
    "# best_learning_rate=0.1\n",
    "# best_max_depth=6\n",
    "\n",
    "# for n_estimators in range(100, 401, 100):\n",
    "#     score = get_score(n_estimators_=n_estimators)\n",
    "    \n",
    "#     if score<best_score:\n",
    "#         best_score=score\n",
    "#         best_n_estimators=n_estimators\n",
    "        \n",
    "# for learning_rate in [0.05, 0.01, 0.025, 0.05, 0.1]:\n",
    "#     score = get_score(n_estimators_=best_n_estimators, learning_rate_=learning_rate);\n",
    "    \n",
    "#     if score<best_score:\n",
    "#         best_score=score\n",
    "#         best_learning_rate=learning_rate\n",
    "        \n",
    "# for max_depth in [2, 4, 6, 8, 10]:\n",
    "#     score = get_score(n_estimators_=best_n_estimators, learning_rate_=learning_rate, \n",
    "#                       max_depth_=max_depth)\n",
    "    \n",
    "#     if score<best_score:\n",
    "#         best_score=score\n",
    "#         best_max_depth=max_depth\n",
    "        \n",
    "# print(f'best_score={best_score}, best_n_estimators={best_n_estimators}, best_learning_rate={best_learning_rate}, best_max_depth={best_max_depth}')"
   ]
  },
  {
   "cell_type": "markdown",
   "id": "fb460c0f",
   "metadata": {
    "papermill": {
     "duration": 0.004476,
     "end_time": "2023-04-09T03:28:10.830222",
     "exception": false,
     "start_time": "2023-04-09T03:28:10.825746",
     "status": "completed"
    },
    "tags": []
   },
   "source": [
    "# GridSearchCV"
   ]
  },
  {
   "cell_type": "code",
   "execution_count": 131,
   "id": "2c3bcde4",
   "metadata": {
    "_kg_hide-output": true,
    "execution": {
     "iopub.execute_input": "2023-04-09T03:28:10.842184Z",
     "iopub.status.busy": "2023-04-09T03:28:10.841349Z",
     "iopub.status.idle": "2023-04-09T03:28:51.902240Z",
     "shell.execute_reply": "2023-04-09T03:28:51.900762Z"
    },
    "papermill": {
     "duration": 41.072443,
     "end_time": "2023-04-09T03:28:51.907472",
     "exception": false,
     "start_time": "2023-04-09T03:28:10.835029",
     "status": "completed"
    },
    "tags": []
   },
   "outputs": [
    {
     "data": {
      "text/plain": [
       "{'max_depth': 2, 'n_estimators': 1000}"
      ]
     },
     "metadata": {},
     "output_type": "display_data"
    }
   ],
   "source": [
    "# model = XGBRegressor(n_estimators=best_n_estimators, max_depth=best_max_depth, \n",
    "#                      learning_rate=best_learning_rate, n_jobs=4)\n",
    "# model = XGBRegressor(random_state=69)\n",
    "# model = XGBClassifier(random_state=69)\n",
    "model = RandomForestClassifier(random_state=69)\n",
    "to_search = {'n_estimators': [100, 500, 1000],\n",
    "            'max_depth': [2, 6, 10], \n",
    "#             'learning_rate': [0.01, 0.05, 0.1]\n",
    "            }\n",
    "\n",
    "GS = GridSearchCV(estimator=model,\n",
    "                           param_grid=to_search,\n",
    "                           scoring=[\"r2\", \"neg_root_mean_squared_error\"],\n",
    "                           refit=\"r2\",\n",
    "                           cv=5,\n",
    "                           verbose=False)\n",
    "\n",
    "GS.fit(X, y)\n",
    "\n",
    "best_params = GS.best_params_\n",
    "\n",
    "display(best_params)"
   ]
  },
  {
   "cell_type": "markdown",
   "id": "3ba85af5",
   "metadata": {
    "papermill": {
     "duration": 0.004571,
     "end_time": "2023-04-09T03:28:51.916950",
     "exception": false,
     "start_time": "2023-04-09T03:28:51.912379",
     "status": "completed"
    },
    "tags": []
   },
   "source": [
    "# Submission"
   ]
  },
  {
   "cell_type": "code",
   "execution_count": 132,
   "id": "c79d6f66",
   "metadata": {
    "execution": {
     "iopub.execute_input": "2023-04-09T03:28:51.928730Z",
     "iopub.status.busy": "2023-04-09T03:28:51.928287Z",
     "iopub.status.idle": "2023-04-09T03:28:52.302971Z",
     "shell.execute_reply": "2023-04-09T03:28:52.301603Z"
    },
    "papermill": {
     "duration": 0.383794,
     "end_time": "2023-04-09T03:28:52.305662",
     "exception": false,
     "start_time": "2023-04-09T03:28:51.921868",
     "status": "completed"
    },
    "tags": []
   },
   "outputs": [
    {
     "data": {
      "text/html": [
       "<div>\n",
       "<style scoped>\n",
       "    .dataframe tbody tr th:only-of-type {\n",
       "        vertical-align: middle;\n",
       "    }\n",
       "\n",
       "    .dataframe tbody tr th {\n",
       "        vertical-align: top;\n",
       "    }\n",
       "\n",
       "    .dataframe thead th {\n",
       "        text-align: right;\n",
       "    }\n",
       "</style>\n",
       "<table border=\"1\" class=\"dataframe\">\n",
       "  <thead>\n",
       "    <tr style=\"text-align: right;\">\n",
       "      <th></th>\n",
       "      <th>id</th>\n",
       "      <th>target</th>\n",
       "    </tr>\n",
       "  </thead>\n",
       "  <tbody>\n",
       "    <tr>\n",
       "      <th>0</th>\n",
       "      <td>414</td>\n",
       "      <td>0</td>\n",
       "    </tr>\n",
       "    <tr>\n",
       "      <th>1</th>\n",
       "      <td>415</td>\n",
       "      <td>0</td>\n",
       "    </tr>\n",
       "    <tr>\n",
       "      <th>2</th>\n",
       "      <td>416</td>\n",
       "      <td>1</td>\n",
       "    </tr>\n",
       "    <tr>\n",
       "      <th>3</th>\n",
       "      <td>417</td>\n",
       "      <td>0</td>\n",
       "    </tr>\n",
       "    <tr>\n",
       "      <th>4</th>\n",
       "      <td>418</td>\n",
       "      <td>0</td>\n",
       "    </tr>\n",
       "  </tbody>\n",
       "</table>\n",
       "</div>"
      ],
      "text/plain": [
       "    id  target\n",
       "0  414       0\n",
       "1  415       0\n",
       "2  416       1\n",
       "3  417       0\n",
       "4  418       0"
      ]
     },
     "metadata": {},
     "output_type": "display_data"
    },
    {
     "name": "stdout",
     "output_type": "stream",
     "text": [
      "Successful\n"
     ]
    }
   ],
   "source": [
    "# final_model = XGBRegressor(\n",
    "#     n_estimators = best_params['n_estimators'], \n",
    "#     max_depth = best_params['max_depth'], \n",
    "#     learning_rate = best_params['learning_rate'],\n",
    "#     n_jobs=4)\n",
    "# final_model = XGBClassifier(\n",
    "#     n_estimators = best_params['n_estimators'], \n",
    "#     max_depth = best_params['max_depth'], \n",
    "#     learning_rate = best_params['learning_rate'],\n",
    "#     n_jobs=4)\n",
    "final_model = RandomForestClassifier(\n",
    "    n_estimators = best_params['n_estimators'], \n",
    "    max_depth = best_params['max_depth'], \n",
    "#     learning_rate = best_params['learning_rate'],\n",
    "    n_jobs=4)\n",
    "\n",
    "final_model.fit(X, y)\n",
    "predictions = final_model.predict(no_id_test_data)\n",
    "\n",
    "submission = pd.DataFrame({'id': test_data.id, 'target': predictions})\n",
    "\n",
    "display(submission.head())\n",
    "\n",
    "submission.to_csv('submission.csv', index=False)\n",
    "\n",
    "print('Successful')"
   ]
  }
 ],
 "metadata": {
  "kernelspec": {
   "display_name": "Python 3",
   "language": "python",
   "name": "python3"
  },
  "language_info": {
   "codemirror_mode": {
    "name": "ipython",
    "version": 3
   },
   "file_extension": ".py",
   "mimetype": "text/x-python",
   "name": "python",
   "nbconvert_exporter": "python",
   "pygments_lexer": "ipython3",
   "version": "3.11.3"
  },
  "papermill": {
   "default_parameters": {},
   "duration": 54.310814,
   "end_time": "2023-04-09T03:28:53.134162",
   "environment_variables": {},
   "exception": null,
   "input_path": "__notebook__.ipynb",
   "output_path": "__notebook__.ipynb",
   "parameters": {},
   "start_time": "2023-04-09T03:27:58.823348",
   "version": "2.4.0"
  }
 },
 "nbformat": 4,
 "nbformat_minor": 5
}
