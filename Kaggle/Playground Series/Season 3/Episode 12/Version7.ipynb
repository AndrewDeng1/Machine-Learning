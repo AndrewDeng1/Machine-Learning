{
 "cells": [
  {
   "cell_type": "code",
   "execution_count": 12,
   "id": "74adbfdb",
   "metadata": {
    "_cell_guid": "b1076dfc-b9ad-4769-8c92-a6c4dae69d19",
    "_uuid": "8f2839f25d086af736a60e9eeb907d3b93b6e0e5",
    "execution": {
     "iopub.execute_input": "2023-04-09T00:37:46.837496Z",
     "iopub.status.busy": "2023-04-09T00:37:46.837072Z",
     "iopub.status.idle": "2023-04-09T00:37:46.857641Z",
     "shell.execute_reply": "2023-04-09T00:37:46.855677Z"
    },
    "papermill": {
     "duration": 0.031202,
     "end_time": "2023-04-09T00:37:46.860551",
     "exception": false,
     "start_time": "2023-04-09T00:37:46.829349",
     "status": "completed"
    },
    "tags": []
   },
   "outputs": [],
   "source": [
    "# score: 0.82666\n",
    "\n",
    "\n",
    "# This Python 3 environment comes with many helpful analytics libraries installed\n",
    "# It is defined by the kaggle/python Docker image: https://github.com/kaggle/docker-python\n",
    "# For example, here's several helpful packages to load\n",
    "\n",
    "import numpy as np # linear algebra\n",
    "import pandas as pd # data processing, CSV file I/O (e.g. pd.read_csv)\n",
    "\n",
    "# Input data files are available in the read-only \"../input/\" directory\n",
    "# For example, running this (by clicking run or pressing Shift+Enter) will list all files under the input directory\n",
    "\n",
    "import os\n",
    "for dirname, _, filenames in os.walk('/kaggle/input'):\n",
    "    for filename in filenames:\n",
    "        print(os.path.join(dirname, filename))\n",
    "\n",
    "# You can write up to 20GB to the current directory (/kaggle/working/) that gets preserved as output when you create a version using \"Save & Run All\" \n",
    "# You can also write temporary files to /kaggle/temp/, but they won't be saved outside of the current session"
   ]
  },
  {
   "cell_type": "markdown",
   "id": "888c8ea2",
   "metadata": {
    "papermill": {
     "duration": 0.004216,
     "end_time": "2023-04-09T00:37:46.869621",
     "exception": false,
     "start_time": "2023-04-09T00:37:46.865405",
     "status": "completed"
    },
    "tags": []
   },
   "source": [
    "# Imports"
   ]
  },
  {
   "cell_type": "code",
   "execution_count": 2,
   "id": "b83b2d96",
   "metadata": {
    "execution": {
     "iopub.execute_input": "2023-04-09T00:37:46.880770Z",
     "iopub.status.busy": "2023-04-09T00:37:46.880373Z",
     "iopub.status.idle": "2023-04-09T00:37:48.305370Z",
     "shell.execute_reply": "2023-04-09T00:37:48.304381Z"
    },
    "papermill": {
     "duration": 1.433975,
     "end_time": "2023-04-09T00:37:48.308186",
     "exception": false,
     "start_time": "2023-04-09T00:37:46.874211",
     "status": "completed"
    },
    "tags": []
   },
   "outputs": [
    {
     "name": "stderr",
     "output_type": "stream",
     "text": [
      "c:\\Users\\andar\\VSC Projects\\.venv\\Lib\\site-packages\\tqdm\\auto.py:22: TqdmWarning: IProgress not found. Please update jupyter and ipywidgets. See https://ipywidgets.readthedocs.io/en/stable/user_install.html\n",
      "  from .autonotebook import tqdm as notebook_tqdm\n"
     ]
    }
   ],
   "source": [
    "from xgboost import XGBRegressor, XGBClassifier\n",
    "from sklearn.ensemble import RandomForestClassifier\n",
    "from sklearn.model_selection import train_test_split, GridSearchCV\n",
    "from sklearn.pipeline import Pipeline\n",
    "from sklearn.model_selection import cross_val_score, RepeatedStratifiedKFold\n",
    "from sklearn.metrics import mean_absolute_error, roc_auc_score\n",
    "from sklearn.impute import SimpleImputer\n",
    "from sklearn.preprocessing import StandardScaler\n",
    "import seaborn as sns\n",
    "import matplotlib.pyplot as plt\n",
    "import optuna"
   ]
  },
  {
   "cell_type": "markdown",
   "id": "899d4cf0",
   "metadata": {
    "papermill": {
     "duration": 0.004594,
     "end_time": "2023-04-09T00:37:48.317768",
     "exception": false,
     "start_time": "2023-04-09T00:37:48.313174",
     "status": "completed"
    },
    "tags": []
   },
   "source": [
    "# Get data"
   ]
  },
  {
   "cell_type": "code",
   "execution_count": 3,
   "id": "5b46937c",
   "metadata": {
    "execution": {
     "iopub.execute_input": "2023-04-09T00:37:48.331008Z",
     "iopub.status.busy": "2023-04-09T00:37:48.329721Z",
     "iopub.status.idle": "2023-04-09T00:37:48.400420Z",
     "shell.execute_reply": "2023-04-09T00:37:48.398896Z"
    },
    "papermill": {
     "duration": 0.080348,
     "end_time": "2023-04-09T00:37:48.403526",
     "exception": false,
     "start_time": "2023-04-09T00:37:48.323178",
     "status": "completed"
    },
    "tags": []
   },
   "outputs": [
    {
     "data": {
      "text/html": [
       "<div>\n",
       "<style scoped>\n",
       "    .dataframe tbody tr th:only-of-type {\n",
       "        vertical-align: middle;\n",
       "    }\n",
       "\n",
       "    .dataframe tbody tr th {\n",
       "        vertical-align: top;\n",
       "    }\n",
       "\n",
       "    .dataframe thead th {\n",
       "        text-align: right;\n",
       "    }\n",
       "</style>\n",
       "<table border=\"1\" class=\"dataframe\">\n",
       "  <thead>\n",
       "    <tr style=\"text-align: right;\">\n",
       "      <th></th>\n",
       "      <th>gravity</th>\n",
       "      <th>ph</th>\n",
       "      <th>osmo</th>\n",
       "      <th>cond</th>\n",
       "      <th>urea</th>\n",
       "      <th>calc</th>\n",
       "    </tr>\n",
       "  </thead>\n",
       "  <tbody>\n",
       "    <tr>\n",
       "      <th>0</th>\n",
       "      <td>1.013</td>\n",
       "      <td>6.19</td>\n",
       "      <td>443</td>\n",
       "      <td>14.8</td>\n",
       "      <td>124</td>\n",
       "      <td>1.45</td>\n",
       "    </tr>\n",
       "    <tr>\n",
       "      <th>1</th>\n",
       "      <td>1.025</td>\n",
       "      <td>5.40</td>\n",
       "      <td>703</td>\n",
       "      <td>23.6</td>\n",
       "      <td>394</td>\n",
       "      <td>4.18</td>\n",
       "    </tr>\n",
       "    <tr>\n",
       "      <th>2</th>\n",
       "      <td>1.009</td>\n",
       "      <td>6.13</td>\n",
       "      <td>371</td>\n",
       "      <td>24.5</td>\n",
       "      <td>159</td>\n",
       "      <td>9.04</td>\n",
       "    </tr>\n",
       "    <tr>\n",
       "      <th>3</th>\n",
       "      <td>1.021</td>\n",
       "      <td>4.91</td>\n",
       "      <td>442</td>\n",
       "      <td>20.8</td>\n",
       "      <td>398</td>\n",
       "      <td>6.63</td>\n",
       "    </tr>\n",
       "    <tr>\n",
       "      <th>4</th>\n",
       "      <td>1.021</td>\n",
       "      <td>5.53</td>\n",
       "      <td>874</td>\n",
       "      <td>17.8</td>\n",
       "      <td>385</td>\n",
       "      <td>2.21</td>\n",
       "    </tr>\n",
       "  </tbody>\n",
       "</table>\n",
       "</div>"
      ],
      "text/plain": [
       "   gravity    ph  osmo  cond  urea  calc\n",
       "0    1.013  6.19   443  14.8   124  1.45\n",
       "1    1.025  5.40   703  23.6   394  4.18\n",
       "2    1.009  6.13   371  24.5   159  9.04\n",
       "3    1.021  4.91   442  20.8   398  6.63\n",
       "4    1.021  5.53   874  17.8   385  2.21"
      ]
     },
     "metadata": {},
     "output_type": "display_data"
    },
    {
     "data": {
      "text/plain": [
       "0    0\n",
       "1    0\n",
       "2    0\n",
       "3    1\n",
       "4    1\n",
       "Name: target, dtype: int64"
      ]
     },
     "metadata": {},
     "output_type": "display_data"
    }
   ],
   "source": [
    "train_data = pd.read_csv(\"train.csv\")\n",
    "test_data = pd.read_csv(\"test.csv\")\n",
    "\n",
    "X = train_data.copy()\n",
    "X.drop(['id', 'target'], axis=1, inplace=True)\n",
    "\n",
    "y = train_data['target']\n",
    "\n",
    "no_id_test_data = test_data.drop('id', axis=1)\n",
    "\n",
    "display(X.head())\n",
    "display(y.head())"
   ]
  },
  {
   "cell_type": "markdown",
   "id": "6d772808",
   "metadata": {
    "papermill": {
     "duration": 0.005239,
     "end_time": "2023-04-09T00:37:48.413756",
     "exception": false,
     "start_time": "2023-04-09T00:37:48.408517",
     "status": "completed"
    },
    "tags": []
   },
   "source": [
    "# Split Data"
   ]
  },
  {
   "cell_type": "code",
   "execution_count": 4,
   "id": "c46f9aa2",
   "metadata": {
    "execution": {
     "iopub.execute_input": "2023-04-09T00:37:48.425837Z",
     "iopub.status.busy": "2023-04-09T00:37:48.425410Z",
     "iopub.status.idle": "2023-04-09T00:37:48.433741Z",
     "shell.execute_reply": "2023-04-09T00:37:48.432526Z"
    },
    "papermill": {
     "duration": 0.017638,
     "end_time": "2023-04-09T00:37:48.436408",
     "exception": false,
     "start_time": "2023-04-09T00:37:48.418770",
     "status": "completed"
    },
    "tags": []
   },
   "outputs": [],
   "source": [
    "X_train, X_valid, y_train, y_valid = train_test_split(X, y)"
   ]
  },
  {
   "cell_type": "markdown",
   "id": "907a613b",
   "metadata": {
    "papermill": {
     "duration": 0.00491,
     "end_time": "2023-04-09T00:37:48.446287",
     "exception": false,
     "start_time": "2023-04-09T00:37:48.441377",
     "status": "completed"
    },
    "tags": []
   },
   "source": [
    "# Missing Data"
   ]
  },
  {
   "cell_type": "code",
   "execution_count": 5,
   "id": "a9aa0fae",
   "metadata": {
    "execution": {
     "iopub.execute_input": "2023-04-09T00:37:48.459202Z",
     "iopub.status.busy": "2023-04-09T00:37:48.458287Z",
     "iopub.status.idle": "2023-04-09T00:37:48.468433Z",
     "shell.execute_reply": "2023-04-09T00:37:48.466879Z"
    },
    "papermill": {
     "duration": 0.019758,
     "end_time": "2023-04-09T00:37:48.471098",
     "exception": false,
     "start_time": "2023-04-09T00:37:48.451340",
     "status": "completed"
    },
    "tags": []
   },
   "outputs": [
    {
     "name": "stdout",
     "output_type": "stream",
     "text": [
      "There are 0 columns with missing values\n"
     ]
    }
   ],
   "source": [
    "cols_with_missing = [col for col in X_train.columns if X_train[col].isnull().any()]\n",
    "\n",
    "print(f'There are {len(cols_with_missing)} columns with missing values')\n",
    "\n",
    "for i in cols_with_missing:\n",
    "    print(i)"
   ]
  },
  {
   "cell_type": "markdown",
   "id": "56238321",
   "metadata": {},
   "source": [
    "# Feature Engineering"
   ]
  },
  {
   "cell_type": "code",
   "execution_count": 6,
   "id": "b0d5c466",
   "metadata": {},
   "outputs": [
    {
     "data": {
      "text/plain": [
       "Index(['gravity', 'ph', 'osmo', 'cond', 'urea', 'calc'], dtype='object')"
      ]
     },
     "metadata": {},
     "output_type": "display_data"
    },
    {
     "name": "stdout",
     "output_type": "stream",
     "text": [
      "gravity    414\n",
      "ph         414\n",
      "osmo       414\n",
      "cond       414\n",
      "urea       414\n",
      "calc       414\n",
      "dtype: int64\n"
     ]
    }
   ],
   "source": [
    "display(X.columns)\n",
    "\n",
    "def prepXy(df,X_label,y=None):\n",
    "    \n",
    "    data = df.drop(['gravity', 'ph', 'cond'], axis=1);\n",
    "    return data, df, y\n",
    "    \n",
    "    selected_feat = []\n",
    "    data = df.copy()\n",
    "    \n",
    "    # Feature Engineering\n",
    "    \n",
    "    \n",
    "    # Ion product of calcium and urea\n",
    "    data[\"ion_product\"] = data[\"calc\"] * data[\"urea\"]\n",
    "\n",
    "    # Calcium-to-urea ratio\n",
    "    data[\"calcium_to_urea_ratio\"] = data[\"calc\"] / data[\"urea\"]\n",
    "\n",
    "    # Electrolyte balance\n",
    "    data[\"electrolyte_balance\"] = data[\"cond\"] / (10 ** (-data[\"ph\"]))\n",
    "\n",
    "    # Osmolality-to-specific gravity ratio\n",
    "    data[\"osmolality_to_sg_ratio\"] = data[\"osmo\"] / data[\"gravity\"]\n",
    "\n",
    "    # The product of osmolarity and density is created as a new property\n",
    "    data['osmo_density'] = data['osmo'] * data['gravity']\n",
    "    \n",
    "    # ******************************************************************\n",
    "    \n",
    "    # Calculate ammonium concentration (assuming ammonium is not directly measured)\n",
    "    data['ammonium_concentration'] = (data['gravity'] - 1.010) * (140 - (2 * data[\"ph\"])) * 1.2\n",
    "\n",
    "    # Calculate phosphate concentration (assuming phosphate is not directly measured)\n",
    "    data['phosphate_concentration'] = (data['gravity'] - 1.010) * (32 - (0.06 * data[\"ph\"]))\n",
    "\n",
    "    # *****************************************************************\n",
    "    \n",
    "    data[\"gravity/ph\"] = data[\"gravity\"] / data[\"ph\"]\n",
    "    data[\"osmo/cond\"] = data[\"osmo\"] / data[\"cond\"]\n",
    "    data[\"gravity*ph\"] = data[\"gravity\"] * data[\"ph\"]\n",
    "    data[\"osmo*urea\"] = data[\"osmo\"] * data[\"urea\"]\n",
    "    data[\"cond_urea_ph\"] = data[\"cond\"] * data[\"urea\"] / data[\"ph\"]\n",
    "    data[\"ph*osmo\"] = data[\"ph\"] * data[\"osmo\"]\n",
    "    data[\"cond*calc\"] = data[\"cond\"] * data[\"calc\"]\n",
    "    data[\"gravity/calc\"] = data[\"gravity\"] / data[\"calc\"]\n",
    "\n",
    "    # Split into features and target\n",
    "    X_ret = data[X_label].values\n",
    "    \n",
    "    if y is None:\n",
    "        y_ret = np.zeros(data.shape[0])\n",
    "    else:\n",
    "        y_ret = np.ravel(y)\n",
    "\n",
    "    data.drop('ph', axis=1, inplace=True)\n",
    "\n",
    "    \n",
    "    data['target']=y_ret\n",
    "    \n",
    "    display(data.columns)\n",
    "    \n",
    "    sns.heatmap(data.corr())\n",
    "\n",
    "    data.drop('target', axis=1, inplace=True)\n",
    "\n",
    "    # Scaling dataset\n",
    "    # scaler = MinMaxScaler()\n",
    "    \n",
    "    \n",
    "    # scaler = StandardScaler()\n",
    "    \n",
    "    # X_ret = scaler.fit_transform(X_ret)\n",
    "\n",
    "    return data,X_ret,y_ret\n",
    "\n",
    "\n",
    "\n",
    "print(X.count());"
   ]
  },
  {
   "cell_type": "markdown",
   "id": "f821cc7c",
   "metadata": {},
   "source": [
    "# Remove Outliers"
   ]
  },
  {
   "cell_type": "code",
   "execution_count": 7,
   "id": "f669cd3c",
   "metadata": {},
   "outputs": [],
   "source": [
    "# Credit: KLYUSHNIK-ALEXSANDR\n",
    "\n",
    "def outlier_removal(data , i):\n",
    "    q1 = np.quantile(data[i] ,0.25)\n",
    "    q3 = np.quantile(data[i] , 0.75)\n",
    "    iqr = q3-q1\n",
    "    lower_tail = q1 - 1.5*iqr\n",
    "    upper_tail = q3 + 1.5*iqr\n",
    "    \n",
    "    \n",
    "    for j in range(0, data[i].count()):\n",
    "        if(data[i][j]>upper_tail or data[i][j]<lower_tail):\n",
    "            data[i][j]=np.nan\n",
    "            \n",
    "    return data[i]"
   ]
  },
  {
   "cell_type": "markdown",
   "id": "6946175b",
   "metadata": {},
   "source": [
    "# Aggregate Features"
   ]
  },
  {
   "cell_type": "code",
   "execution_count": 8,
   "id": "67a3f839",
   "metadata": {},
   "outputs": [],
   "source": [
    "def aggregate_features(X):\n",
    "    \n",
    "    outlier_list = ['gravity', 'osmo', 'cond', 'urea', 'calc']\n",
    "    for i in outlier_list:\n",
    "        X[i]=outlier_removal(X ,i)\n",
    "    \n",
    "    my_imputer = SimpleImputer()\n",
    "    X = pd.DataFrame(my_imputer.fit_transform(X))\n",
    "    return X"
   ]
  },
  {
   "cell_type": "markdown",
   "id": "6c9f3200",
   "metadata": {},
   "source": [
    "# Preprocess Data"
   ]
  },
  {
   "cell_type": "code",
   "execution_count": 9,
   "id": "12434db0",
   "metadata": {},
   "outputs": [
    {
     "name": "stdout",
     "output_type": "stream",
     "text": [
      "Index(['gravity', 'ph', 'osmo', 'cond', 'urea', 'calc'], dtype='object')\n",
      "Index(['gravity', 'ph', 'osmo', 'cond', 'urea', 'calc'], dtype='object')\n"
     ]
    },
    {
     "data": {
      "text/plain": [
       "Index(['gravity', 'ph', 'osmo', 'cond', 'urea', 'calc'], dtype='object')"
      ]
     },
     "metadata": {},
     "output_type": "display_data"
    }
   ],
   "source": [
    "def preprocess_data(X, y=None):\n",
    "    \n",
    "    # X = aggregate_features(X);\n",
    "    \n",
    "    print(X.columns)\n",
    "    return prepXy(X, X.columns, y)\n",
    "\n",
    "\n",
    "'''preprocess data here'''\n",
    "new_df_train, X, y = preprocess_data(X, y)\n",
    "new_df_test, no_id_test_data, _ = preprocess_data(no_id_test_data)\n",
    "\n",
    "display(X.columns)\n",
    "\n",
    "# cols_with_missing = [col for col in X.columns if X[col].isnull().any()]\n",
    "\n",
    "# print(f'There are {len(cols_with_missing)} columns with missing values')\n",
    "\n",
    "# for i in cols_with_missing:\n",
    "#     print(i)\n",
    "    \n",
    "    \n",
    "# print(X.count());\n",
    "\n"
   ]
  },
  {
   "attachments": {},
   "cell_type": "markdown",
   "id": "bd2d85c9",
   "metadata": {},
   "source": [
    "# Hyperparameter Tuning"
   ]
  },
  {
   "cell_type": "code",
   "execution_count": 10,
   "id": "79b1fafa",
   "metadata": {},
   "outputs": [
    {
     "name": "stderr",
     "output_type": "stream",
     "text": [
      "\u001b[32m[I 2023-04-17 09:00:36,373]\u001b[0m A new study created in memory with name: no-name-0695ec7e-2f25-4d5e-8701-19543ebd078e\u001b[0m\n",
      "\u001b[32m[I 2023-04-17 09:00:39,954]\u001b[0m Trial 0 finished with value: 0.7132357360689652 and parameters: {'n_estimators': 268, 'learning_rate': 0.9242460172881937, 'max_depth': 22}. Best is trial 0 with value: 0.7132357360689652.\u001b[0m\n",
      "\u001b[32m[I 2023-04-17 09:00:40,148]\u001b[0m Trial 1 finished with value: 0.7298983219732371 and parameters: {'n_estimators': 329, 'learning_rate': 0.4332650242699983, 'max_depth': 23}. Best is trial 1 with value: 0.7298983219732371.\u001b[0m\n",
      "\u001b[32m[I 2023-04-17 09:00:40,363]\u001b[0m Trial 2 finished with value: 0.7185022853559416 and parameters: {'n_estimators': 492, 'learning_rate': 0.7244803793334795, 'max_depth': 28}. Best is trial 1 with value: 0.7298983219732371.\u001b[0m\n",
      "\u001b[32m[I 2023-04-17 09:00:40,477]\u001b[0m Trial 3 finished with value: 0.7198038467482415 and parameters: {'n_estimators': 146, 'learning_rate': 0.5444334164489025, 'max_depth': 17}. Best is trial 1 with value: 0.7298983219732371.\u001b[0m\n",
      "\u001b[32m[I 2023-04-17 09:00:40,799]\u001b[0m Trial 4 finished with value: 0.7329015740601651 and parameters: {'n_estimators': 615, 'learning_rate': 0.5003863225416548, 'max_depth': 16}. Best is trial 4 with value: 0.7329015740601651.\u001b[0m\n",
      "\u001b[32m[I 2023-04-17 09:00:41,151]\u001b[0m Trial 5 finished with value: 0.7403135334131669 and parameters: {'n_estimators': 405, 'learning_rate': 0.15466279481717665, 'max_depth': 12}. Best is trial 5 with value: 0.7403135334131669.\u001b[0m\n",
      "\u001b[32m[I 2023-04-17 09:00:41,496]\u001b[0m Trial 6 finished with value: 0.6654802139325204 and parameters: {'n_estimators': 630, 'learning_rate': 0.5902077545214675, 'max_depth': 2}. Best is trial 5 with value: 0.7403135334131669.\u001b[0m\n",
      "\u001b[32m[I 2023-04-17 09:00:41,693]\u001b[0m Trial 7 finished with value: 0.7291475011370416 and parameters: {'n_estimators': 400, 'learning_rate': 0.6602984957015076, 'max_depth': 1}. Best is trial 5 with value: 0.7403135334131669.\u001b[0m\n",
      "\u001b[32m[I 2023-04-17 09:00:41,911]\u001b[0m Trial 8 finished with value: 0.7180687902795896 and parameters: {'n_estimators': 291, 'learning_rate': 0.5034972855944431, 'max_depth': 5}. Best is trial 5 with value: 0.7403135334131669.\u001b[0m\n",
      "\u001b[32m[I 2023-04-17 09:00:42,133]\u001b[0m Trial 9 finished with value: 0.6949880043769727 and parameters: {'n_estimators': 407, 'learning_rate': 0.9184923509910027, 'max_depth': 3}. Best is trial 5 with value: 0.7403135334131669.\u001b[0m\n",
      "\u001b[32m[I 2023-04-17 09:00:42,731]\u001b[0m Trial 10 finished with value: 0.7370333314102312 and parameters: {'n_estimators': 949, 'learning_rate': 0.1082252108680912, 'max_depth': 9}. Best is trial 5 with value: 0.7403135334131669.\u001b[0m\n",
      "\u001b[32m[I 2023-04-17 09:00:43,320]\u001b[0m Trial 11 finished with value: 0.7300364484433857 and parameters: {'n_estimators': 971, 'learning_rate': 0.07597419731905641, 'max_depth': 9}. Best is trial 5 with value: 0.7403135334131669.\u001b[0m\n",
      "\u001b[32m[I 2023-04-17 09:00:44,193]\u001b[0m Trial 12 finished with value: 0.7346162278331955 and parameters: {'n_estimators': 944, 'learning_rate': 0.04000560050091169, 'max_depth': 10}. Best is trial 5 with value: 0.7403135334131669.\u001b[0m\n",
      "\u001b[32m[I 2023-04-17 09:00:44,578]\u001b[0m Trial 13 finished with value: 0.7357515112130255 and parameters: {'n_estimators': 758, 'learning_rate': 0.21019246843977835, 'max_depth': 10}. Best is trial 5 with value: 0.7403135334131669.\u001b[0m\n",
      "\u001b[32m[I 2023-04-17 09:00:44,724]\u001b[0m Trial 14 finished with value: 0.7257578436820346 and parameters: {'n_estimators': 52, 'learning_rate': 0.2499306025566178, 'max_depth': 13}. Best is trial 5 with value: 0.7403135334131669.\u001b[0m\n",
      "\u001b[32m[I 2023-04-17 09:00:45,169]\u001b[0m Trial 15 finished with value: 0.7360387304502718 and parameters: {'n_estimators': 772, 'learning_rate': 0.2402210642657704, 'max_depth': 7}. Best is trial 5 with value: 0.7403135334131669.\u001b[0m\n",
      "\u001b[32m[I 2023-04-17 09:00:46,246]\u001b[0m Trial 16 finished with value: 0.7350945284377699 and parameters: {'n_estimators': 832, 'learning_rate': 0.023976385738404035, 'max_depth': 13}. Best is trial 5 with value: 0.7403135334131669.\u001b[0m\n",
      "\u001b[32m[I 2023-04-17 09:00:46,549]\u001b[0m Trial 17 finished with value: 0.7313859559099145 and parameters: {'n_estimators': 586, 'learning_rate': 0.3524547068362153, 'max_depth': 20}. Best is trial 5 with value: 0.7403135334131669.\u001b[0m\n",
      "\u001b[32m[I 2023-04-17 09:00:46,853]\u001b[0m Trial 18 finished with value: 0.7212912654770781 and parameters: {'n_estimators': 168, 'learning_rate': 0.15713329138757437, 'max_depth': 13}. Best is trial 5 with value: 0.7403135334131669.\u001b[0m\n",
      "\u001b[32m[I 2023-04-17 09:00:47,372]\u001b[0m Trial 19 finished with value: 0.7345669586338726 and parameters: {'n_estimators': 540, 'learning_rate': 0.15092922533696917, 'max_depth': 6}. Best is trial 5 with value: 0.7403135334131669.\u001b[0m\n",
      "\u001b[32m[I 2023-04-17 09:00:47,832]\u001b[0m Trial 20 finished with value: 0.7365135173992228 and parameters: {'n_estimators': 720, 'learning_rate': 0.3090548265529991, 'max_depth': 30}. Best is trial 5 with value: 0.7403135334131669.\u001b[0m\n",
      "\u001b[32m[I 2023-04-17 09:00:48,312]\u001b[0m Trial 21 finished with value: 0.7384062866082803 and parameters: {'n_estimators': 847, 'learning_rate': 0.274659304776539, 'max_depth': 29}. Best is trial 5 with value: 0.7403135334131669.\u001b[0m\n",
      "\u001b[32m[I 2023-04-17 09:00:48,839]\u001b[0m Trial 22 finished with value: 0.7290451310465167 and parameters: {'n_estimators': 860, 'learning_rate': 0.11346105194608959, 'max_depth': 26}. Best is trial 5 with value: 0.7403135334131669.\u001b[0m\n",
      "\u001b[32m[I 2023-04-17 09:00:49,299]\u001b[0m Trial 23 finished with value: 0.7229026115480165 and parameters: {'n_estimators': 898, 'learning_rate': 0.1500647736923125, 'max_depth': 19}. Best is trial 5 with value: 0.7403135334131669.\u001b[0m\n",
      "\u001b[32m[I 2023-04-17 09:00:49,731]\u001b[0m Trial 24 finished with value: 0.7286138349353528 and parameters: {'n_estimators': 986, 'learning_rate': 0.3336210805246559, 'max_depth': 13}. Best is trial 5 with value: 0.7403135334131669.\u001b[0m\n",
      "\u001b[32m[I 2023-04-17 09:00:50,665]\u001b[0m Trial 25 finished with value: 0.7444707772014226 and parameters: {'n_estimators': 682, 'learning_rate': 0.01784681851364678, 'max_depth': 8}. Best is trial 25 with value: 0.7444707772014226.\u001b[0m\n",
      "\u001b[32m[I 2023-04-17 09:00:52,460]\u001b[0m Trial 26 finished with value: 0.7302655889762542 and parameters: {'n_estimators': 689, 'learning_rate': 0.014609635952384339, 'max_depth': 25}. Best is trial 25 with value: 0.7444707772014226.\u001b[0m\n",
      "\u001b[32m[I 2023-04-17 09:00:52,778]\u001b[0m Trial 27 finished with value: 0.7253048074856585 and parameters: {'n_estimators': 452, 'learning_rate': 0.18596598881655022, 'max_depth': 15}. Best is trial 25 with value: 0.7444707772014226.\u001b[0m\n",
      "\u001b[32m[I 2023-04-17 09:00:53,257]\u001b[0m Trial 28 finished with value: 0.7184125496402002 and parameters: {'n_estimators': 670, 'learning_rate': 0.09713101314197266, 'max_depth': 4}. Best is trial 25 with value: 0.7444707772014226.\u001b[0m\n",
      "\u001b[32m[I 2023-04-17 09:00:53,564]\u001b[0m Trial 29 finished with value: 0.7325828629075992 and parameters: {'n_estimators': 542, 'learning_rate': 0.27025408098675596, 'max_depth': 21}. Best is trial 25 with value: 0.7444707772014226.\u001b[0m\n",
      "\u001b[32m[I 2023-04-17 09:00:53,984]\u001b[0m Trial 30 finished with value: 0.7335523329254332 and parameters: {'n_estimators': 811, 'learning_rate': 0.1902173595956677, 'max_depth': 7}. Best is trial 25 with value: 0.7444707772014226.\u001b[0m\n",
      "\u001b[32m[I 2023-04-17 09:00:54,568]\u001b[0m Trial 31 finished with value: 0.741477880270791 and parameters: {'n_estimators': 917, 'learning_rate': 0.07465852940969996, 'max_depth': 9}. Best is trial 25 with value: 0.7444707772014226.\u001b[0m\n",
      "\u001b[32m[I 2023-04-17 09:00:56,164]\u001b[0m Trial 32 finished with value: 0.726970539740967 and parameters: {'n_estimators': 886, 'learning_rate': 0.01099330627305221, 'max_depth': 11}. Best is trial 25 with value: 0.7444707772014226.\u001b[0m\n",
      "\u001b[32m[I 2023-04-17 09:00:56,743]\u001b[0m Trial 33 finished with value: 0.722984600153606 and parameters: {'n_estimators': 776, 'learning_rate': 0.0727551376138734, 'max_depth': 18}. Best is trial 25 with value: 0.7444707772014226.\u001b[0m\n",
      "\u001b[32m[I 2023-04-17 09:00:57,066]\u001b[0m Trial 34 finished with value: 0.7309746615999968 and parameters: {'n_estimators': 359, 'learning_rate': 0.12311472279780611, 'max_depth': 8}. Best is trial 25 with value: 0.7444707772014226.\u001b[0m\n",
      "\u001b[32m[I 2023-04-17 09:00:57,375]\u001b[0m Trial 35 finished with value: 0.7332340531808617 and parameters: {'n_estimators': 229, 'learning_rate': 0.20771512727342323, 'max_depth': 11}. Best is trial 25 with value: 0.7444707772014226.\u001b[0m\n",
      "\u001b[32m[I 2023-04-17 09:00:57,621]\u001b[0m Trial 36 finished with value: 0.7378851267730223 and parameters: {'n_estimators': 493, 'learning_rate': 0.42104994977122995, 'max_depth': 15}. Best is trial 25 with value: 0.7444707772014226.\u001b[0m\n",
      "\u001b[32m[I 2023-04-17 09:00:58,166]\u001b[0m Trial 37 finished with value: 0.7297907474500984 and parameters: {'n_estimators': 726, 'learning_rate': 0.07728113675098112, 'max_depth': 23}. Best is trial 25 with value: 0.7444707772014226.\u001b[0m\n",
      "\u001b[32m[I 2023-04-17 09:00:58,602]\u001b[0m Trial 38 finished with value: 0.7142892763165871 and parameters: {'n_estimators': 647, 'learning_rate': 0.15185052607141925, 'max_depth': 5}. Best is trial 25 with value: 0.7444707772014226.\u001b[0m\n",
      "\u001b[32m[I 2023-04-17 09:00:59,007]\u001b[0m Trial 39 finished with value: 0.7379571764975393 and parameters: {'n_estimators': 890, 'learning_rate': 0.2760939895108243, 'max_depth': 17}. Best is trial 25 with value: 0.7444707772014226.\u001b[0m\n",
      "\u001b[32m[I 2023-04-17 09:00:59,630]\u001b[0m Trial 40 finished with value: 0.7310428241871565 and parameters: {'n_estimators': 597, 'learning_rate': 0.05691352573183714, 'max_depth': 30}. Best is trial 25 with value: 0.7444707772014226.\u001b[0m\n",
      "\u001b[32m[I 2023-04-17 09:01:00,049]\u001b[0m Trial 41 finished with value: 0.7436136151628732 and parameters: {'n_estimators': 919, 'learning_rate': 0.27367779849704366, 'max_depth': 27}. Best is trial 25 with value: 0.7444707772014226.\u001b[0m\n",
      "\u001b[32m[I 2023-04-17 09:01:00,463]\u001b[0m Trial 42 finished with value: 0.7388589878990828 and parameters: {'n_estimators': 931, 'learning_rate': 0.4110427552381991, 'max_depth': 28}. Best is trial 25 with value: 0.7444707772014226.\u001b[0m\n",
      "\u001b[32m[I 2023-04-17 09:01:00,854]\u001b[0m Trial 43 finished with value: 0.7240620826766456 and parameters: {'n_estimators': 925, 'learning_rate': 0.364367185883533, 'max_depth': 27}. Best is trial 25 with value: 0.7444707772014226.\u001b[0m\n",
      "\u001b[32m[I 2023-04-17 09:01:01,289]\u001b[0m Trial 44 finished with value: 0.7349773238909212 and parameters: {'n_estimators': 985, 'learning_rate': 0.3965164570910177, 'max_depth': 24}. Best is trial 25 with value: 0.7444707772014226.\u001b[0m\n",
      "\u001b[32m[I 2023-04-17 09:01:01,513]\u001b[0m Trial 45 finished with value: 0.7388012691561772 and parameters: {'n_estimators': 435, 'learning_rate': 0.48626898873718133, 'max_depth': 28}. Best is trial 25 with value: 0.7444707772014226.\u001b[0m\n",
      "\u001b[32m[I 2023-04-17 09:01:01,748]\u001b[0m Trial 46 finished with value: 0.7410975498417389 and parameters: {'n_estimators': 357, 'learning_rate': 0.22642239561085115, 'max_depth': 11}. Best is trial 25 with value: 0.7444707772014226.\u001b[0m\n",
      "\u001b[32m[I 2023-04-17 09:01:01,982]\u001b[0m Trial 47 finished with value: 0.7409988088872408 and parameters: {'n_estimators': 324, 'learning_rate': 0.23032780677136097, 'max_depth': 11}. Best is trial 25 with value: 0.7444707772014226.\u001b[0m\n",
      "\u001b[32m[I 2023-04-17 09:01:02,196]\u001b[0m Trial 48 finished with value: 0.7337689251666545 and parameters: {'n_estimators': 289, 'learning_rate': 0.20881934754316928, 'max_depth': 9}. Best is trial 25 with value: 0.7444707772014226.\u001b[0m\n",
      "\u001b[32m[I 2023-04-17 09:01:02,589]\u001b[0m Trial 49 finished with value: 0.7289668125098574 and parameters: {'n_estimators': 238, 'learning_rate': 0.06567577196621724, 'max_depth': 11}. Best is trial 25 with value: 0.7444707772014226.\u001b[0m\n",
      "\u001b[32m[I 2023-04-17 09:01:02,888]\u001b[0m Trial 50 finished with value: 0.7428921510329072 and parameters: {'n_estimators': 368, 'learning_rate': 0.23140411324710605, 'max_depth': 8}. Best is trial 25 with value: 0.7444707772014226.\u001b[0m\n",
      "\u001b[32m[I 2023-04-17 09:01:03,114]\u001b[0m Trial 51 finished with value: 0.735535309198817 and parameters: {'n_estimators': 350, 'learning_rate': 0.23010000482032625, 'max_depth': 8}. Best is trial 25 with value: 0.7444707772014226.\u001b[0m\n",
      "\u001b[32m[I 2023-04-17 09:01:03,382]\u001b[0m Trial 52 finished with value: 0.7441928386937773 and parameters: {'n_estimators': 331, 'learning_rate': 0.3018136727773954, 'max_depth': 7}. Best is trial 25 with value: 0.7444707772014226.\u001b[0m\n",
      "\u001b[32m[I 2023-04-17 09:01:03,637]\u001b[0m Trial 53 finished with value: 0.7439835285401172 and parameters: {'n_estimators': 377, 'learning_rate': 0.3191625423545302, 'max_depth': 7}. Best is trial 25 with value: 0.7444707772014226.\u001b[0m\n",
      "\u001b[32m[I 2023-04-17 09:01:03,767]\u001b[0m Trial 54 finished with value: 0.7080960260660332 and parameters: {'n_estimators': 183, 'learning_rate': 0.3121047485519747, 'max_depth': 2}. Best is trial 25 with value: 0.7444707772014226.\u001b[0m\n",
      "\u001b[32m[I 2023-04-17 09:01:03,916]\u001b[0m Trial 55 finished with value: 0.7345747802915245 and parameters: {'n_estimators': 106, 'learning_rate': 0.2938176132193319, 'max_depth': 6}. Best is trial 25 with value: 0.7444707772014226.\u001b[0m\n",
      "\u001b[32m[I 2023-04-17 09:01:04,227]\u001b[0m Trial 56 finished with value: 0.7081766460241786 and parameters: {'n_estimators': 450, 'learning_rate': 0.3346730073415282, 'max_depth': 4}. Best is trial 25 with value: 0.7444707772014226.\u001b[0m\n",
      "\u001b[32m[I 2023-04-17 09:01:04,474]\u001b[0m Trial 57 finished with value: 0.7258565434555513 and parameters: {'n_estimators': 399, 'learning_rate': 0.374882988540562, 'max_depth': 7}. Best is trial 25 with value: 0.7444707772014226.\u001b[0m\n",
      "\u001b[32m[I 2023-04-17 09:01:04,823]\u001b[0m Trial 58 finished with value: 0.7374835246304047 and parameters: {'n_estimators': 522, 'learning_rate': 0.12406999619003135, 'max_depth': 9}. Best is trial 25 with value: 0.7444707772014226.\u001b[0m\n",
      "\u001b[32m[I 2023-04-17 09:01:04,990]\u001b[0m Trial 59 finished with value: 0.7810574954080229 and parameters: {'n_estimators': 323, 'learning_rate': 0.04223712687626152, 'max_depth': 1}. Best is trial 59 with value: 0.7810574954080229.\u001b[0m\n",
      "\u001b[32m[I 2023-04-17 09:01:05,163]\u001b[0m Trial 60 finished with value: 0.7524634597800832 and parameters: {'n_estimators': 308, 'learning_rate': 0.2637829190354315, 'max_depth': 1}. Best is trial 59 with value: 0.7810574954080229.\u001b[0m\n",
      "\u001b[32m[I 2023-04-17 09:01:05,316]\u001b[0m Trial 61 finished with value: 0.7113574896059699 and parameters: {'n_estimators': 261, 'learning_rate': 0.26941188968433705, 'max_depth': 2}. Best is trial 59 with value: 0.7810574954080229.\u001b[0m\n",
      "\u001b[32m[I 2023-04-17 09:01:05,478]\u001b[0m Trial 62 finished with value: 0.7481922360274764 and parameters: {'n_estimators': 322, 'learning_rate': 0.31694211976485387, 'max_depth': 1}. Best is trial 59 with value: 0.7810574954080229.\u001b[0m\n",
      "\u001b[32m[I 2023-04-17 09:01:05,632]\u001b[0m Trial 63 finished with value: 0.741350878867641 and parameters: {'n_estimators': 320, 'learning_rate': 0.44491571465813573, 'max_depth': 1}. Best is trial 59 with value: 0.7810574954080229.\u001b[0m\n",
      "\u001b[32m[I 2023-04-17 09:01:05,958]\u001b[0m Trial 64 finished with value: 0.7096694222498799 and parameters: {'n_estimators': 302, 'learning_rate': 0.32722552861129917, 'max_depth': 4}. Best is trial 59 with value: 0.7810574954080229.\u001b[0m\n",
      "\u001b[32m[I 2023-04-17 09:01:06,097]\u001b[0m Trial 65 finished with value: 0.757784944992727 and parameters: {'n_estimators': 208, 'learning_rate': 0.294351102795265, 'max_depth': 1}. Best is trial 59 with value: 0.7810574954080229.\u001b[0m\n",
      "\u001b[32m[I 2023-04-17 09:01:06,287]\u001b[0m Trial 66 finished with value: 0.7535842204758707 and parameters: {'n_estimators': 200, 'learning_rate': 0.03764227536153114, 'max_depth': 3}. Best is trial 59 with value: 0.7810574954080229.\u001b[0m\n",
      "\u001b[32m[I 2023-04-17 09:01:06,425]\u001b[0m Trial 67 finished with value: 0.7591454178259113 and parameters: {'n_estimators': 122, 'learning_rate': 0.045404274048203484, 'max_depth': 3}. Best is trial 59 with value: 0.7810574954080229.\u001b[0m\n",
      "\u001b[32m[I 2023-04-17 09:01:06,510]\u001b[0m Trial 68 finished with value: 0.760294452614652 and parameters: {'n_estimators': 10, 'learning_rate': 0.04632017853091109, 'max_depth': 3}. Best is trial 59 with value: 0.7810574954080229.\u001b[0m\n",
      "\u001b[32m[I 2023-04-17 09:01:06,582]\u001b[0m Trial 69 finished with value: 0.7803720583730194 and parameters: {'n_estimators': 32, 'learning_rate': 0.03878232248425774, 'max_depth': 2}. Best is trial 59 with value: 0.7810574954080229.\u001b[0m\n",
      "\u001b[32m[I 2023-04-17 09:01:06,636]\u001b[0m Trial 70 finished with value: 0.7674208320311708 and parameters: {'n_estimators': 12, 'learning_rate': 0.05652335335452019, 'max_depth': 3}. Best is trial 59 with value: 0.7810574954080229.\u001b[0m\n",
      "\u001b[32m[I 2023-04-17 09:01:06,719]\u001b[0m Trial 71 finished with value: 0.7766359592738549 and parameters: {'n_estimators': 57, 'learning_rate': 0.04669127550739145, 'max_depth': 3}. Best is trial 59 with value: 0.7810574954080229.\u001b[0m\n",
      "\u001b[32m[I 2023-04-17 09:01:06,777]\u001b[0m Trial 72 finished with value: 0.7671399298572774 and parameters: {'n_estimators': 12, 'learning_rate': 0.0445973533373565, 'max_depth': 3}. Best is trial 59 with value: 0.7810574954080229.\u001b[0m\n",
      "\u001b[32m[I 2023-04-17 09:01:06,842]\u001b[0m Trial 73 finished with value: 0.7775922542924822 and parameters: {'n_estimators': 33, 'learning_rate': 0.04267404363889045, 'max_depth': 3}. Best is trial 59 with value: 0.7810574954080229.\u001b[0m\n",
      "\u001b[32m[I 2023-04-17 09:01:06,899]\u001b[0m Trial 74 finished with value: 0.7699070409545559 and parameters: {'n_estimators': 21, 'learning_rate': 0.09831465983410471, 'max_depth': 3}. Best is trial 59 with value: 0.7810574954080229.\u001b[0m\n",
      "\u001b[32m[I 2023-04-17 09:01:06,961]\u001b[0m Trial 75 finished with value: 0.7441111275636576 and parameters: {'n_estimators': 13, 'learning_rate': 0.034727969411802125, 'max_depth': 5}. Best is trial 59 with value: 0.7810574954080229.\u001b[0m\n",
      "\u001b[32m[I 2023-04-17 09:01:07,038]\u001b[0m Trial 76 finished with value: 0.7522206724032666 and parameters: {'n_estimators': 64, 'learning_rate': 0.11110316891881433, 'max_depth': 3}. Best is trial 59 with value: 0.7810574954080229.\u001b[0m\n",
      "\u001b[32m[I 2023-04-17 09:01:07,095]\u001b[0m Trial 77 finished with value: 0.7868755731474756 and parameters: {'n_estimators': 22, 'learning_rate': 0.09731061058337731, 'max_depth': 2}. Best is trial 77 with value: 0.7868755731474756.\u001b[0m\n",
      "\u001b[32m[I 2023-04-17 09:01:07,179]\u001b[0m Trial 78 finished with value: 0.7714335667312603 and parameters: {'n_estimators': 62, 'learning_rate': 0.08346447632164505, 'max_depth': 2}. Best is trial 77 with value: 0.7868755731474756.\u001b[0m\n",
      "\u001b[32m[I 2023-04-17 09:01:07,263]\u001b[0m Trial 79 finished with value: 0.7713185058281609 and parameters: {'n_estimators': 63, 'learning_rate': 0.08588320560910584, 'max_depth': 2}. Best is trial 77 with value: 0.7868755731474756.\u001b[0m\n",
      "\u001b[32m[I 2023-04-17 09:01:07,357]\u001b[0m Trial 80 finished with value: 0.7525474552763127 and parameters: {'n_estimators': 69, 'learning_rate': 0.0931023409384379, 'max_depth': 5}. Best is trial 77 with value: 0.7868755731474756.\u001b[0m\n",
      "\u001b[32m[I 2023-04-17 09:01:07,446]\u001b[0m Trial 81 finished with value: 0.7795106032171337 and parameters: {'n_estimators': 96, 'learning_rate': 0.01156204048918497, 'max_depth': 2}. Best is trial 77 with value: 0.7868755731474756.\u001b[0m\n",
      "\u001b[32m[I 2023-04-17 09:01:07,535]\u001b[0m Trial 82 finished with value: 0.7643567122206717 and parameters: {'n_estimators': 96, 'learning_rate': 0.0897172219843357, 'max_depth': 2}. Best is trial 77 with value: 0.7868755731474756.\u001b[0m\n",
      "\u001b[32m[I 2023-04-17 09:01:07,649]\u001b[0m Trial 83 finished with value: 0.7787745435921727 and parameters: {'n_estimators': 152, 'learning_rate': 0.021249826589326427, 'max_depth': 2}. Best is trial 77 with value: 0.7868755731474756.\u001b[0m\n",
      "\u001b[32m[I 2023-04-17 09:01:07,760]\u001b[0m Trial 84 finished with value: 0.782308555830704 and parameters: {'n_estimators': 146, 'learning_rate': 0.010914781961470374, 'max_depth': 2}. Best is trial 77 with value: 0.7868755731474756.\u001b[0m\n",
      "\u001b[32m[I 2023-04-17 09:01:07,906]\u001b[0m Trial 85 finished with value: 0.7686240069727241 and parameters: {'n_estimators': 152, 'learning_rate': 0.017626407234501096, 'max_depth': 4}. Best is trial 77 with value: 0.7868755731474756.\u001b[0m\n",
      "\u001b[32m[I 2023-04-17 09:01:08,004]\u001b[0m Trial 86 finished with value: 0.7855048371329885 and parameters: {'n_estimators': 123, 'learning_rate': 0.01707661834045673, 'max_depth': 2}. Best is trial 77 with value: 0.7868755731474756.\u001b[0m\n",
      "\u001b[32m[I 2023-04-17 09:01:08,110]\u001b[0m Trial 87 finished with value: 0.7905161411760062 and parameters: {'n_estimators': 131, 'learning_rate': 0.010388579037685662, 'max_depth': 1}. Best is trial 87 with value: 0.7905161411760062.\u001b[0m\n",
      "\u001b[32m[I 2023-04-17 09:01:08,207]\u001b[0m Trial 88 finished with value: 0.7851915758864176 and parameters: {'n_estimators': 137, 'learning_rate': 0.020925083898466434, 'max_depth': 1}. Best is trial 87 with value: 0.7905161411760062.\u001b[0m\n",
      "\u001b[32m[I 2023-04-17 09:01:08,302]\u001b[0m Trial 89 finished with value: 0.7902090751863906 and parameters: {'n_estimators': 133, 'learning_rate': 0.013012183435424637, 'max_depth': 1}. Best is trial 87 with value: 0.7905161411760062.\u001b[0m\n",
      "\u001b[32m[I 2023-04-17 09:01:08,395]\u001b[0m Trial 90 finished with value: 0.7891214047737828 and parameters: {'n_estimators': 129, 'learning_rate': 0.014647701464397596, 'max_depth': 1}. Best is trial 87 with value: 0.7905161411760062.\u001b[0m\n",
      "\u001b[32m[I 2023-04-17 09:01:08,481]\u001b[0m Trial 91 finished with value: 0.7896778423837918 and parameters: {'n_estimators': 94, 'learning_rate': 0.022261271624486205, 'max_depth': 1}. Best is trial 87 with value: 0.7905161411760062.\u001b[0m\n",
      "\u001b[32m[I 2023-04-17 09:01:08,567]\u001b[0m Trial 92 finished with value: 0.7895254651853302 and parameters: {'n_estimators': 122, 'learning_rate': 0.011501456138464894, 'max_depth': 1}. Best is trial 87 with value: 0.7905161411760062.\u001b[0m\n",
      "\u001b[32m[I 2023-04-17 09:01:08,654]\u001b[0m Trial 93 finished with value: 0.7853716804754932 and parameters: {'n_estimators': 126, 'learning_rate': 0.0664440883757259, 'max_depth': 1}. Best is trial 87 with value: 0.7905161411760062.\u001b[0m\n",
      "\u001b[32m[I 2023-04-17 09:01:08,747]\u001b[0m Trial 94 finished with value: 0.7836408660200677 and parameters: {'n_estimators': 132, 'learning_rate': 0.060927815942244584, 'max_depth': 1}. Best is trial 87 with value: 0.7905161411760062.\u001b[0m\n",
      "\u001b[32m[I 2023-04-17 09:01:08,833]\u001b[0m Trial 95 finished with value: 0.7832731214665105 and parameters: {'n_estimators': 116, 'learning_rate': 0.06526879925429717, 'max_depth': 1}. Best is trial 87 with value: 0.7905161411760062.\u001b[0m\n",
      "\u001b[32m[I 2023-04-17 09:01:08,935]\u001b[0m Trial 96 finished with value: 0.7735147515212999 and parameters: {'n_estimators': 171, 'learning_rate': 0.1370318566890815, 'max_depth': 1}. Best is trial 87 with value: 0.7905161411760062.\u001b[0m\n",
      "\u001b[32m[I 2023-04-17 09:01:09,062]\u001b[0m Trial 97 finished with value: 0.7487056554506939 and parameters: {'n_estimators': 132, 'learning_rate': 0.0700016451833885, 'max_depth': 4}. Best is trial 87 with value: 0.7905161411760062.\u001b[0m\n",
      "\u001b[32m[I 2023-04-17 09:01:09,172]\u001b[0m Trial 98 finished with value: 0.7740619837554623 and parameters: {'n_estimators': 188, 'learning_rate': 0.11373823910845599, 'max_depth': 1}. Best is trial 87 with value: 0.7905161411760062.\u001b[0m\n",
      "\u001b[32m[I 2023-04-17 09:01:09,250]\u001b[0m Trial 99 finished with value: 0.7856996307425416 and parameters: {'n_estimators': 86, 'learning_rate': 0.06841084454050575, 'max_depth': 1}. Best is trial 87 with value: 0.7905161411760062.\u001b[0m\n",
      "\u001b[32m[I 2023-04-17 09:01:09,377]\u001b[0m Trial 100 finished with value: 0.724206872775396 and parameters: {'n_estimators': 85, 'learning_rate': 0.16623831693446176, 'max_depth': 6}. Best is trial 87 with value: 0.7905161411760062.\u001b[0m\n",
      "\u001b[32m[I 2023-04-17 09:01:09,458]\u001b[0m Trial 101 finished with value: 0.7858022196380412 and parameters: {'n_estimators': 84, 'learning_rate': 0.06429831269434472, 'max_depth': 1}. Best is trial 87 with value: 0.7905161411760062.\u001b[0m\n",
      "\u001b[32m[I 2023-04-17 09:01:09,535]\u001b[0m Trial 102 finished with value: 0.787481713969623 and parameters: {'n_estimators': 91, 'learning_rate': 0.026415405682304098, 'max_depth': 1}. Best is trial 87 with value: 0.7905161411760062.\u001b[0m\n",
      "\u001b[32m[I 2023-04-17 09:01:09,641]\u001b[0m Trial 103 finished with value: 0.7465627685880681 and parameters: {'n_estimators': 80, 'learning_rate': 0.07254265885478174, 'max_depth': 4}. Best is trial 87 with value: 0.7905161411760062.\u001b[0m\n",
      "\u001b[32m[I 2023-04-17 09:01:09,781]\u001b[0m Trial 104 finished with value: 0.7427952590052536 and parameters: {'n_estimators': 221, 'learning_rate': 0.10712769827623861, 'max_depth': 2}. Best is trial 87 with value: 0.7905161411760062.\u001b[0m\n",
      "\u001b[32m[I 2023-04-17 09:01:09,843]\u001b[0m Trial 105 finished with value: 0.7676967883939768 and parameters: {'n_estimators': 44, 'learning_rate': 0.010331237102556307, 'max_depth': 1}. Best is trial 87 with value: 0.7905161411760062.\u001b[0m\n",
      "\u001b[32m[I 2023-04-17 09:01:09,953]\u001b[0m Trial 106 finished with value: 0.7723438425610784 and parameters: {'n_estimators': 167, 'learning_rate': 0.029109253019117258, 'max_depth': 2}. Best is trial 87 with value: 0.7905161411760062.\u001b[0m\n",
      "\u001b[32m[I 2023-04-17 09:01:10,072]\u001b[0m Trial 107 finished with value: 0.7369214736928844 and parameters: {'n_estimators': 114, 'learning_rate': 0.13533224366791535, 'max_depth': 4}. Best is trial 87 with value: 0.7905161411760062.\u001b[0m\n",
      "\u001b[32m[I 2023-04-17 09:01:10,158]\u001b[0m Trial 108 finished with value: 0.7877817089862281 and parameters: {'n_estimators': 83, 'learning_rate': 0.058655021005265685, 'max_depth': 1}. Best is trial 87 with value: 0.7905161411760062.\u001b[0m\n",
      "\u001b[32m[I 2023-04-17 09:01:10,243]\u001b[0m Trial 109 finished with value: 0.7676946089649469 and parameters: {'n_estimators': 84, 'learning_rate': 0.09562323982742528, 'max_depth': 2}. Best is trial 87 with value: 0.7905161411760062.\u001b[0m\n",
      "\u001b[32m[I 2023-04-17 09:01:10,328]\u001b[0m Trial 110 finished with value: 0.7613355168234034 and parameters: {'n_estimators': 46, 'learning_rate': 0.030268001414009593, 'max_depth': 5}. Best is trial 87 with value: 0.7905161411760062.\u001b[0m\n",
      "\u001b[32m[I 2023-04-17 09:01:10,415]\u001b[0m Trial 111 finished with value: 0.7855722196382396 and parameters: {'n_estimators': 92, 'learning_rate': 0.0634259324567882, 'max_depth': 1}. Best is trial 87 with value: 0.7905161411760062.\u001b[0m\n",
      "\u001b[32m[I 2023-04-17 09:01:10,496]\u001b[0m Trial 112 finished with value: 0.7859241436246174 and parameters: {'n_estimators': 103, 'learning_rate': 0.05607858091570773, 'max_depth': 1}. Best is trial 87 with value: 0.7905161411760062.\u001b[0m\n",
      "\u001b[32m[I 2023-04-17 09:01:10,587]\u001b[0m Trial 113 finished with value: 0.785999278573702 and parameters: {'n_estimators': 107, 'learning_rate': 0.05344386675629693, 'max_depth': 1}. Best is trial 87 with value: 0.7905161411760062.\u001b[0m\n",
      "\u001b[32m[I 2023-04-17 09:01:10,677]\u001b[0m Trial 114 finished with value: 0.7838092780012367 and parameters: {'n_estimators': 102, 'learning_rate': 0.08346245507081154, 'max_depth': 1}. Best is trial 87 with value: 0.7905161411760062.\u001b[0m\n",
      "\u001b[32m[I 2023-04-17 09:01:10,800]\u001b[0m Trial 115 finished with value: 0.7333317974811806 and parameters: {'n_estimators': 170, 'learning_rate': 0.13043604371979609, 'max_depth': 3}. Best is trial 87 with value: 0.7905161411760062.\u001b[0m\n",
      "\u001b[32m[I 2023-04-17 09:01:10,877]\u001b[0m Trial 116 finished with value: 0.7878835622058177 and parameters: {'n_estimators': 77, 'learning_rate': 0.05154928187724798, 'max_depth': 1}. Best is trial 87 with value: 0.7905161411760062.\u001b[0m\n",
      "\u001b[32m[I 2023-04-17 09:01:10,947]\u001b[0m Trial 117 finished with value: 0.7800534101082779 and parameters: {'n_estimators': 37, 'learning_rate': 0.04723538403924917, 'max_depth': 2}. Best is trial 87 with value: 0.7905161411760062.\u001b[0m\n",
      "\u001b[32m[I 2023-04-17 09:01:11,032]\u001b[0m Trial 118 finished with value: 0.7826222933254045 and parameters: {'n_estimators': 107, 'learning_rate': 0.11033110786487252, 'max_depth': 1}. Best is trial 87 with value: 0.7905161411760062.\u001b[0m\n",
      "\u001b[32m[I 2023-04-17 09:01:11,118]\u001b[0m Trial 119 finished with value: 0.7774858460469939 and parameters: {'n_estimators': 67, 'learning_rate': 0.02961811632669856, 'max_depth': 3}. Best is trial 87 with value: 0.7905161411760062.\u001b[0m\n",
      "\u001b[32m[I 2023-04-17 09:01:11,228]\u001b[0m Trial 120 finished with value: 0.7631342162044603 and parameters: {'n_estimators': 152, 'learning_rate': 0.05492213824228674, 'max_depth': 2}. Best is trial 87 with value: 0.7905161411760062.\u001b[0m\n",
      "\u001b[32m[I 2023-04-17 09:01:11,314]\u001b[0m Trial 121 finished with value: 0.782972113670643 and parameters: {'n_estimators': 76, 'learning_rate': 0.08316000247677197, 'max_depth': 1}. Best is trial 87 with value: 0.7905161411760062.\u001b[0m\n",
      "\u001b[32m[I 2023-04-17 09:01:11,444]\u001b[0m Trial 122 finished with value: 0.7820150287710185 and parameters: {'n_estimators': 251, 'learning_rate': 0.055533098650987905, 'max_depth': 1}. Best is trial 87 with value: 0.7905161411760062.\u001b[0m\n",
      "\u001b[32m[I 2023-04-17 09:01:11,517]\u001b[0m Trial 123 finished with value: 0.7726326724460553 and parameters: {'n_estimators': 51, 'learning_rate': 0.10613221442371808, 'max_depth': 2}. Best is trial 87 with value: 0.7905161411760062.\u001b[0m\n",
      "\u001b[32m[I 2023-04-17 09:01:11,665]\u001b[0m Trial 124 finished with value: 0.7505858576381998 and parameters: {'n_estimators': 197, 'learning_rate': 0.03816633698557932, 'max_depth': 3}. Best is trial 87 with value: 0.7905161411760062.\u001b[0m\n",
      "\u001b[32m[I 2023-04-17 09:01:11,754]\u001b[0m Trial 125 finished with value: 0.7846737536332788 and parameters: {'n_estimators': 99, 'learning_rate': 0.06667230383695887, 'max_depth': 1}. Best is trial 87 with value: 0.7905161411760062.\u001b[0m\n",
      "\u001b[32m[I 2023-04-17 09:01:11,907]\u001b[0m Trial 126 finished with value: 0.7512592061324852 and parameters: {'n_estimators': 159, 'learning_rate': 0.031662010886159636, 'max_depth': 4}. Best is trial 87 with value: 0.7905161411760062.\u001b[0m\n",
      "\u001b[32m[I 2023-04-17 09:01:12,017]\u001b[0m Trial 127 finished with value: 0.7231757040340314 and parameters: {'n_estimators': 36, 'learning_rate': 0.09064488277327848, 'max_depth': 14}. Best is trial 87 with value: 0.7905161411760062.\u001b[0m\n",
      "\u001b[32m[I 2023-04-17 09:01:12,095]\u001b[0m Trial 128 finished with value: 0.7846726078841 and parameters: {'n_estimators': 79, 'learning_rate': 0.010809325022862415, 'max_depth': 2}. Best is trial 87 with value: 0.7905161411760062.\u001b[0m\n",
      "\u001b[32m[I 2023-04-17 09:01:12,186]\u001b[0m Trial 129 finished with value: 0.7814440810049159 and parameters: {'n_estimators': 118, 'learning_rate': 0.12390582326407104, 'max_depth': 1}. Best is trial 87 with value: 0.7905161411760062.\u001b[0m\n",
      "\u001b[32m[I 2023-04-17 09:01:12,316]\u001b[0m Trial 130 finished with value: 0.750905011982475 and parameters: {'n_estimators': 139, 'learning_rate': 0.054671570035643366, 'max_depth': 3}. Best is trial 87 with value: 0.7905161411760062.\u001b[0m\n",
      "\u001b[32m[I 2023-04-17 09:01:12,392]\u001b[0m Trial 131 finished with value: 0.7842528510064939 and parameters: {'n_estimators': 88, 'learning_rate': 0.07560266317613186, 'max_depth': 1}. Best is trial 87 with value: 0.7905161411760062.\u001b[0m\n",
      "\u001b[32m[I 2023-04-17 09:01:12,485]\u001b[0m Trial 132 finished with value: 0.7786186916863655 and parameters: {'n_estimators': 98, 'learning_rate': 0.03408710379905198, 'max_depth': 2}. Best is trial 87 with value: 0.7905161411760062.\u001b[0m\n",
      "\u001b[32m[I 2023-04-17 09:01:12,566]\u001b[0m Trial 133 finished with value: 0.7883381903200203 and parameters: {'n_estimators': 71, 'learning_rate': 0.057972758365867856, 'max_depth': 1}. Best is trial 87 with value: 0.7905161411760062.\u001b[0m\n",
      "\u001b[32m[I 2023-04-17 09:01:12,640]\u001b[0m Trial 134 finished with value: 0.773873944571133 and parameters: {'n_estimators': 52, 'learning_rate': 0.010310631607758386, 'max_depth': 1}. Best is trial 87 with value: 0.7905161411760062.\u001b[0m\n",
      "\u001b[32m[I 2023-04-17 09:01:12,743]\u001b[0m Trial 135 finished with value: 0.7442264490729089 and parameters: {'n_estimators': 114, 'learning_rate': 0.17289949878117103, 'max_depth': 2}. Best is trial 87 with value: 0.7905161411760062.\u001b[0m\n",
      "\u001b[32m[I 2023-04-17 09:01:12,813]\u001b[0m Trial 136 finished with value: 0.770173224524646 and parameters: {'n_estimators': 31, 'learning_rate': 0.09813555496252672, 'max_depth': 3}. Best is trial 87 with value: 0.7905161411760062.\u001b[0m\n",
      "\u001b[32m[I 2023-04-17 09:01:12,891]\u001b[0m Trial 137 finished with value: 0.7873208196262684 and parameters: {'n_estimators': 70, 'learning_rate': 0.0518108481521594, 'max_depth': 1}. Best is trial 87 with value: 0.7905161411760062.\u001b[0m\n",
      "\u001b[32m[I 2023-04-17 09:01:12,968]\u001b[0m Trial 138 finished with value: 0.7556007710330077 and parameters: {'n_estimators': 63, 'learning_rate': 0.1466069509262213, 'max_depth': 2}. Best is trial 87 with value: 0.7905161411760062.\u001b[0m\n",
      "\u001b[32m[I 2023-04-17 09:01:13,090]\u001b[0m Trial 139 finished with value: 0.7592923301716659 and parameters: {'n_estimators': 133, 'learning_rate': 0.04615634318534881, 'max_depth': 3}. Best is trial 87 with value: 0.7905161411760062.\u001b[0m\n",
      "\u001b[32m[I 2023-04-17 09:01:13,193]\u001b[0m Trial 140 finished with value: 0.7873541865786636 and parameters: {'n_estimators': 173, 'learning_rate': 0.031824120296995495, 'max_depth': 1}. Best is trial 87 with value: 0.7905161411760062.\u001b[0m\n",
      "\u001b[32m[I 2023-04-17 09:01:13,296]\u001b[0m Trial 141 finished with value: 0.7866214809089832 and parameters: {'n_estimators': 179, 'learning_rate': 0.030391659542451974, 'max_depth': 1}. Best is trial 87 with value: 0.7905161411760062.\u001b[0m\n",
      "\u001b[32m[I 2023-04-17 09:01:13,418]\u001b[0m Trial 142 finished with value: 0.7689985829177676 and parameters: {'n_estimators': 179, 'learning_rate': 0.03207030055529387, 'max_depth': 2}. Best is trial 87 with value: 0.7905161411760062.\u001b[0m\n",
      "\u001b[32m[I 2023-04-17 09:01:13,532]\u001b[0m Trial 143 finished with value: 0.7859310257480961 and parameters: {'n_estimators': 214, 'learning_rate': 0.02852414168146613, 'max_depth': 1}. Best is trial 87 with value: 0.7905161411760062.\u001b[0m\n",
      "\u001b[32m[I 2023-04-17 09:01:13,650]\u001b[0m Trial 144 finished with value: 0.7882205020206763 and parameters: {'n_estimators': 223, 'learning_rate': 0.01012407068736822, 'max_depth': 1}. Best is trial 87 with value: 0.7905161411760062.\u001b[0m\n",
      "\u001b[32m[I 2023-04-17 09:01:13,780]\u001b[0m Trial 145 finished with value: 0.7859084102569261 and parameters: {'n_estimators': 195, 'learning_rate': 0.011621278417242394, 'max_depth': 2}. Best is trial 87 with value: 0.7905161411760062.\u001b[0m\n",
      "\u001b[32m[I 2023-04-17 09:01:13,928]\u001b[0m Trial 146 finished with value: 0.781178191655574 and parameters: {'n_estimators': 275, 'learning_rate': 0.043404207004335796, 'max_depth': 1}. Best is trial 87 with value: 0.7905161411760062.\u001b[0m\n",
      "\u001b[32m[I 2023-04-17 09:01:14,050]\u001b[0m Trial 147 finished with value: 0.7574816081766734 and parameters: {'n_estimators': 162, 'learning_rate': 0.07436966727104989, 'max_depth': 2}. Best is trial 87 with value: 0.7905161411760062.\u001b[0m\n",
      "\u001b[32m[I 2023-04-17 09:01:14,175]\u001b[0m Trial 148 finished with value: 0.7694602220940948 and parameters: {'n_estimators': 141, 'learning_rate': 0.025079849989007443, 'max_depth': 3}. Best is trial 87 with value: 0.7905161411760062.\u001b[0m\n",
      "\u001b[32m[I 2023-04-17 09:01:14,313]\u001b[0m Trial 149 finished with value: 0.7752445398012402 and parameters: {'n_estimators': 244, 'learning_rate': 0.08745092337137345, 'max_depth': 1}. Best is trial 87 with value: 0.7905161411760062.\u001b[0m\n",
      "\u001b[32m[I 2023-04-17 09:01:14,443]\u001b[0m Trial 150 finished with value: 0.7836997176120858 and parameters: {'n_estimators': 180, 'learning_rate': 0.010807074173277286, 'max_depth': 2}. Best is trial 87 with value: 0.7905161411760062.\u001b[0m\n",
      "\u001b[32m[I 2023-04-17 09:01:14,600]\u001b[0m Trial 151 finished with value: 0.7844915800099735 and parameters: {'n_estimators': 213, 'learning_rate': 0.03395677665668025, 'max_depth': 1}. Best is trial 87 with value: 0.7905161411760062.\u001b[0m\n",
      "\u001b[32m[I 2023-04-17 09:01:14,896]\u001b[0m Trial 152 finished with value: 0.7245150283244776 and parameters: {'n_estimators': 124, 'learning_rate': 0.043221305378114305, 'max_depth': 21}. Best is trial 87 with value: 0.7905161411760062.\u001b[0m\n",
      "\u001b[32m[I 2023-04-17 09:01:15,011]\u001b[0m Trial 153 finished with value: 0.7820817845066907 and parameters: {'n_estimators': 228, 'learning_rate': 0.05440387228093805, 'max_depth': 1}. Best is trial 87 with value: 0.7905161411760062.\u001b[0m\n",
      "\u001b[32m[I 2023-04-17 09:01:15,113]\u001b[0m Trial 154 finished with value: 0.7875486087531278 and parameters: {'n_estimators': 147, 'learning_rate': 0.03125631012792264, 'max_depth': 1}. Best is trial 87 with value: 0.7905161411760062.\u001b[0m\n",
      "\u001b[32m[I 2023-04-17 09:01:15,231]\u001b[0m Trial 155 finished with value: 0.7580511585182602 and parameters: {'n_estimators': 152, 'learning_rate': 0.07484249249958472, 'max_depth': 2}. Best is trial 87 with value: 0.7905161411760062.\u001b[0m\n",
      "\u001b[32m[I 2023-04-17 09:01:15,300]\u001b[0m Trial 156 finished with value: 0.7838394319067705 and parameters: {'n_estimators': 61, 'learning_rate': 0.11694869393924644, 'max_depth': 1}. Best is trial 87 with value: 0.7905161411760062.\u001b[0m\n",
      "\u001b[32m[I 2023-04-17 09:01:15,423]\u001b[0m Trial 157 finished with value: 0.7697778170187879 and parameters: {'n_estimators': 118, 'learning_rate': 0.031437850366577216, 'max_depth': 3}. Best is trial 87 with value: 0.7905161411760062.\u001b[0m\n",
      "\u001b[32m[I 2023-04-17 09:01:15,533]\u001b[0m Trial 158 finished with value: 0.7834347580598474 and parameters: {'n_estimators': 141, 'learning_rate': 0.010720509088528764, 'max_depth': 2}. Best is trial 87 with value: 0.7905161411760062.\u001b[0m\n",
      "\u001b[32m[I 2023-04-17 09:01:15,652]\u001b[0m Trial 159 finished with value: 0.7826780951680379 and parameters: {'n_estimators': 184, 'learning_rate': 0.055481214339984035, 'max_depth': 1}. Best is trial 87 with value: 0.7905161411760062.\u001b[0m\n",
      "\u001b[32m[I 2023-04-17 09:01:15,746]\u001b[0m Trial 160 finished with value: 0.7623069963366985 and parameters: {'n_estimators': 106, 'learning_rate': 0.0884510951891514, 'max_depth': 2}. Best is trial 87 with value: 0.7905161411760062.\u001b[0m\n",
      "\u001b[32m[I 2023-04-17 09:01:15,857]\u001b[0m Trial 161 finished with value: 0.786001141206867 and parameters: {'n_estimators': 197, 'learning_rate': 0.029974161928526272, 'max_depth': 1}. Best is trial 87 with value: 0.7905161411760062.\u001b[0m\n",
      "\u001b[32m[I 2023-04-17 09:01:15,960]\u001b[0m Trial 162 finished with value: 0.783873966253168 and parameters: {'n_estimators': 167, 'learning_rate': 0.0467688172405461, 'max_depth': 1}. Best is trial 87 with value: 0.7905161411760062.\u001b[0m\n",
      "\u001b[32m[I 2023-04-17 09:01:16,041]\u001b[0m Trial 163 finished with value: 0.7858106933072291 and parameters: {'n_estimators': 73, 'learning_rate': 0.028652593107876483, 'max_depth': 2}. Best is trial 87 with value: 0.7905161411760062.\u001b[0m\n",
      "\u001b[32m[I 2023-04-17 09:01:16,144]\u001b[0m Trial 164 finished with value: 0.7895254651853302 and parameters: {'n_estimators': 145, 'learning_rate': 0.010231501500496924, 'max_depth': 1}. Best is trial 87 with value: 0.7905161411760062.\u001b[0m\n",
      "\u001b[32m[I 2023-04-17 09:01:16,254]\u001b[0m Trial 165 finished with value: 0.7899038068954706 and parameters: {'n_estimators': 201, 'learning_rate': 0.01031399886814547, 'max_depth': 1}. Best is trial 87 with value: 0.7905161411760062.\u001b[0m\n",
      "\u001b[32m[I 2023-04-17 09:01:16,373]\u001b[0m Trial 166 finished with value: 0.7810714289683537 and parameters: {'n_estimators': 150, 'learning_rate': 0.011107131771647677, 'max_depth': 2}. Best is trial 87 with value: 0.7905161411760062.\u001b[0m\n",
      "\u001b[32m[I 2023-04-17 09:01:16,491]\u001b[0m Trial 167 finished with value: 0.7541087484688862 and parameters: {'n_estimators': 133, 'learning_rate': 0.06975652048257927, 'max_depth': 3}. Best is trial 87 with value: 0.7905161411760062.\u001b[0m\n",
      "\u001b[32m[I 2023-04-17 09:01:16,563]\u001b[0m Trial 168 finished with value: 0.7875548167861104 and parameters: {'n_estimators': 42, 'learning_rate': 0.030095687199200312, 'max_depth': 1}. Best is trial 87 with value: 0.7905161411760062.\u001b[0m\n",
      "\u001b[32m[I 2023-04-17 09:01:16,625]\u001b[0m Trial 169 finished with value: 0.7810684459520056 and parameters: {'n_estimators': 27, 'learning_rate': 0.05326562658288038, 'max_depth': 2}. Best is trial 87 with value: 0.7905161411760062.\u001b[0m\n",
      "\u001b[32m[I 2023-04-17 09:01:16,703]\u001b[0m Trial 170 finished with value: 0.7613197708037239 and parameters: {'n_estimators': 48, 'learning_rate': 0.010335589056900563, 'max_depth': 4}. Best is trial 87 with value: 0.7905161411760062.\u001b[0m\n",
      "\u001b[32m[I 2023-04-17 09:01:16,793]\u001b[0m Trial 171 finished with value: 0.7835511207533156 and parameters: {'n_estimators': 81, 'learning_rate': 0.03347232160602519, 'max_depth': 1}. Best is trial 87 with value: 0.7905161411760062.\u001b[0m\n",
      "\u001b[32m[I 2023-04-17 09:01:16,863]\u001b[0m Trial 172 finished with value: 0.7875548167861104 and parameters: {'n_estimators': 43, 'learning_rate': 0.028999601689321773, 'max_depth': 1}. Best is trial 87 with value: 0.7905161411760062.\u001b[0m\n",
      "\u001b[32m[I 2023-04-17 09:01:16,932]\u001b[0m Trial 173 finished with value: 0.7864011397099632 and parameters: {'n_estimators': 43, 'learning_rate': 0.07241041451685513, 'max_depth': 1}. Best is trial 87 with value: 0.7905161411760062.\u001b[0m\n",
      "\u001b[32m[I 2023-04-17 09:01:16,998]\u001b[0m Trial 174 finished with value: 0.7841079196272072 and parameters: {'n_estimators': 21, 'learning_rate': 0.046786381518208416, 'max_depth': 2}. Best is trial 87 with value: 0.7905161411760062.\u001b[0m\n",
      "\u001b[32m[I 2023-04-17 09:01:17,081]\u001b[0m Trial 175 finished with value: 0.7880306800223437 and parameters: {'n_estimators': 68, 'learning_rate': 0.030132099464402477, 'max_depth': 1}. Best is trial 87 with value: 0.7905161411760062.\u001b[0m\n",
      "\u001b[32m[I 2023-04-17 09:01:17,158]\u001b[0m Trial 176 finished with value: 0.7602713742095558 and parameters: {'n_estimators': 73, 'learning_rate': 0.5518630537284206, 'max_depth': 1}. Best is trial 87 with value: 0.7905161411760062.\u001b[0m\n",
      "\u001b[32m[I 2023-04-17 09:01:17,245]\u001b[0m Trial 177 finished with value: 0.7876130918443854 and parameters: {'n_estimators': 101, 'learning_rate': 0.010622507198569036, 'max_depth': 1}. Best is trial 87 with value: 0.7905161411760062.\u001b[0m\n",
      "\u001b[32m[I 2023-04-17 09:01:17,365]\u001b[0m Trial 178 finished with value: 0.7819282669547509 and parameters: {'n_estimators': 106, 'learning_rate': 0.012026720585862375, 'max_depth': 2}. Best is trial 87 with value: 0.7905161411760062.\u001b[0m\n",
      "\u001b[32m[I 2023-04-17 09:01:17,487]\u001b[0m Trial 179 finished with value: 0.7681057218056593 and parameters: {'n_estimators': 126, 'learning_rate': 0.030866560530897393, 'max_depth': 3}. Best is trial 87 with value: 0.7905161411760062.\u001b[0m\n",
      "\u001b[32m[I 2023-04-17 09:01:17,565]\u001b[0m Trial 180 finished with value: 0.7861853912447287 and parameters: {'n_estimators': 92, 'learning_rate': 0.02742313038422246, 'max_depth': 1}. Best is trial 87 with value: 0.7905161411760062.\u001b[0m\n",
      "\u001b[32m[I 2023-04-17 09:01:17,642]\u001b[0m Trial 181 finished with value: 0.782508390017218 and parameters: {'n_estimators': 67, 'learning_rate': 0.01018048484983226, 'max_depth': 1}. Best is trial 87 with value: 0.7905161411760062.\u001b[0m\n",
      "\u001b[32m[I 2023-04-17 09:01:17,711]\u001b[0m Trial 182 finished with value: 0.7827209984946217 and parameters: {'n_estimators': 54, 'learning_rate': 0.05059674152330023, 'max_depth': 1}. Best is trial 87 with value: 0.7905161411760062.\u001b[0m\n",
      "\u001b[32m[I 2023-04-17 09:01:17,832]\u001b[0m Trial 183 finished with value: 0.7699055973874944 and parameters: {'n_estimators': 100, 'learning_rate': 0.0601374284739921, 'max_depth': 2}. Best is trial 87 with value: 0.7905161411760062.\u001b[0m\n",
      "\u001b[32m[I 2023-04-17 09:01:17,937]\u001b[0m Trial 184 finished with value: 0.7871846869606347 and parameters: {'n_estimators': 117, 'learning_rate': 0.03993495889636753, 'max_depth': 1}. Best is trial 87 with value: 0.7905161411760062.\u001b[0m\n",
      "\u001b[32m[I 2023-04-17 09:01:18,025]\u001b[0m Trial 185 finished with value: 0.6996885187145334 and parameters: {'n_estimators': 79, 'learning_rate': 0.7020950090318869, 'max_depth': 2}. Best is trial 87 with value: 0.7905161411760062.\u001b[0m\n",
      "\u001b[32m[I 2023-04-17 09:01:18,122]\u001b[0m Trial 186 finished with value: 0.7833111552040348 and parameters: {'n_estimators': 144, 'learning_rate': 0.07093749743524029, 'max_depth': 1}. Best is trial 87 with value: 0.7905161411760062.\u001b[0m\n",
      "\u001b[32m[I 2023-04-17 09:01:18,190]\u001b[0m Trial 187 finished with value: 0.7772538405209826 and parameters: {'n_estimators': 44, 'learning_rate': 0.01018222650308077, 'max_depth': 2}. Best is trial 87 with value: 0.7905161411760062.\u001b[0m\n",
      "\u001b[32m[I 2023-04-17 09:01:18,403]\u001b[0m Trial 188 finished with value: 0.7283313406575743 and parameters: {'n_estimators': 91, 'learning_rate': 0.0422735996903132, 'max_depth': 16}. Best is trial 87 with value: 0.7905161411760062.\u001b[0m\n",
      "\u001b[32m[I 2023-04-17 09:01:18,497]\u001b[0m Trial 189 finished with value: 0.7825513025226953 and parameters: {'n_estimators': 125, 'learning_rate': 0.08674380499003657, 'max_depth': 1}. Best is trial 87 with value: 0.7905161411760062.\u001b[0m\n",
      "\u001b[32m[I 2023-04-17 09:01:18,583]\u001b[0m Trial 190 finished with value: 0.7744974361068139 and parameters: {'n_estimators': 70, 'learning_rate': 0.02776746247801227, 'max_depth': 3}. Best is trial 87 with value: 0.7905161411760062.\u001b[0m\n",
      "\u001b[32m[I 2023-04-17 09:01:18,674]\u001b[0m Trial 191 finished with value: 0.7874493295309494 and parameters: {'n_estimators': 115, 'learning_rate': 0.045580528700160904, 'max_depth': 1}. Best is trial 87 with value: 0.7905161411760062.\u001b[0m\n",
      "\u001b[32m[I 2023-04-17 09:01:18,783]\u001b[0m Trial 192 finished with value: 0.7839564009033658 and parameters: {'n_estimators': 146, 'learning_rate': 0.05002848697257358, 'max_depth': 1}. Best is trial 87 with value: 0.7905161411760062.\u001b[0m\n",
      "\u001b[32m[I 2023-04-17 09:01:18,889]\u001b[0m Trial 193 finished with value: 0.7868196283497776 and parameters: {'n_estimators': 159, 'learning_rate': 0.02832824811382105, 'max_depth': 1}. Best is trial 87 with value: 0.7905161411760062.\u001b[0m\n",
      "\u001b[32m[I 2023-04-17 09:01:19,183]\u001b[0m Trial 194 finished with value: 0.7282629046262159 and parameters: {'n_estimators': 574, 'learning_rate': 0.06043600345297504, 'max_depth': 2}. Best is trial 87 with value: 0.7905161411760062.\u001b[0m\n",
      "\u001b[32m[I 2023-04-17 09:01:19,275]\u001b[0m Trial 195 finished with value: 0.7876130918443854 and parameters: {'n_estimators': 94, 'learning_rate': 0.010532466338413126, 'max_depth': 1}. Best is trial 87 with value: 0.7905161411760062.\u001b[0m\n",
      "\u001b[32m[I 2023-04-17 09:01:19,376]\u001b[0m Trial 196 finished with value: 0.7858940159533535 and parameters: {'n_estimators': 114, 'learning_rate': 0.022900261928904583, 'max_depth': 1}. Best is trial 87 with value: 0.7905161411760062.\u001b[0m\n",
      "\u001b[32m[I 2023-04-17 09:01:19,473]\u001b[0m Trial 197 finished with value: 0.7815879013039526 and parameters: {'n_estimators': 102, 'learning_rate': 0.01052119304289802, 'max_depth': 2}. Best is trial 87 with value: 0.7905161411760062.\u001b[0m\n",
      "\u001b[32m[I 2023-04-17 09:01:19,597]\u001b[0m Trial 198 finished with value: 0.7696091584478855 and parameters: {'n_estimators': 167, 'learning_rate': 0.036861743291138935, 'max_depth': 2}. Best is trial 87 with value: 0.7905161411760062.\u001b[0m\n",
      "\u001b[32m[I 2023-04-17 09:01:19,703]\u001b[0m Trial 199 finished with value: 0.7542850839438092 and parameters: {'n_estimators': 133, 'learning_rate': 0.45233125775198013, 'max_depth': 1}. Best is trial 87 with value: 0.7905161411760062.\u001b[0m\n"
     ]
    },
    {
     "data": {
      "text/plain": [
       "{'n_estimators': 131, 'learning_rate': 0.010388579037685662, 'max_depth': 1}"
      ]
     },
     "metadata": {},
     "output_type": "display_data"
    }
   ],
   "source": [
    "def optuna_study(X, y):\n",
    "\n",
    "    def objective(trial):\n",
    "        n_estimators = trial.suggest_int('n_estimators', 10, 1000)\n",
    "        learning_rate = trial.suggest_float('learning_rate', 0.01, 1.0)\n",
    "        max_depth = trial.suggest_int('max_depth', 1, 30)\n",
    "        \n",
    "        rf = XGBRegressor(n_estimators=n_estimators,\n",
    "                        learning_rate=learning_rate,\n",
    "                        max_depth=max_depth)\n",
    "        \n",
    "        # # score = StratifiedKFold(rf, X, y)\n",
    "        \n",
    "        # kfold = RepeatedStratifiedKFold(n_splits=40, n_repeats=6, random_state=69);\n",
    "        \n",
    "        # scores = []\n",
    "        \n",
    "        # for train_idx, test_idx in kfold.split(X, y):\n",
    "        #     X_train, X_test = X[train_idx], X[test_idx]\n",
    "        #     y_train, y_test = y[train_idx], X[test_idx]\n",
    "        #     rf.fit(X_train, y_train)\n",
    "        #     y_pred = rf.predict(X_test)\n",
    "        #     scores.append(roc_auc_score(y_test, y_pred))\n",
    "        \n",
    "        # return np.mean(scores)\n",
    "        \n",
    "        def calc_score(estimator, X, y):\n",
    "            y_pred = estimator.predict(X)\n",
    "            return roc_auc_score(y_pred, y)\n",
    "                        \n",
    "\n",
    "        score = cross_val_score(rf, X, y, n_jobs=4, cv=5, scoring='roc_auc')\n",
    "        return score.mean()\n",
    "\n",
    "    study = optuna.create_study(direction='maximize')\n",
    "    study.optimize(objective, n_trials=200)\n",
    "    \n",
    "    return study.best_params\n",
    "\n",
    "# Study 1 (no ph + remove outlier + aggregate values, 100 trials): 0.1564147933997004\n",
    "# Study 2 (no preprocessing, 100 trials): 0.12094767907088448\n",
    "# Study 3 (preprocessing kudos to MOHAMMAD RAZEGHI, 200 trials): 0.18433600629551264\n",
    "# Study 4 (same as 3 but max_depth allowed to be 1, \n",
    "# {'n_estimators': 31, 'learning_rate': 0.15241724886836167, 'max_depth': 1}): 0.22565032154969472\n",
    "\n",
    "# *begin using roc_auc\n",
    "\n",
    "# Study 5 ({'n_estimators': 109, 'learning_rate': 0.03160535667677366, 'max_depth': 1}): 0.7891310192305856\n",
    "# Study 6 [I 2023-04-15 17:47:02,473] Trial 199 finished with value: 0.756868939982877 and parameters: {'n_estimators': 70, 'learning_rate': 0.21972623175664083, 'max_depth': 2}. Best is trial 196 with value: 0.7902962715736496.\n",
    "\n",
    "best_params = optuna_study(X, y)\n",
    "\n",
    "display(best_params)"
   ]
  },
  {
   "cell_type": "markdown",
   "id": "a92342f1",
   "metadata": {
    "papermill": {
     "duration": 0.004738,
     "end_time": "2023-04-09T00:41:12.363834",
     "exception": false,
     "start_time": "2023-04-09T00:41:12.359096",
     "status": "completed"
    },
    "tags": []
   },
   "source": [
    "# Submission"
   ]
  },
  {
   "cell_type": "code",
   "execution_count": 11,
   "id": "d7bf9561",
   "metadata": {
    "execution": {
     "iopub.execute_input": "2023-04-09T00:41:12.376066Z",
     "iopub.status.busy": "2023-04-09T00:41:12.375635Z",
     "iopub.status.idle": "2023-04-09T00:41:12.641258Z",
     "shell.execute_reply": "2023-04-09T00:41:12.640270Z"
    },
    "papermill": {
     "duration": 0.274782,
     "end_time": "2023-04-09T00:41:12.643800",
     "exception": false,
     "start_time": "2023-04-09T00:41:12.369018",
     "status": "completed"
    },
    "tags": []
   },
   "outputs": [
    {
     "data": {
      "text/html": [
       "<div>\n",
       "<style scoped>\n",
       "    .dataframe tbody tr th:only-of-type {\n",
       "        vertical-align: middle;\n",
       "    }\n",
       "\n",
       "    .dataframe tbody tr th {\n",
       "        vertical-align: top;\n",
       "    }\n",
       "\n",
       "    .dataframe thead th {\n",
       "        text-align: right;\n",
       "    }\n",
       "</style>\n",
       "<table border=\"1\" class=\"dataframe\">\n",
       "  <thead>\n",
       "    <tr style=\"text-align: right;\">\n",
       "      <th></th>\n",
       "      <th>id</th>\n",
       "      <th>target</th>\n",
       "    </tr>\n",
       "  </thead>\n",
       "  <tbody>\n",
       "    <tr>\n",
       "      <th>0</th>\n",
       "      <td>414</td>\n",
       "      <td>0.274909</td>\n",
       "    </tr>\n",
       "    <tr>\n",
       "      <th>1</th>\n",
       "      <td>415</td>\n",
       "      <td>0.464385</td>\n",
       "    </tr>\n",
       "    <tr>\n",
       "      <th>2</th>\n",
       "      <td>416</td>\n",
       "      <td>0.692975</td>\n",
       "    </tr>\n",
       "    <tr>\n",
       "      <th>3</th>\n",
       "      <td>417</td>\n",
       "      <td>0.464385</td>\n",
       "    </tr>\n",
       "    <tr>\n",
       "      <th>4</th>\n",
       "      <td>418</td>\n",
       "      <td>0.364252</td>\n",
       "    </tr>\n",
       "  </tbody>\n",
       "</table>\n",
       "</div>"
      ],
      "text/plain": [
       "    id    target\n",
       "0  414  0.274909\n",
       "1  415  0.464385\n",
       "2  416  0.692975\n",
       "3  417  0.464385\n",
       "4  418  0.364252"
      ]
     },
     "metadata": {},
     "output_type": "display_data"
    },
    {
     "name": "stdout",
     "output_type": "stream",
     "text": [
      "Successful\n"
     ]
    }
   ],
   "source": [
    "final_model = XGBRegressor(\n",
    "    n_estimators = best_params['n_estimators'], \n",
    "    max_depth = best_params['max_depth'], \n",
    "    learning_rate = best_params['learning_rate'],\n",
    "    n_jobs=4)\n",
    "\n",
    "final_model.fit(X, y)\n",
    "predictions = final_model.predict(no_id_test_data)\n",
    "\n",
    "submission = pd.DataFrame({'id': test_data.id, 'target': predictions})\n",
    "\n",
    "display(submission.head())\n",
    "\n",
    "submission.to_csv(f'submission9.csv', index=False)\n",
    "\n",
    "print('Successful')"
   ]
  }
 ],
 "metadata": {
  "kernelspec": {
   "display_name": "Python 3",
   "language": "python",
   "name": "python3"
  },
  "language_info": {
   "codemirror_mode": {
    "name": "ipython",
    "version": 3
   },
   "file_extension": ".py",
   "mimetype": "text/x-python",
   "name": "python",
   "nbconvert_exporter": "python",
   "pygments_lexer": "ipython3",
   "version": "3.11.3"
  },
  "papermill": {
   "default_parameters": {},
   "duration": 219.706329,
   "end_time": "2023-04-09T00:41:13.474455",
   "environment_variables": {},
   "exception": null,
   "input_path": "__notebook__.ipynb",
   "output_path": "__notebook__.ipynb",
   "parameters": {},
   "start_time": "2023-04-09T00:37:33.768126",
   "version": "2.4.0"
  }
 },
 "nbformat": 4,
 "nbformat_minor": 5
}
