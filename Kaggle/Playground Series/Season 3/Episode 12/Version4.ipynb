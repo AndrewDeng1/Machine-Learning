{
 "cells": [
  {
   "cell_type": "code",
   "execution_count": 15,
   "id": "74adbfdb",
   "metadata": {
    "_cell_guid": "b1076dfc-b9ad-4769-8c92-a6c4dae69d19",
    "_uuid": "8f2839f25d086af736a60e9eeb907d3b93b6e0e5",
    "execution": {
     "iopub.execute_input": "2023-04-09T00:37:46.837496Z",
     "iopub.status.busy": "2023-04-09T00:37:46.837072Z",
     "iopub.status.idle": "2023-04-09T00:37:46.857641Z",
     "shell.execute_reply": "2023-04-09T00:37:46.855677Z"
    },
    "papermill": {
     "duration": 0.031202,
     "end_time": "2023-04-09T00:37:46.860551",
     "exception": false,
     "start_time": "2023-04-09T00:37:46.829349",
     "status": "completed"
    },
    "tags": []
   },
   "outputs": [],
   "source": [
    "# This Python 3 environment comes with many helpful analytics libraries installed\n",
    "# It is defined by the kaggle/python Docker image: https://github.com/kaggle/docker-python\n",
    "# For example, here's several helpful packages to load\n",
    "\n",
    "import numpy as np # linear algebra\n",
    "import pandas as pd # data processing, CSV file I/O (e.g. pd.read_csv)\n",
    "\n",
    "# Input data files are available in the read-only \"../input/\" directory\n",
    "# For example, running this (by clicking run or pressing Shift+Enter) will list all files under the input directory\n",
    "\n",
    "import os\n",
    "for dirname, _, filenames in os.walk('/kaggle/input'):\n",
    "    for filename in filenames:\n",
    "        print(os.path.join(dirname, filename))\n",
    "\n",
    "# You can write up to 20GB to the current directory (/kaggle/working/) that gets preserved as output when you create a version using \"Save & Run All\" \n",
    "# You can also write temporary files to /kaggle/temp/, but they won't be saved outside of the current session"
   ]
  },
  {
   "cell_type": "markdown",
   "id": "888c8ea2",
   "metadata": {
    "papermill": {
     "duration": 0.004216,
     "end_time": "2023-04-09T00:37:46.869621",
     "exception": false,
     "start_time": "2023-04-09T00:37:46.865405",
     "status": "completed"
    },
    "tags": []
   },
   "source": [
    "# Imports"
   ]
  },
  {
   "cell_type": "code",
   "execution_count": 16,
   "id": "b83b2d96",
   "metadata": {
    "execution": {
     "iopub.execute_input": "2023-04-09T00:37:46.880770Z",
     "iopub.status.busy": "2023-04-09T00:37:46.880373Z",
     "iopub.status.idle": "2023-04-09T00:37:48.305370Z",
     "shell.execute_reply": "2023-04-09T00:37:48.304381Z"
    },
    "papermill": {
     "duration": 1.433975,
     "end_time": "2023-04-09T00:37:48.308186",
     "exception": false,
     "start_time": "2023-04-09T00:37:46.874211",
     "status": "completed"
    },
    "tags": []
   },
   "outputs": [],
   "source": [
    "from xgboost import XGBRegressor\n",
    "from sklearn.model_selection import train_test_split\n",
    "from sklearn.model_selection import GridSearchCV\n",
    "from sklearn.pipeline import Pipeline\n",
    "from sklearn.model_selection import cross_val_score\n",
    "from sklearn.metrics import mean_absolute_error\n",
    "from sklearn.impute import SimpleImputer\n",
    "import optuna"
   ]
  },
  {
   "cell_type": "markdown",
   "id": "899d4cf0",
   "metadata": {
    "papermill": {
     "duration": 0.004594,
     "end_time": "2023-04-09T00:37:48.317768",
     "exception": false,
     "start_time": "2023-04-09T00:37:48.313174",
     "status": "completed"
    },
    "tags": []
   },
   "source": [
    "# Get data"
   ]
  },
  {
   "cell_type": "code",
   "execution_count": 17,
   "id": "5b46937c",
   "metadata": {
    "execution": {
     "iopub.execute_input": "2023-04-09T00:37:48.331008Z",
     "iopub.status.busy": "2023-04-09T00:37:48.329721Z",
     "iopub.status.idle": "2023-04-09T00:37:48.400420Z",
     "shell.execute_reply": "2023-04-09T00:37:48.398896Z"
    },
    "papermill": {
     "duration": 0.080348,
     "end_time": "2023-04-09T00:37:48.403526",
     "exception": false,
     "start_time": "2023-04-09T00:37:48.323178",
     "status": "completed"
    },
    "tags": []
   },
   "outputs": [
    {
     "data": {
      "text/html": [
       "<div>\n",
       "<style scoped>\n",
       "    .dataframe tbody tr th:only-of-type {\n",
       "        vertical-align: middle;\n",
       "    }\n",
       "\n",
       "    .dataframe tbody tr th {\n",
       "        vertical-align: top;\n",
       "    }\n",
       "\n",
       "    .dataframe thead th {\n",
       "        text-align: right;\n",
       "    }\n",
       "</style>\n",
       "<table border=\"1\" class=\"dataframe\">\n",
       "  <thead>\n",
       "    <tr style=\"text-align: right;\">\n",
       "      <th></th>\n",
       "      <th>gravity</th>\n",
       "      <th>ph</th>\n",
       "      <th>osmo</th>\n",
       "      <th>cond</th>\n",
       "      <th>urea</th>\n",
       "      <th>calc</th>\n",
       "    </tr>\n",
       "  </thead>\n",
       "  <tbody>\n",
       "    <tr>\n",
       "      <th>0</th>\n",
       "      <td>1.013</td>\n",
       "      <td>6.19</td>\n",
       "      <td>443</td>\n",
       "      <td>14.8</td>\n",
       "      <td>124</td>\n",
       "      <td>1.45</td>\n",
       "    </tr>\n",
       "    <tr>\n",
       "      <th>1</th>\n",
       "      <td>1.025</td>\n",
       "      <td>5.40</td>\n",
       "      <td>703</td>\n",
       "      <td>23.6</td>\n",
       "      <td>394</td>\n",
       "      <td>4.18</td>\n",
       "    </tr>\n",
       "    <tr>\n",
       "      <th>2</th>\n",
       "      <td>1.009</td>\n",
       "      <td>6.13</td>\n",
       "      <td>371</td>\n",
       "      <td>24.5</td>\n",
       "      <td>159</td>\n",
       "      <td>9.04</td>\n",
       "    </tr>\n",
       "    <tr>\n",
       "      <th>3</th>\n",
       "      <td>1.021</td>\n",
       "      <td>4.91</td>\n",
       "      <td>442</td>\n",
       "      <td>20.8</td>\n",
       "      <td>398</td>\n",
       "      <td>6.63</td>\n",
       "    </tr>\n",
       "    <tr>\n",
       "      <th>4</th>\n",
       "      <td>1.021</td>\n",
       "      <td>5.53</td>\n",
       "      <td>874</td>\n",
       "      <td>17.8</td>\n",
       "      <td>385</td>\n",
       "      <td>2.21</td>\n",
       "    </tr>\n",
       "  </tbody>\n",
       "</table>\n",
       "</div>"
      ],
      "text/plain": [
       "   gravity    ph  osmo  cond  urea  calc\n",
       "0    1.013  6.19   443  14.8   124  1.45\n",
       "1    1.025  5.40   703  23.6   394  4.18\n",
       "2    1.009  6.13   371  24.5   159  9.04\n",
       "3    1.021  4.91   442  20.8   398  6.63\n",
       "4    1.021  5.53   874  17.8   385  2.21"
      ]
     },
     "metadata": {},
     "output_type": "display_data"
    },
    {
     "data": {
      "text/plain": [
       "0    0\n",
       "1    0\n",
       "2    0\n",
       "3    1\n",
       "4    1\n",
       "Name: target, dtype: int64"
      ]
     },
     "metadata": {},
     "output_type": "display_data"
    }
   ],
   "source": [
    "train_data = pd.read_csv(\"train.csv\")\n",
    "test_data = pd.read_csv(\"test.csv\")\n",
    "\n",
    "X = train_data.copy()\n",
    "X.drop(['id', 'target'], axis=1, inplace=True)\n",
    "\n",
    "y = train_data['target']\n",
    "\n",
    "no_id_test_data = test_data.drop('id', axis=1)\n",
    "\n",
    "display(X.head())\n",
    "display(y.head())"
   ]
  },
  {
   "cell_type": "markdown",
   "id": "6d772808",
   "metadata": {
    "papermill": {
     "duration": 0.005239,
     "end_time": "2023-04-09T00:37:48.413756",
     "exception": false,
     "start_time": "2023-04-09T00:37:48.408517",
     "status": "completed"
    },
    "tags": []
   },
   "source": [
    "# Split Data"
   ]
  },
  {
   "cell_type": "code",
   "execution_count": 18,
   "id": "c46f9aa2",
   "metadata": {
    "execution": {
     "iopub.execute_input": "2023-04-09T00:37:48.425837Z",
     "iopub.status.busy": "2023-04-09T00:37:48.425410Z",
     "iopub.status.idle": "2023-04-09T00:37:48.433741Z",
     "shell.execute_reply": "2023-04-09T00:37:48.432526Z"
    },
    "papermill": {
     "duration": 0.017638,
     "end_time": "2023-04-09T00:37:48.436408",
     "exception": false,
     "start_time": "2023-04-09T00:37:48.418770",
     "status": "completed"
    },
    "tags": []
   },
   "outputs": [],
   "source": [
    "X_train, X_valid, y_train, y_valid = train_test_split(X, y)"
   ]
  },
  {
   "cell_type": "markdown",
   "id": "907a613b",
   "metadata": {
    "papermill": {
     "duration": 0.00491,
     "end_time": "2023-04-09T00:37:48.446287",
     "exception": false,
     "start_time": "2023-04-09T00:37:48.441377",
     "status": "completed"
    },
    "tags": []
   },
   "source": [
    "# Missing Data"
   ]
  },
  {
   "cell_type": "code",
   "execution_count": 19,
   "id": "a9aa0fae",
   "metadata": {
    "execution": {
     "iopub.execute_input": "2023-04-09T00:37:48.459202Z",
     "iopub.status.busy": "2023-04-09T00:37:48.458287Z",
     "iopub.status.idle": "2023-04-09T00:37:48.468433Z",
     "shell.execute_reply": "2023-04-09T00:37:48.466879Z"
    },
    "papermill": {
     "duration": 0.019758,
     "end_time": "2023-04-09T00:37:48.471098",
     "exception": false,
     "start_time": "2023-04-09T00:37:48.451340",
     "status": "completed"
    },
    "tags": []
   },
   "outputs": [
    {
     "name": "stdout",
     "output_type": "stream",
     "text": [
      "There are 0 columns with missing values\n"
     ]
    }
   ],
   "source": [
    "cols_with_missing = [col for col in X_train.columns if X_train[col].isnull().any()]\n",
    "\n",
    "print(f'There are {len(cols_with_missing)} columns with missing values')\n",
    "\n",
    "for i in cols_with_missing:\n",
    "    print(i)"
   ]
  },
  {
   "cell_type": "markdown",
   "id": "56238321",
   "metadata": {},
   "source": [
    "# Feature Engineering"
   ]
  },
  {
   "cell_type": "code",
   "execution_count": 20,
   "id": "b0d5c466",
   "metadata": {},
   "outputs": [
    {
     "data": {
      "text/plain": [
       "Index(['gravity', 'ph', 'osmo', 'cond', 'urea', 'calc'], dtype='object')"
      ]
     },
     "metadata": {},
     "output_type": "display_data"
    },
    {
     "data": {
      "text/plain": [
       "Index(['gravity', 'osmo', 'cond', 'urea', 'calc'], dtype='object')"
      ]
     },
     "metadata": {},
     "output_type": "display_data"
    },
    {
     "name": "stdout",
     "output_type": "stream",
     "text": [
      "gravity    414\n",
      "osmo       414\n",
      "cond       414\n",
      "urea       414\n",
      "calc       414\n",
      "dtype: int64\n"
     ]
    }
   ],
   "source": [
    "display(X_train.columns)\n",
    "\n",
    "X_train.drop('ph', axis=1, inplace=True)\n",
    "no_id_test_data.drop(['ph'], axis=1, inplace=True)\n",
    "\n",
    "display(X_train.columns)\n",
    "\n",
    "print(X_train.count());"
   ]
  },
  {
   "cell_type": "markdown",
   "id": "f821cc7c",
   "metadata": {},
   "source": [
    "# Remove Outliers"
   ]
  },
  {
   "cell_type": "code",
   "execution_count": 21,
   "id": "f669cd3c",
   "metadata": {},
   "outputs": [],
   "source": [
    "# Credit: KLYUSHNIK-ALEXSANDR\n",
    "\n",
    "def outlier_removal(data , i):\n",
    "    q1 = np.quantile(data[i] ,0.25)\n",
    "    q3 = np.quantile(data[i] , 0.75)\n",
    "    iqr = q3-q1\n",
    "    lower_tail = q1 - 1.5*iqr\n",
    "    upper_tail = q3 + 1.5*iqr\n",
    "    \n",
    "    \n",
    "    for j in range(0, data[i].count()):\n",
    "        if(data[i][j]>upper_tail or data[i][j]<lower_tail):\n",
    "            data[i][j]=np.nan\n",
    "            \n",
    "    return data[i]"
   ]
  },
  {
   "cell_type": "markdown",
   "id": "6946175b",
   "metadata": {},
   "source": [
    "# Aggregate Features"
   ]
  },
  {
   "cell_type": "code",
   "execution_count": 22,
   "id": "67a3f839",
   "metadata": {},
   "outputs": [],
   "source": [
    "def aggregate_features(data):\n",
    "    \n",
    "    outlier_list = ['gravity', 'osmo', 'cond', 'urea', 'calc']\n",
    "    for i in outlier_list:\n",
    "        data[i]=outlier_removal(data ,i)\n",
    "    \n",
    "    my_imputer = SimpleImputer()\n",
    "    data = pd.DataFrame(my_imputer.fit_transform(data))\n",
    "    return data"
   ]
  },
  {
   "cell_type": "markdown",
   "id": "6c9f3200",
   "metadata": {},
   "source": [
    "# Preprocess Data"
   ]
  },
  {
   "cell_type": "code",
   "execution_count": 23,
   "id": "12434db0",
   "metadata": {},
   "outputs": [
    {
     "name": "stdout",
     "output_type": "stream",
     "text": [
      "There are 0 columns with missing values\n",
      "0    414\n",
      "1    414\n",
      "2    414\n",
      "3    414\n",
      "4    414\n",
      "dtype: int64\n"
     ]
    },
    {
     "name": "stderr",
     "output_type": "stream",
     "text": [
      "C:\\Users\\andar\\AppData\\Local\\Temp\\ipykernel_12908\\2446819236.py:13: SettingWithCopyWarning: \n",
      "A value is trying to be set on a copy of a slice from a DataFrame\n",
      "\n",
      "See the caveats in the documentation: https://pandas.pydata.org/pandas-docs/stable/user_guide/indexing.html#returning-a-view-versus-a-copy\n",
      "  data[i][j]=np.nan\n",
      "C:\\Users\\andar\\AppData\\Local\\Temp\\ipykernel_12908\\2446819236.py:13: SettingWithCopyWarning: \n",
      "A value is trying to be set on a copy of a slice from a DataFrame\n",
      "\n",
      "See the caveats in the documentation: https://pandas.pydata.org/pandas-docs/stable/user_guide/indexing.html#returning-a-view-versus-a-copy\n",
      "  data[i][j]=np.nan\n"
     ]
    }
   ],
   "source": [
    "def preprocess_data(data):\n",
    "    return aggregate_features(data)\n",
    "\n",
    "\n",
    "'''preprocess data here'''\n",
    "X_train = preprocess_data(X_train)\n",
    "no_id_test_data = preprocess_data(no_id_test_data)\n",
    "\n",
    "cols_with_missing = [col for col in X_train.columns if X_train[col].isnull().any()]\n",
    "\n",
    "print(f'There are {len(cols_with_missing)} columns with missing values')\n",
    "\n",
    "for i in cols_with_missing:\n",
    "    print(i)\n",
    "    \n",
    "    \n",
    "print(X_train.count());\n",
    "\n"
   ]
  },
  {
   "cell_type": "markdown",
   "id": "ddfb1e00",
   "metadata": {
    "papermill": {
     "duration": 0.004581,
     "end_time": "2023-04-09T00:37:48.480557",
     "exception": false,
     "start_time": "2023-04-09T00:37:48.475976",
     "status": "completed"
    },
    "tags": []
   },
   "source": [
    "# Score"
   ]
  },
  {
   "cell_type": "markdown",
   "id": "f70f95cd",
   "metadata": {},
   "source": []
  },
  {
   "cell_type": "code",
   "execution_count": 24,
   "id": "f71943a6",
   "metadata": {
    "execution": {
     "iopub.execute_input": "2023-04-09T00:37:48.492973Z",
     "iopub.status.busy": "2023-04-09T00:37:48.492105Z",
     "iopub.status.idle": "2023-04-09T00:37:48.499172Z",
     "shell.execute_reply": "2023-04-09T00:37:48.498138Z"
    },
    "papermill": {
     "duration": 0.016504,
     "end_time": "2023-04-09T00:37:48.501965",
     "exception": false,
     "start_time": "2023-04-09T00:37:48.485461",
     "status": "completed"
    },
    "tags": []
   },
   "outputs": [],
   "source": [
    "def get_score(n_estimators_=100, learning_rate_=0.5, max_depth_=6):\n",
    "    model = XGBRegressor(n_estimators=n_estimators_, max_depth=max_depth_, learning_rate=learning_rate_, \n",
    "                         n_jobs=4)\n",
    "#     model.fit(X_train, y_train, early_stopping_rounds=5, eval_set=[(X_valid, y_valid)], verbose=\n",
    "#              False)\n",
    "#     predictions = model.predict(X_valid)\n",
    "    scores = -1*cross_val_score(model, X_train, y_train, cv=5, scoring=\"neg_mean_absolute_error\")\n",
    "    return scores.mean()"
   ]
  },
  {
   "attachments": {},
   "cell_type": "markdown",
   "id": "5b5250f8",
   "metadata": {
    "papermill": {
     "duration": 0.004621,
     "end_time": "2023-04-09T00:37:48.511696",
     "exception": false,
     "start_time": "2023-04-09T00:37:48.507075",
     "status": "completed"
    },
    "tags": []
   },
   "source": [
    "# shittiest parameter tuning i've ever seen"
   ]
  },
  {
   "cell_type": "code",
   "execution_count": 25,
   "id": "7066cfa0",
   "metadata": {
    "execution": {
     "iopub.execute_input": "2023-04-09T00:37:48.524314Z",
     "iopub.status.busy": "2023-04-09T00:37:48.523366Z",
     "iopub.status.idle": "2023-04-09T00:37:48.529599Z",
     "shell.execute_reply": "2023-04-09T00:37:48.528436Z"
    },
    "papermill": {
     "duration": 0.015762,
     "end_time": "2023-04-09T00:37:48.532401",
     "exception": false,
     "start_time": "2023-04-09T00:37:48.516639",
     "status": "completed"
    },
    "tags": []
   },
   "outputs": [],
   "source": [
    "# display(X_train)\n",
    "# display(y_train)\n",
    "\n",
    "# best_score=100000000\n",
    "# best_n_estimators=100\n",
    "# best_learning_rate=0.1\n",
    "# best_max_depth=6\n",
    "\n",
    "# for n_estimators in range(100, 401, 100):\n",
    "#     score = get_score(n_estimators_=n_estimators)\n",
    "    \n",
    "#     if score<best_score:\n",
    "#         best_score=score\n",
    "#         best_n_estimators=n_estimators\n",
    "        \n",
    "# for learning_rate in [0.05, 0.01, 0.025, 0.05, 0.1]:\n",
    "#     score = get_score(n_estimators_=best_n_estimators, learning_rate_=learning_rate);\n",
    "    \n",
    "#     if score<best_score:\n",
    "#         best_score=score\n",
    "#         best_learning_rate=learning_rate\n",
    "        \n",
    "# for max_depth in [2, 4, 6, 8, 10]:\n",
    "#     score = get_score(n_estimators_=best_n_estimators, learning_rate_=learning_rate, \n",
    "#                       max_depth_=max_depth)\n",
    "    \n",
    "#     if score<best_score:\n",
    "#         best_score=score\n",
    "#         best_max_depth=max_depth\n",
    "        \n",
    "# print(f'best_score={best_score}, best_n_estimators={best_n_estimators}, best_learning_rate={best_learning_rate}, best_max_depth={best_max_depth}')"
   ]
  },
  {
   "attachments": {},
   "cell_type": "markdown",
   "id": "bd2d85c9",
   "metadata": {},
   "source": [
    "# Optuna!!!! OMG i love optuna so much"
   ]
  },
  {
   "cell_type": "code",
   "execution_count": 26,
   "id": "79b1fafa",
   "metadata": {},
   "outputs": [
    {
     "name": "stderr",
     "output_type": "stream",
     "text": [
      "\u001b[32m[I 2023-04-15 08:52:17,798]\u001b[0m A new study created in memory with name: no-name-755e5739-b116-4978-9918-a3d86b87edbd\u001b[0m\n",
      "\u001b[32m[I 2023-04-15 08:52:18,178]\u001b[0m Trial 0 finished with value: -0.10963875178313684 and parameters: {'n_estimators': 632, 'learning_rate': 0.36805845266711473, 'max_depth': 13}. Best is trial 0 with value: -0.10963875178313684.\u001b[0m\n",
      "\u001b[32m[I 2023-04-15 08:52:18,578]\u001b[0m Trial 1 finished with value: -0.10730284637245853 and parameters: {'n_estimators': 702, 'learning_rate': 0.317562515485912, 'max_depth': 26}. Best is trial 1 with value: -0.10730284637245853.\u001b[0m\n",
      "\u001b[32m[I 2023-04-15 08:52:19,120]\u001b[0m Trial 2 finished with value: -0.09563575976093312 and parameters: {'n_estimators': 992, 'learning_rate': 0.20313876121388066, 'max_depth': 23}. Best is trial 2 with value: -0.09563575976093312.\u001b[0m\n",
      "\u001b[32m[I 2023-04-15 08:52:19,594]\u001b[0m Trial 3 finished with value: -0.10771987875769129 and parameters: {'n_estimators': 573, 'learning_rate': 0.3555187351047406, 'max_depth': 30}. Best is trial 2 with value: -0.09563575976093312.\u001b[0m\n",
      "\u001b[32m[I 2023-04-15 08:52:19,825]\u001b[0m Trial 4 finished with value: -0.07144596458904226 and parameters: {'n_estimators': 120, 'learning_rate': 0.2545749623728448, 'max_depth': 10}. Best is trial 4 with value: -0.07144596458904226.\u001b[0m\n",
      "\u001b[32m[I 2023-04-15 08:52:21,368]\u001b[0m Trial 5 finished with value: -0.10522945150871929 and parameters: {'n_estimators': 723, 'learning_rate': 0.05049031679176268, 'max_depth': 24}. Best is trial 4 with value: -0.07144596458904226.\u001b[0m\n",
      "\u001b[32m[I 2023-04-15 08:52:21,490]\u001b[0m Trial 6 finished with value: -0.18674445622776886 and parameters: {'n_estimators': 152, 'learning_rate': 0.6045408092473168, 'max_depth': 18}. Best is trial 4 with value: -0.07144596458904226.\u001b[0m\n",
      "\u001b[32m[I 2023-04-15 08:52:21,883]\u001b[0m Trial 7 finished with value: -0.129835453043101 and parameters: {'n_estimators': 807, 'learning_rate': 0.5203332909773404, 'max_depth': 30}. Best is trial 4 with value: -0.07144596458904226.\u001b[0m\n",
      "\u001b[32m[I 2023-04-15 08:52:22,651]\u001b[0m Trial 8 finished with value: -0.2804951025466579 and parameters: {'n_estimators': 961, 'learning_rate': 0.7881833443196046, 'max_depth': 17}. Best is trial 4 with value: -0.07144596458904226.\u001b[0m\n",
      "\u001b[32m[I 2023-04-15 08:52:22,844]\u001b[0m Trial 9 finished with value: -0.1498505714624881 and parameters: {'n_estimators': 170, 'learning_rate': 0.569788723681969, 'max_depth': 14}. Best is trial 4 with value: -0.07144596458904226.\u001b[0m\n",
      "\u001b[32m[I 2023-04-15 08:52:23,093]\u001b[0m Trial 10 finished with value: -0.3722902191602433 and parameters: {'n_estimators': 357, 'learning_rate': 0.9749321271710065, 'max_depth': 6}. Best is trial 4 with value: -0.07144596458904226.\u001b[0m\n",
      "\u001b[32m[I 2023-04-15 08:52:23,709]\u001b[0m Trial 11 finished with value: -0.10186051521377903 and parameters: {'n_estimators': 401, 'learning_rate': 0.12769084648331583, 'max_depth': 5}. Best is trial 4 with value: -0.07144596458904226.\u001b[0m\n",
      "\u001b[32m[I 2023-04-15 08:52:23,848]\u001b[0m Trial 12 finished with value: -0.09253635945810075 and parameters: {'n_estimators': 30, 'learning_rate': 0.2046793773115567, 'max_depth': 22}. Best is trial 4 with value: -0.07144596458904226.\u001b[0m\n",
      "\u001b[32m[I 2023-04-15 08:52:23,982]\u001b[0m Trial 13 finished with value: 0.09252729394398931 and parameters: {'n_estimators': 38, 'learning_rate': 0.031189911554797778, 'max_depth': 10}. Best is trial 13 with value: 0.09252729394398931.\u001b[0m\n",
      "\u001b[32m[I 2023-04-15 08:52:24,078]\u001b[0m Trial 14 finished with value: 0.07922493403948025 and parameters: {'n_estimators': 29, 'learning_rate': 0.012219974132506271, 'max_depth': 11}. Best is trial 13 with value: 0.09252729394398931.\u001b[0m\n",
      "\u001b[32m[I 2023-04-15 08:52:24,764]\u001b[0m Trial 15 finished with value: -0.0396153927837112 and parameters: {'n_estimators': 295, 'learning_rate': 0.017247580064176656, 'max_depth': 9}. Best is trial 13 with value: 0.09252729394398931.\u001b[0m\n",
      "\u001b[32m[I 2023-04-15 08:52:24,911]\u001b[0m Trial 16 finished with value: 0.10162374814007587 and parameters: {'n_estimators': 57, 'learning_rate': 0.015633591644179018, 'max_depth': 10}. Best is trial 16 with value: 0.10162374814007587.\u001b[0m\n",
      "\u001b[32m[I 2023-04-15 08:52:25,290]\u001b[0m Trial 17 finished with value: -0.04602864840362675 and parameters: {'n_estimators': 258, 'learning_rate': 0.125814321024773, 'max_depth': 8}. Best is trial 16 with value: 0.10162374814007587.\u001b[0m\n",
      "\u001b[32m[I 2023-04-15 08:52:25,740]\u001b[0m Trial 18 finished with value: -0.10646552468014495 and parameters: {'n_estimators': 440, 'learning_rate': 0.1290318281433795, 'max_depth': 16}. Best is trial 16 with value: 0.10162374814007587.\u001b[0m\n",
      "\u001b[32m[I 2023-04-15 08:52:25,928]\u001b[0m Trial 19 finished with value: -0.12360727094383808 and parameters: {'n_estimators': 262, 'learning_rate': 0.43032023012391096, 'max_depth': 13}. Best is trial 16 with value: 0.10162374814007587.\u001b[0m\n",
      "\u001b[32m[I 2023-04-15 08:52:26,113]\u001b[0m Trial 20 finished with value: -0.09221978244210263 and parameters: {'n_estimators': 110, 'learning_rate': 0.2531995169413701, 'max_depth': 20}. Best is trial 16 with value: 0.10162374814007587.\u001b[0m\n",
      "\u001b[32m[I 2023-04-15 08:52:26,219]\u001b[0m Trial 21 finished with value: 0.09859917648154586 and parameters: {'n_estimators': 17, 'learning_rate': 0.043418455750865406, 'max_depth': 11}. Best is trial 16 with value: 0.10162374814007587.\u001b[0m\n",
      "\u001b[32m[I 2023-04-15 08:52:26,296]\u001b[0m Trial 22 finished with value: 0.1468228004837993 and parameters: {'n_estimators': 11, 'learning_rate': 0.09025784024619343, 'max_depth': 7}. Best is trial 22 with value: 0.1468228004837993.\u001b[0m\n",
      "\u001b[32m[I 2023-04-15 08:52:26,626]\u001b[0m Trial 23 finished with value: -0.06884003428046373 and parameters: {'n_estimators': 202, 'learning_rate': 0.1136292551892229, 'max_depth': 7}. Best is trial 22 with value: 0.1468228004837993.\u001b[0m\n",
      "\u001b[32m[I 2023-04-15 08:52:26,695]\u001b[0m Trial 24 finished with value: 0.16022579399499812 and parameters: {'n_estimators': 17, 'learning_rate': 0.09838349611029176, 'max_depth': 5}. Best is trial 24 with value: 0.16022579399499812.\u001b[0m\n",
      "\u001b[32m[I 2023-04-15 08:52:26,877]\u001b[0m Trial 25 finished with value: -0.08249915669762238 and parameters: {'n_estimators': 125, 'learning_rate': 0.18703317235448824, 'max_depth': 5}. Best is trial 24 with value: 0.16022579399499812.\u001b[0m\n",
      "\u001b[32m[I 2023-04-15 08:52:27,060]\u001b[0m Trial 26 finished with value: -0.05989724788840247 and parameters: {'n_estimators': 98, 'learning_rate': 0.11002541040018649, 'max_depth': 7}. Best is trial 24 with value: 0.16022579399499812.\u001b[0m\n",
      "\u001b[32m[I 2023-04-15 08:52:27,287]\u001b[0m Trial 27 finished with value: -0.04980182283059738 and parameters: {'n_estimators': 229, 'learning_rate': 0.28528724891383805, 'max_depth': 8}. Best is trial 24 with value: 0.16022579399499812.\u001b[0m\n",
      "\u001b[32m[I 2023-04-15 08:52:27,634]\u001b[0m Trial 28 finished with value: -0.14537769495816272 and parameters: {'n_estimators': 326, 'learning_rate': 0.1886206090518025, 'max_depth': 5}. Best is trial 24 with value: 0.16022579399499812.\u001b[0m\n",
      "\u001b[32m[I 2023-04-15 08:52:27,915]\u001b[0m Trial 29 finished with value: -0.1124144826072067 and parameters: {'n_estimators': 504, 'learning_rate': 0.4203303071679628, 'max_depth': 14}. Best is trial 24 with value: 0.16022579399499812.\u001b[0m\n",
      "\u001b[32m[I 2023-04-15 08:52:28,067]\u001b[0m Trial 30 finished with value: -0.07900959160768409 and parameters: {'n_estimators': 81, 'learning_rate': 0.2805541261252569, 'max_depth': 13}. Best is trial 24 with value: 0.16022579399499812.\u001b[0m\n",
      "\u001b[32m[I 2023-04-15 08:52:28,135]\u001b[0m Trial 31 finished with value: 0.09345956141236109 and parameters: {'n_estimators': 11, 'learning_rate': 0.08260390517548521, 'max_depth': 11}. Best is trial 24 with value: 0.16022579399499812.\u001b[0m\n",
      "\u001b[32m[I 2023-04-15 08:52:28,364]\u001b[0m Trial 32 finished with value: -0.06433060188375161 and parameters: {'n_estimators': 73, 'learning_rate': 0.06714710726026746, 'max_depth': 12}. Best is trial 24 with value: 0.16022579399499812.\u001b[0m\n",
      "\u001b[32m[I 2023-04-15 08:52:28,760]\u001b[0m Trial 33 finished with value: -0.014496342096183112 and parameters: {'n_estimators': 208, 'learning_rate': 0.01719705768081112, 'max_depth': 9}. Best is trial 24 with value: 0.16022579399499812.\u001b[0m\n",
      "\u001b[32m[I 2023-04-15 08:52:29,034]\u001b[0m Trial 34 finished with value: -0.06139012475812962 and parameters: {'n_estimators': 160, 'learning_rate': 0.17923396793308322, 'max_depth': 7}. Best is trial 24 with value: 0.16022579399499812.\u001b[0m\n",
      "\u001b[32m[I 2023-04-15 08:52:29,103]\u001b[0m Trial 35 finished with value: 0.08661099137104596 and parameters: {'n_estimators': 10, 'learning_rate': 0.07997156206596862, 'max_depth': 15}. Best is trial 24 with value: 0.16022579399499812.\u001b[0m\n",
      "\u001b[32m[I 2023-04-15 08:52:29,383]\u001b[0m Trial 36 finished with value: -0.034236324108244044 and parameters: {'n_estimators': 77, 'learning_rate': 0.16084898127393749, 'max_depth': 10}. Best is trial 24 with value: 0.16022579399499812.\u001b[0m\n",
      "\u001b[32m[I 2023-04-15 08:52:30,056]\u001b[0m Trial 37 finished with value: -0.04781544833965734 and parameters: {'n_estimators': 587, 'learning_rate': 0.06864872729880439, 'max_depth': 8}. Best is trial 24 with value: 0.16022579399499812.\u001b[0m\n",
      "\u001b[32m[I 2023-04-15 08:52:30,352]\u001b[0m Trial 38 finished with value: -0.09794459382415095 and parameters: {'n_estimators': 170, 'learning_rate': 0.23193546560368344, 'max_depth': 6}. Best is trial 24 with value: 0.16022579399499812.\u001b[0m\n",
      "\u001b[32m[I 2023-04-15 08:52:30,877]\u001b[0m Trial 39 finished with value: -0.08410061329301188 and parameters: {'n_estimators': 782, 'learning_rate': 0.36084409619269087, 'max_depth': 11}. Best is trial 24 with value: 0.16022579399499812.\u001b[0m\n",
      "\u001b[32m[I 2023-04-15 08:52:31,318]\u001b[0m Trial 40 finished with value: -0.10749358644615667 and parameters: {'n_estimators': 72, 'learning_rate': 0.14893475213458574, 'max_depth': 19}. Best is trial 24 with value: 0.16022579399499812.\u001b[0m\n",
      "\u001b[32m[I 2023-04-15 08:52:31,464]\u001b[0m Trial 41 finished with value: 0.020459696398548742 and parameters: {'n_estimators': 28, 'learning_rate': 0.07841323959203263, 'max_depth': 11}. Best is trial 24 with value: 0.16022579399499812.\u001b[0m\n",
      "\u001b[32m[I 2023-04-15 08:52:31,812]\u001b[0m Trial 42 finished with value: -0.041927605584977615 and parameters: {'n_estimators': 135, 'learning_rate': 0.0699671570666168, 'max_depth': 9}. Best is trial 24 with value: 0.16022579399499812.\u001b[0m\n",
      "\u001b[32m[I 2023-04-15 08:52:32,058]\u001b[0m Trial 43 finished with value: -0.06698820948293724 and parameters: {'n_estimators': 62, 'learning_rate': 0.08061935955402999, 'max_depth': 12}. Best is trial 24 with value: 0.16022579399499812.\u001b[0m\n",
      "\u001b[32m[I 2023-04-15 08:52:32,144]\u001b[0m Trial 44 finished with value: 0.02181713792927702 and parameters: {'n_estimators': 22, 'learning_rate': 0.23905059152034855, 'max_depth': 6}. Best is trial 24 with value: 0.16022579399499812.\u001b[0m\n",
      "\u001b[32m[I 2023-04-15 08:52:32,274]\u001b[0m Trial 45 finished with value: 0.028576659154592222 and parameters: {'n_estimators': 10, 'learning_rate': 0.012690304950371892, 'max_depth': 27}. Best is trial 24 with value: 0.16022579399499812.\u001b[0m\n",
      "\u001b[32m[I 2023-04-15 08:52:32,885]\u001b[0m Trial 46 finished with value: -0.056661823191857065 and parameters: {'n_estimators': 918, 'learning_rate': 0.1563813861734879, 'max_depth': 10}. Best is trial 24 with value: 0.16022579399499812.\u001b[0m\n",
      "\u001b[32m[I 2023-04-15 08:52:33,123]\u001b[0m Trial 47 finished with value: -0.1035598736354009 and parameters: {'n_estimators': 130, 'learning_rate': 0.32146899898215153, 'max_depth': 16}. Best is trial 24 with value: 0.16022579399499812.\u001b[0m\n",
      "\u001b[32m[I 2023-04-15 08:52:33,504]\u001b[0m Trial 48 finished with value: -0.08014546835805203 and parameters: {'n_estimators': 181, 'learning_rate': 0.11138905429549656, 'max_depth': 8}. Best is trial 24 with value: 0.16022579399499812.\u001b[0m\n",
      "\u001b[32m[I 2023-04-15 08:52:34,262]\u001b[0m Trial 49 finished with value: -0.08493049943244527 and parameters: {'n_estimators': 694, 'learning_rate': 0.061794918088516275, 'max_depth': 12}. Best is trial 24 with value: 0.16022579399499812.\u001b[0m\n",
      "\u001b[32m[I 2023-04-15 08:52:34,455]\u001b[0m Trial 50 finished with value: -0.030989947469564315 and parameters: {'n_estimators': 57, 'learning_rate': 0.19823229206431525, 'max_depth': 6}. Best is trial 24 with value: 0.16022579399499812.\u001b[0m\n",
      "\u001b[32m[I 2023-04-15 08:52:34,680]\u001b[0m Trial 51 finished with value: 0.05544715802797873 and parameters: {'n_estimators': 53, 'learning_rate': 0.03240433417877839, 'max_depth': 10}. Best is trial 24 with value: 0.16022579399499812.\u001b[0m\n",
      "\u001b[32m[I 2023-04-15 08:52:34,904]\u001b[0m Trial 52 finished with value: -0.005139525133553447 and parameters: {'n_estimators': 102, 'learning_rate': 0.03999251457076749, 'max_depth': 9}. Best is trial 24 with value: 0.16022579399499812.\u001b[0m\n",
      "\u001b[32m[I 2023-04-15 08:52:35,009]\u001b[0m Trial 53 finished with value: 0.02299910570200676 and parameters: {'n_estimators': 47, 'learning_rate': 0.10409381273991519, 'max_depth': 7}. Best is trial 24 with value: 0.16022579399499812.\u001b[0m\n",
      "\u001b[32m[I 2023-04-15 08:52:35,269]\u001b[0m Trial 54 finished with value: -0.09406812765128454 and parameters: {'n_estimators': 114, 'learning_rate': 0.1440269300446504, 'max_depth': 14}. Best is trial 24 with value: 0.16022579399499812.\u001b[0m\n",
      "\u001b[32m[I 2023-04-15 08:52:35,346]\u001b[0m Trial 55 finished with value: 0.03965839377586087 and parameters: {'n_estimators': 15, 'learning_rate': 0.01049246090360213, 'max_depth': 11}. Best is trial 24 with value: 0.16022579399499812.\u001b[0m\n",
      "\u001b[32m[I 2023-04-15 08:52:35,949]\u001b[0m Trial 56 finished with value: -0.06602665410481665 and parameters: {'n_estimators': 255, 'learning_rate': 0.050719879916519606, 'max_depth': 10}. Best is trial 24 with value: 0.16022579399499812.\u001b[0m\n",
      "\u001b[32m[I 2023-04-15 08:52:36,209]\u001b[0m Trial 57 finished with value: -0.033123984315600416 and parameters: {'n_estimators': 153, 'learning_rate': 0.10606534166410736, 'max_depth': 6}. Best is trial 24 with value: 0.16022579399499812.\u001b[0m\n",
      "\u001b[32m[I 2023-04-15 08:52:36,366]\u001b[0m Trial 58 finished with value: -0.09871066706603711 and parameters: {'n_estimators': 101, 'learning_rate': 0.2159368584558118, 'max_depth': 5}. Best is trial 24 with value: 0.16022579399499812.\u001b[0m\n",
      "\u001b[32m[I 2023-04-15 08:52:36,763]\u001b[0m Trial 59 finished with value: -0.07304449963908119 and parameters: {'n_estimators': 220, 'learning_rate': 0.1510759272108665, 'max_depth': 8}. Best is trial 24 with value: 0.16022579399499812.\u001b[0m\n",
      "\u001b[32m[I 2023-04-15 08:52:38,268]\u001b[0m Trial 60 finished with value: -0.09236288653130413 and parameters: {'n_estimators': 448, 'learning_rate': 0.037843043616332325, 'max_depth': 13}. Best is trial 24 with value: 0.16022579399499812.\u001b[0m\n",
      "\u001b[32m[I 2023-04-15 08:52:38,357]\u001b[0m Trial 61 finished with value: 0.07417348922927727 and parameters: {'n_estimators': 12, 'learning_rate': 0.08482661237264645, 'max_depth': 15}. Best is trial 24 with value: 0.16022579399499812.\u001b[0m\n",
      "\u001b[32m[I 2023-04-15 08:52:38,539]\u001b[0m Trial 62 finished with value: -0.08033439027900265 and parameters: {'n_estimators': 46, 'learning_rate': 0.09685682479399381, 'max_depth': 15}. Best is trial 24 with value: 0.16022579399499812.\u001b[0m\n",
      "\u001b[32m[I 2023-04-15 08:52:38,797]\u001b[0m Trial 63 finished with value: -0.06281735865133731 and parameters: {'n_estimators': 78, 'learning_rate': 0.042533974707516395, 'max_depth': 18}. Best is trial 24 with value: 0.16022579399499812.\u001b[0m\n",
      "\u001b[32m[I 2023-04-15 08:52:38,940]\u001b[0m Trial 64 finished with value: -0.07785464447848729 and parameters: {'n_estimators': 42, 'learning_rate': 0.1313671922633352, 'max_depth': 12}. Best is trial 24 with value: 0.16022579399499812.\u001b[0m\n",
      "\u001b[32m[I 2023-04-15 08:52:39,010]\u001b[0m Trial 65 finished with value: 0.08998447489605206 and parameters: {'n_estimators': 10, 'learning_rate': 0.05868114416566475, 'max_depth': 21}. Best is trial 24 with value: 0.16022579399499812.\u001b[0m\n",
      "\u001b[32m[I 2023-04-15 08:52:39,251]\u001b[0m Trial 66 finished with value: 0.07079689371366094 and parameters: {'n_estimators': 95, 'learning_rate': 0.010633463385307365, 'max_depth': 21}. Best is trial 24 with value: 0.16022579399499812.\u001b[0m\n",
      "\u001b[32m[I 2023-04-15 08:52:39,444]\u001b[0m Trial 67 finished with value: -0.10309367450061055 and parameters: {'n_estimators': 137, 'learning_rate': 0.1795888630755284, 'max_depth': 24}. Best is trial 24 with value: 0.16022579399499812.\u001b[0m\n",
      "\u001b[32m[I 2023-04-15 08:52:39,740]\u001b[0m Trial 68 finished with value: -0.10114570398587996 and parameters: {'n_estimators': 188, 'learning_rate': 0.10137739174471602, 'max_depth': 23}. Best is trial 24 with value: 0.16022579399499812.\u001b[0m\n",
      "\u001b[32m[I 2023-04-15 08:52:39,841]\u001b[0m Trial 69 finished with value: 0.05647503885404868 and parameters: {'n_estimators': 44, 'learning_rate': 0.04600849207604419, 'max_depth': 9}. Best is trial 24 with value: 0.16022579399499812.\u001b[0m\n",
      "\u001b[32m[I 2023-04-15 08:52:40,158]\u001b[0m Trial 70 finished with value: -0.10312840331255484 and parameters: {'n_estimators': 372, 'learning_rate': 0.1418829693417228, 'max_depth': 25}. Best is trial 24 with value: 0.16022579399499812.\u001b[0m\n",
      "\u001b[32m[I 2023-04-15 08:52:40,215]\u001b[0m Trial 71 finished with value: 0.08656364036315478 and parameters: {'n_estimators': 10, 'learning_rate': 0.06797796163059946, 'max_depth': 17}. Best is trial 24 with value: 0.16022579399499812.\u001b[0m\n",
      "\u001b[32m[I 2023-04-15 08:52:40,449]\u001b[0m Trial 72 finished with value: -0.10225945048343499 and parameters: {'n_estimators': 77, 'learning_rate': 0.08955607594431247, 'max_depth': 20}. Best is trial 24 with value: 0.16022579399499812.\u001b[0m\n",
      "\u001b[32m[I 2023-04-15 08:52:40,626]\u001b[0m Trial 73 finished with value: -0.028638217623796147 and parameters: {'n_estimators': 113, 'learning_rate': 0.12369878745933102, 'max_depth': 7}. Best is trial 24 with value: 0.16022579399499812.\u001b[0m\n",
      "\u001b[32m[I 2023-04-15 08:52:40,740]\u001b[0m Trial 74 finished with value: 0.004511557451547165 and parameters: {'n_estimators': 40, 'learning_rate': 0.05218184891644586, 'max_depth': 11}. Best is trial 24 with value: 0.16022579399499812.\u001b[0m\n",
      "\u001b[32m[I 2023-04-15 08:52:40,926]\u001b[0m Trial 75 finished with value: -0.10434144261466842 and parameters: {'n_estimators': 78, 'learning_rate': 0.17248250020980516, 'max_depth': 15}. Best is trial 24 with value: 0.16022579399499812.\u001b[0m\n",
      "\u001b[32m[I 2023-04-15 08:52:41,248]\u001b[0m Trial 76 finished with value: -0.09860475893675384 and parameters: {'n_estimators': 145, 'learning_rate': 0.07617877773108672, 'max_depth': 13}. Best is trial 24 with value: 0.16022579399499812.\u001b[0m\n",
      "\u001b[32m[I 2023-04-15 08:52:41,307]\u001b[0m Trial 77 finished with value: 0.028846532115625136 and parameters: {'n_estimators': 12, 'learning_rate': 0.123866460170195, 'max_depth': 19}. Best is trial 24 with value: 0.16022579399499812.\u001b[0m\n",
      "\u001b[32m[I 2023-04-15 08:52:41,426]\u001b[0m Trial 78 finished with value: 0.05540492253342144 and parameters: {'n_estimators': 58, 'learning_rate': 0.03724598486751028, 'max_depth': 8}. Best is trial 24 with value: 0.16022579399499812.\u001b[0m\n",
      "\u001b[32m[I 2023-04-15 08:52:41,599]\u001b[0m Trial 79 finished with value: -0.10011802609864937 and parameters: {'n_estimators': 86, 'learning_rate': 0.2028231917994881, 'max_depth': 28}. Best is trial 24 with value: 0.16022579399499812.\u001b[0m\n",
      "\u001b[32m[I 2023-04-15 08:52:41,740]\u001b[0m Trial 80 finished with value: 0.015946913444157017 and parameters: {'n_estimators': 123, 'learning_rate': 0.07838134655533846, 'max_depth': 5}. Best is trial 24 with value: 0.16022579399499812.\u001b[0m\n",
      "\u001b[32m[I 2023-04-15 08:52:41,837]\u001b[0m Trial 81 finished with value: 0.0860463244738238 and parameters: {'n_estimators': 11, 'learning_rate': 0.06198969692063222, 'max_depth': 16}. Best is trial 24 with value: 0.16022579399499812.\u001b[0m\n",
      "\u001b[32m[I 2023-04-15 08:52:41,963]\u001b[0m Trial 82 finished with value: 0.06572011951854144 and parameters: {'n_estimators': 33, 'learning_rate': 0.03338764859149186, 'max_depth': 17}. Best is trial 24 with value: 0.16022579399499812.\u001b[0m\n",
      "\u001b[32m[I 2023-04-15 08:52:42,088]\u001b[0m Trial 83 finished with value: -0.0646393390478299 and parameters: {'n_estimators': 35, 'learning_rate': 0.09375227943891763, 'max_depth': 17}. Best is trial 24 with value: 0.16022579399499812.\u001b[0m\n",
      "\u001b[32m[I 2023-04-15 08:52:42,225]\u001b[0m Trial 84 finished with value: -0.015155850893094947 and parameters: {'n_estimators': 53, 'learning_rate': 0.0628611981036854, 'max_depth': 10}. Best is trial 24 with value: 0.16022579399499812.\u001b[0m\n",
      "\u001b[32m[I 2023-04-15 08:52:42,294]\u001b[0m Trial 85 finished with value: 0.03996138506669324 and parameters: {'n_estimators': 11, 'learning_rate': 0.12346589048752586, 'max_depth': 19}. Best is trial 24 with value: 0.16022579399499812.\u001b[0m\n",
      "\u001b[32m[I 2023-04-15 08:52:42,445]\u001b[0m Trial 86 finished with value: 0.0883968437704743 and parameters: {'n_estimators': 66, 'learning_rate': 0.010284548948850343, 'max_depth': 21}. Best is trial 24 with value: 0.16022579399499812.\u001b[0m\n",
      "\u001b[32m[I 2023-04-15 08:52:42,611]\u001b[0m Trial 87 finished with value: 0.08157962532719994 and parameters: {'n_estimators': 66, 'learning_rate': 0.012816092710007889, 'max_depth': 21}. Best is trial 24 with value: 0.16022579399499812.\u001b[0m\n",
      "\u001b[32m[I 2023-04-15 08:52:42,844]\u001b[0m Trial 88 finished with value: -0.09480754487871015 and parameters: {'n_estimators': 99, 'learning_rate': 0.16121422044749664, 'max_depth': 23}. Best is trial 24 with value: 0.16022579399499812.\u001b[0m\n",
      "\u001b[32m[I 2023-04-15 08:52:43,355]\u001b[0m Trial 89 finished with value: -0.09979207586964696 and parameters: {'n_estimators': 166, 'learning_rate': 0.033536159115134856, 'max_depth': 22}. Best is trial 24 with value: 0.16022579399499812.\u001b[0m\n",
      "\u001b[32m[I 2023-04-15 08:52:43,662]\u001b[0m Trial 90 finished with value: -0.08516704654443527 and parameters: {'n_estimators': 118, 'learning_rate': 0.09131712701386897, 'max_depth': 12}. Best is trial 24 with value: 0.16022579399499812.\u001b[0m\n",
      "\u001b[32m[I 2023-04-15 08:52:43,765]\u001b[0m Trial 91 finished with value: -0.01920161472835207 and parameters: {'n_estimators': 38, 'learning_rate': 0.05569822837047096, 'max_depth': 20}. Best is trial 24 with value: 0.16022579399499812.\u001b[0m\n",
      "\u001b[32m[I 2023-04-15 08:52:43,968]\u001b[0m Trial 92 finished with value: -0.10236897571867969 and parameters: {'n_estimators': 68, 'learning_rate': 0.07228620446266806, 'max_depth': 18}. Best is trial 24 with value: 0.16022579399499812.\u001b[0m\n",
      "\u001b[32m[I 2023-04-15 08:52:44,074]\u001b[0m Trial 93 finished with value: 0.090249427406816 and parameters: {'n_estimators': 31, 'learning_rate': 0.027260273877690516, 'max_depth': 14}. Best is trial 24 with value: 0.16022579399499812.\u001b[0m\n",
      "\u001b[32m[I 2023-04-15 08:52:44,171]\u001b[0m Trial 94 finished with value: 0.09487198569648454 and parameters: {'n_estimators': 31, 'learning_rate': 0.02194692580286934, 'max_depth': 14}. Best is trial 24 with value: 0.16022579399499812.\u001b[0m\n",
      "\u001b[32m[I 2023-04-15 08:52:44,382]\u001b[0m Trial 95 finished with value: -0.02398272109861064 and parameters: {'n_estimators': 95, 'learning_rate': 0.025181596103148404, 'max_depth': 14}. Best is trial 24 with value: 0.16022579399499812.\u001b[0m\n",
      "\u001b[32m[I 2023-04-15 08:52:44,475]\u001b[0m Trial 96 finished with value: 0.09469495047193861 and parameters: {'n_estimators': 34, 'learning_rate': 0.01101727324138082, 'max_depth': 9}. Best is trial 24 with value: 0.16022579399499812.\u001b[0m\n",
      "\u001b[32m[I 2023-04-15 08:52:45,300]\u001b[0m Trial 97 finished with value: -0.05158920895082157 and parameters: {'n_estimators': 575, 'learning_rate': 0.03276811077693989, 'max_depth': 9}. Best is trial 24 with value: 0.16022579399499812.\u001b[0m\n",
      "\u001b[32m[I 2023-04-15 08:52:45,396]\u001b[0m Trial 98 finished with value: -0.03495650403253816 and parameters: {'n_estimators': 34, 'learning_rate': 0.10962273918778462, 'max_depth': 11}. Best is trial 24 with value: 0.16022579399499812.\u001b[0m\n",
      "\u001b[32m[I 2023-04-15 08:52:46,137]\u001b[0m Trial 99 finished with value: -0.052077172472675584 and parameters: {'n_estimators': 927, 'learning_rate': 0.0567884179310575, 'max_depth': 8}. Best is trial 24 with value: 0.16022579399499812.\u001b[0m\n",
      "\u001b[32m[I 2023-04-15 08:52:46,235]\u001b[0m Trial 100 finished with value: -0.010765890031452651 and parameters: {'n_estimators': 31, 'learning_rate': 0.13159175759462877, 'max_depth': 10}. Best is trial 24 with value: 0.16022579399499812.\u001b[0m\n",
      "\u001b[32m[I 2023-04-15 08:52:46,370]\u001b[0m Trial 101 finished with value: 0.10485903101733578 and parameters: {'n_estimators': 62, 'learning_rate': 0.020678055930525997, 'max_depth': 9}. Best is trial 24 with value: 0.16022579399499812.\u001b[0m\n",
      "\u001b[32m[I 2023-04-15 08:52:47,030]\u001b[0m Trial 102 finished with value: -0.0668960089651982 and parameters: {'n_estimators': 531, 'learning_rate': 0.04938870427745435, 'max_depth': 7}. Best is trial 24 with value: 0.16022579399499812.\u001b[0m\n",
      "\u001b[32m[I 2023-04-15 08:52:47,252]\u001b[0m Trial 103 finished with value: 0.04231616666136788 and parameters: {'n_estimators': 90, 'learning_rate': 0.02630295412550146, 'max_depth': 9}. Best is trial 24 with value: 0.16022579399499812.\u001b[0m\n",
      "\u001b[32m[I 2023-04-15 08:52:47,403]\u001b[0m Trial 104 finished with value: 0.10316868896636473 and parameters: {'n_estimators': 56, 'learning_rate': 0.010061916569509902, 'max_depth': 10}. Best is trial 24 with value: 0.16022579399499812.\u001b[0m\n",
      "\u001b[32m[I 2023-04-15 08:52:47,567]\u001b[0m Trial 105 finished with value: 0.10476002421956139 and parameters: {'n_estimators': 57, 'learning_rate': 0.013469456338359297, 'max_depth': 10}. Best is trial 24 with value: 0.16022579399499812.\u001b[0m\n",
      "\u001b[32m[I 2023-04-15 08:52:47,703]\u001b[0m Trial 106 finished with value: -0.021982817681469435 and parameters: {'n_estimators': 51, 'learning_rate': 0.08192733964300444, 'max_depth': 10}. Best is trial 24 with value: 0.16022579399499812.\u001b[0m\n",
      "\u001b[32m[I 2023-04-15 08:52:47,968]\u001b[0m Trial 107 finished with value: 0.03126358186101892 and parameters: {'n_estimators': 135, 'learning_rate': 0.012281100249917742, 'max_depth': 11}. Best is trial 24 with value: 0.16022579399499812.\u001b[0m\n",
      "\u001b[32m[I 2023-04-15 08:52:48,179]\u001b[0m Trial 108 finished with value: -0.035650965316515924 and parameters: {'n_estimators': 114, 'learning_rate': 0.10347696879034413, 'max_depth': 9}. Best is trial 24 with value: 0.16022579399499812.\u001b[0m\n",
      "\u001b[32m[I 2023-04-15 08:52:48,308]\u001b[0m Trial 109 finished with value: 0.06028557195795807 and parameters: {'n_estimators': 82, 'learning_rate': 0.04823044818940174, 'max_depth': 6}. Best is trial 24 with value: 0.16022579399499812.\u001b[0m\n",
      "\u001b[32m[I 2023-04-15 08:52:48,443]\u001b[0m Trial 110 finished with value: 0.06999172314797937 and parameters: {'n_estimators': 64, 'learning_rate': 0.02975580002378417, 'max_depth': 8}. Best is trial 24 with value: 0.16022579399499812.\u001b[0m\n",
      "\u001b[32m[I 2023-04-15 08:52:48,538]\u001b[0m Trial 111 finished with value: 0.07008631114613362 and parameters: {'n_estimators': 27, 'learning_rate': 0.010641453025404155, 'max_depth': 11}. Best is trial 24 with value: 0.16022579399499812.\u001b[0m\n",
      "\u001b[32m[I 2023-04-15 08:52:48,675]\u001b[0m Trial 112 finished with value: 0.00827286279573356 and parameters: {'n_estimators': 51, 'learning_rate': 0.03874916408583494, 'max_depth': 12}. Best is trial 24 with value: 0.16022579399499812.\u001b[0m\n",
      "\u001b[32m[I 2023-04-15 08:52:48,782]\u001b[0m Trial 113 finished with value: 0.011808566834737766 and parameters: {'n_estimators': 32, 'learning_rate': 0.08632024390969018, 'max_depth': 10}. Best is trial 24 with value: 0.16022579399499812.\u001b[0m\n",
      "\u001b[32m[I 2023-04-15 08:52:49,033]\u001b[0m Trial 114 finished with value: -0.08210880985294014 and parameters: {'n_estimators': 100, 'learning_rate': 0.06960140236608076, 'max_depth': 13}. Best is trial 24 with value: 0.16022579399499812.\u001b[0m\n",
      "\u001b[32m[I 2023-04-15 08:52:49,305]\u001b[0m Trial 115 finished with value: -0.043497884967069946 and parameters: {'n_estimators': 149, 'learning_rate': 0.04931864014531559, 'max_depth': 9}. Best is trial 24 with value: 0.16022579399499812.\u001b[0m\n",
      "\u001b[32m[I 2023-04-15 08:52:49,428]\u001b[0m Trial 116 finished with value: 0.10779522617372188 and parameters: {'n_estimators': 71, 'learning_rate': 0.02860813683130898, 'max_depth': 7}. Best is trial 24 with value: 0.16022579399499812.\u001b[0m\n",
      "\u001b[32m[I 2023-04-15 08:52:49,880]\u001b[0m Trial 117 finished with value: -0.06271378709107522 and parameters: {'n_estimators': 641, 'learning_rate': 0.10754510781991039, 'max_depth': 7}. Best is trial 24 with value: 0.16022579399499812.\u001b[0m\n",
      "\u001b[32m[I 2023-04-15 08:52:50,028]\u001b[0m Trial 118 finished with value: -0.03892233321502443 and parameters: {'n_estimators': 66, 'learning_rate': 0.06512430074412913, 'max_depth': 10}. Best is trial 24 with value: 0.16022579399499812.\u001b[0m\n",
      "\u001b[32m[I 2023-04-15 08:52:50,170]\u001b[0m Trial 119 finished with value: 0.009168942032000804 and parameters: {'n_estimators': 75, 'learning_rate': 0.08977428222195952, 'max_depth': 6}. Best is trial 24 with value: 0.16022579399499812.\u001b[0m\n",
      "\u001b[32m[I 2023-04-15 08:52:50,501]\u001b[0m Trial 120 finished with value: 0.0004004294862418378 and parameters: {'n_estimators': 192, 'learning_rate': 0.03023457142553839, 'max_depth': 7}. Best is trial 24 with value: 0.16022579399499812.\u001b[0m\n",
      "\u001b[32m[I 2023-04-15 08:52:50,605]\u001b[0m Trial 121 finished with value: 0.09486300633093452 and parameters: {'n_estimators': 29, 'learning_rate': 0.029717400704551606, 'max_depth': 11}. Best is trial 24 with value: 0.16022579399499812.\u001b[0m\n",
      "\u001b[32m[I 2023-04-15 08:52:50,765]\u001b[0m Trial 122 finished with value: -0.023443039940366738 and parameters: {'n_estimators': 52, 'learning_rate': 0.04720953001753553, 'max_depth': 11}. Best is trial 24 with value: 0.16022579399499812.\u001b[0m\n",
      "\u001b[32m[I 2023-04-15 08:52:50,967]\u001b[0m Trial 123 finished with value: 0.04037834788529175 and parameters: {'n_estimators': 90, 'learning_rate': 0.026676932872662734, 'max_depth': 9}. Best is trial 24 with value: 0.16022579399499812.\u001b[0m\n",
      "\u001b[32m[I 2023-04-15 08:52:51,069]\u001b[0m Trial 124 finished with value: 0.018032568245084545 and parameters: {'n_estimators': 27, 'learning_rate': 0.0727950288728007, 'max_depth': 12}. Best is trial 24 with value: 0.16022579399499812.\u001b[0m\n",
      "\u001b[32m[I 2023-04-15 08:52:51,202]\u001b[0m Trial 125 finished with value: 0.1321007892852925 and parameters: {'n_estimators': 51, 'learning_rate': 0.011890274480869113, 'max_depth': 8}. Best is trial 24 with value: 0.16022579399499812.\u001b[0m\n",
      "\u001b[32m[I 2023-04-15 08:52:52,449]\u001b[0m Trial 126 finished with value: -0.06105429402906999 and parameters: {'n_estimators': 820, 'learning_rate': 0.015396245535754083, 'max_depth': 8}. Best is trial 24 with value: 0.16022579399499812.\u001b[0m\n",
      "\u001b[32m[I 2023-04-15 08:52:52,554]\u001b[0m Trial 127 finished with value: 0.1289203657358143 and parameters: {'n_estimators': 55, 'learning_rate': 0.05648859546499743, 'max_depth': 5}. Best is trial 24 with value: 0.16022579399499812.\u001b[0m\n",
      "\u001b[32m[I 2023-04-15 08:52:52,707]\u001b[0m Trial 128 finished with value: 0.06639192619169373 and parameters: {'n_estimators': 118, 'learning_rate': 0.050512907135127, 'max_depth': 5}. Best is trial 24 with value: 0.16022579399499812.\u001b[0m\n",
      "\u001b[32m[I 2023-04-15 08:52:52,804]\u001b[0m Trial 129 finished with value: 0.13396129057305015 and parameters: {'n_estimators': 53, 'learning_rate': 0.01043859830291135, 'max_depth': 5}. Best is trial 24 with value: 0.16022579399499812.\u001b[0m\n",
      "\u001b[32m[I 2023-04-15 08:52:52,912]\u001b[0m Trial 130 finished with value: 0.07532210638772878 and parameters: {'n_estimators': 56, 'learning_rate': 0.11722643300494452, 'max_depth': 5}. Best is trial 24 with value: 0.16022579399499812.\u001b[0m\n",
      "\u001b[32m[I 2023-04-15 08:52:53,087]\u001b[0m Trial 131 finished with value: 0.15137480924616573 and parameters: {'n_estimators': 82, 'learning_rate': 0.010013818276863755, 'max_depth': 6}. Best is trial 24 with value: 0.16022579399499812.\u001b[0m\n",
      "\u001b[32m[I 2023-04-15 08:52:53,265]\u001b[0m Trial 132 finished with value: 0.07716310547722391 and parameters: {'n_estimators': 82, 'learning_rate': 0.03922596709061624, 'max_depth': 6}. Best is trial 24 with value: 0.16022579399499812.\u001b[0m\n",
      "\u001b[32m[I 2023-04-15 08:52:53,443]\u001b[0m Trial 133 finished with value: 0.15798602780889148 and parameters: {'n_estimators': 103, 'learning_rate': 0.010384952389728086, 'max_depth': 5}. Best is trial 24 with value: 0.16022579399499812.\u001b[0m\n",
      "\u001b[32m[I 2023-04-15 08:52:53,622]\u001b[0m Trial 134 finished with value: 0.07218887058935337 and parameters: {'n_estimators': 106, 'learning_rate': 0.05718189822044952, 'max_depth': 5}. Best is trial 24 with value: 0.16022579399499812.\u001b[0m\n",
      "\u001b[32m[I 2023-04-15 08:52:53,861]\u001b[0m Trial 135 finished with value: 0.00028495678726669915 and parameters: {'n_estimators': 137, 'learning_rate': 0.06591643751071688, 'max_depth': 6}. Best is trial 24 with value: 0.16022579399499812.\u001b[0m\n",
      "\u001b[32m[I 2023-04-15 08:52:53,997]\u001b[0m Trial 136 finished with value: 0.14396328917762075 and parameters: {'n_estimators': 65, 'learning_rate': 0.010116014836556764, 'max_depth': 5}. Best is trial 24 with value: 0.16022579399499812.\u001b[0m\n",
      "\u001b[32m[I 2023-04-15 08:52:54,143]\u001b[0m Trial 137 finished with value: 0.15368810318848133 and parameters: {'n_estimators': 78, 'learning_rate': 0.010652056502453239, 'max_depth': 5}. Best is trial 24 with value: 0.16022579399499812.\u001b[0m\n",
      "\u001b[32m[I 2023-04-15 08:52:54,380]\u001b[0m Trial 138 finished with value: 0.06936688231208792 and parameters: {'n_estimators': 152, 'learning_rate': 0.041723872681686466, 'max_depth': 5}. Best is trial 24 with value: 0.16022579399499812.\u001b[0m\n",
      "\u001b[32m[I 2023-04-15 08:52:54,592]\u001b[0m Trial 139 finished with value: 0.16018410729734617 and parameters: {'n_estimators': 114, 'learning_rate': 0.012355124133404002, 'max_depth': 5}. Best is trial 24 with value: 0.16022579399499812.\u001b[0m\n",
      "\u001b[32m[I 2023-04-15 08:52:54,800]\u001b[0m Trial 140 finished with value: 0.14215873443950194 and parameters: {'n_estimators': 112, 'learning_rate': 0.012504681055235138, 'max_depth': 6}. Best is trial 24 with value: 0.16022579399499812.\u001b[0m\n",
      "\u001b[32m[I 2023-04-15 08:52:55,099]\u001b[0m Trial 141 finished with value: 0.12453143119107153 and parameters: {'n_estimators': 169, 'learning_rate': 0.012181185117406797, 'max_depth': 6}. Best is trial 24 with value: 0.16022579399499812.\u001b[0m\n",
      "\u001b[32m[I 2023-04-15 08:52:55,428]\u001b[0m Trial 142 finished with value: 0.1034897741328413 and parameters: {'n_estimators': 166, 'learning_rate': 0.011937476586462069, 'max_depth': 7}. Best is trial 24 with value: 0.16022579399499812.\u001b[0m\n",
      "\u001b[32m[I 2023-04-15 08:52:55,878]\u001b[0m Trial 143 finished with value: -0.015308953385866797 and parameters: {'n_estimators': 317, 'learning_rate': 0.04061412700101845, 'max_depth': 6}. Best is trial 24 with value: 0.16022579399499812.\u001b[0m\n",
      "\u001b[32m[I 2023-04-15 08:52:56,054]\u001b[0m Trial 144 finished with value: 0.004043809337407045 and parameters: {'n_estimators': 124, 'learning_rate': 0.08853063262586153, 'max_depth': 5}. Best is trial 24 with value: 0.16022579399499812.\u001b[0m\n",
      "\u001b[32m[I 2023-04-15 08:52:56,242]\u001b[0m Trial 145 finished with value: 0.020826766811367924 and parameters: {'n_estimators': 103, 'learning_rate': 0.05894809549531828, 'max_depth': 6}. Best is trial 24 with value: 0.16022579399499812.\u001b[0m\n",
      "\u001b[32m[I 2023-04-15 08:52:56,495]\u001b[0m Trial 146 finished with value: 0.0745376762756587 and parameters: {'n_estimators': 176, 'learning_rate': 0.02924226134788633, 'max_depth': 5}. Best is trial 24 with value: 0.16022579399499812.\u001b[0m\n",
      "\u001b[32m[I 2023-04-15 08:52:56,840]\u001b[0m Trial 147 finished with value: -0.0607498082446396 and parameters: {'n_estimators': 236, 'learning_rate': 0.07152607203394588, 'max_depth': 6}. Best is trial 24 with value: 0.16022579399499812.\u001b[0m\n",
      "\u001b[32m[I 2023-04-15 08:52:56,994]\u001b[0m Trial 148 finished with value: 0.083674977783598 and parameters: {'n_estimators': 77, 'learning_rate': 0.031435039090991074, 'max_depth': 7}. Best is trial 24 with value: 0.16022579399499812.\u001b[0m\n",
      "\u001b[32m[I 2023-04-15 08:52:57,174]\u001b[0m Trial 149 finished with value: 0.1619441359880836 and parameters: {'n_estimators': 119, 'learning_rate': 0.010748655291254502, 'max_depth': 5}. Best is trial 149 with value: 0.1619441359880836.\u001b[0m\n",
      "\u001b[32m[I 2023-04-15 08:52:57,457]\u001b[0m Trial 150 finished with value: 0.14202833072324356 and parameters: {'n_estimators': 203, 'learning_rate': 0.010347186891071876, 'max_depth': 5}. Best is trial 149 with value: 0.1619441359880836.\u001b[0m\n",
      "\u001b[32m[I 2023-04-15 08:52:57,731]\u001b[0m Trial 151 finished with value: 0.13928228149532332 and parameters: {'n_estimators': 208, 'learning_rate': 0.0102647993416385, 'max_depth': 5}. Best is trial 149 with value: 0.1619441359880836.\u001b[0m\n",
      "\u001b[32m[I 2023-04-15 08:52:58,038]\u001b[0m Trial 152 finished with value: -0.008735701732590574 and parameters: {'n_estimators': 251, 'learning_rate': 0.04761260944377275, 'max_depth': 5}. Best is trial 149 with value: 0.1619441359880836.\u001b[0m\n",
      "\u001b[32m[I 2023-04-15 08:52:58,299]\u001b[0m Trial 153 finished with value: -0.025578420066236784 and parameters: {'n_estimators': 210, 'learning_rate': 0.051655586607979795, 'max_depth': 6}. Best is trial 149 with value: 0.1619441359880836.\u001b[0m\n",
      "\u001b[32m[I 2023-04-15 08:52:58,591]\u001b[0m Trial 154 finished with value: 0.11435872085335042 and parameters: {'n_estimators': 293, 'learning_rate': 0.010429445633447925, 'max_depth': 5}. Best is trial 149 with value: 0.1619441359880836.\u001b[0m\n",
      "\u001b[32m[I 2023-04-15 08:52:58,810]\u001b[0m Trial 155 finished with value: -0.0019675056186382323 and parameters: {'n_estimators': 184, 'learning_rate': 0.07192362421515738, 'max_depth': 5}. Best is trial 149 with value: 0.1619441359880836.\u001b[0m\n",
      "\u001b[32m[I 2023-04-15 08:52:59,168]\u001b[0m Trial 156 finished with value: -0.004144888219271126 and parameters: {'n_estimators': 300, 'learning_rate': 0.04157187705321843, 'max_depth': 5}. Best is trial 149 with value: 0.1619441359880836.\u001b[0m\n",
      "\u001b[32m[I 2023-04-15 08:52:59,622]\u001b[0m Trial 157 finished with value: 0.06361481626653853 and parameters: {'n_estimators': 273, 'learning_rate': 0.012955393130863722, 'max_depth': 6}. Best is trial 149 with value: 0.1619441359880836.\u001b[0m\n",
      "\u001b[32m[I 2023-04-15 08:52:59,837]\u001b[0m Trial 158 finished with value: -0.2192992560373618 and parameters: {'n_estimators': 159, 'learning_rate': 0.4779153422765935, 'max_depth': 5}. Best is trial 149 with value: 0.1619441359880836.\u001b[0m\n",
      "\u001b[32m[I 2023-04-15 08:53:00,162]\u001b[0m Trial 159 finished with value: -0.12396314923867438 and parameters: {'n_estimators': 203, 'learning_rate': 0.27730793311822755, 'max_depth': 5}. Best is trial 149 with value: 0.1619441359880836.\u001b[0m\n",
      "\u001b[32m[I 2023-04-15 08:53:00,697]\u001b[0m Trial 160 finished with value: 0.057113670037346534 and parameters: {'n_estimators': 356, 'learning_rate': 0.010684371117843237, 'max_depth': 6}. Best is trial 149 with value: 0.1619441359880836.\u001b[0m\n",
      "\u001b[32m[I 2023-04-15 08:53:00,936]\u001b[0m Trial 161 finished with value: 0.04568835381869789 and parameters: {'n_estimators': 130, 'learning_rate': 0.03455983521350672, 'max_depth': 6}. Best is trial 149 with value: 0.1619441359880836.\u001b[0m\n",
      "\u001b[32m[I 2023-04-15 08:53:01,155]\u001b[0m Trial 162 finished with value: 0.055826671003404084 and parameters: {'n_estimators': 142, 'learning_rate': 0.03039376561207041, 'max_depth': 6}. Best is trial 149 with value: 0.1619441359880836.\u001b[0m\n",
      "\u001b[32m[I 2023-04-15 08:53:01,353]\u001b[0m Trial 163 finished with value: 0.008657263204219223 and parameters: {'n_estimators': 101, 'learning_rate': 0.05499955906139475, 'max_depth': 7}. Best is trial 149 with value: 0.1619441359880836.\u001b[0m\n",
      "\u001b[32m[I 2023-04-15 08:53:01,666]\u001b[0m Trial 164 finished with value: -0.04163451399887763 and parameters: {'n_estimators': 236, 'learning_rate': 0.09678965827920197, 'max_depth': 5}. Best is trial 149 with value: 0.1619441359880836.\u001b[0m\n",
      "\u001b[32m[I 2023-04-15 08:53:01,915]\u001b[0m Trial 165 finished with value: 0.13914251833856114 and parameters: {'n_estimators': 125, 'learning_rate': 0.010366070122987209, 'max_depth': 7}. Best is trial 149 with value: 0.1619441359880836.\u001b[0m\n",
      "\u001b[32m[I 2023-04-15 08:53:02,157]\u001b[0m Trial 166 finished with value: 0.129530914099463 and parameters: {'n_estimators': 172, 'learning_rate': 0.014143469000673488, 'max_depth': 5}. Best is trial 149 with value: 0.1619441359880836.\u001b[0m\n",
      "\u001b[32m[I 2023-04-15 08:53:02,385]\u001b[0m Trial 167 finished with value: -0.08217762681174774 and parameters: {'n_estimators': 173, 'learning_rate': 0.33079755950340556, 'max_depth': 6}. Best is trial 149 with value: 0.1619441359880836.\u001b[0m\n",
      "\u001b[32m[I 2023-04-15 08:53:02,562]\u001b[0m Trial 168 finished with value: 0.011011061576189252 and parameters: {'n_estimators': 119, 'learning_rate': 0.07697284458764338, 'max_depth': 5}. Best is trial 149 with value: 0.1619441359880836.\u001b[0m\n",
      "\u001b[32m[I 2023-04-15 08:53:02,838]\u001b[0m Trial 169 finished with value: 0.1258614581611752 and parameters: {'n_estimators': 154, 'learning_rate': 0.010828977870823075, 'max_depth': 7}. Best is trial 149 with value: 0.1619441359880836.\u001b[0m\n",
      "\u001b[32m[I 2023-04-15 08:53:03,018]\u001b[0m Trial 170 finished with value: -0.14475149004879018 and parameters: {'n_estimators': 152, 'learning_rate': 0.3956921380395416, 'max_depth': 7}. Best is trial 149 with value: 0.1619441359880836.\u001b[0m\n",
      "\u001b[32m[I 2023-04-15 08:53:03,311]\u001b[0m Trial 171 finished with value: 0.04294244474800961 and parameters: {'n_estimators': 194, 'learning_rate': 0.031088404058463533, 'max_depth': 6}. Best is trial 149 with value: 0.1619441359880836.\u001b[0m\n",
      "\u001b[32m[I 2023-04-15 08:53:03,502]\u001b[0m Trial 172 finished with value: 0.07020228656079375 and parameters: {'n_estimators': 132, 'learning_rate': 0.04970048743831497, 'max_depth': 5}. Best is trial 149 with value: 0.1619441359880836.\u001b[0m\n",
      "\u001b[32m[I 2023-04-15 08:53:03,865]\u001b[0m Trial 173 finished with value: 0.02132698211316353 and parameters: {'n_estimators': 216, 'learning_rate': 0.023968684123331335, 'max_depth': 7}. Best is trial 149 with value: 0.1619441359880836.\u001b[0m\n",
      "\u001b[32m[I 2023-04-15 08:53:04,036]\u001b[0m Trial 174 finished with value: 0.15308258103013234 and parameters: {'n_estimators': 89, 'learning_rate': 0.012044045781418369, 'max_depth': 6}. Best is trial 149 with value: 0.1619441359880836.\u001b[0m\n",
      "\u001b[32m[I 2023-04-15 08:53:04,186]\u001b[0m Trial 175 finished with value: 0.09974310888104185 and parameters: {'n_estimators': 86, 'learning_rate': 0.04611191780318758, 'max_depth': 5}. Best is trial 149 with value: 0.1619441359880836.\u001b[0m\n",
      "\u001b[32m[I 2023-04-15 08:53:04,334]\u001b[0m Trial 176 finished with value: 0.158877233831681 and parameters: {'n_estimators': 98, 'learning_rate': 0.01072020508812785, 'max_depth': 5}. Best is trial 149 with value: 0.1619441359880836.\u001b[0m\n",
      "\u001b[32m[I 2023-04-15 08:53:04,472]\u001b[0m Trial 177 finished with value: 0.0599617134546321 and parameters: {'n_estimators': 100, 'learning_rate': 0.06292893934650962, 'max_depth': 5}. Best is trial 149 with value: 0.1619441359880836.\u001b[0m\n",
      "\u001b[32m[I 2023-04-15 08:53:04,614]\u001b[0m Trial 178 finished with value: 0.0873558797578999 and parameters: {'n_estimators': 115, 'learning_rate': 0.03621290764233818, 'max_depth': 5}. Best is trial 149 with value: 0.1619441359880836.\u001b[0m\n",
      "\u001b[32m[I 2023-04-15 08:53:04,751]\u001b[0m Trial 179 finished with value: 0.043353743586517425 and parameters: {'n_estimators': 86, 'learning_rate': 0.06338603800344358, 'max_depth': 6}. Best is trial 149 with value: 0.1619441359880836.\u001b[0m\n",
      "\u001b[32m[I 2023-04-15 08:53:04,903]\u001b[0m Trial 180 finished with value: -0.029668273667830113 and parameters: {'n_estimators': 109, 'learning_rate': 0.08640384834900554, 'max_depth': 6}. Best is trial 149 with value: 0.1619441359880836.\u001b[0m\n",
      "\u001b[32m[I 2023-04-15 08:53:05,327]\u001b[0m Trial 181 finished with value: 0.08475660840974575 and parameters: {'n_estimators': 459, 'learning_rate': 0.0101794418801876, 'max_depth': 5}. Best is trial 149 with value: 0.1619441359880836.\u001b[0m\n",
      "\u001b[32m[I 2023-04-15 08:53:05,531]\u001b[0m Trial 182 finished with value: 0.13495016707306867 and parameters: {'n_estimators': 141, 'learning_rate': 0.010094523545061015, 'max_depth': 7}. Best is trial 149 with value: 0.1619441359880836.\u001b[0m\n",
      "\u001b[32m[I 2023-04-15 08:53:05,685]\u001b[0m Trial 183 finished with value: 0.0982954224925846 and parameters: {'n_estimators': 132, 'learning_rate': 0.02920508833195795, 'max_depth': 5}. Best is trial 149 with value: 0.1619441359880836.\u001b[0m\n",
      "\u001b[32m[I 2023-04-15 08:53:05,825]\u001b[0m Trial 184 finished with value: -0.05638066347503849 and parameters: {'n_estimators': 89, 'learning_rate': 0.22382963763194763, 'max_depth': 6}. Best is trial 149 with value: 0.1619441359880836.\u001b[0m\n",
      "\u001b[32m[I 2023-04-15 08:53:05,942]\u001b[0m Trial 185 finished with value: 0.1521608375442059 and parameters: {'n_estimators': 72, 'learning_rate': 0.010790544818417123, 'max_depth': 6}. Best is trial 149 with value: 0.1619441359880836.\u001b[0m\n",
      "\u001b[32m[I 2023-04-15 08:53:06,142]\u001b[0m Trial 186 finished with value: 0.13711233824184202 and parameters: {'n_estimators': 124, 'learning_rate': 0.010473255949148792, 'max_depth': 7}. Best is trial 149 with value: 0.1619441359880836.\u001b[0m\n",
      "\u001b[32m[I 2023-04-15 08:53:06,329]\u001b[0m Trial 187 finished with value: -0.05959601814966251 and parameters: {'n_estimators': 111, 'learning_rate': 0.18778365243778372, 'max_depth': 8}. Best is trial 149 with value: 0.1619441359880836.\u001b[0m\n",
      "\u001b[32m[I 2023-04-15 08:53:06,474]\u001b[0m Trial 188 finished with value: 0.07716140937938168 and parameters: {'n_estimators': 76, 'learning_rate': 0.035127885972506684, 'max_depth': 7}. Best is trial 149 with value: 0.1619441359880836.\u001b[0m\n",
      "\u001b[32m[I 2023-04-15 08:53:06,597]\u001b[0m Trial 189 finished with value: -0.19752327832339406 and parameters: {'n_estimators': 128, 'learning_rate': 0.6176164792587544, 'max_depth': 8}. Best is trial 149 with value: 0.1619441359880836.\u001b[0m\n",
      "\u001b[32m[I 2023-04-15 08:53:06,739]\u001b[0m Trial 190 finished with value: -0.06103504181897228 and parameters: {'n_estimators': 95, 'learning_rate': 0.16502211596181712, 'max_depth': 6}. Best is trial 149 with value: 0.1619441359880836.\u001b[0m\n",
      "\u001b[32m[I 2023-04-15 08:53:06,935]\u001b[0m Trial 191 finished with value: 0.13523849329225446 and parameters: {'n_estimators': 155, 'learning_rate': 0.011668733225758704, 'max_depth': 6}. Best is trial 149 with value: 0.1619441359880836.\u001b[0m\n",
      "\u001b[32m[I 2023-04-15 08:53:07,065]\u001b[0m Trial 192 finished with value: 0.09254930329724556 and parameters: {'n_estimators': 70, 'learning_rate': 0.030373078914740642, 'max_depth': 7}. Best is trial 149 with value: 0.1619441359880836.\u001b[0m\n",
      "\u001b[32m[I 2023-04-15 08:53:07,261]\u001b[0m Trial 193 finished with value: 0.03999914456490872 and parameters: {'n_estimators': 142, 'learning_rate': 0.04360392321496131, 'max_depth': 6}. Best is trial 149 with value: 0.1619441359880836.\u001b[0m\n",
      "\u001b[32m[I 2023-04-15 08:53:07,441]\u001b[0m Trial 194 finished with value: 0.13044928140934922 and parameters: {'n_estimators': 112, 'learning_rate': 0.012842775029692157, 'max_depth': 7}. Best is trial 149 with value: 0.1619441359880836.\u001b[0m\n",
      "\u001b[32m[I 2023-04-15 08:53:07,543]\u001b[0m Trial 195 finished with value: 0.12964530787057701 and parameters: {'n_estimators': 45, 'learning_rate': 0.011412643970815421, 'max_depth': 6}. Best is trial 149 with value: 0.1619441359880836.\u001b[0m\n",
      "\u001b[32m[I 2023-04-15 08:53:07,704]\u001b[0m Trial 196 finished with value: 0.0709377147805201 and parameters: {'n_estimators': 94, 'learning_rate': 0.03151108748321916, 'max_depth': 7}. Best is trial 149 with value: 0.1619441359880836.\u001b[0m\n",
      "\u001b[32m[I 2023-04-15 08:53:07,899]\u001b[0m Trial 197 finished with value: 0.00405945699890653 and parameters: {'n_estimators': 145, 'learning_rate': 0.05289109492640107, 'max_depth': 6}. Best is trial 149 with value: 0.1619441359880836.\u001b[0m\n",
      "\u001b[32m[I 2023-04-15 08:53:08,010]\u001b[0m Trial 198 finished with value: 0.13569174471735626 and parameters: {'n_estimators': 71, 'learning_rate': 0.03027171232121855, 'max_depth': 5}. Best is trial 149 with value: 0.1619441359880836.\u001b[0m\n",
      "\u001b[32m[I 2023-04-15 08:53:08,139]\u001b[0m Trial 199 finished with value: 0.12406518696919851 and parameters: {'n_estimators': 75, 'learning_rate': 0.04112756982289329, 'max_depth': 5}. Best is trial 149 with value: 0.1619441359880836.\u001b[0m\n"
     ]
    }
   ],
   "source": [
    "def optuna_study(X_train, y_train):\n",
    "\n",
    "    def objective(trial):\n",
    "        n_estimators = trial.suggest_int('n_estimators', 10, 1000)\n",
    "        learning_rate = trial.suggest_float('learning_rate', 0.01, 1.0)\n",
    "        max_depth = trial.suggest_int('max_depth', 5, 30)\n",
    "        \n",
    "        rf = XGBRegressor(n_estimators=n_estimators,\n",
    "                        learning_rate=learning_rate,\n",
    "                        max_depth=max_depth)\n",
    "        \n",
    "        score = cross_val_score(rf, X_train, y_train, n_jobs=4, cv=5)\n",
    "        accuracy = score.mean()\n",
    "        return accuracy\n",
    "\n",
    "    study = optuna.create_study(direction='maximize')\n",
    "    study.optimize(objective, n_trials=200)\n",
    "    \n",
    "    return study.best_params\n",
    "\n",
    "# Study 1 (no ph + remove outlier + aggregate values, 100 trials): 0.1564147933997004\n",
    "# Study 2 (no preprocessing, 100 trials): 0.12094767907088448\n",
    "\n",
    "best_params = optuna_study(X_train, y_train)"
   ]
  },
  {
   "cell_type": "markdown",
   "id": "edd44c66",
   "metadata": {
    "papermill": {
     "duration": 0.00465,
     "end_time": "2023-04-09T00:37:48.542123",
     "exception": false,
     "start_time": "2023-04-09T00:37:48.537473",
     "status": "completed"
    },
    "tags": []
   },
   "source": [
    "# GridSearchCV"
   ]
  },
  {
   "cell_type": "code",
   "execution_count": 27,
   "id": "ca5adb34",
   "metadata": {
    "_kg_hide-output": true,
    "execution": {
     "iopub.execute_input": "2023-04-09T00:37:48.553843Z",
     "iopub.status.busy": "2023-04-09T00:37:48.553251Z",
     "iopub.status.idle": "2023-04-09T00:41:12.350827Z",
     "shell.execute_reply": "2023-04-09T00:41:12.349564Z"
    },
    "papermill": {
     "duration": 203.806911,
     "end_time": "2023-04-09T00:41:12.353917",
     "exception": false,
     "start_time": "2023-04-09T00:37:48.547006",
     "status": "completed"
    },
    "tags": []
   },
   "outputs": [
    {
     "data": {
      "text/plain": [
       "RangeIndex(start=0, stop=5, step=1)"
      ]
     },
     "metadata": {},
     "output_type": "display_data"
    }
   ],
   "source": [
    "display(X_train.columns)\n",
    "\n",
    "# model = XGBRegressor(n_estimators=best_n_estimators, max_depth=best_max_depth, \n",
    "#                      learning_rate=best_learning_rate, n_jobs=4)\n",
    "\n",
    "def grid_search_cv(X_train, y_train):\n",
    "\n",
    "    model = XGBRegressor(random_state=69)\n",
    "    to_search = {'n_estimators': [100, 500, 1000],\n",
    "                'max_depth': [2, 6, 10], \n",
    "                'learning_rate': [0.01, 0.05, 0.1]}\n",
    "\n",
    "    GS = GridSearchCV(estimator=model,\n",
    "                            param_grid=to_search,\n",
    "                            scoring=[\"r2\", \"neg_root_mean_squared_error\"],\n",
    "                            refit=\"r2\",\n",
    "                            cv=5,\n",
    "                            verbose=False)\n",
    "\n",
    "    GS.fit(X_train, y_train)\n",
    "\n",
    "    return GS.best_params_\n",
    "\n",
    "# best_params = grid_search_cv(X, y)\n",
    "\n",
    "# display(best_params)"
   ]
  },
  {
   "attachments": {},
   "cell_type": "markdown",
   "id": "18eb3605",
   "metadata": {},
   "source": [
    "# Model Accuracy"
   ]
  },
  {
   "cell_type": "code",
   "execution_count": null,
   "id": "68901ac5",
   "metadata": {},
   "outputs": [],
   "source": [
    "def model_accuracy(model, X_valid, y_valid):\n",
    "    score = cross_val_score()"
   ]
  },
  {
   "cell_type": "markdown",
   "id": "a92342f1",
   "metadata": {
    "papermill": {
     "duration": 0.004738,
     "end_time": "2023-04-09T00:41:12.363834",
     "exception": false,
     "start_time": "2023-04-09T00:41:12.359096",
     "status": "completed"
    },
    "tags": []
   },
   "source": [
    "# Submission"
   ]
  },
  {
   "cell_type": "code",
   "execution_count": 28,
   "id": "d7bf9561",
   "metadata": {
    "execution": {
     "iopub.execute_input": "2023-04-09T00:41:12.376066Z",
     "iopub.status.busy": "2023-04-09T00:41:12.375635Z",
     "iopub.status.idle": "2023-04-09T00:41:12.641258Z",
     "shell.execute_reply": "2023-04-09T00:41:12.640270Z"
    },
    "papermill": {
     "duration": 0.274782,
     "end_time": "2023-04-09T00:41:12.643800",
     "exception": false,
     "start_time": "2023-04-09T00:41:12.369018",
     "status": "completed"
    },
    "tags": []
   },
   "outputs": [
    {
     "data": {
      "text/html": [
       "<div>\n",
       "<style scoped>\n",
       "    .dataframe tbody tr th:only-of-type {\n",
       "        vertical-align: middle;\n",
       "    }\n",
       "\n",
       "    .dataframe tbody tr th {\n",
       "        vertical-align: top;\n",
       "    }\n",
       "\n",
       "    .dataframe thead th {\n",
       "        text-align: right;\n",
       "    }\n",
       "</style>\n",
       "<table border=\"1\" class=\"dataframe\">\n",
       "  <thead>\n",
       "    <tr style=\"text-align: right;\">\n",
       "      <th></th>\n",
       "      <th>id</th>\n",
       "      <th>target</th>\n",
       "    </tr>\n",
       "  </thead>\n",
       "  <tbody>\n",
       "    <tr>\n",
       "      <th>0</th>\n",
       "      <td>414</td>\n",
       "      <td>0.199863</td>\n",
       "    </tr>\n",
       "    <tr>\n",
       "      <th>1</th>\n",
       "      <td>415</td>\n",
       "      <td>0.560994</td>\n",
       "    </tr>\n",
       "    <tr>\n",
       "      <th>2</th>\n",
       "      <td>416</td>\n",
       "      <td>0.557380</td>\n",
       "    </tr>\n",
       "    <tr>\n",
       "      <th>3</th>\n",
       "      <td>417</td>\n",
       "      <td>0.504529</td>\n",
       "    </tr>\n",
       "    <tr>\n",
       "      <th>4</th>\n",
       "      <td>418</td>\n",
       "      <td>0.418669</td>\n",
       "    </tr>\n",
       "  </tbody>\n",
       "</table>\n",
       "</div>"
      ],
      "text/plain": [
       "    id    target\n",
       "0  414  0.199863\n",
       "1  415  0.560994\n",
       "2  416  0.557380\n",
       "3  417  0.504529\n",
       "4  418  0.418669"
      ]
     },
     "metadata": {},
     "output_type": "display_data"
    },
    {
     "name": "stdout",
     "output_type": "stream",
     "text": [
      "Successful\n"
     ]
    }
   ],
   "source": [
    "final_model = XGBRegressor(\n",
    "    n_estimators = best_params['n_estimators'], \n",
    "    max_depth = best_params['max_depth'], \n",
    "    learning_rate = best_params['learning_rate'],\n",
    "    n_jobs=4)\n",
    "\n",
    "final_model.fit(X, y)\n",
    "predictions = final_model.predict(no_id_test_data)\n",
    "\n",
    "submission = pd.DataFrame({'id': test_data.id, 'target': predictions})\n",
    "\n",
    "display(submission.head())\n",
    "\n",
    "submission.to_csv('submission3.csv', index=False)\n",
    "\n",
    "print('Successful')"
   ]
  }
 ],
 "metadata": {
  "kernelspec": {
   "display_name": "Python 3",
   "language": "python",
   "name": "python3"
  },
  "language_info": {
   "codemirror_mode": {
    "name": "ipython",
    "version": 3
   },
   "file_extension": ".py",
   "mimetype": "text/x-python",
   "name": "python",
   "nbconvert_exporter": "python",
   "pygments_lexer": "ipython3",
   "version": "3.11.3"
  },
  "papermill": {
   "default_parameters": {},
   "duration": 219.706329,
   "end_time": "2023-04-09T00:41:13.474455",
   "environment_variables": {},
   "exception": null,
   "input_path": "__notebook__.ipynb",
   "output_path": "__notebook__.ipynb",
   "parameters": {},
   "start_time": "2023-04-09T00:37:33.768126",
   "version": "2.4.0"
  }
 },
 "nbformat": 4,
 "nbformat_minor": 5
}
