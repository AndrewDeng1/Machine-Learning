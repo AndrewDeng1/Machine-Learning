{
 "cells": [
  {
   "cell_type": "markdown",
   "id": "725d64a1",
   "metadata": {
    "papermill": {
     "duration": 0.005448,
     "end_time": "2023-03-09T22:13:11.112052",
     "exception": false,
     "start_time": "2023-03-09T22:13:11.106604",
     "status": "completed"
    },
    "tags": []
   },
   "source": [
    "# Import Libraries"
   ]
  },
  {
   "cell_type": "code",
   "execution_count": 1,
   "id": "bfd93b94",
   "metadata": {
    "_cell_guid": "b1076dfc-b9ad-4769-8c92-a6c4dae69d19",
    "_kg_hide-input": true,
    "_uuid": "8f2839f25d086af736a60e9eeb907d3b93b6e0e5",
    "execution": {
     "iopub.execute_input": "2023-03-09T22:13:11.123338Z",
     "iopub.status.busy": "2023-03-09T22:13:11.122828Z",
     "iopub.status.idle": "2023-03-09T22:13:11.139867Z",
     "shell.execute_reply": "2023-03-09T22:13:11.138515Z"
    },
    "papermill": {
     "duration": 0.02561,
     "end_time": "2023-03-09T22:13:11.142388",
     "exception": false,
     "start_time": "2023-03-09T22:13:11.116778",
     "status": "completed"
    },
    "tags": []
   },
   "outputs": [
    {
     "name": "stdout",
     "output_type": "stream",
     "text": [
      "/kaggle/input/playground-series-s3e8/sample_submission.csv\n",
      "/kaggle/input/playground-series-s3e8/train.csv\n",
      "/kaggle/input/playground-series-s3e8/test.csv\n"
     ]
    }
   ],
   "source": [
    "# This Python 3 environment comes with many helpful analytics libraries installed\n",
    "# It is defined by the kaggle/python Docker image: https://github.com/kaggle/docker-python\n",
    "# For example, here's several helpful packages to load\n",
    "\n",
    "import numpy as np # linear algebra\n",
    "import pandas as pd # data processing, CSV file I/O (e.g. pd.read_csv)\n",
    "\n",
    "# Input data files are available in the read-only \"../input/\" directory\n",
    "# For example, running this (by clicking run or pressing Shift+Enter) will list all files under the input directory\n",
    "\n",
    "import os\n",
    "for dirname, _, filenames in os.walk('/kaggle/input'):\n",
    "    for filename in filenames:\n",
    "        print(os.path.join(dirname, filename))\n",
    "\n",
    "# You can write up to 20GB to the current directory (/kaggle/working/) that gets preserved as output when you create a version using \"Save & Run All\" \n",
    "# You can also write temporary files to /kaggle/temp/, but they won't be saved outside of the current session"
   ]
  },
  {
   "cell_type": "code",
   "execution_count": 2,
   "id": "0c8a38de",
   "metadata": {
    "_kg_hide-input": true,
    "execution": {
     "iopub.execute_input": "2023-03-09T22:13:11.154126Z",
     "iopub.status.busy": "2023-03-09T22:13:11.153753Z",
     "iopub.status.idle": "2023-03-09T22:13:12.731884Z",
     "shell.execute_reply": "2023-03-09T22:13:12.729933Z"
    },
    "papermill": {
     "duration": 1.587353,
     "end_time": "2023-03-09T22:13:12.734747",
     "exception": false,
     "start_time": "2023-03-09T22:13:11.147394",
     "status": "completed"
    },
    "tags": []
   },
   "outputs": [],
   "source": [
    "from sklearn.model_selection import train_test_split\n",
    "from sklearn.ensemble import RandomForestRegressor\n",
    "from sklearn.metrics import mean_absolute_error"
   ]
  },
  {
   "cell_type": "markdown",
   "id": "fd3a8b24",
   "metadata": {
    "papermill": {
     "duration": 0.005012,
     "end_time": "2023-03-09T22:13:12.744921",
     "exception": false,
     "start_time": "2023-03-09T22:13:12.739909",
     "status": "completed"
    },
    "tags": []
   },
   "source": [
    "# Training and Test Data"
   ]
  },
  {
   "cell_type": "code",
   "execution_count": 3,
   "id": "5ce1e5c0",
   "metadata": {
    "_kg_hide-input": true,
    "execution": {
     "iopub.execute_input": "2023-03-09T22:13:12.757585Z",
     "iopub.status.busy": "2023-03-09T22:13:12.756084Z",
     "iopub.status.idle": "2023-03-09T22:13:13.311088Z",
     "shell.execute_reply": "2023-03-09T22:13:13.310287Z"
    },
    "papermill": {
     "duration": 0.563177,
     "end_time": "2023-03-09T22:13:13.313163",
     "exception": false,
     "start_time": "2023-03-09T22:13:12.749986",
     "status": "completed"
    },
    "tags": []
   },
   "outputs": [
    {
     "data": {
      "text/html": [
       "<div>\n",
       "<style scoped>\n",
       "    .dataframe tbody tr th:only-of-type {\n",
       "        vertical-align: middle;\n",
       "    }\n",
       "\n",
       "    .dataframe tbody tr th {\n",
       "        vertical-align: top;\n",
       "    }\n",
       "\n",
       "    .dataframe thead th {\n",
       "        text-align: right;\n",
       "    }\n",
       "</style>\n",
       "<table border=\"1\" class=\"dataframe\">\n",
       "  <thead>\n",
       "    <tr style=\"text-align: right;\">\n",
       "      <th></th>\n",
       "      <th>id</th>\n",
       "      <th>carat</th>\n",
       "      <th>cut</th>\n",
       "      <th>color</th>\n",
       "      <th>clarity</th>\n",
       "      <th>depth</th>\n",
       "      <th>table</th>\n",
       "      <th>x</th>\n",
       "      <th>y</th>\n",
       "      <th>z</th>\n",
       "      <th>price</th>\n",
       "    </tr>\n",
       "  </thead>\n",
       "  <tbody>\n",
       "    <tr>\n",
       "      <th>0</th>\n",
       "      <td>0</td>\n",
       "      <td>1.52</td>\n",
       "      <td>Premium</td>\n",
       "      <td>F</td>\n",
       "      <td>VS2</td>\n",
       "      <td>62.2</td>\n",
       "      <td>58.0</td>\n",
       "      <td>7.27</td>\n",
       "      <td>7.33</td>\n",
       "      <td>4.55</td>\n",
       "      <td>13619</td>\n",
       "    </tr>\n",
       "    <tr>\n",
       "      <th>1</th>\n",
       "      <td>1</td>\n",
       "      <td>2.03</td>\n",
       "      <td>Very Good</td>\n",
       "      <td>J</td>\n",
       "      <td>SI2</td>\n",
       "      <td>62.0</td>\n",
       "      <td>58.0</td>\n",
       "      <td>8.06</td>\n",
       "      <td>8.12</td>\n",
       "      <td>5.05</td>\n",
       "      <td>13387</td>\n",
       "    </tr>\n",
       "    <tr>\n",
       "      <th>2</th>\n",
       "      <td>2</td>\n",
       "      <td>0.70</td>\n",
       "      <td>Ideal</td>\n",
       "      <td>G</td>\n",
       "      <td>VS1</td>\n",
       "      <td>61.2</td>\n",
       "      <td>57.0</td>\n",
       "      <td>5.69</td>\n",
       "      <td>5.73</td>\n",
       "      <td>3.50</td>\n",
       "      <td>2772</td>\n",
       "    </tr>\n",
       "    <tr>\n",
       "      <th>3</th>\n",
       "      <td>3</td>\n",
       "      <td>0.32</td>\n",
       "      <td>Ideal</td>\n",
       "      <td>G</td>\n",
       "      <td>VS1</td>\n",
       "      <td>61.6</td>\n",
       "      <td>56.0</td>\n",
       "      <td>4.38</td>\n",
       "      <td>4.41</td>\n",
       "      <td>2.71</td>\n",
       "      <td>666</td>\n",
       "    </tr>\n",
       "    <tr>\n",
       "      <th>4</th>\n",
       "      <td>4</td>\n",
       "      <td>1.70</td>\n",
       "      <td>Premium</td>\n",
       "      <td>G</td>\n",
       "      <td>VS2</td>\n",
       "      <td>62.6</td>\n",
       "      <td>59.0</td>\n",
       "      <td>7.65</td>\n",
       "      <td>7.61</td>\n",
       "      <td>4.77</td>\n",
       "      <td>14453</td>\n",
       "    </tr>\n",
       "  </tbody>\n",
       "</table>\n",
       "</div>"
      ],
      "text/plain": [
       "   id  carat        cut color clarity  depth  table     x     y     z  price\n",
       "0   0   1.52    Premium     F     VS2   62.2   58.0  7.27  7.33  4.55  13619\n",
       "1   1   2.03  Very Good     J     SI2   62.0   58.0  8.06  8.12  5.05  13387\n",
       "2   2   0.70      Ideal     G     VS1   61.2   57.0  5.69  5.73  3.50   2772\n",
       "3   3   0.32      Ideal     G     VS1   61.6   56.0  4.38  4.41  2.71    666\n",
       "4   4   1.70    Premium     G     VS2   62.6   59.0  7.65  7.61  4.77  14453"
      ]
     },
     "metadata": {},
     "output_type": "display_data"
    },
    {
     "data": {
      "text/html": [
       "<div>\n",
       "<style scoped>\n",
       "    .dataframe tbody tr th:only-of-type {\n",
       "        vertical-align: middle;\n",
       "    }\n",
       "\n",
       "    .dataframe tbody tr th {\n",
       "        vertical-align: top;\n",
       "    }\n",
       "\n",
       "    .dataframe thead th {\n",
       "        text-align: right;\n",
       "    }\n",
       "</style>\n",
       "<table border=\"1\" class=\"dataframe\">\n",
       "  <thead>\n",
       "    <tr style=\"text-align: right;\">\n",
       "      <th></th>\n",
       "      <th>id</th>\n",
       "      <th>carat</th>\n",
       "      <th>cut</th>\n",
       "      <th>color</th>\n",
       "      <th>clarity</th>\n",
       "      <th>depth</th>\n",
       "      <th>table</th>\n",
       "      <th>x</th>\n",
       "      <th>y</th>\n",
       "      <th>z</th>\n",
       "    </tr>\n",
       "  </thead>\n",
       "  <tbody>\n",
       "    <tr>\n",
       "      <th>0</th>\n",
       "      <td>193573</td>\n",
       "      <td>0.35</td>\n",
       "      <td>Ideal</td>\n",
       "      <td>D</td>\n",
       "      <td>VS2</td>\n",
       "      <td>62.3</td>\n",
       "      <td>56.0</td>\n",
       "      <td>4.51</td>\n",
       "      <td>4.54</td>\n",
       "      <td>2.82</td>\n",
       "    </tr>\n",
       "    <tr>\n",
       "      <th>1</th>\n",
       "      <td>193574</td>\n",
       "      <td>0.77</td>\n",
       "      <td>Very Good</td>\n",
       "      <td>F</td>\n",
       "      <td>SI2</td>\n",
       "      <td>62.8</td>\n",
       "      <td>56.0</td>\n",
       "      <td>5.83</td>\n",
       "      <td>5.87</td>\n",
       "      <td>3.68</td>\n",
       "    </tr>\n",
       "    <tr>\n",
       "      <th>2</th>\n",
       "      <td>193575</td>\n",
       "      <td>0.71</td>\n",
       "      <td>Ideal</td>\n",
       "      <td>I</td>\n",
       "      <td>VS2</td>\n",
       "      <td>61.9</td>\n",
       "      <td>53.0</td>\n",
       "      <td>5.77</td>\n",
       "      <td>5.74</td>\n",
       "      <td>3.55</td>\n",
       "    </tr>\n",
       "    <tr>\n",
       "      <th>3</th>\n",
       "      <td>193576</td>\n",
       "      <td>0.33</td>\n",
       "      <td>Ideal</td>\n",
       "      <td>G</td>\n",
       "      <td>VVS2</td>\n",
       "      <td>61.6</td>\n",
       "      <td>55.0</td>\n",
       "      <td>4.44</td>\n",
       "      <td>4.42</td>\n",
       "      <td>2.73</td>\n",
       "    </tr>\n",
       "    <tr>\n",
       "      <th>4</th>\n",
       "      <td>193577</td>\n",
       "      <td>1.20</td>\n",
       "      <td>Very Good</td>\n",
       "      <td>I</td>\n",
       "      <td>VS2</td>\n",
       "      <td>62.7</td>\n",
       "      <td>56.0</td>\n",
       "      <td>6.75</td>\n",
       "      <td>6.79</td>\n",
       "      <td>4.24</td>\n",
       "    </tr>\n",
       "  </tbody>\n",
       "</table>\n",
       "</div>"
      ],
      "text/plain": [
       "       id  carat        cut color clarity  depth  table     x     y     z\n",
       "0  193573   0.35      Ideal     D     VS2   62.3   56.0  4.51  4.54  2.82\n",
       "1  193574   0.77  Very Good     F     SI2   62.8   56.0  5.83  5.87  3.68\n",
       "2  193575   0.71      Ideal     I     VS2   61.9   53.0  5.77  5.74  3.55\n",
       "3  193576   0.33      Ideal     G    VVS2   61.6   55.0  4.44  4.42  2.73\n",
       "4  193577   1.20  Very Good     I     VS2   62.7   56.0  6.75  6.79  4.24"
      ]
     },
     "metadata": {},
     "output_type": "display_data"
    },
    {
     "data": {
      "text/html": [
       "<div>\n",
       "<style scoped>\n",
       "    .dataframe tbody tr th:only-of-type {\n",
       "        vertical-align: middle;\n",
       "    }\n",
       "\n",
       "    .dataframe tbody tr th {\n",
       "        vertical-align: top;\n",
       "    }\n",
       "\n",
       "    .dataframe thead th {\n",
       "        text-align: right;\n",
       "    }\n",
       "</style>\n",
       "<table border=\"1\" class=\"dataframe\">\n",
       "  <thead>\n",
       "    <tr style=\"text-align: right;\">\n",
       "      <th></th>\n",
       "      <th>id</th>\n",
       "      <th>price</th>\n",
       "    </tr>\n",
       "  </thead>\n",
       "  <tbody>\n",
       "    <tr>\n",
       "      <th>0</th>\n",
       "      <td>193573</td>\n",
       "      <td>3969.155</td>\n",
       "    </tr>\n",
       "    <tr>\n",
       "      <th>1</th>\n",
       "      <td>193574</td>\n",
       "      <td>3969.155</td>\n",
       "    </tr>\n",
       "    <tr>\n",
       "      <th>2</th>\n",
       "      <td>193575</td>\n",
       "      <td>3969.155</td>\n",
       "    </tr>\n",
       "    <tr>\n",
       "      <th>3</th>\n",
       "      <td>193576</td>\n",
       "      <td>3969.155</td>\n",
       "    </tr>\n",
       "    <tr>\n",
       "      <th>4</th>\n",
       "      <td>193577</td>\n",
       "      <td>3969.155</td>\n",
       "    </tr>\n",
       "  </tbody>\n",
       "</table>\n",
       "</div>"
      ],
      "text/plain": [
       "       id     price\n",
       "0  193573  3969.155\n",
       "1  193574  3969.155\n",
       "2  193575  3969.155\n",
       "3  193576  3969.155\n",
       "4  193577  3969.155"
      ]
     },
     "metadata": {},
     "output_type": "display_data"
    }
   ],
   "source": [
    "train_data = pd.read_csv(\"/kaggle/input/playground-series-s3e8/train.csv\")\n",
    "test_data = pd.read_csv(\"/kaggle/input/playground-series-s3e8/test.csv\")\n",
    "sample_submission = pd.read_csv(\"/kaggle/input/playground-series-s3e8/sample_submission.csv\")\n",
    "\n",
    "display(train_data.head())\n",
    "display(test_data.head())\n",
    "display(sample_submission.head())"
   ]
  },
  {
   "cell_type": "markdown",
   "id": "648776e8",
   "metadata": {
    "papermill": {
     "duration": 0.005157,
     "end_time": "2023-03-09T22:13:13.323882",
     "exception": false,
     "start_time": "2023-03-09T22:13:13.318725",
     "status": "completed"
    },
    "tags": []
   },
   "source": [
    "# Missing Data"
   ]
  },
  {
   "cell_type": "code",
   "execution_count": 4,
   "id": "7daff6a4",
   "metadata": {
    "execution": {
     "iopub.execute_input": "2023-03-09T22:13:13.337103Z",
     "iopub.status.busy": "2023-03-09T22:13:13.336072Z",
     "iopub.status.idle": "2023-03-09T22:13:13.387090Z",
     "shell.execute_reply": "2023-03-09T22:13:13.385505Z"
    },
    "papermill": {
     "duration": 0.060759,
     "end_time": "2023-03-09T22:13:13.389881",
     "exception": false,
     "start_time": "2023-03-09T22:13:13.329122",
     "status": "completed"
    },
    "tags": []
   },
   "outputs": [
    {
     "name": "stdout",
     "output_type": "stream",
     "text": [
      "train_data has this many null cells: 0\n",
      "test_data has this many null cells: 0\n"
     ]
    }
   ],
   "source": [
    "print(f\"train_data has this many null cells: {train_data.isnull().sum().sum()}\")\n",
    "print(f\"test_data has this many null cells: {test_data.isnull().sum().sum()}\")"
   ]
  },
  {
   "cell_type": "markdown",
   "id": "6f5540d6",
   "metadata": {
    "papermill": {
     "duration": 0.005468,
     "end_time": "2023-03-09T22:13:13.401010",
     "exception": false,
     "start_time": "2023-03-09T22:13:13.395542",
     "status": "completed"
    },
    "tags": []
   },
   "source": [
    "# Create Training Data"
   ]
  },
  {
   "cell_type": "code",
   "execution_count": 5,
   "id": "cdea38e3",
   "metadata": {
    "execution": {
     "iopub.execute_input": "2023-03-09T22:13:13.414348Z",
     "iopub.status.busy": "2023-03-09T22:13:13.413900Z",
     "iopub.status.idle": "2023-03-09T22:13:13.423624Z",
     "shell.execute_reply": "2023-03-09T22:13:13.422019Z"
    },
    "papermill": {
     "duration": 0.020128,
     "end_time": "2023-03-09T22:13:13.426781",
     "exception": false,
     "start_time": "2023-03-09T22:13:13.406653",
     "status": "completed"
    },
    "tags": []
   },
   "outputs": [],
   "source": [
    "X = train_data\n",
    "y = train_data.price"
   ]
  },
  {
   "cell_type": "markdown",
   "id": "215fd131",
   "metadata": {
    "papermill": {
     "duration": 0.005122,
     "end_time": "2023-03-09T22:13:13.437298",
     "exception": false,
     "start_time": "2023-03-09T22:13:13.432176",
     "status": "completed"
    },
    "tags": []
   },
   "source": [
    "# Preprocess Data"
   ]
  },
  {
   "cell_type": "code",
   "execution_count": 6,
   "id": "ef57ebd5",
   "metadata": {
    "execution": {
     "iopub.execute_input": "2023-03-09T22:13:13.450035Z",
     "iopub.status.busy": "2023-03-09T22:13:13.449546Z",
     "iopub.status.idle": "2023-03-09T22:13:13.762118Z",
     "shell.execute_reply": "2023-03-09T22:13:13.760373Z"
    },
    "papermill": {
     "duration": 0.322627,
     "end_time": "2023-03-09T22:13:13.765183",
     "exception": false,
     "start_time": "2023-03-09T22:13:13.442556",
     "status": "completed"
    },
    "tags": []
   },
   "outputs": [
    {
     "data": {
      "text/html": [
       "<div>\n",
       "<style scoped>\n",
       "    .dataframe tbody tr th:only-of-type {\n",
       "        vertical-align: middle;\n",
       "    }\n",
       "\n",
       "    .dataframe tbody tr th {\n",
       "        vertical-align: top;\n",
       "    }\n",
       "\n",
       "    .dataframe thead th {\n",
       "        text-align: right;\n",
       "    }\n",
       "</style>\n",
       "<table border=\"1\" class=\"dataframe\">\n",
       "  <thead>\n",
       "    <tr style=\"text-align: right;\">\n",
       "      <th></th>\n",
       "      <th>carat</th>\n",
       "      <th>cut</th>\n",
       "      <th>color</th>\n",
       "      <th>clarity</th>\n",
       "      <th>depth</th>\n",
       "      <th>table</th>\n",
       "      <th>x</th>\n",
       "      <th>y</th>\n",
       "      <th>z</th>\n",
       "    </tr>\n",
       "  </thead>\n",
       "  <tbody>\n",
       "    <tr>\n",
       "      <th>0</th>\n",
       "      <td>1.52</td>\n",
       "      <td>3</td>\n",
       "      <td>4</td>\n",
       "      <td>5</td>\n",
       "      <td>62.2</td>\n",
       "      <td>58.0</td>\n",
       "      <td>7.27</td>\n",
       "      <td>7.33</td>\n",
       "      <td>4.55</td>\n",
       "    </tr>\n",
       "    <tr>\n",
       "      <th>1</th>\n",
       "      <td>2.03</td>\n",
       "      <td>2</td>\n",
       "      <td>0</td>\n",
       "      <td>3</td>\n",
       "      <td>62.0</td>\n",
       "      <td>58.0</td>\n",
       "      <td>8.06</td>\n",
       "      <td>8.12</td>\n",
       "      <td>5.05</td>\n",
       "    </tr>\n",
       "    <tr>\n",
       "      <th>2</th>\n",
       "      <td>0.70</td>\n",
       "      <td>4</td>\n",
       "      <td>3</td>\n",
       "      <td>6</td>\n",
       "      <td>61.2</td>\n",
       "      <td>57.0</td>\n",
       "      <td>5.69</td>\n",
       "      <td>5.73</td>\n",
       "      <td>3.50</td>\n",
       "    </tr>\n",
       "    <tr>\n",
       "      <th>3</th>\n",
       "      <td>0.32</td>\n",
       "      <td>4</td>\n",
       "      <td>3</td>\n",
       "      <td>6</td>\n",
       "      <td>61.6</td>\n",
       "      <td>56.0</td>\n",
       "      <td>4.38</td>\n",
       "      <td>4.41</td>\n",
       "      <td>2.71</td>\n",
       "    </tr>\n",
       "    <tr>\n",
       "      <th>4</th>\n",
       "      <td>1.70</td>\n",
       "      <td>3</td>\n",
       "      <td>3</td>\n",
       "      <td>5</td>\n",
       "      <td>62.6</td>\n",
       "      <td>59.0</td>\n",
       "      <td>7.65</td>\n",
       "      <td>7.61</td>\n",
       "      <td>4.77</td>\n",
       "    </tr>\n",
       "  </tbody>\n",
       "</table>\n",
       "</div>"
      ],
      "text/plain": [
       "   carat  cut  color  clarity  depth  table     x     y     z\n",
       "0   1.52    3      4        5   62.2   58.0  7.27  7.33  4.55\n",
       "1   2.03    2      0        3   62.0   58.0  8.06  8.12  5.05\n",
       "2   0.70    4      3        6   61.2   57.0  5.69  5.73  3.50\n",
       "3   0.32    4      3        6   61.6   56.0  4.38  4.41  2.71\n",
       "4   1.70    3      3        5   62.6   59.0  7.65  7.61  4.77"
      ]
     },
     "metadata": {},
     "output_type": "display_data"
    },
    {
     "data": {
      "text/html": [
       "<div>\n",
       "<style scoped>\n",
       "    .dataframe tbody tr th:only-of-type {\n",
       "        vertical-align: middle;\n",
       "    }\n",
       "\n",
       "    .dataframe tbody tr th {\n",
       "        vertical-align: top;\n",
       "    }\n",
       "\n",
       "    .dataframe thead th {\n",
       "        text-align: right;\n",
       "    }\n",
       "</style>\n",
       "<table border=\"1\" class=\"dataframe\">\n",
       "  <thead>\n",
       "    <tr style=\"text-align: right;\">\n",
       "      <th></th>\n",
       "      <th>carat</th>\n",
       "      <th>cut</th>\n",
       "      <th>color</th>\n",
       "      <th>clarity</th>\n",
       "      <th>depth</th>\n",
       "      <th>table</th>\n",
       "      <th>x</th>\n",
       "      <th>y</th>\n",
       "      <th>z</th>\n",
       "    </tr>\n",
       "  </thead>\n",
       "  <tbody>\n",
       "    <tr>\n",
       "      <th>0</th>\n",
       "      <td>1.52</td>\n",
       "      <td>3</td>\n",
       "      <td>4</td>\n",
       "      <td>5</td>\n",
       "      <td>62.2</td>\n",
       "      <td>58.0</td>\n",
       "      <td>7.27</td>\n",
       "      <td>7.33</td>\n",
       "      <td>4.55</td>\n",
       "    </tr>\n",
       "    <tr>\n",
       "      <th>1</th>\n",
       "      <td>2.03</td>\n",
       "      <td>2</td>\n",
       "      <td>0</td>\n",
       "      <td>3</td>\n",
       "      <td>62.0</td>\n",
       "      <td>58.0</td>\n",
       "      <td>8.06</td>\n",
       "      <td>8.12</td>\n",
       "      <td>5.05</td>\n",
       "    </tr>\n",
       "    <tr>\n",
       "      <th>2</th>\n",
       "      <td>0.70</td>\n",
       "      <td>4</td>\n",
       "      <td>3</td>\n",
       "      <td>6</td>\n",
       "      <td>61.2</td>\n",
       "      <td>57.0</td>\n",
       "      <td>5.69</td>\n",
       "      <td>5.73</td>\n",
       "      <td>3.50</td>\n",
       "    </tr>\n",
       "    <tr>\n",
       "      <th>3</th>\n",
       "      <td>0.32</td>\n",
       "      <td>4</td>\n",
       "      <td>3</td>\n",
       "      <td>6</td>\n",
       "      <td>61.6</td>\n",
       "      <td>56.0</td>\n",
       "      <td>4.38</td>\n",
       "      <td>4.41</td>\n",
       "      <td>2.71</td>\n",
       "    </tr>\n",
       "    <tr>\n",
       "      <th>4</th>\n",
       "      <td>1.70</td>\n",
       "      <td>3</td>\n",
       "      <td>3</td>\n",
       "      <td>5</td>\n",
       "      <td>62.6</td>\n",
       "      <td>59.0</td>\n",
       "      <td>7.65</td>\n",
       "      <td>7.61</td>\n",
       "      <td>4.77</td>\n",
       "    </tr>\n",
       "  </tbody>\n",
       "</table>\n",
       "</div>"
      ],
      "text/plain": [
       "   carat  cut  color  clarity  depth  table     x     y     z\n",
       "0   1.52    3      4        5   62.2   58.0  7.27  7.33  4.55\n",
       "1   2.03    2      0        3   62.0   58.0  8.06  8.12  5.05\n",
       "2   0.70    4      3        6   61.2   57.0  5.69  5.73  3.50\n",
       "3   0.32    4      3        6   61.6   56.0  4.38  4.41  2.71\n",
       "4   1.70    3      3        5   62.6   59.0  7.65  7.61  4.77"
      ]
     },
     "metadata": {},
     "output_type": "display_data"
    }
   ],
   "source": [
    "def preprocess(data):\n",
    "\n",
    "    \n",
    "    # Credit to Sujay Kapadnis\n",
    "    replacement = {'cut':{'Fair':0, 'Good':1, 'Very Good':2, 'Premium':3, \"Ideal\":4},\n",
    "                    'color':{'J':0,'I':1,'H':2, 'G':3, 'F':4, 'E':5, \"D\":6},\n",
    "                    'clarity':{'FL':10, 'IF':9, 'VVS1':8, 'VVS2':7, 'VS1':6, 'VS2':5, \n",
    "                    'SI1':4, 'SI2':3, 'I1':2, 'I2':1, 'I3':0}}\n",
    "    \n",
    "    if('id' in data.columns):\n",
    "        data.drop('id', axis=1, inplace=True)\n",
    "    if('price' in data.columns):\n",
    "        data.drop('price', axis=1, inplace=True)\n",
    "        \n",
    "    data=data.replace(replacement)\n",
    "    \n",
    "    display(data.head())\n",
    "    \n",
    "    return data\n",
    "\n",
    "\n",
    "X = preprocess(X)\n",
    "\n",
    "display(X.head())"
   ]
  },
  {
   "cell_type": "markdown",
   "id": "6ea6df3b",
   "metadata": {
    "papermill": {
     "duration": 0.006714,
     "end_time": "2023-03-09T22:13:13.778004",
     "exception": false,
     "start_time": "2023-03-09T22:13:13.771290",
     "status": "completed"
    },
    "tags": []
   },
   "source": [
    "# Split Data To Training Data "
   ]
  },
  {
   "cell_type": "code",
   "execution_count": 7,
   "id": "50c8cb8c",
   "metadata": {
    "execution": {
     "iopub.execute_input": "2023-03-09T22:13:13.791399Z",
     "iopub.status.busy": "2023-03-09T22:13:13.790984Z",
     "iopub.status.idle": "2023-03-09T22:13:13.825653Z",
     "shell.execute_reply": "2023-03-09T22:13:13.823771Z"
    },
    "papermill": {
     "duration": 0.04474,
     "end_time": "2023-03-09T22:13:13.828471",
     "exception": false,
     "start_time": "2023-03-09T22:13:13.783731",
     "status": "completed"
    },
    "tags": []
   },
   "outputs": [],
   "source": [
    "train_X, val_X, train_y, val_y = train_test_split(X, y)"
   ]
  },
  {
   "cell_type": "markdown",
   "id": "5b8c6851",
   "metadata": {
    "papermill": {
     "duration": 0.005175,
     "end_time": "2023-03-09T22:13:13.839322",
     "exception": false,
     "start_time": "2023-03-09T22:13:13.834147",
     "status": "completed"
    },
    "tags": []
   },
   "source": [
    "# Tune Model"
   ]
  },
  {
   "cell_type": "code",
   "execution_count": 8,
   "id": "d5d0532e",
   "metadata": {
    "execution": {
     "iopub.execute_input": "2023-03-09T22:13:13.852011Z",
     "iopub.status.busy": "2023-03-09T22:13:13.851626Z",
     "iopub.status.idle": "2023-03-09T22:15:38.127191Z",
     "shell.execute_reply": "2023-03-09T22:15:38.125734Z"
    },
    "papermill": {
     "duration": 144.290416,
     "end_time": "2023-03-09T22:15:38.135073",
     "exception": false,
     "start_time": "2023-03-09T22:13:13.844657",
     "status": "completed"
    },
    "tags": []
   },
   "outputs": [
    {
     "name": "stdout",
     "output_type": "stream",
     "text": [
      "(num_trees) 5 has accuracy 338.68823351773244\n",
      "(num_trees) 10 has accuracy 324.96823199747314\n",
      "(num_trees) 50 has accuracy 312.81902373277285\n",
      "(num_trees) 75 has accuracy 312.2063564105525\n",
      "(num_trees) 100 has accuracy 311.5301814860789\n",
      "Highest accurate: 311.5301814860789\n",
      "Optimal number of trees: 100\n"
     ]
    }
   ],
   "source": [
    "# Test different number of trees\n",
    "highest_accuracy=1000000000\n",
    "best_model=0\n",
    "optimal_num_trees=-1\n",
    "\n",
    "for num_trees in [5, 10, 50, 75, 100]:\n",
    "    model = RandomForestRegressor(n_estimators=num_trees, random_state=1)\n",
    "    model.fit(train_X, train_y)\n",
    "    predictions = model.predict(val_X)\n",
    "    mae = mean_absolute_error(val_y, predictions)\n",
    "    if(mae<highest_accuracy):\n",
    "        highest_accuracy=mae\n",
    "        optimal_num_trees=num_trees\n",
    "        best_model=model\n",
    "    print(f'(num_trees) {optimal_num_trees} has accuracy {mae}')\n",
    "\n",
    "\n",
    "\n",
    "# Test different max_leaf_nodes\n",
    "# optimal_leaf_nodes=-1\n",
    "\n",
    "# for max_leaf_nodes in [5, 10, 50, 75, 100]:\n",
    "#     model = RandomForestRegressor(n_estimators=optimal_num_trees, max_leaf_nodes=max_leaf_nodes, random_state=1)\n",
    "#     model.fit(train_X, train_y)\n",
    "#     predictions = model.predict(val_X)\n",
    "#     mae = mean_absolute_error(val_y, predictions)\n",
    "#     if(mae<highest_accuracy):\n",
    "#         highest_accuracy=mae\n",
    "#         optimal_leaf_nodes=max_leaf_nodes\n",
    "#         best_model=model\n",
    "#     print(f'(max leaf nodes) {max_leaf_nodes} has accuracy {mae}')\n",
    "\n",
    "\n",
    "print(f\"Highest accurate: {highest_accuracy}\")\n",
    "print(f\"Optimal number of trees: {optimal_num_trees}\")\n",
    "# print(f\"Optimal number of leaves: {optimal_leaf_nodes}\")"
   ]
  },
  {
   "cell_type": "markdown",
   "id": "8ed0d032",
   "metadata": {
    "papermill": {
     "duration": 0.005897,
     "end_time": "2023-03-09T22:15:38.148851",
     "exception": false,
     "start_time": "2023-03-09T22:15:38.142954",
     "status": "completed"
    },
    "tags": []
   },
   "source": [
    "# Create And Train Final Model"
   ]
  },
  {
   "cell_type": "code",
   "execution_count": 9,
   "id": "336b65c6",
   "metadata": {
    "execution": {
     "iopub.execute_input": "2023-03-09T22:15:38.163263Z",
     "iopub.status.busy": "2023-03-09T22:15:38.162895Z",
     "iopub.status.idle": "2023-03-09T22:16:57.701801Z",
     "shell.execute_reply": "2023-03-09T22:16:57.700080Z"
    },
    "papermill": {
     "duration": 79.553735,
     "end_time": "2023-03-09T22:16:57.708858",
     "exception": false,
     "start_time": "2023-03-09T22:15:38.155123",
     "status": "completed"
    },
    "tags": []
   },
   "outputs": [
    {
     "data": {
      "text/plain": [
       "RandomForestRegressor(random_state=1)"
      ]
     },
     "execution_count": 9,
     "metadata": {},
     "output_type": "execute_result"
    }
   ],
   "source": [
    "final_model = RandomForestRegressor(n_estimators=optimal_num_trees, random_state=1);\n",
    "final_model.fit(X, y)"
   ]
  },
  {
   "cell_type": "markdown",
   "id": "f0259a6c",
   "metadata": {
    "papermill": {
     "duration": 0.00582,
     "end_time": "2023-03-09T22:16:57.721000",
     "exception": false,
     "start_time": "2023-03-09T22:16:57.715180",
     "status": "completed"
    },
    "tags": []
   },
   "source": [
    "# Predictions"
   ]
  },
  {
   "cell_type": "code",
   "execution_count": 10,
   "id": "39cab891",
   "metadata": {
    "execution": {
     "iopub.execute_input": "2023-03-09T22:16:57.735631Z",
     "iopub.status.busy": "2023-03-09T22:16:57.735266Z",
     "iopub.status.idle": "2023-03-09T22:17:05.531038Z",
     "shell.execute_reply": "2023-03-09T22:17:05.529263Z"
    },
    "papermill": {
     "duration": 7.806716,
     "end_time": "2023-03-09T22:17:05.534141",
     "exception": false,
     "start_time": "2023-03-09T22:16:57.727425",
     "status": "completed"
    },
    "tags": []
   },
   "outputs": [
    {
     "data": {
      "text/html": [
       "<div>\n",
       "<style scoped>\n",
       "    .dataframe tbody tr th:only-of-type {\n",
       "        vertical-align: middle;\n",
       "    }\n",
       "\n",
       "    .dataframe tbody tr th {\n",
       "        vertical-align: top;\n",
       "    }\n",
       "\n",
       "    .dataframe thead th {\n",
       "        text-align: right;\n",
       "    }\n",
       "</style>\n",
       "<table border=\"1\" class=\"dataframe\">\n",
       "  <thead>\n",
       "    <tr style=\"text-align: right;\">\n",
       "      <th></th>\n",
       "      <th>carat</th>\n",
       "      <th>cut</th>\n",
       "      <th>color</th>\n",
       "      <th>clarity</th>\n",
       "      <th>depth</th>\n",
       "      <th>table</th>\n",
       "      <th>x</th>\n",
       "      <th>y</th>\n",
       "      <th>z</th>\n",
       "    </tr>\n",
       "  </thead>\n",
       "  <tbody>\n",
       "    <tr>\n",
       "      <th>0</th>\n",
       "      <td>0.35</td>\n",
       "      <td>4</td>\n",
       "      <td>6</td>\n",
       "      <td>5</td>\n",
       "      <td>62.3</td>\n",
       "      <td>56.0</td>\n",
       "      <td>4.51</td>\n",
       "      <td>4.54</td>\n",
       "      <td>2.82</td>\n",
       "    </tr>\n",
       "    <tr>\n",
       "      <th>1</th>\n",
       "      <td>0.77</td>\n",
       "      <td>2</td>\n",
       "      <td>4</td>\n",
       "      <td>3</td>\n",
       "      <td>62.8</td>\n",
       "      <td>56.0</td>\n",
       "      <td>5.83</td>\n",
       "      <td>5.87</td>\n",
       "      <td>3.68</td>\n",
       "    </tr>\n",
       "    <tr>\n",
       "      <th>2</th>\n",
       "      <td>0.71</td>\n",
       "      <td>4</td>\n",
       "      <td>1</td>\n",
       "      <td>5</td>\n",
       "      <td>61.9</td>\n",
       "      <td>53.0</td>\n",
       "      <td>5.77</td>\n",
       "      <td>5.74</td>\n",
       "      <td>3.55</td>\n",
       "    </tr>\n",
       "    <tr>\n",
       "      <th>3</th>\n",
       "      <td>0.33</td>\n",
       "      <td>4</td>\n",
       "      <td>3</td>\n",
       "      <td>7</td>\n",
       "      <td>61.6</td>\n",
       "      <td>55.0</td>\n",
       "      <td>4.44</td>\n",
       "      <td>4.42</td>\n",
       "      <td>2.73</td>\n",
       "    </tr>\n",
       "    <tr>\n",
       "      <th>4</th>\n",
       "      <td>1.20</td>\n",
       "      <td>2</td>\n",
       "      <td>1</td>\n",
       "      <td>5</td>\n",
       "      <td>62.7</td>\n",
       "      <td>56.0</td>\n",
       "      <td>6.75</td>\n",
       "      <td>6.79</td>\n",
       "      <td>4.24</td>\n",
       "    </tr>\n",
       "  </tbody>\n",
       "</table>\n",
       "</div>"
      ],
      "text/plain": [
       "   carat  cut  color  clarity  depth  table     x     y     z\n",
       "0   0.35    4      6        5   62.3   56.0  4.51  4.54  2.82\n",
       "1   0.77    2      4        3   62.8   56.0  5.83  5.87  3.68\n",
       "2   0.71    4      1        5   61.9   53.0  5.77  5.74  3.55\n",
       "3   0.33    4      3        7   61.6   55.0  4.44  4.42  2.73\n",
       "4   1.20    2      1        5   62.7   56.0  6.75  6.79  4.24"
      ]
     },
     "metadata": {},
     "output_type": "display_data"
    },
    {
     "data": {
      "text/html": [
       "<div>\n",
       "<style scoped>\n",
       "    .dataframe tbody tr th:only-of-type {\n",
       "        vertical-align: middle;\n",
       "    }\n",
       "\n",
       "    .dataframe tbody tr th {\n",
       "        vertical-align: top;\n",
       "    }\n",
       "\n",
       "    .dataframe thead th {\n",
       "        text-align: right;\n",
       "    }\n",
       "</style>\n",
       "<table border=\"1\" class=\"dataframe\">\n",
       "  <thead>\n",
       "    <tr style=\"text-align: right;\">\n",
       "      <th></th>\n",
       "      <th>id</th>\n",
       "      <th>carat</th>\n",
       "      <th>cut</th>\n",
       "      <th>color</th>\n",
       "      <th>clarity</th>\n",
       "      <th>depth</th>\n",
       "      <th>table</th>\n",
       "      <th>x</th>\n",
       "      <th>y</th>\n",
       "      <th>z</th>\n",
       "    </tr>\n",
       "  </thead>\n",
       "  <tbody>\n",
       "    <tr>\n",
       "      <th>0</th>\n",
       "      <td>193573</td>\n",
       "      <td>0.35</td>\n",
       "      <td>Ideal</td>\n",
       "      <td>D</td>\n",
       "      <td>VS2</td>\n",
       "      <td>62.3</td>\n",
       "      <td>56.0</td>\n",
       "      <td>4.51</td>\n",
       "      <td>4.54</td>\n",
       "      <td>2.82</td>\n",
       "    </tr>\n",
       "    <tr>\n",
       "      <th>1</th>\n",
       "      <td>193574</td>\n",
       "      <td>0.77</td>\n",
       "      <td>Very Good</td>\n",
       "      <td>F</td>\n",
       "      <td>SI2</td>\n",
       "      <td>62.8</td>\n",
       "      <td>56.0</td>\n",
       "      <td>5.83</td>\n",
       "      <td>5.87</td>\n",
       "      <td>3.68</td>\n",
       "    </tr>\n",
       "    <tr>\n",
       "      <th>2</th>\n",
       "      <td>193575</td>\n",
       "      <td>0.71</td>\n",
       "      <td>Ideal</td>\n",
       "      <td>I</td>\n",
       "      <td>VS2</td>\n",
       "      <td>61.9</td>\n",
       "      <td>53.0</td>\n",
       "      <td>5.77</td>\n",
       "      <td>5.74</td>\n",
       "      <td>3.55</td>\n",
       "    </tr>\n",
       "    <tr>\n",
       "      <th>3</th>\n",
       "      <td>193576</td>\n",
       "      <td>0.33</td>\n",
       "      <td>Ideal</td>\n",
       "      <td>G</td>\n",
       "      <td>VVS2</td>\n",
       "      <td>61.6</td>\n",
       "      <td>55.0</td>\n",
       "      <td>4.44</td>\n",
       "      <td>4.42</td>\n",
       "      <td>2.73</td>\n",
       "    </tr>\n",
       "    <tr>\n",
       "      <th>4</th>\n",
       "      <td>193577</td>\n",
       "      <td>1.20</td>\n",
       "      <td>Very Good</td>\n",
       "      <td>I</td>\n",
       "      <td>VS2</td>\n",
       "      <td>62.7</td>\n",
       "      <td>56.0</td>\n",
       "      <td>6.75</td>\n",
       "      <td>6.79</td>\n",
       "      <td>4.24</td>\n",
       "    </tr>\n",
       "  </tbody>\n",
       "</table>\n",
       "</div>"
      ],
      "text/plain": [
       "       id  carat        cut color clarity  depth  table     x     y     z\n",
       "0  193573   0.35      Ideal     D     VS2   62.3   56.0  4.51  4.54  2.82\n",
       "1  193574   0.77  Very Good     F     SI2   62.8   56.0  5.83  5.87  3.68\n",
       "2  193575   0.71      Ideal     I     VS2   61.9   53.0  5.77  5.74  3.55\n",
       "3  193576   0.33      Ideal     G    VVS2   61.6   55.0  4.44  4.42  2.73\n",
       "4  193577   1.20  Very Good     I     VS2   62.7   56.0  6.75  6.79  4.24"
      ]
     },
     "execution_count": 10,
     "metadata": {},
     "output_type": "execute_result"
    }
   ],
   "source": [
    "to_test = test_data.copy()\n",
    "to_test = preprocess(to_test)\n",
    "predictions = final_model.predict(to_test)\n",
    "\n",
    "to_test.head()\n",
    "test_data.head()"
   ]
  },
  {
   "cell_type": "markdown",
   "id": "f636ab47",
   "metadata": {
    "papermill": {
     "duration": 0.006566,
     "end_time": "2023-03-09T22:17:05.547919",
     "exception": false,
     "start_time": "2023-03-09T22:17:05.541353",
     "status": "completed"
    },
    "tags": []
   },
   "source": [
    "# Submission"
   ]
  },
  {
   "cell_type": "code",
   "execution_count": 11,
   "id": "c2b28e7f",
   "metadata": {
    "execution": {
     "iopub.execute_input": "2023-03-09T22:17:05.563987Z",
     "iopub.status.busy": "2023-03-09T22:17:05.563524Z",
     "iopub.status.idle": "2023-03-09T22:17:05.742106Z",
     "shell.execute_reply": "2023-03-09T22:17:05.740980Z"
    },
    "papermill": {
     "duration": 0.190013,
     "end_time": "2023-03-09T22:17:05.744840",
     "exception": false,
     "start_time": "2023-03-09T22:17:05.554827",
     "status": "completed"
    },
    "tags": []
   },
   "outputs": [],
   "source": [
    "output = pd.DataFrame({'id': test_data.id, 'price': predictions})\n",
    "\n",
    "output.head()\n",
    "\n",
    "output.to_csv('submission.csv', index=False)\n",
    "\n",
    "# output = sample_submission.copy()\n",
    "# output['price'] = predictions\n",
    "# output.to_csv('submission.csv', index=False)\n",
    "\n",
    "# output.head()"
   ]
  }
 ],
 "metadata": {
  "kernelspec": {
   "display_name": "Python 3",
   "language": "python",
   "name": "python3"
  },
  "language_info": {
   "codemirror_mode": {
    "name": "ipython",
    "version": 3
   },
   "file_extension": ".py",
   "mimetype": "text/x-python",
   "name": "python",
   "nbconvert_exporter": "python",
   "pygments_lexer": "ipython3",
   "version": "3.7.12"
  },
  "papermill": {
   "default_parameters": {},
   "duration": 245.636816,
   "end_time": "2023-03-09T22:17:06.777967",
   "environment_variables": {},
   "exception": null,
   "input_path": "__notebook__.ipynb",
   "output_path": "__notebook__.ipynb",
   "parameters": {},
   "start_time": "2023-03-09T22:13:01.141151",
   "version": "2.4.0"
  }
 },
 "nbformat": 4,
 "nbformat_minor": 5
}
