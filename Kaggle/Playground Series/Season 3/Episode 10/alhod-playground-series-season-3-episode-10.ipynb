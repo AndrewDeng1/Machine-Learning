{
 "cells": [
  {
   "cell_type": "code",
   "execution_count": 1,
   "id": "b3096ea0",
   "metadata": {
    "_cell_guid": "b1076dfc-b9ad-4769-8c92-a6c4dae69d19",
    "_uuid": "8f2839f25d086af736a60e9eeb907d3b93b6e0e5",
    "execution": {
     "iopub.execute_input": "2023-03-15T01:28:24.421987Z",
     "iopub.status.busy": "2023-03-15T01:28:24.421008Z",
     "iopub.status.idle": "2023-03-15T01:28:24.439133Z",
     "shell.execute_reply": "2023-03-15T01:28:24.437682Z"
    },
    "papermill": {
     "duration": 0.02948,
     "end_time": "2023-03-15T01:28:24.442338",
     "exception": false,
     "start_time": "2023-03-15T01:28:24.412858",
     "status": "completed"
    },
    "tags": []
   },
   "outputs": [
    {
     "name": "stdout",
     "output_type": "stream",
     "text": [
      "/kaggle/input/playground-series-s3e10/sample_submission.csv\n",
      "/kaggle/input/playground-series-s3e10/train.csv\n",
      "/kaggle/input/playground-series-s3e10/test.csv\n"
     ]
    }
   ],
   "source": [
    "# This Python 3 environment comes with many helpful analytics libraries installed\n",
    "# It is defined by the kaggle/python Docker image: https://github.com/kaggle/docker-python\n",
    "# For example, here's several helpful packages to load\n",
    "\n",
    "import numpy as np # linear algebra\n",
    "import pandas as pd # data processing, CSV file I/O (e.g. pd.read_csv)\n",
    "\n",
    "# Input data files are available in the read-only \"../input/\" directory\n",
    "# For example, running this (by clicking run or pressing Shift+Enter) will list all files under the input directory\n",
    "\n",
    "import os\n",
    "for dirname, _, filenames in os.walk('/kaggle/input'):\n",
    "    for filename in filenames:\n",
    "        print(os.path.join(dirname, filename))\n",
    "\n",
    "# You can write up to 20GB to the current directory (/kaggle/working/) that gets preserved as output when you create a version using \"Save & Run All\" \n",
    "# You can also write temporary files to /kaggle/temp/, but they won't be saved outside of the current session"
   ]
  },
  {
   "cell_type": "markdown",
   "id": "31abb87f",
   "metadata": {
    "papermill": {
     "duration": 0.00437,
     "end_time": "2023-03-15T01:28:24.451799",
     "exception": false,
     "start_time": "2023-03-15T01:28:24.447429",
     "status": "completed"
    },
    "tags": []
   },
   "source": [
    "# Imports"
   ]
  },
  {
   "cell_type": "code",
   "execution_count": 2,
   "id": "b896c5d5",
   "metadata": {
    "execution": {
     "iopub.execute_input": "2023-03-15T01:28:24.463465Z",
     "iopub.status.busy": "2023-03-15T01:28:24.462663Z",
     "iopub.status.idle": "2023-03-15T01:28:26.231449Z",
     "shell.execute_reply": "2023-03-15T01:28:26.229916Z"
    },
    "papermill": {
     "duration": 1.77817,
     "end_time": "2023-03-15T01:28:26.234620",
     "exception": false,
     "start_time": "2023-03-15T01:28:24.456450",
     "status": "completed"
    },
    "tags": []
   },
   "outputs": [],
   "source": [
    "from xgboost import XGBRegressor\n",
    "from xgboost import XGBClassifier\n",
    "from sklearn.ensemble import RandomForestRegressor\n",
    "from sklearn.model_selection import train_test_split\n",
    "from sklearn.pipeline import Pipeline\n",
    "from sklearn.model_selection import cross_val_score\n",
    "from sklearn.metrics import mean_absolute_error"
   ]
  },
  {
   "cell_type": "markdown",
   "id": "f3252131",
   "metadata": {
    "papermill": {
     "duration": 0.004483,
     "end_time": "2023-03-15T01:28:26.243915",
     "exception": false,
     "start_time": "2023-03-15T01:28:26.239432",
     "status": "completed"
    },
    "tags": []
   },
   "source": [
    "# Get data"
   ]
  },
  {
   "cell_type": "code",
   "execution_count": 3,
   "id": "19b81aab",
   "metadata": {
    "execution": {
     "iopub.execute_input": "2023-03-15T01:28:26.255564Z",
     "iopub.status.busy": "2023-03-15T01:28:26.255006Z",
     "iopub.status.idle": "2023-03-15T01:28:26.927538Z",
     "shell.execute_reply": "2023-03-15T01:28:26.926287Z"
    },
    "papermill": {
     "duration": 0.681578,
     "end_time": "2023-03-15T01:28:26.930134",
     "exception": false,
     "start_time": "2023-03-15T01:28:26.248556",
     "status": "completed"
    },
    "tags": []
   },
   "outputs": [
    {
     "data": {
      "text/html": [
       "<div>\n",
       "<style scoped>\n",
       "    .dataframe tbody tr th:only-of-type {\n",
       "        vertical-align: middle;\n",
       "    }\n",
       "\n",
       "    .dataframe tbody tr th {\n",
       "        vertical-align: top;\n",
       "    }\n",
       "\n",
       "    .dataframe thead th {\n",
       "        text-align: right;\n",
       "    }\n",
       "</style>\n",
       "<table border=\"1\" class=\"dataframe\">\n",
       "  <thead>\n",
       "    <tr style=\"text-align: right;\">\n",
       "      <th></th>\n",
       "      <th>Mean_Integrated</th>\n",
       "      <th>SD</th>\n",
       "      <th>EK</th>\n",
       "      <th>Skewness</th>\n",
       "      <th>Mean_DMSNR_Curve</th>\n",
       "      <th>SD_DMSNR_Curve</th>\n",
       "      <th>EK_DMSNR_Curve</th>\n",
       "      <th>Skewness_DMSNR_Curve</th>\n",
       "    </tr>\n",
       "  </thead>\n",
       "  <tbody>\n",
       "    <tr>\n",
       "      <th>0</th>\n",
       "      <td>133.171875</td>\n",
       "      <td>59.716081</td>\n",
       "      <td>0.043133</td>\n",
       "      <td>-0.703383</td>\n",
       "      <td>54.917224</td>\n",
       "      <td>70.084438</td>\n",
       "      <td>0.749798</td>\n",
       "      <td>-0.649512</td>\n",
       "    </tr>\n",
       "    <tr>\n",
       "      <th>1</th>\n",
       "      <td>87.093750</td>\n",
       "      <td>36.257973</td>\n",
       "      <td>0.435469</td>\n",
       "      <td>2.266057</td>\n",
       "      <td>3.417224</td>\n",
       "      <td>21.865069</td>\n",
       "      <td>7.039330</td>\n",
       "      <td>52.686251</td>\n",
       "    </tr>\n",
       "    <tr>\n",
       "      <th>2</th>\n",
       "      <td>112.640625</td>\n",
       "      <td>39.818393</td>\n",
       "      <td>0.379639</td>\n",
       "      <td>0.922306</td>\n",
       "      <td>2.730769</td>\n",
       "      <td>15.689690</td>\n",
       "      <td>8.193471</td>\n",
       "      <td>85.649785</td>\n",
       "    </tr>\n",
       "    <tr>\n",
       "      <th>3</th>\n",
       "      <td>120.679688</td>\n",
       "      <td>45.918448</td>\n",
       "      <td>-0.098490</td>\n",
       "      <td>0.011775</td>\n",
       "      <td>2.696488</td>\n",
       "      <td>20.954662</td>\n",
       "      <td>8.183874</td>\n",
       "      <td>70.332899</td>\n",
       "    </tr>\n",
       "    <tr>\n",
       "      <th>4</th>\n",
       "      <td>134.070312</td>\n",
       "      <td>57.720107</td>\n",
       "      <td>-0.107772</td>\n",
       "      <td>-0.573335</td>\n",
       "      <td>1.107860</td>\n",
       "      <td>11.255051</td>\n",
       "      <td>16.107748</td>\n",
       "      <td>308.753765</td>\n",
       "    </tr>\n",
       "    <tr>\n",
       "      <th>...</th>\n",
       "      <td>...</td>\n",
       "      <td>...</td>\n",
       "      <td>...</td>\n",
       "      <td>...</td>\n",
       "      <td>...</td>\n",
       "      <td>...</td>\n",
       "      <td>...</td>\n",
       "      <td>...</td>\n",
       "    </tr>\n",
       "    <tr>\n",
       "      <th>117559</th>\n",
       "      <td>132.843750</td>\n",
       "      <td>56.748838</td>\n",
       "      <td>-0.060070</td>\n",
       "      <td>-0.554084</td>\n",
       "      <td>4.054348</td>\n",
       "      <td>27.844144</td>\n",
       "      <td>6.564423</td>\n",
       "      <td>44.442664</td>\n",
       "    </tr>\n",
       "    <tr>\n",
       "      <th>117560</th>\n",
       "      <td>112.578125</td>\n",
       "      <td>52.539271</td>\n",
       "      <td>0.179580</td>\n",
       "      <td>-0.306961</td>\n",
       "      <td>1.637960</td>\n",
       "      <td>15.331913</td>\n",
       "      <td>11.384718</td>\n",
       "      <td>142.535470</td>\n",
       "    </tr>\n",
       "    <tr>\n",
       "      <th>117561</th>\n",
       "      <td>119.757812</td>\n",
       "      <td>49.980013</td>\n",
       "      <td>0.064402</td>\n",
       "      <td>-0.270822</td>\n",
       "      <td>3.877926</td>\n",
       "      <td>19.788559</td>\n",
       "      <td>6.959740</td>\n",
       "      <td>56.367789</td>\n",
       "    </tr>\n",
       "    <tr>\n",
       "      <th>117562</th>\n",
       "      <td>105.789062</td>\n",
       "      <td>46.986595</td>\n",
       "      <td>0.441426</td>\n",
       "      <td>0.372466</td>\n",
       "      <td>2.097826</td>\n",
       "      <td>17.170612</td>\n",
       "      <td>9.442445</td>\n",
       "      <td>99.074539</td>\n",
       "    </tr>\n",
       "    <tr>\n",
       "      <th>117563</th>\n",
       "      <td>113.515625</td>\n",
       "      <td>50.935956</td>\n",
       "      <td>0.031517</td>\n",
       "      <td>-0.443831</td>\n",
       "      <td>23.290970</td>\n",
       "      <td>62.006842</td>\n",
       "      <td>2.386364</td>\n",
       "      <td>4.001859</td>\n",
       "    </tr>\n",
       "  </tbody>\n",
       "</table>\n",
       "<p>117564 rows × 8 columns</p>\n",
       "</div>"
      ],
      "text/plain": [
       "        Mean_Integrated         SD        EK  Skewness  Mean_DMSNR_Curve  \\\n",
       "0            133.171875  59.716081  0.043133 -0.703383         54.917224   \n",
       "1             87.093750  36.257973  0.435469  2.266057          3.417224   \n",
       "2            112.640625  39.818393  0.379639  0.922306          2.730769   \n",
       "3            120.679688  45.918448 -0.098490  0.011775          2.696488   \n",
       "4            134.070312  57.720107 -0.107772 -0.573335          1.107860   \n",
       "...                 ...        ...       ...       ...               ...   \n",
       "117559       132.843750  56.748838 -0.060070 -0.554084          4.054348   \n",
       "117560       112.578125  52.539271  0.179580 -0.306961          1.637960   \n",
       "117561       119.757812  49.980013  0.064402 -0.270822          3.877926   \n",
       "117562       105.789062  46.986595  0.441426  0.372466          2.097826   \n",
       "117563       113.515625  50.935956  0.031517 -0.443831         23.290970   \n",
       "\n",
       "        SD_DMSNR_Curve  EK_DMSNR_Curve  Skewness_DMSNR_Curve  \n",
       "0            70.084438        0.749798             -0.649512  \n",
       "1            21.865069        7.039330             52.686251  \n",
       "2            15.689690        8.193471             85.649785  \n",
       "3            20.954662        8.183874             70.332899  \n",
       "4            11.255051       16.107748            308.753765  \n",
       "...                ...             ...                   ...  \n",
       "117559       27.844144        6.564423             44.442664  \n",
       "117560       15.331913       11.384718            142.535470  \n",
       "117561       19.788559        6.959740             56.367789  \n",
       "117562       17.170612        9.442445             99.074539  \n",
       "117563       62.006842        2.386364              4.001859  \n",
       "\n",
       "[117564 rows x 8 columns]"
      ]
     },
     "metadata": {},
     "output_type": "display_data"
    },
    {
     "data": {
      "text/plain": [
       "0         0\n",
       "1         0\n",
       "2         0\n",
       "3         0\n",
       "4         0\n",
       "         ..\n",
       "117559    0\n",
       "117560    0\n",
       "117561    0\n",
       "117562    0\n",
       "117563    0\n",
       "Name: Class, Length: 117564, dtype: int64"
      ]
     },
     "metadata": {},
     "output_type": "display_data"
    }
   ],
   "source": [
    "train_data = pd.read_csv('/kaggle/input/playground-series-s3e10/train.csv')\n",
    "test_data = pd.read_csv('/kaggle/input/playground-series-s3e10/test.csv')\n",
    "\n",
    "X = train_data.copy()\n",
    "X.drop(['id', 'Class'], axis=1, inplace=True)\n",
    "\n",
    "y = train_data['Class']\n",
    "\n",
    "no_id_test_data = test_data.drop('id', axis=1)\n",
    "\n",
    "display(X)\n",
    "display(y)"
   ]
  },
  {
   "cell_type": "markdown",
   "id": "8fcde07a",
   "metadata": {
    "papermill": {
     "duration": 0.004761,
     "end_time": "2023-03-15T01:28:26.940174",
     "exception": false,
     "start_time": "2023-03-15T01:28:26.935413",
     "status": "completed"
    },
    "tags": []
   },
   "source": [
    "# Split data"
   ]
  },
  {
   "cell_type": "code",
   "execution_count": 4,
   "id": "2fb90e22",
   "metadata": {
    "execution": {
     "iopub.execute_input": "2023-03-15T01:28:26.953130Z",
     "iopub.status.busy": "2023-03-15T01:28:26.952343Z",
     "iopub.status.idle": "2023-03-15T01:28:26.978941Z",
     "shell.execute_reply": "2023-03-15T01:28:26.977739Z"
    },
    "papermill": {
     "duration": 0.036558,
     "end_time": "2023-03-15T01:28:26.981754",
     "exception": false,
     "start_time": "2023-03-15T01:28:26.945196",
     "status": "completed"
    },
    "tags": []
   },
   "outputs": [],
   "source": [
    "X_train, X_valid, y_train, y_valid = train_test_split(X, y)"
   ]
  },
  {
   "cell_type": "markdown",
   "id": "3034b8c8",
   "metadata": {
    "papermill": {
     "duration": 0.004671,
     "end_time": "2023-03-15T01:28:26.991912",
     "exception": false,
     "start_time": "2023-03-15T01:28:26.987241",
     "status": "completed"
    },
    "tags": []
   },
   "source": [
    "# Missing data"
   ]
  },
  {
   "cell_type": "code",
   "execution_count": 5,
   "id": "3c48be6a",
   "metadata": {
    "execution": {
     "iopub.execute_input": "2023-03-15T01:28:27.004387Z",
     "iopub.status.busy": "2023-03-15T01:28:27.003577Z",
     "iopub.status.idle": "2023-03-15T01:28:27.015518Z",
     "shell.execute_reply": "2023-03-15T01:28:27.014576Z"
    },
    "papermill": {
     "duration": 0.021099,
     "end_time": "2023-03-15T01:28:27.017971",
     "exception": false,
     "start_time": "2023-03-15T01:28:26.996872",
     "status": "completed"
    },
    "tags": []
   },
   "outputs": [
    {
     "name": "stdout",
     "output_type": "stream",
     "text": [
      "There are 0 columns with missing values\n"
     ]
    }
   ],
   "source": [
    "cols_with_missing = [col for col in X_train.columns if X_train[col].isnull().any()]\n",
    "\n",
    "print(f'There are {len(cols_with_missing)} columns with missing values')\n",
    "\n",
    "for i in cols_with_missing:\n",
    "    print(i)"
   ]
  },
  {
   "cell_type": "markdown",
   "id": "1235a568",
   "metadata": {
    "papermill": {
     "duration": 0.004992,
     "end_time": "2023-03-15T01:28:27.028363",
     "exception": false,
     "start_time": "2023-03-15T01:28:27.023371",
     "status": "completed"
    },
    "tags": []
   },
   "source": [
    "# Categorical data"
   ]
  },
  {
   "cell_type": "code",
   "execution_count": 6,
   "id": "66abd530",
   "metadata": {
    "execution": {
     "iopub.execute_input": "2023-03-15T01:28:27.042240Z",
     "iopub.status.busy": "2023-03-15T01:28:27.041280Z",
     "iopub.status.idle": "2023-03-15T01:28:27.049786Z",
     "shell.execute_reply": "2023-03-15T01:28:27.048252Z"
    },
    "papermill": {
     "duration": 0.018751,
     "end_time": "2023-03-15T01:28:27.052915",
     "exception": false,
     "start_time": "2023-03-15T01:28:27.034164",
     "status": "completed"
    },
    "tags": []
   },
   "outputs": [
    {
     "name": "stdout",
     "output_type": "stream",
     "text": [
      "There are 0 columns with categorical values\n"
     ]
    }
   ],
   "source": [
    "cat_cols = [col for col in X_train.columns if X_train[col].dtype=='object']\n",
    "\n",
    "print(f'There are {len(cat_cols)} columns with categorical values')\n",
    "\n",
    "for i in cat_cols:\n",
    "    print(i)"
   ]
  },
  {
   "cell_type": "markdown",
   "id": "d3b85c63",
   "metadata": {
    "papermill": {
     "duration": 0.004871,
     "end_time": "2023-03-15T01:28:27.063183",
     "exception": false,
     "start_time": "2023-03-15T01:28:27.058312",
     "status": "completed"
    },
    "tags": []
   },
   "source": [
    "# Score"
   ]
  },
  {
   "cell_type": "code",
   "execution_count": 7,
   "id": "23ffa864",
   "metadata": {
    "execution": {
     "iopub.execute_input": "2023-03-15T01:28:27.076092Z",
     "iopub.status.busy": "2023-03-15T01:28:27.075597Z",
     "iopub.status.idle": "2023-03-15T01:28:27.084061Z",
     "shell.execute_reply": "2023-03-15T01:28:27.082838Z"
    },
    "papermill": {
     "duration": 0.018119,
     "end_time": "2023-03-15T01:28:27.086769",
     "exception": false,
     "start_time": "2023-03-15T01:28:27.068650",
     "status": "completed"
    },
    "tags": []
   },
   "outputs": [],
   "source": [
    "def get_score(n_estimators_=100, learning_rate_=0.5, max_depth_=6):\n",
    "    model = XGBRegressor(n_estimators=n_estimators_, max_depth=max_depth_, learning_rate=learning_rate_, n_jobs=4)\n",
    "    model.fit(X_train, y_train, early_stopping_rounds=5, eval_set=[(X_valid, y_valid)], verbose=False)\n",
    "    predictions = model.predict(X_valid)\n",
    "    return mean_absolute_error(predictions, y_valid)"
   ]
  },
  {
   "cell_type": "markdown",
   "id": "853479a1",
   "metadata": {
    "papermill": {
     "duration": 0.005049,
     "end_time": "2023-03-15T01:28:27.097350",
     "exception": false,
     "start_time": "2023-03-15T01:28:27.092301",
     "status": "completed"
    },
    "tags": []
   },
   "source": [
    "# Find optimal n_estimators"
   ]
  },
  {
   "cell_type": "code",
   "execution_count": 8,
   "id": "4e85209d",
   "metadata": {
    "execution": {
     "iopub.execute_input": "2023-03-15T01:28:27.110950Z",
     "iopub.status.busy": "2023-03-15T01:28:27.109727Z",
     "iopub.status.idle": "2023-03-15T01:29:27.833188Z",
     "shell.execute_reply": "2023-03-15T01:29:27.832121Z"
    },
    "papermill": {
     "duration": 60.733611,
     "end_time": "2023-03-15T01:29:27.836222",
     "exception": false,
     "start_time": "2023-03-15T01:28:27.102611",
     "status": "completed"
    },
    "tags": []
   },
   "outputs": [
    {
     "data": {
      "text/html": [
       "<div>\n",
       "<style scoped>\n",
       "    .dataframe tbody tr th:only-of-type {\n",
       "        vertical-align: middle;\n",
       "    }\n",
       "\n",
       "    .dataframe tbody tr th {\n",
       "        vertical-align: top;\n",
       "    }\n",
       "\n",
       "    .dataframe thead th {\n",
       "        text-align: right;\n",
       "    }\n",
       "</style>\n",
       "<table border=\"1\" class=\"dataframe\">\n",
       "  <thead>\n",
       "    <tr style=\"text-align: right;\">\n",
       "      <th></th>\n",
       "      <th>Mean_Integrated</th>\n",
       "      <th>SD</th>\n",
       "      <th>EK</th>\n",
       "      <th>Skewness</th>\n",
       "      <th>Mean_DMSNR_Curve</th>\n",
       "      <th>SD_DMSNR_Curve</th>\n",
       "      <th>EK_DMSNR_Curve</th>\n",
       "      <th>Skewness_DMSNR_Curve</th>\n",
       "    </tr>\n",
       "  </thead>\n",
       "  <tbody>\n",
       "    <tr>\n",
       "      <th>103604</th>\n",
       "      <td>105.875000</td>\n",
       "      <td>53.308946</td>\n",
       "      <td>0.269539</td>\n",
       "      <td>-0.386832</td>\n",
       "      <td>2.076087</td>\n",
       "      <td>16.998601</td>\n",
       "      <td>10.817910</td>\n",
       "      <td>134.398109</td>\n",
       "    </tr>\n",
       "    <tr>\n",
       "      <th>110816</th>\n",
       "      <td>129.593750</td>\n",
       "      <td>46.172514</td>\n",
       "      <td>0.191217</td>\n",
       "      <td>0.159850</td>\n",
       "      <td>1.869565</td>\n",
       "      <td>12.818230</td>\n",
       "      <td>10.924381</td>\n",
       "      <td>149.232406</td>\n",
       "    </tr>\n",
       "    <tr>\n",
       "      <th>226</th>\n",
       "      <td>105.617188</td>\n",
       "      <td>38.692503</td>\n",
       "      <td>0.402597</td>\n",
       "      <td>1.534129</td>\n",
       "      <td>1.892140</td>\n",
       "      <td>14.763218</td>\n",
       "      <td>10.747616</td>\n",
       "      <td>135.928673</td>\n",
       "    </tr>\n",
       "    <tr>\n",
       "      <th>93684</th>\n",
       "      <td>117.296875</td>\n",
       "      <td>50.913404</td>\n",
       "      <td>0.202720</td>\n",
       "      <td>-0.334631</td>\n",
       "      <td>1.498328</td>\n",
       "      <td>13.443961</td>\n",
       "      <td>12.386947</td>\n",
       "      <td>181.786775</td>\n",
       "    </tr>\n",
       "    <tr>\n",
       "      <th>18349</th>\n",
       "      <td>54.664062</td>\n",
       "      <td>34.735224</td>\n",
       "      <td>3.835513</td>\n",
       "      <td>14.983223</td>\n",
       "      <td>20.372074</td>\n",
       "      <td>53.290736</td>\n",
       "      <td>2.673749</td>\n",
       "      <td>6.341108</td>\n",
       "    </tr>\n",
       "    <tr>\n",
       "      <th>...</th>\n",
       "      <td>...</td>\n",
       "      <td>...</td>\n",
       "      <td>...</td>\n",
       "      <td>...</td>\n",
       "      <td>...</td>\n",
       "      <td>...</td>\n",
       "      <td>...</td>\n",
       "      <td>...</td>\n",
       "    </tr>\n",
       "    <tr>\n",
       "      <th>28905</th>\n",
       "      <td>146.039062</td>\n",
       "      <td>46.175514</td>\n",
       "      <td>-0.353368</td>\n",
       "      <td>0.007735</td>\n",
       "      <td>5.127926</td>\n",
       "      <td>25.931197</td>\n",
       "      <td>5.955098</td>\n",
       "      <td>38.187569</td>\n",
       "    </tr>\n",
       "    <tr>\n",
       "      <th>21198</th>\n",
       "      <td>112.968750</td>\n",
       "      <td>52.076098</td>\n",
       "      <td>0.107616</td>\n",
       "      <td>-0.394914</td>\n",
       "      <td>125.673913</td>\n",
       "      <td>78.548414</td>\n",
       "      <td>-0.936519</td>\n",
       "      <td>-1.392165</td>\n",
       "    </tr>\n",
       "    <tr>\n",
       "      <th>71524</th>\n",
       "      <td>132.710938</td>\n",
       "      <td>53.002211</td>\n",
       "      <td>-0.087713</td>\n",
       "      <td>-0.334637</td>\n",
       "      <td>3.383779</td>\n",
       "      <td>20.760330</td>\n",
       "      <td>7.920423</td>\n",
       "      <td>72.826626</td>\n",
       "    </tr>\n",
       "    <tr>\n",
       "      <th>93662</th>\n",
       "      <td>122.945312</td>\n",
       "      <td>53.538865</td>\n",
       "      <td>-0.078139</td>\n",
       "      <td>-0.517064</td>\n",
       "      <td>2.971572</td>\n",
       "      <td>17.159629</td>\n",
       "      <td>8.829858</td>\n",
       "      <td>91.154473</td>\n",
       "    </tr>\n",
       "    <tr>\n",
       "      <th>77916</th>\n",
       "      <td>122.523438</td>\n",
       "      <td>53.075036</td>\n",
       "      <td>-0.023735</td>\n",
       "      <td>-0.594461</td>\n",
       "      <td>2.962375</td>\n",
       "      <td>21.510060</td>\n",
       "      <td>8.121882</td>\n",
       "      <td>72.811401</td>\n",
       "    </tr>\n",
       "  </tbody>\n",
       "</table>\n",
       "<p>88173 rows × 8 columns</p>\n",
       "</div>"
      ],
      "text/plain": [
       "        Mean_Integrated         SD        EK   Skewness  Mean_DMSNR_Curve  \\\n",
       "103604       105.875000  53.308946  0.269539  -0.386832          2.076087   \n",
       "110816       129.593750  46.172514  0.191217   0.159850          1.869565   \n",
       "226          105.617188  38.692503  0.402597   1.534129          1.892140   \n",
       "93684        117.296875  50.913404  0.202720  -0.334631          1.498328   \n",
       "18349         54.664062  34.735224  3.835513  14.983223         20.372074   \n",
       "...                 ...        ...       ...        ...               ...   \n",
       "28905        146.039062  46.175514 -0.353368   0.007735          5.127926   \n",
       "21198        112.968750  52.076098  0.107616  -0.394914        125.673913   \n",
       "71524        132.710938  53.002211 -0.087713  -0.334637          3.383779   \n",
       "93662        122.945312  53.538865 -0.078139  -0.517064          2.971572   \n",
       "77916        122.523438  53.075036 -0.023735  -0.594461          2.962375   \n",
       "\n",
       "        SD_DMSNR_Curve  EK_DMSNR_Curve  Skewness_DMSNR_Curve  \n",
       "103604       16.998601       10.817910            134.398109  \n",
       "110816       12.818230       10.924381            149.232406  \n",
       "226          14.763218       10.747616            135.928673  \n",
       "93684        13.443961       12.386947            181.786775  \n",
       "18349        53.290736        2.673749              6.341108  \n",
       "...                ...             ...                   ...  \n",
       "28905        25.931197        5.955098             38.187569  \n",
       "21198        78.548414       -0.936519             -1.392165  \n",
       "71524        20.760330        7.920423             72.826626  \n",
       "93662        17.159629        8.829858             91.154473  \n",
       "77916        21.510060        8.121882             72.811401  \n",
       "\n",
       "[88173 rows x 8 columns]"
      ]
     },
     "metadata": {},
     "output_type": "display_data"
    },
    {
     "data": {
      "text/plain": [
       "103604    0\n",
       "110816    0\n",
       "226       0\n",
       "93684     0\n",
       "18349     1\n",
       "         ..\n",
       "28905     0\n",
       "21198     0\n",
       "71524     0\n",
       "93662     0\n",
       "77916     0\n",
       "Name: Class, Length: 88173, dtype: int64"
      ]
     },
     "metadata": {},
     "output_type": "display_data"
    },
    {
     "name": "stderr",
     "output_type": "stream",
     "text": [
      "/opt/conda/lib/python3.7/site-packages/xgboost/sklearn.py:797: UserWarning: `early_stopping_rounds` in `fit` method is deprecated for better compatibility with scikit-learn, use `early_stopping_rounds` in constructor or`set_params` instead.\n",
      "  UserWarning,\n"
     ]
    },
    {
     "name": "stdout",
     "output_type": "stream",
     "text": [
      "n_estimators 100: 0.015857645385722912\n"
     ]
    },
    {
     "name": "stderr",
     "output_type": "stream",
     "text": [
      "/opt/conda/lib/python3.7/site-packages/xgboost/sklearn.py:797: UserWarning: `early_stopping_rounds` in `fit` method is deprecated for better compatibility with scikit-learn, use `early_stopping_rounds` in constructor or`set_params` instead.\n",
      "  UserWarning,\n"
     ]
    },
    {
     "name": "stdout",
     "output_type": "stream",
     "text": [
      "n_estimators 200: 0.015857645385722912\n"
     ]
    },
    {
     "name": "stderr",
     "output_type": "stream",
     "text": [
      "/opt/conda/lib/python3.7/site-packages/xgboost/sklearn.py:797: UserWarning: `early_stopping_rounds` in `fit` method is deprecated for better compatibility with scikit-learn, use `early_stopping_rounds` in constructor or`set_params` instead.\n",
      "  UserWarning,\n"
     ]
    },
    {
     "name": "stdout",
     "output_type": "stream",
     "text": [
      "n_estimators 300: 0.015857645385722912\n"
     ]
    },
    {
     "name": "stderr",
     "output_type": "stream",
     "text": [
      "/opt/conda/lib/python3.7/site-packages/xgboost/sklearn.py:797: UserWarning: `early_stopping_rounds` in `fit` method is deprecated for better compatibility with scikit-learn, use `early_stopping_rounds` in constructor or`set_params` instead.\n",
      "  UserWarning,\n"
     ]
    },
    {
     "name": "stdout",
     "output_type": "stream",
     "text": [
      "n_estimators 400: 0.015857645385722912\n"
     ]
    },
    {
     "name": "stderr",
     "output_type": "stream",
     "text": [
      "/opt/conda/lib/python3.7/site-packages/xgboost/sklearn.py:797: UserWarning: `early_stopping_rounds` in `fit` method is deprecated for better compatibility with scikit-learn, use `early_stopping_rounds` in constructor or`set_params` instead.\n",
      "  UserWarning,\n"
     ]
    },
    {
     "name": "stdout",
     "output_type": "stream",
     "text": [
      "learning rate 0.005: 0.30888328009535776\n"
     ]
    },
    {
     "name": "stderr",
     "output_type": "stream",
     "text": [
      "/opt/conda/lib/python3.7/site-packages/xgboost/sklearn.py:797: UserWarning: `early_stopping_rounds` in `fit` method is deprecated for better compatibility with scikit-learn, use `early_stopping_rounds` in constructor or`set_params` instead.\n",
      "  UserWarning,\n"
     ]
    },
    {
     "name": "stdout",
     "output_type": "stream",
     "text": [
      "learning rate 0.01: 0.19263795698941544\n"
     ]
    },
    {
     "name": "stderr",
     "output_type": "stream",
     "text": [
      "/opt/conda/lib/python3.7/site-packages/xgboost/sklearn.py:797: UserWarning: `early_stopping_rounds` in `fit` method is deprecated for better compatibility with scikit-learn, use `early_stopping_rounds` in constructor or`set_params` instead.\n",
      "  UserWarning,\n"
     ]
    },
    {
     "name": "stdout",
     "output_type": "stream",
     "text": [
      "learning rate 0.025: 0.05368639112348054\n"
     ]
    },
    {
     "name": "stderr",
     "output_type": "stream",
     "text": [
      "/opt/conda/lib/python3.7/site-packages/xgboost/sklearn.py:797: UserWarning: `early_stopping_rounds` in `fit` method is deprecated for better compatibility with scikit-learn, use `early_stopping_rounds` in constructor or`set_params` instead.\n",
      "  UserWarning,\n"
     ]
    },
    {
     "name": "stdout",
     "output_type": "stream",
     "text": [
      "learning rate 0.05: 0.018017207958979275\n"
     ]
    },
    {
     "name": "stderr",
     "output_type": "stream",
     "text": [
      "/opt/conda/lib/python3.7/site-packages/xgboost/sklearn.py:797: UserWarning: `early_stopping_rounds` in `fit` method is deprecated for better compatibility with scikit-learn, use `early_stopping_rounds` in constructor or`set_params` instead.\n",
      "  UserWarning,\n"
     ]
    },
    {
     "name": "stdout",
     "output_type": "stream",
     "text": [
      "learning rate 0.1: 0.015542691125151525\n"
     ]
    },
    {
     "name": "stderr",
     "output_type": "stream",
     "text": [
      "/opt/conda/lib/python3.7/site-packages/xgboost/sklearn.py:797: UserWarning: `early_stopping_rounds` in `fit` method is deprecated for better compatibility with scikit-learn, use `early_stopping_rounds` in constructor or`set_params` instead.\n",
      "  UserWarning,\n"
     ]
    },
    {
     "name": "stdout",
     "output_type": "stream",
     "text": [
      "max depth 2: 0.01693260051740706\n"
     ]
    },
    {
     "name": "stderr",
     "output_type": "stream",
     "text": [
      "/opt/conda/lib/python3.7/site-packages/xgboost/sklearn.py:797: UserWarning: `early_stopping_rounds` in `fit` method is deprecated for better compatibility with scikit-learn, use `early_stopping_rounds` in constructor or`set_params` instead.\n",
      "  UserWarning,\n"
     ]
    },
    {
     "name": "stdout",
     "output_type": "stream",
     "text": [
      "max depth 4: 0.016397482510568127\n"
     ]
    },
    {
     "name": "stderr",
     "output_type": "stream",
     "text": [
      "/opt/conda/lib/python3.7/site-packages/xgboost/sklearn.py:797: UserWarning: `early_stopping_rounds` in `fit` method is deprecated for better compatibility with scikit-learn, use `early_stopping_rounds` in constructor or`set_params` instead.\n",
      "  UserWarning,\n"
     ]
    },
    {
     "name": "stdout",
     "output_type": "stream",
     "text": [
      "max depth 6: 0.015542691125151525\n"
     ]
    },
    {
     "name": "stderr",
     "output_type": "stream",
     "text": [
      "/opt/conda/lib/python3.7/site-packages/xgboost/sklearn.py:797: UserWarning: `early_stopping_rounds` in `fit` method is deprecated for better compatibility with scikit-learn, use `early_stopping_rounds` in constructor or`set_params` instead.\n",
      "  UserWarning,\n"
     ]
    },
    {
     "name": "stdout",
     "output_type": "stream",
     "text": [
      "max depth 8: 0.019513094752332392\n"
     ]
    },
    {
     "name": "stderr",
     "output_type": "stream",
     "text": [
      "/opt/conda/lib/python3.7/site-packages/xgboost/sklearn.py:797: UserWarning: `early_stopping_rounds` in `fit` method is deprecated for better compatibility with scikit-learn, use `early_stopping_rounds` in constructor or`set_params` instead.\n",
      "  UserWarning,\n"
     ]
    },
    {
     "name": "stdout",
     "output_type": "stream",
     "text": [
      "max depth 10: 0.017448733728336274\n"
     ]
    }
   ],
   "source": [
    "display(X_train)\n",
    "display(y_train)\n",
    "\n",
    "best_score=100000000\n",
    "best_n_estimators=100\n",
    "best_learning_rate=0.1\n",
    "best_max_depth=6\n",
    "\n",
    "for n_estimators in range(100, 401, 100):\n",
    "    score = get_score(n_estimators_=n_estimators)\n",
    "    print(f'n_estimators {n_estimators}: {score}')\n",
    "    if score<best_score:\n",
    "        best_score=score\n",
    "        best_n_estimators=n_estimators\n",
    "        \n",
    "for learning_rate in [0.005, 0.01, 0.025, 0.05, 0.1]:\n",
    "    score = get_score(n_estimators_=best_n_estimators, learning_rate_=learning_rate)\n",
    "    print(f'learning rate {learning_rate}: {score}')\n",
    "    if score<best_score:\n",
    "        best_score=score\n",
    "        best_learning_rate=learning_rate\n",
    "        \n",
    "for max_depth in [2, 4, 6, 8, 10]:\n",
    "    score = get_score(n_estimators_=best_n_estimators, learning_rate_=learning_rate, max_depth_=max_depth)\n",
    "    print(f'max depth {max_depth}: {score}')\n",
    "    if score<best_score:\n",
    "        best_score=score\n",
    "        best_max_depth=max_depth"
   ]
  },
  {
   "cell_type": "markdown",
   "id": "4dd80aa8",
   "metadata": {
    "papermill": {
     "duration": 0.007102,
     "end_time": "2023-03-15T01:29:27.851935",
     "exception": false,
     "start_time": "2023-03-15T01:29:27.844833",
     "status": "completed"
    },
    "tags": []
   },
   "source": [
    "# Submission"
   ]
  },
  {
   "cell_type": "code",
   "execution_count": 9,
   "id": "7502ac43",
   "metadata": {
    "execution": {
     "iopub.execute_input": "2023-03-15T01:29:27.869136Z",
     "iopub.status.busy": "2023-03-15T01:29:27.868637Z",
     "iopub.status.idle": "2023-03-15T01:29:36.549601Z",
     "shell.execute_reply": "2023-03-15T01:29:36.548188Z"
    },
    "papermill": {
     "duration": 8.693127,
     "end_time": "2023-03-15T01:29:36.552511",
     "exception": false,
     "start_time": "2023-03-15T01:29:27.859384",
     "status": "completed"
    },
    "tags": []
   },
   "outputs": [
    {
     "data": {
      "text/html": [
       "<div>\n",
       "<style scoped>\n",
       "    .dataframe tbody tr th:only-of-type {\n",
       "        vertical-align: middle;\n",
       "    }\n",
       "\n",
       "    .dataframe tbody tr th {\n",
       "        vertical-align: top;\n",
       "    }\n",
       "\n",
       "    .dataframe thead th {\n",
       "        text-align: right;\n",
       "    }\n",
       "</style>\n",
       "<table border=\"1\" class=\"dataframe\">\n",
       "  <thead>\n",
       "    <tr style=\"text-align: right;\">\n",
       "      <th></th>\n",
       "      <th>id</th>\n",
       "      <th>Class</th>\n",
       "    </tr>\n",
       "  </thead>\n",
       "  <tbody>\n",
       "    <tr>\n",
       "      <th>0</th>\n",
       "      <td>117564</td>\n",
       "      <td>0.000350</td>\n",
       "    </tr>\n",
       "    <tr>\n",
       "      <th>1</th>\n",
       "      <td>117565</td>\n",
       "      <td>0.000696</td>\n",
       "    </tr>\n",
       "    <tr>\n",
       "      <th>2</th>\n",
       "      <td>117566</td>\n",
       "      <td>0.000238</td>\n",
       "    </tr>\n",
       "    <tr>\n",
       "      <th>3</th>\n",
       "      <td>117567</td>\n",
       "      <td>0.047605</td>\n",
       "    </tr>\n",
       "    <tr>\n",
       "      <th>4</th>\n",
       "      <td>117568</td>\n",
       "      <td>0.002022</td>\n",
       "    </tr>\n",
       "    <tr>\n",
       "      <th>...</th>\n",
       "      <td>...</td>\n",
       "      <td>...</td>\n",
       "    </tr>\n",
       "    <tr>\n",
       "      <th>78372</th>\n",
       "      <td>195936</td>\n",
       "      <td>0.000345</td>\n",
       "    </tr>\n",
       "    <tr>\n",
       "      <th>78373</th>\n",
       "      <td>195937</td>\n",
       "      <td>0.000345</td>\n",
       "    </tr>\n",
       "    <tr>\n",
       "      <th>78374</th>\n",
       "      <td>195938</td>\n",
       "      <td>0.000345</td>\n",
       "    </tr>\n",
       "    <tr>\n",
       "      <th>78375</th>\n",
       "      <td>195939</td>\n",
       "      <td>0.049031</td>\n",
       "    </tr>\n",
       "    <tr>\n",
       "      <th>78376</th>\n",
       "      <td>195940</td>\n",
       "      <td>0.976853</td>\n",
       "    </tr>\n",
       "  </tbody>\n",
       "</table>\n",
       "<p>78377 rows × 2 columns</p>\n",
       "</div>"
      ],
      "text/plain": [
       "           id     Class\n",
       "0      117564  0.000350\n",
       "1      117565  0.000696\n",
       "2      117566  0.000238\n",
       "3      117567  0.047605\n",
       "4      117568  0.002022\n",
       "...       ...       ...\n",
       "78372  195936  0.000345\n",
       "78373  195937  0.000345\n",
       "78374  195938  0.000345\n",
       "78375  195939  0.049031\n",
       "78376  195940  0.976853\n",
       "\n",
       "[78377 rows x 2 columns]"
      ]
     },
     "metadata": {},
     "output_type": "display_data"
    },
    {
     "data": {
      "text/html": [
       "<div>\n",
       "<style scoped>\n",
       "    .dataframe tbody tr th:only-of-type {\n",
       "        vertical-align: middle;\n",
       "    }\n",
       "\n",
       "    .dataframe tbody tr th {\n",
       "        vertical-align: top;\n",
       "    }\n",
       "\n",
       "    .dataframe thead th {\n",
       "        text-align: right;\n",
       "    }\n",
       "</style>\n",
       "<table border=\"1\" class=\"dataframe\">\n",
       "  <thead>\n",
       "    <tr style=\"text-align: right;\">\n",
       "      <th></th>\n",
       "      <th>id</th>\n",
       "      <th>Class</th>\n",
       "    </tr>\n",
       "  </thead>\n",
       "  <tbody>\n",
       "    <tr>\n",
       "      <th>0</th>\n",
       "      <td>117564</td>\n",
       "      <td>0.000350</td>\n",
       "    </tr>\n",
       "    <tr>\n",
       "      <th>1</th>\n",
       "      <td>117565</td>\n",
       "      <td>0.000696</td>\n",
       "    </tr>\n",
       "    <tr>\n",
       "      <th>2</th>\n",
       "      <td>117566</td>\n",
       "      <td>0.000238</td>\n",
       "    </tr>\n",
       "    <tr>\n",
       "      <th>3</th>\n",
       "      <td>117567</td>\n",
       "      <td>0.047605</td>\n",
       "    </tr>\n",
       "    <tr>\n",
       "      <th>4</th>\n",
       "      <td>117568</td>\n",
       "      <td>0.002022</td>\n",
       "    </tr>\n",
       "  </tbody>\n",
       "</table>\n",
       "</div>"
      ],
      "text/plain": [
       "       id     Class\n",
       "0  117564  0.000350\n",
       "1  117565  0.000696\n",
       "2  117566  0.000238\n",
       "3  117567  0.047605\n",
       "4  117568  0.002022"
      ]
     },
     "metadata": {},
     "output_type": "display_data"
    },
    {
     "name": "stdout",
     "output_type": "stream",
     "text": [
      "Successful\n"
     ]
    }
   ],
   "source": [
    "# model = XGBRegressor(n_estimators = best_n_estimators, learning_rate=0.05, n_jobs=4)\n",
    "model = XGBRegressor(n_estimators=best_n_estimators, max_depth=best_max_depth, learning_rate=best_learning_rate)\n",
    "model.fit(X, y)\n",
    "predictions = model.predict(no_id_test_data)\n",
    "\n",
    "submission = pd.DataFrame({'id': test_data.id, 'Class': predictions})\n",
    "\n",
    "display(submission)\n",
    "display(submission.head())\n",
    "\n",
    "submission.to_csv('submission.csv', index=False)\n",
    "\n",
    "print('Successful')"
   ]
  },
  {
   "cell_type": "code",
   "execution_count": null,
   "id": "1184be76",
   "metadata": {
    "papermill": {
     "duration": 0.007526,
     "end_time": "2023-03-15T01:29:36.569006",
     "exception": false,
     "start_time": "2023-03-15T01:29:36.561480",
     "status": "completed"
    },
    "tags": []
   },
   "outputs": [],
   "source": []
  }
 ],
 "metadata": {
  "kernelspec": {
   "display_name": "Python 3",
   "language": "python",
   "name": "python3"
  },
  "language_info": {
   "codemirror_mode": {
    "name": "ipython",
    "version": 3
   },
   "file_extension": ".py",
   "mimetype": "text/x-python",
   "name": "python",
   "nbconvert_exporter": "python",
   "pygments_lexer": "ipython3",
   "version": "3.7.12"
  },
  "papermill": {
   "default_parameters": {},
   "duration": 84.154114,
   "end_time": "2023-03-15T01:29:37.602417",
   "environment_variables": {},
   "exception": null,
   "input_path": "__notebook__.ipynb",
   "output_path": "__notebook__.ipynb",
   "parameters": {},
   "start_time": "2023-03-15T01:28:13.448303",
   "version": "2.4.0"
  }
 },
 "nbformat": 4,
 "nbformat_minor": 5
}
